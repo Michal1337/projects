{
 "cells": [
  {
   "cell_type": "markdown",
   "metadata": {},
   "source": [
    "# LSTM. 8 featerow - mag, x, y, depth, dist, distance, plate, days_diff"
   ]
  },
  {
   "cell_type": "code",
   "execution_count": 10,
   "metadata": {},
   "outputs": [],
   "source": [
    "import numpy as np\n",
    "import tensorflow as tf\n",
    "import pandas as pd\n",
    "SEED = 1337\n",
    "tf.random.set_seed(SEED)\n",
    "np.random.seed(SEED)"
   ]
  },
  {
   "cell_type": "code",
   "execution_count": 11,
   "metadata": {},
   "outputs": [],
   "source": [
    "ds_train = tf.data.Dataset.load(\"../data/ds_train_5/\")\n",
    "ds_val = tf.data.Dataset.load(\"../data/ds_val_5/\")\n",
    "ds_test = tf.data.Dataset.load(\"../data/ds_test_5/\")"
   ]
  },
  {
   "cell_type": "code",
   "execution_count": 12,
   "metadata": {},
   "outputs": [
    {
     "data": {
      "text/plain": [
       "(3399187, 482548, 104452)"
      ]
     },
     "execution_count": 12,
     "metadata": {},
     "output_type": "execute_result"
    }
   ],
   "source": [
    "ds_train.cardinality().numpy(), ds_val.cardinality().numpy(), ds_test.cardinality().numpy()"
   ]
  },
  {
   "cell_type": "code",
   "execution_count": 13,
   "metadata": {},
   "outputs": [],
   "source": [
    "BATCH_SIZE = 1024\n",
    "BLOCK_SIZE = 32"
   ]
  },
  {
   "cell_type": "code",
   "execution_count": 14,
   "metadata": {},
   "outputs": [],
   "source": [
    "def fix_x_and_y(features, context, labels):\n",
    "    return features, labels"
   ]
  },
  {
   "cell_type": "code",
   "execution_count": 15,
   "metadata": {},
   "outputs": [],
   "source": [
    "ds_train = ds_train.map(fix_x_and_y)\n",
    "ds_val = ds_val.map(fix_x_and_y)\n",
    "ds_test = ds_test.map(fix_x_and_y)"
   ]
  },
  {
   "cell_type": "code",
   "execution_count": 16,
   "metadata": {},
   "outputs": [
    {
     "name": "stdout",
     "output_type": "stream",
     "text": [
      "(1024, 32, 9)\n",
      "(1024, 32, 6) (1024, 32) (1024, 32) (1024, 32)\n",
      "(1024, 1)\n"
     ]
    }
   ],
   "source": [
    "for x, y in ds_train.batch(BATCH_SIZE).take(1):\n",
    "    print(x.shape)\n",
    "    print(x[:,:,:-3].shape, x[:,:,-3].shape, x[:,:,-2].shape, x[:,:,-1].shape)\n",
    "    print(y.shape)"
   ]
  },
  {
   "cell_type": "code",
   "execution_count": 17,
   "metadata": {},
   "outputs": [
    {
     "data": {
      "text/plain": [
       "array([2842099,  557088])"
      ]
     },
     "execution_count": 17,
     "metadata": {},
     "output_type": "execute_result"
    }
   ],
   "source": [
    "ys = []\n",
    "for x, y in ds_train.batch(BATCH_SIZE):\n",
    "    ys.append(y.numpy())\n",
    "ys = np.concatenate(ys)\n",
    "np.bincount(tf.cast(ys, tf.int32).numpy().flatten())"
   ]
  },
  {
   "cell_type": "code",
   "execution_count": 18,
   "metadata": {},
   "outputs": [
    {
     "data": {
      "text/plain": [
       "(3399187, 557088, 2842099)"
      ]
     },
     "execution_count": 18,
     "metadata": {},
     "output_type": "execute_result"
    }
   ],
   "source": [
    "#neg, pos = np.bincount(tf.cast(ys, tf.int32).numpy().flatten())\n",
    "neg, pos = 2842099, 557088\n",
    "total = neg + pos\n",
    "total, pos, neg"
   ]
  },
  {
   "cell_type": "code",
   "execution_count": null,
   "metadata": {},
   "outputs": [],
   "source": []
  },
  {
   "cell_type": "code",
   "execution_count": 19,
   "metadata": {},
   "outputs": [],
   "source": [
    "ds_train = ds_train.batch(BATCH_SIZE).shuffle(2000, seed=SEED).prefetch(tf.data.experimental.AUTOTUNE)\n",
    "ds_val = ds_val.batch(BATCH_SIZE).prefetch(tf.data.experimental.AUTOTUNE)\n",
    "ds_test = ds_test.batch(BATCH_SIZE).prefetch(tf.data.experimental.AUTOTUNE)"
   ]
  },
  {
   "cell_type": "code",
   "execution_count": null,
   "metadata": {},
   "outputs": [],
   "source": []
  },
  {
   "cell_type": "code",
   "execution_count": 20,
   "metadata": {},
   "outputs": [],
   "source": [
    "@tf.keras.saving.register_keras_serializable()\n",
    "class MyModel(tf.keras.Model):\n",
    "    def __init__(self, n_embed):\n",
    "        super(MyModel, self).__init__()\n",
    "        self.embed_plate = tf.keras.layers.Embedding(32, n_embed // 9, name=\"embed_plate\")\n",
    "        self.embed_dd = tf.keras.layers.Embedding(20, n_embed // 9, name=\"embed_dd\")\n",
    "        self.embed_magtype = tf.keras.layers.Embedding(20, n_embed // 9, name=\"embed_magtype\")\n",
    "        self.embed = tf.keras.layers.Dense(n_embed // 9 * 6, name=\"embed_continous\")\n",
    "        self.lstm1 = tf.keras.layers.LSTM(n_embed, return_sequences=True, name=\"lstm1\")\n",
    "        self.lstm2 = tf.keras.layers.LSTM(n_embed, name=\"lstm2\")\n",
    "        self.dense1 = tf.keras.layers.Dense(n_embed, activation='relu', name=\"pre_classifier\")\n",
    "        self.dense2 = tf.keras.layers.Dense(1, activation='sigmoid', name=\"classifier\")\n",
    "        self.conc = tf.keras.layers.Concatenate(axis=-1, name=\"concatenate\")\n",
    "\n",
    "    def build_graph(self):\n",
    "        x = [tf.keras.layers.Input(shape=(BLOCK_SIZE, 6), batch_size=None, name=\"input_continous\"),\n",
    "            tf.keras.layers.Input(shape=(BLOCK_SIZE), batch_size=None, name=\"input_plate\"),\n",
    "            tf.keras.layers.Input(shape=(BLOCK_SIZE), batch_size=None, name=\"input_dd\"),\n",
    "            tf.keras.layers.Input(shape=(BLOCK_SIZE), batch_size=None, name=\"input_magtype\")]\n",
    "        return tf.keras.Model(inputs=x, outputs=self.call(x))\n",
    "\n",
    "    def call(self, x):\n",
    "        cont, plate, dd, magtype = x[:,:,:-3], x[:,:,-3], x[:,:,-2], x[:,:,-1]\n",
    "        x1 = self.embed(cont)\n",
    "        x2 = self.embed_plate(plate)\n",
    "        x3 = self.embed_dd(dd)\n",
    "        x4 = self.embed_magtype(magtype)\n",
    "        x = self.conc([x1, x2, x3, x4])\n",
    "        x = self.lstm1(x)\n",
    "        x = self.lstm2(x)\n",
    "        x = self.dense1(x)\n",
    "        x = self.dense2(x)\n",
    "        return x"
   ]
  },
  {
   "cell_type": "code",
   "execution_count": 21,
   "metadata": {},
   "outputs": [],
   "source": [
    "model = MyModel(135)"
   ]
  },
  {
   "cell_type": "code",
   "execution_count": 22,
   "metadata": {},
   "outputs": [
    {
     "data": {
      "text/plain": [
       "312886"
      ]
     },
     "execution_count": 22,
     "metadata": {},
     "output_type": "execute_result"
    }
   ],
   "source": [
    "model.build(input_shape=(None, BLOCK_SIZE, 9))\n",
    "model.count_params()"
   ]
  },
  {
   "cell_type": "code",
   "execution_count": null,
   "metadata": {},
   "outputs": [],
   "source": []
  },
  {
   "cell_type": "code",
   "execution_count": 23,
   "metadata": {},
   "outputs": [],
   "source": [
    "model.compile(loss=tf.keras.losses.BinaryCrossentropy(from_logits=False),\n",
    "            optimizer='adam',\n",
    "            metrics=['accuracy', tf.keras.metrics.Recall(), tf.keras.metrics.Precision()])"
   ]
  },
  {
   "cell_type": "code",
   "execution_count": 24,
   "metadata": {},
   "outputs": [
    {
     "name": "stdout",
     "output_type": "stream",
     "text": [
      "Epoch 1/20\n"
     ]
    },
    {
     "name": "stderr",
     "output_type": "stream",
     "text": [
      "2024-01-19 11:40:48.530694: I tensorflow/core/kernels/data/shuffle_dataset_op.cc:422] ShuffleDatasetV3:39: Filling up shuffle buffer (this may take a while): 221 of 2000\n",
      "2024-01-19 11:41:08.447511: I tensorflow/core/kernels/data/shuffle_dataset_op.cc:422] ShuffleDatasetV3:39: Filling up shuffle buffer (this may take a while): 658 of 2000\n",
      "2024-01-19 11:41:28.441335: I tensorflow/core/kernels/data/shuffle_dataset_op.cc:422] ShuffleDatasetV3:39: Filling up shuffle buffer (this may take a while): 1048 of 2000\n",
      "2024-01-19 11:41:48.436016: I tensorflow/core/kernels/data/shuffle_dataset_op.cc:422] ShuffleDatasetV3:39: Filling up shuffle buffer (this may take a while): 1509 of 2000\n",
      "2024-01-19 11:42:08.424886: I tensorflow/core/kernels/data/shuffle_dataset_op.cc:422] ShuffleDatasetV3:39: Filling up shuffle buffer (this may take a while): 1881 of 2000\n",
      "2024-01-19 11:42:14.172193: I tensorflow/core/kernels/data/shuffle_dataset_op.cc:452] Shuffle buffer filled.\n",
      "2024-01-19 11:42:17.622303: I tensorflow/compiler/xla/stream_executor/cuda/cuda_dnn.cc:442] Loaded cuDNN version 8904\n",
      "Could not load symbol cublasGetSmCountTarget from libcublas.so.11. Error: /home/majkel/miniconda3/lib/libcublas.so.11: undefined symbol: cublasGetSmCountTarget\n",
      "2024-01-19 11:42:19.859703: I tensorflow/compiler/xla/service/service.cc:168] XLA service 0x7f0fc40cb500 initialized for platform CUDA (this does not guarantee that XLA will be used). Devices:\n",
      "2024-01-19 11:42:19.859798: I tensorflow/compiler/xla/service/service.cc:176]   StreamExecutor device (0): NVIDIA GeForce RTX 2060 with Max-Q Design, Compute Capability 7.5\n",
      "2024-01-19 11:42:20.019526: I tensorflow/compiler/mlir/tensorflow/utils/dump_mlir_util.cc:269] disabling MLIR crash reproducer, set env var `MLIR_CRASH_REPRODUCER_DIRECTORY` to enable.\n",
      "2024-01-19 11:42:21.059576: I ./tensorflow/compiler/jit/device_compiler.h:186] Compiled cluster using XLA!  This line is logged at most once for the lifetime of the process.\n"
     ]
    },
    {
     "name": "stdout",
     "output_type": "stream",
     "text": [
      "3320/3320 [==============================] - 336s 68ms/step - loss: 0.5266 - accuracy: 0.7859 - recall: 0.6551 - precision: 0.4052 - val_loss: 0.5890 - val_accuracy: 0.6619 - val_recall: 0.5739 - val_precision: 0.3000\n",
      "Epoch 2/20\n"
     ]
    },
    {
     "name": "stderr",
     "output_type": "stream",
     "text": [
      "2024-01-19 11:46:20.770162: I tensorflow/core/kernels/data/shuffle_dataset_op.cc:422] ShuffleDatasetV3:39: Filling up shuffle buffer (this may take a while): 188 of 2000\n",
      "2024-01-19 11:46:30.805236: I tensorflow/core/kernels/data/shuffle_dataset_op.cc:422] ShuffleDatasetV3:39: Filling up shuffle buffer (this may take a while): 380 of 2000\n",
      "2024-01-19 11:46:40.805280: I tensorflow/core/kernels/data/shuffle_dataset_op.cc:422] ShuffleDatasetV3:39: Filling up shuffle buffer (this may take a while): 574 of 2000\n",
      "2024-01-19 11:46:50.814971: I tensorflow/core/kernels/data/shuffle_dataset_op.cc:422] ShuffleDatasetV3:39: Filling up shuffle buffer (this may take a while): 784 of 2000\n",
      "2024-01-19 11:47:10.806063: I tensorflow/core/kernels/data/shuffle_dataset_op.cc:422] ShuffleDatasetV3:39: Filling up shuffle buffer (this may take a while): 1231 of 2000\n",
      "2024-01-19 11:47:30.769398: I tensorflow/core/kernels/data/shuffle_dataset_op.cc:422] ShuffleDatasetV3:39: Filling up shuffle buffer (this may take a while): 1652 of 2000\n",
      "2024-01-19 11:47:46.954194: I tensorflow/core/kernels/data/shuffle_dataset_op.cc:452] Shuffle buffer filled.\n"
     ]
    },
    {
     "name": "stdout",
     "output_type": "stream",
     "text": [
      "3320/3320 [==============================] - 306s 63ms/step - loss: 0.4911 - accuracy: 0.8044 - recall: 0.6866 - precision: 0.4382 - val_loss: 0.5285 - val_accuracy: 0.7399 - val_recall: 0.5023 - val_precision: 0.3686\n",
      "Epoch 3/20\n"
     ]
    },
    {
     "name": "stderr",
     "output_type": "stream",
     "text": [
      "2024-01-19 11:51:26.531008: I tensorflow/core/kernels/data/shuffle_dataset_op.cc:422] ShuffleDatasetV3:39: Filling up shuffle buffer (this may take a while): 225 of 2000\n",
      "2024-01-19 11:51:46.542719: I tensorflow/core/kernels/data/shuffle_dataset_op.cc:422] ShuffleDatasetV3:39: Filling up shuffle buffer (this may take a while): 681 of 2000\n",
      "2024-01-19 11:51:56.544973: I tensorflow/core/kernels/data/shuffle_dataset_op.cc:422] ShuffleDatasetV3:39: Filling up shuffle buffer (this may take a while): 909 of 2000\n",
      "2024-01-19 11:52:16.516507: I tensorflow/core/kernels/data/shuffle_dataset_op.cc:422] ShuffleDatasetV3:39: Filling up shuffle buffer (this may take a while): 1373 of 2000\n",
      "2024-01-19 11:52:36.538657: I tensorflow/core/kernels/data/shuffle_dataset_op.cc:422] ShuffleDatasetV3:39: Filling up shuffle buffer (this may take a while): 1834 of 2000\n",
      "2024-01-19 11:52:43.840449: I tensorflow/core/kernels/data/shuffle_dataset_op.cc:452] Shuffle buffer filled.\n"
     ]
    },
    {
     "name": "stdout",
     "output_type": "stream",
     "text": [
      "3320/3320 [==============================] - 310s 67ms/step - loss: 0.4734 - accuracy: 0.8209 - recall: 0.6893 - precision: 0.4684 - val_loss: 0.5747 - val_accuracy: 0.7871 - val_recall: 0.4884 - val_precision: 0.4487\n",
      "Epoch 4/20\n"
     ]
    },
    {
     "name": "stderr",
     "output_type": "stream",
     "text": [
      "2024-01-19 11:56:36.555021: I tensorflow/core/kernels/data/shuffle_dataset_op.cc:422] ShuffleDatasetV3:39: Filling up shuffle buffer (this may take a while): 216 of 2000\n",
      "2024-01-19 11:56:56.547452: I tensorflow/core/kernels/data/shuffle_dataset_op.cc:422] ShuffleDatasetV3:39: Filling up shuffle buffer (this may take a while): 667 of 2000\n",
      "2024-01-19 11:57:16.547573: I tensorflow/core/kernels/data/shuffle_dataset_op.cc:422] ShuffleDatasetV3:39: Filling up shuffle buffer (this may take a while): 1069 of 2000\n",
      "2024-01-19 11:57:36.529662: I tensorflow/core/kernels/data/shuffle_dataset_op.cc:422] ShuffleDatasetV3:39: Filling up shuffle buffer (this may take a while): 1503 of 2000\n",
      "2024-01-19 11:57:56.556993: I tensorflow/core/kernels/data/shuffle_dataset_op.cc:422] ShuffleDatasetV3:39: Filling up shuffle buffer (this may take a while): 1930 of 2000\n",
      "2024-01-19 11:58:00.101005: I tensorflow/core/kernels/data/shuffle_dataset_op.cc:452] Shuffle buffer filled.\n"
     ]
    },
    {
     "name": "stdout",
     "output_type": "stream",
     "text": [
      "3320/3320 [==============================] - 327s 70ms/step - loss: 0.4588 - accuracy: 0.8275 - recall: 0.7018 - precision: 0.4820 - val_loss: 0.6657 - val_accuracy: 0.7344 - val_recall: 0.5164 - val_precision: 0.3638\n",
      "Epoch 5/20\n"
     ]
    },
    {
     "name": "stderr",
     "output_type": "stream",
     "text": [
      "2024-01-19 12:02:03.306967: I tensorflow/core/kernels/data/shuffle_dataset_op.cc:422] ShuffleDatasetV3:39: Filling up shuffle buffer (this may take a while): 222 of 2000\n",
      "2024-01-19 12:02:13.332264: I tensorflow/core/kernels/data/shuffle_dataset_op.cc:422] ShuffleDatasetV3:39: Filling up shuffle buffer (this may take a while): 448 of 2000\n",
      "2024-01-19 12:02:33.326637: I tensorflow/core/kernels/data/shuffle_dataset_op.cc:422] ShuffleDatasetV3:39: Filling up shuffle buffer (this may take a while): 859 of 2000\n",
      "2024-01-19 12:02:43.348105: I tensorflow/core/kernels/data/shuffle_dataset_op.cc:422] ShuffleDatasetV3:39: Filling up shuffle buffer (this may take a while): 1084 of 2000\n",
      "2024-01-19 12:03:03.318195: I tensorflow/core/kernels/data/shuffle_dataset_op.cc:422] ShuffleDatasetV3:39: Filling up shuffle buffer (this may take a while): 1537 of 2000\n",
      "2024-01-19 12:03:23.312548: I tensorflow/core/kernels/data/shuffle_dataset_op.cc:422] ShuffleDatasetV3:39: Filling up shuffle buffer (this may take a while): 1951 of 2000\n",
      "2024-01-19 12:03:25.491929: I tensorflow/core/kernels/data/shuffle_dataset_op.cc:452] Shuffle buffer filled.\n"
     ]
    },
    {
     "name": "stdout",
     "output_type": "stream",
     "text": [
      "3320/3320 [==============================] - 326s 70ms/step - loss: 0.4466 - accuracy: 0.8224 - recall: 0.7265 - precision: 0.4728 - val_loss: 0.6328 - val_accuracy: 0.7684 - val_recall: 0.5183 - val_precision: 0.4160\n",
      "Epoch 6/20\n"
     ]
    },
    {
     "name": "stderr",
     "output_type": "stream",
     "text": [
      "2024-01-19 12:07:29.634283: I tensorflow/core/kernels/data/shuffle_dataset_op.cc:422] ShuffleDatasetV3:39: Filling up shuffle buffer (this may take a while): 225 of 2000\n",
      "2024-01-19 12:07:39.642205: I tensorflow/core/kernels/data/shuffle_dataset_op.cc:422] ShuffleDatasetV3:39: Filling up shuffle buffer (this may take a while): 452 of 2000\n",
      "2024-01-19 12:07:49.650639: I tensorflow/core/kernels/data/shuffle_dataset_op.cc:422] ShuffleDatasetV3:39: Filling up shuffle buffer (this may take a while): 662 of 2000\n",
      "2024-01-19 12:08:09.641465: I tensorflow/core/kernels/data/shuffle_dataset_op.cc:422] ShuffleDatasetV3:39: Filling up shuffle buffer (this may take a while): 1101 of 2000\n",
      "2024-01-19 12:08:19.645146: I tensorflow/core/kernels/data/shuffle_dataset_op.cc:422] ShuffleDatasetV3:39: Filling up shuffle buffer (this may take a while): 1328 of 2000\n",
      "2024-01-19 12:08:29.655522: I tensorflow/core/kernels/data/shuffle_dataset_op.cc:422] ShuffleDatasetV3:39: Filling up shuffle buffer (this may take a while): 1554 of 2000\n",
      "2024-01-19 12:08:49.615965: I tensorflow/core/kernels/data/shuffle_dataset_op.cc:422] ShuffleDatasetV3:39: Filling up shuffle buffer (this may take a while): 1975 of 2000\n",
      "2024-01-19 12:08:50.718882: I tensorflow/core/kernels/data/shuffle_dataset_op.cc:452] Shuffle buffer filled.\n"
     ]
    },
    {
     "name": "stdout",
     "output_type": "stream",
     "text": [
      "3320/3320 [==============================] - 332s 72ms/step - loss: 0.4366 - accuracy: 0.8218 - recall: 0.7448 - precision: 0.4724 - val_loss: 0.6178 - val_accuracy: 0.7511 - val_recall: 0.5139 - val_precision: 0.3872\n",
      "Epoch 7/20\n"
     ]
    },
    {
     "name": "stderr",
     "output_type": "stream",
     "text": [
      "2024-01-19 12:13:01.238541: I tensorflow/core/kernels/data/shuffle_dataset_op.cc:422] ShuffleDatasetV3:39: Filling up shuffle buffer (this may take a while): 227 of 2000\n",
      "2024-01-19 12:13:11.249472: I tensorflow/core/kernels/data/shuffle_dataset_op.cc:422] ShuffleDatasetV3:39: Filling up shuffle buffer (this may take a while): 454 of 2000\n",
      "2024-01-19 12:13:21.274895: I tensorflow/core/kernels/data/shuffle_dataset_op.cc:422] ShuffleDatasetV3:39: Filling up shuffle buffer (this may take a while): 678 of 2000\n",
      "2024-01-19 12:13:41.258299: I tensorflow/core/kernels/data/shuffle_dataset_op.cc:422] ShuffleDatasetV3:39: Filling up shuffle buffer (this may take a while): 1134 of 2000\n",
      "2024-01-19 12:14:01.263242: I tensorflow/core/kernels/data/shuffle_dataset_op.cc:422] ShuffleDatasetV3:39: Filling up shuffle buffer (this may take a while): 1559 of 2000\n",
      "2024-01-19 12:14:20.568914: I tensorflow/core/kernels/data/shuffle_dataset_op.cc:452] Shuffle buffer filled.\n"
     ]
    },
    {
     "name": "stdout",
     "output_type": "stream",
     "text": [
      "3320/3320 [==============================] - 328s 72ms/step - loss: 0.4225 - accuracy: 0.8264 - recall: 0.7570 - precision: 0.4811 - val_loss: 0.6621 - val_accuracy: 0.7395 - val_recall: 0.5044 - val_precision: 0.3686\n",
      "Epoch 8/20\n"
     ]
    },
    {
     "name": "stderr",
     "output_type": "stream",
     "text": [
      "2024-01-19 12:18:29.618041: I tensorflow/core/kernels/data/shuffle_dataset_op.cc:422] ShuffleDatasetV3:39: Filling up shuffle buffer (this may take a while): 202 of 2000\n",
      "2024-01-19 12:18:39.626923: I tensorflow/core/kernels/data/shuffle_dataset_op.cc:422] ShuffleDatasetV3:39: Filling up shuffle buffer (this may take a while): 416 of 2000\n",
      "2024-01-19 12:18:49.627107: I tensorflow/core/kernels/data/shuffle_dataset_op.cc:422] ShuffleDatasetV3:39: Filling up shuffle buffer (this may take a while): 619 of 2000\n",
      "2024-01-19 12:18:59.638079: I tensorflow/core/kernels/data/shuffle_dataset_op.cc:422] ShuffleDatasetV3:39: Filling up shuffle buffer (this may take a while): 848 of 2000\n",
      "2024-01-19 12:19:19.610459: I tensorflow/core/kernels/data/shuffle_dataset_op.cc:422] ShuffleDatasetV3:39: Filling up shuffle buffer (this may take a while): 1268 of 2000\n",
      "2024-01-19 12:19:39.612769: I tensorflow/core/kernels/data/shuffle_dataset_op.cc:422] ShuffleDatasetV3:39: Filling up shuffle buffer (this may take a while): 1725 of 2000\n",
      "2024-01-19 12:19:49.624572: I tensorflow/core/kernels/data/shuffle_dataset_op.cc:422] ShuffleDatasetV3:39: Filling up shuffle buffer (this may take a while): 1953 of 2000\n",
      "2024-01-19 12:19:51.719438: I tensorflow/core/kernels/data/shuffle_dataset_op.cc:452] Shuffle buffer filled.\n"
     ]
    },
    {
     "name": "stdout",
     "output_type": "stream",
     "text": [
      "3320/3320 [==============================] - 332s 72ms/step - loss: 0.4077 - accuracy: 0.8303 - recall: 0.7691 - precision: 0.4887 - val_loss: 0.6838 - val_accuracy: 0.7347 - val_recall: 0.5016 - val_precision: 0.3613\n",
      "Epoch 9/20\n"
     ]
    },
    {
     "name": "stderr",
     "output_type": "stream",
     "text": [
      "2024-01-19 12:24:01.373124: I tensorflow/core/kernels/data/shuffle_dataset_op.cc:422] ShuffleDatasetV3:39: Filling up shuffle buffer (this may take a while): 217 of 2000\n",
      "2024-01-19 12:24:11.387138: I tensorflow/core/kernels/data/shuffle_dataset_op.cc:422] ShuffleDatasetV3:39: Filling up shuffle buffer (this may take a while): 442 of 2000\n",
      "2024-01-19 12:24:21.394442: I tensorflow/core/kernels/data/shuffle_dataset_op.cc:422] ShuffleDatasetV3:39: Filling up shuffle buffer (this may take a while): 669 of 2000\n",
      "2024-01-19 12:24:31.402432: I tensorflow/core/kernels/data/shuffle_dataset_op.cc:422] ShuffleDatasetV3:39: Filling up shuffle buffer (this may take a while): 879 of 2000\n",
      "2024-01-19 12:24:51.374587: I tensorflow/core/kernels/data/shuffle_dataset_op.cc:422] ShuffleDatasetV3:39: Filling up shuffle buffer (this may take a while): 1313 of 2000\n",
      "2024-01-19 12:25:01.399371: I tensorflow/core/kernels/data/shuffle_dataset_op.cc:422] ShuffleDatasetV3:39: Filling up shuffle buffer (this may take a while): 1543 of 2000\n",
      "2024-01-19 12:25:21.365516: I tensorflow/core/kernels/data/shuffle_dataset_op.cc:422] ShuffleDatasetV3:39: Filling up shuffle buffer (this may take a while): 1983 of 2000\n",
      "2024-01-19 12:25:22.223605: I tensorflow/core/kernels/data/shuffle_dataset_op.cc:452] Shuffle buffer filled.\n"
     ]
    },
    {
     "name": "stdout",
     "output_type": "stream",
     "text": [
      "3320/3320 [==============================] - 329s 72ms/step - loss: 0.3932 - accuracy: 0.8335 - recall: 0.7836 - precision: 0.4949 - val_loss: 0.8063 - val_accuracy: 0.7395 - val_recall: 0.4865 - val_precision: 0.3649\n",
      "Epoch 10/20\n"
     ]
    },
    {
     "name": "stderr",
     "output_type": "stream",
     "text": [
      "2024-01-19 12:29:30.691456: I tensorflow/core/kernels/data/shuffle_dataset_op.cc:422] ShuffleDatasetV3:39: Filling up shuffle buffer (this may take a while): 229 of 2000\n",
      "2024-01-19 12:29:50.662047: I tensorflow/core/kernels/data/shuffle_dataset_op.cc:422] ShuffleDatasetV3:39: Filling up shuffle buffer (this may take a while): 673 of 2000\n",
      "2024-01-19 12:30:10.670384: I tensorflow/core/kernels/data/shuffle_dataset_op.cc:422] ShuffleDatasetV3:39: Filling up shuffle buffer (this may take a while): 1103 of 2000\n",
      "2024-01-19 12:30:30.677704: I tensorflow/core/kernels/data/shuffle_dataset_op.cc:422] ShuffleDatasetV3:39: Filling up shuffle buffer (this may take a while): 1565 of 2000\n",
      "2024-01-19 12:30:40.682870: I tensorflow/core/kernels/data/shuffle_dataset_op.cc:422] ShuffleDatasetV3:39: Filling up shuffle buffer (this may take a while): 1779 of 2000\n",
      "2024-01-19 12:30:51.172501: I tensorflow/core/kernels/data/shuffle_dataset_op.cc:452] Shuffle buffer filled.\n"
     ]
    },
    {
     "name": "stdout",
     "output_type": "stream",
     "text": [
      "3320/3320 [==============================] - 331s 72ms/step - loss: 0.3740 - accuracy: 0.8365 - recall: 0.8033 - precision: 0.5008 - val_loss: 1.0965 - val_accuracy: 0.7107 - val_recall: 0.4981 - val_precision: 0.3306\n",
      "Epoch 11/20\n"
     ]
    },
    {
     "name": "stderr",
     "output_type": "stream",
     "text": [
      "2024-01-19 12:35:01.586684: I tensorflow/core/kernels/data/shuffle_dataset_op.cc:422] ShuffleDatasetV3:39: Filling up shuffle buffer (this may take a while): 228 of 2000\n",
      "2024-01-19 12:35:21.580004: I tensorflow/core/kernels/data/shuffle_dataset_op.cc:422] ShuffleDatasetV3:39: Filling up shuffle buffer (this may take a while): 653 of 2000\n",
      "2024-01-19 12:35:41.557140: I tensorflow/core/kernels/data/shuffle_dataset_op.cc:422] ShuffleDatasetV3:39: Filling up shuffle buffer (this may take a while): 1104 of 2000\n",
      "2024-01-19 12:35:51.562060: I tensorflow/core/kernels/data/shuffle_dataset_op.cc:422] ShuffleDatasetV3:39: Filling up shuffle buffer (this may take a while): 1334 of 2000\n",
      "2024-01-19 12:36:01.588883: I tensorflow/core/kernels/data/shuffle_dataset_op.cc:422] ShuffleDatasetV3:39: Filling up shuffle buffer (this may take a while): 1551 of 2000\n",
      "2024-01-19 12:36:21.574692: I tensorflow/core/kernels/data/shuffle_dataset_op.cc:422] ShuffleDatasetV3:39: Filling up shuffle buffer (this may take a while): 1982 of 2000\n",
      "2024-01-19 12:36:22.412779: I tensorflow/core/kernels/data/shuffle_dataset_op.cc:452] Shuffle buffer filled.\n"
     ]
    },
    {
     "name": "stdout",
     "output_type": "stream",
     "text": [
      "3320/3320 [==============================] - 339s 75ms/step - loss: 0.3556 - accuracy: 0.8404 - recall: 0.8212 - precision: 0.5081 - val_loss: 1.2021 - val_accuracy: 0.7220 - val_recall: 0.4897 - val_precision: 0.3423\n",
      "Epoch 12/20\n"
     ]
    },
    {
     "name": "stderr",
     "output_type": "stream",
     "text": [
      "2024-01-19 12:40:40.770627: I tensorflow/core/kernels/data/shuffle_dataset_op.cc:422] ShuffleDatasetV3:39: Filling up shuffle buffer (this may take a while): 228 of 2000\n",
      "2024-01-19 12:40:50.777170: I tensorflow/core/kernels/data/shuffle_dataset_op.cc:422] ShuffleDatasetV3:39: Filling up shuffle buffer (this may take a while): 430 of 2000\n",
      "2024-01-19 12:41:00.788177: I tensorflow/core/kernels/data/shuffle_dataset_op.cc:422] ShuffleDatasetV3:39: Filling up shuffle buffer (this may take a while): 643 of 2000\n",
      "2024-01-19 12:41:20.787285: I tensorflow/core/kernels/data/shuffle_dataset_op.cc:422] ShuffleDatasetV3:39: Filling up shuffle buffer (this may take a while): 1096 of 2000\n",
      "2024-01-19 12:41:30.788172: I tensorflow/core/kernels/data/shuffle_dataset_op.cc:422] ShuffleDatasetV3:39: Filling up shuffle buffer (this may take a while): 1313 of 2000\n",
      "2024-01-19 12:41:40.806409: I tensorflow/core/kernels/data/shuffle_dataset_op.cc:422] ShuffleDatasetV3:39: Filling up shuffle buffer (this may take a while): 1514 of 2000\n",
      "2024-01-19 12:42:00.793763: I tensorflow/core/kernels/data/shuffle_dataset_op.cc:422] ShuffleDatasetV3:39: Filling up shuffle buffer (this may take a while): 1962 of 2000\n",
      "2024-01-19 12:42:02.466624: I tensorflow/core/kernels/data/shuffle_dataset_op.cc:452] Shuffle buffer filled.\n"
     ]
    },
    {
     "name": "stdout",
     "output_type": "stream",
     "text": [
      "3320/3320 [==============================] - 343s 76ms/step - loss: 0.3336 - accuracy: 0.8464 - recall: 0.8414 - precision: 0.5193 - val_loss: 1.2888 - val_accuracy: 0.7205 - val_recall: 0.4772 - val_precision: 0.3376\n",
      "Epoch 13/20\n"
     ]
    },
    {
     "name": "stderr",
     "output_type": "stream",
     "text": [
      "2024-01-19 12:47:02.713622: I tensorflow/core/kernels/data/shuffle_dataset_op.cc:422] ShuffleDatasetV3:39: Filling up shuffle buffer (this may take a while): 209 of 2000\n",
      "2024-01-19 12:47:22.711357: I tensorflow/core/kernels/data/shuffle_dataset_op.cc:422] ShuffleDatasetV3:39: Filling up shuffle buffer (this may take a while): 670 of 2000\n",
      "2024-01-19 12:47:32.737509: I tensorflow/core/kernels/data/shuffle_dataset_op.cc:422] ShuffleDatasetV3:39: Filling up shuffle buffer (this may take a while): 897 of 2000\n",
      "2024-01-19 12:47:52.741893: I tensorflow/core/kernels/data/shuffle_dataset_op.cc:422] ShuffleDatasetV3:39: Filling up shuffle buffer (this may take a while): 1360 of 2000\n",
      "2024-01-19 12:48:12.712676: I tensorflow/core/kernels/data/shuffle_dataset_op.cc:422] ShuffleDatasetV3:39: Filling up shuffle buffer (this may take a while): 1819 of 2000\n",
      "2024-01-19 12:48:20.665961: I tensorflow/core/kernels/data/shuffle_dataset_op.cc:452] Shuffle buffer filled.\n"
     ]
    },
    {
     "name": "stdout",
     "output_type": "stream",
     "text": [
      "3320/3320 [==============================] - 317s 69ms/step - loss: 0.3133 - accuracy: 0.8535 - recall: 0.8567 - precision: 0.5330 - val_loss: 1.2847 - val_accuracy: 0.7328 - val_recall: 0.4739 - val_precision: 0.3529\n",
      "Epoch 14/20\n"
     ]
    },
    {
     "name": "stderr",
     "output_type": "stream",
     "text": [
      "2024-01-19 12:52:19.870965: I tensorflow/core/kernels/data/shuffle_dataset_op.cc:422] ShuffleDatasetV3:39: Filling up shuffle buffer (this may take a while): 226 of 2000\n",
      "2024-01-19 12:52:29.875291: I tensorflow/core/kernels/data/shuffle_dataset_op.cc:422] ShuffleDatasetV3:39: Filling up shuffle buffer (this may take a while): 449 of 2000\n",
      "2024-01-19 12:52:49.866566: I tensorflow/core/kernels/data/shuffle_dataset_op.cc:422] ShuffleDatasetV3:39: Filling up shuffle buffer (this may take a while): 906 of 2000\n",
      "2024-01-19 12:52:59.872622: I tensorflow/core/kernels/data/shuffle_dataset_op.cc:422] ShuffleDatasetV3:39: Filling up shuffle buffer (this may take a while): 1129 of 2000\n",
      "2024-01-19 12:53:19.897879: I tensorflow/core/kernels/data/shuffle_dataset_op.cc:422] ShuffleDatasetV3:39: Filling up shuffle buffer (this may take a while): 1586 of 2000\n",
      "2024-01-19 12:53:29.903881: I tensorflow/core/kernels/data/shuffle_dataset_op.cc:422] ShuffleDatasetV3:39: Filling up shuffle buffer (this may take a while): 1807 of 2000\n",
      "2024-01-19 12:53:38.632747: I tensorflow/core/kernels/data/shuffle_dataset_op.cc:452] Shuffle buffer filled.\n"
     ]
    },
    {
     "name": "stdout",
     "output_type": "stream",
     "text": [
      "3320/3320 [==============================] - 333s 74ms/step - loss: 0.2936 - accuracy: 0.8607 - recall: 0.8717 - precision: 0.5470 - val_loss: 1.5610 - val_accuracy: 0.7313 - val_recall: 0.4686 - val_precision: 0.3497\n",
      "Epoch 15/20\n"
     ]
    },
    {
     "name": "stderr",
     "output_type": "stream",
     "text": [
      "2024-01-19 12:57:52.908860: I tensorflow/core/kernels/data/shuffle_dataset_op.cc:422] ShuffleDatasetV3:39: Filling up shuffle buffer (this may take a while): 227 of 2000\n",
      "2024-01-19 12:58:02.927145: I tensorflow/core/kernels/data/shuffle_dataset_op.cc:422] ShuffleDatasetV3:39: Filling up shuffle buffer (this may take a while): 454 of 2000\n",
      "2024-01-19 12:58:22.892339: I tensorflow/core/kernels/data/shuffle_dataset_op.cc:422] ShuffleDatasetV3:39: Filling up shuffle buffer (this may take a while): 909 of 2000\n",
      "2024-01-19 12:58:32.926333: I tensorflow/core/kernels/data/shuffle_dataset_op.cc:422] ShuffleDatasetV3:39: Filling up shuffle buffer (this may take a while): 1136 of 2000\n",
      "2024-01-19 12:58:52.906874: I tensorflow/core/kernels/data/shuffle_dataset_op.cc:422] ShuffleDatasetV3:39: Filling up shuffle buffer (this may take a while): 1589 of 2000\n",
      "2024-01-19 12:59:10.642276: I tensorflow/core/kernels/data/shuffle_dataset_op.cc:452] Shuffle buffer filled.\n"
     ]
    },
    {
     "name": "stdout",
     "output_type": "stream",
     "text": [
      "3320/3320 [==============================] - 342s 76ms/step - loss: 0.2764 - accuracy: 0.8673 - recall: 0.8850 - precision: 0.5601 - val_loss: 1.5448 - val_accuracy: 0.7243 - val_recall: 0.4788 - val_precision: 0.3427\n",
      "Epoch 16/20\n"
     ]
    },
    {
     "name": "stderr",
     "output_type": "stream",
     "text": [
      "2024-01-19 13:03:34.531629: I tensorflow/core/kernels/data/shuffle_dataset_op.cc:422] ShuffleDatasetV3:39: Filling up shuffle buffer (this may take a while): 223 of 2000\n",
      "2024-01-19 13:03:44.546861: I tensorflow/core/kernels/data/shuffle_dataset_op.cc:422] ShuffleDatasetV3:39: Filling up shuffle buffer (this may take a while): 448 of 2000\n",
      "2024-01-19 13:03:54.550086: I tensorflow/core/kernels/data/shuffle_dataset_op.cc:422] ShuffleDatasetV3:39: Filling up shuffle buffer (this may take a while): 673 of 2000\n",
      "2024-01-19 13:04:14.555398: I tensorflow/core/kernels/data/shuffle_dataset_op.cc:422] ShuffleDatasetV3:39: Filling up shuffle buffer (this may take a while): 1127 of 2000\n",
      "2024-01-19 13:04:34.559833: I tensorflow/core/kernels/data/shuffle_dataset_op.cc:422] ShuffleDatasetV3:39: Filling up shuffle buffer (this may take a while): 1581 of 2000\n",
      "2024-01-19 13:04:44.566369: I tensorflow/core/kernels/data/shuffle_dataset_op.cc:422] ShuffleDatasetV3:39: Filling up shuffle buffer (this may take a while): 1807 of 2000\n",
      "2024-01-19 13:04:53.106531: I tensorflow/core/kernels/data/shuffle_dataset_op.cc:452] Shuffle buffer filled.\n"
     ]
    },
    {
     "name": "stdout",
     "output_type": "stream",
     "text": [
      "3320/3320 [==============================] - 331s 73ms/step - loss: 0.2592 - accuracy: 0.8735 - recall: 0.8974 - precision: 0.5727 - val_loss: 1.6080 - val_accuracy: 0.7469 - val_recall: 0.4523 - val_precision: 0.3689\n",
      "Epoch 17/20\n"
     ]
    },
    {
     "name": "stderr",
     "output_type": "stream",
     "text": [
      "2024-01-19 13:09:05.570758: I tensorflow/core/kernels/data/shuffle_dataset_op.cc:422] ShuffleDatasetV3:39: Filling up shuffle buffer (this may take a while): 223 of 2000\n",
      "2024-01-19 13:09:15.607243: I tensorflow/core/kernels/data/shuffle_dataset_op.cc:422] ShuffleDatasetV3:39: Filling up shuffle buffer (this may take a while): 449 of 2000\n",
      "2024-01-19 13:09:35.592646: I tensorflow/core/kernels/data/shuffle_dataset_op.cc:422] ShuffleDatasetV3:39: Filling up shuffle buffer (this may take a while): 906 of 2000\n",
      "2024-01-19 13:09:45.602270: I tensorflow/core/kernels/data/shuffle_dataset_op.cc:422] ShuffleDatasetV3:39: Filling up shuffle buffer (this may take a while): 1129 of 2000\n",
      "2024-01-19 13:10:05.594209: I tensorflow/core/kernels/data/shuffle_dataset_op.cc:422] ShuffleDatasetV3:39: Filling up shuffle buffer (this may take a while): 1583 of 2000\n",
      "2024-01-19 13:10:23.956925: I tensorflow/core/kernels/data/shuffle_dataset_op.cc:452] Shuffle buffer filled.\n"
     ]
    },
    {
     "name": "stdout",
     "output_type": "stream",
     "text": [
      "3320/3320 [==============================] - 343s 77ms/step - loss: 0.2434 - accuracy: 0.8800 - recall: 0.9084 - precision: 0.5863 - val_loss: 1.5599 - val_accuracy: 0.7428 - val_recall: 0.4760 - val_precision: 0.3677\n",
      "Epoch 18/20\n"
     ]
    },
    {
     "name": "stderr",
     "output_type": "stream",
     "text": [
      "2024-01-19 13:14:49.080324: I tensorflow/core/kernels/data/shuffle_dataset_op.cc:422] ShuffleDatasetV3:39: Filling up shuffle buffer (this may take a while): 225 of 2000\n",
      "2024-01-19 13:14:59.095672: I tensorflow/core/kernels/data/shuffle_dataset_op.cc:422] ShuffleDatasetV3:39: Filling up shuffle buffer (this may take a while): 451 of 2000\n",
      "2024-01-19 13:15:19.095649: I tensorflow/core/kernels/data/shuffle_dataset_op.cc:422] ShuffleDatasetV3:39: Filling up shuffle buffer (this may take a while): 901 of 2000\n",
      "2024-01-19 13:15:39.093277: I tensorflow/core/kernels/data/shuffle_dataset_op.cc:422] ShuffleDatasetV3:39: Filling up shuffle buffer (this may take a while): 1353 of 2000\n",
      "2024-01-19 13:15:49.099553: I tensorflow/core/kernels/data/shuffle_dataset_op.cc:422] ShuffleDatasetV3:39: Filling up shuffle buffer (this may take a while): 1578 of 2000\n",
      "2024-01-19 13:16:07.756804: I tensorflow/core/kernels/data/shuffle_dataset_op.cc:452] Shuffle buffer filled.\n"
     ]
    },
    {
     "name": "stdout",
     "output_type": "stream",
     "text": [
      "3320/3320 [==============================] - 349s 78ms/step - loss: 0.2285 - accuracy: 0.8865 - recall: 0.9180 - precision: 0.6005 - val_loss: 1.7693 - val_accuracy: 0.7359 - val_recall: 0.4543 - val_precision: 0.3529\n",
      "Epoch 19/20\n"
     ]
    },
    {
     "name": "stderr",
     "output_type": "stream",
     "text": [
      "2024-01-19 13:20:38.284469: I tensorflow/core/kernels/data/shuffle_dataset_op.cc:422] ShuffleDatasetV3:39: Filling up shuffle buffer (this may take a while): 227 of 2000\n",
      "2024-01-19 13:20:48.318174: I tensorflow/core/kernels/data/shuffle_dataset_op.cc:422] ShuffleDatasetV3:39: Filling up shuffle buffer (this may take a while): 454 of 2000\n",
      "2024-01-19 13:20:58.323944: I tensorflow/core/kernels/data/shuffle_dataset_op.cc:422] ShuffleDatasetV3:39: Filling up shuffle buffer (this may take a while): 682 of 2000\n",
      "2024-01-19 13:21:18.304503: I tensorflow/core/kernels/data/shuffle_dataset_op.cc:422] ShuffleDatasetV3:39: Filling up shuffle buffer (this may take a while): 1142 of 2000\n",
      "2024-01-19 13:21:28.315228: I tensorflow/core/kernels/data/shuffle_dataset_op.cc:422] ShuffleDatasetV3:39: Filling up shuffle buffer (this may take a while): 1372 of 2000\n",
      "2024-01-19 13:21:48.319742: I tensorflow/core/kernels/data/shuffle_dataset_op.cc:422] ShuffleDatasetV3:39: Filling up shuffle buffer (this may take a while): 1830 of 2000\n",
      "2024-01-19 13:21:55.855307: I tensorflow/core/kernels/data/shuffle_dataset_op.cc:452] Shuffle buffer filled.\n"
     ]
    },
    {
     "name": "stdout",
     "output_type": "stream",
     "text": [
      "3320/3320 [==============================] - 339s 76ms/step - loss: 0.2154 - accuracy: 0.8921 - recall: 0.9258 - precision: 0.6131 - val_loss: 1.7443 - val_accuracy: 0.7501 - val_recall: 0.4623 - val_precision: 0.3761\n",
      "Epoch 20/20\n"
     ]
    },
    {
     "name": "stderr",
     "output_type": "stream",
     "text": [
      "2024-01-19 13:26:17.193320: I tensorflow/core/kernels/data/shuffle_dataset_op.cc:422] ShuffleDatasetV3:39: Filling up shuffle buffer (this may take a while): 228 of 2000\n",
      "2024-01-19 13:26:27.217611: I tensorflow/core/kernels/data/shuffle_dataset_op.cc:422] ShuffleDatasetV3:39: Filling up shuffle buffer (this may take a while): 458 of 2000\n",
      "2024-01-19 13:26:37.220293: I tensorflow/core/kernels/data/shuffle_dataset_op.cc:422] ShuffleDatasetV3:39: Filling up shuffle buffer (this may take a while): 688 of 2000\n",
      "2024-01-19 13:26:57.228217: I tensorflow/core/kernels/data/shuffle_dataset_op.cc:422] ShuffleDatasetV3:39: Filling up shuffle buffer (this may take a while): 1139 of 2000\n",
      "2024-01-19 13:27:17.206078: I tensorflow/core/kernels/data/shuffle_dataset_op.cc:422] ShuffleDatasetV3:39: Filling up shuffle buffer (this may take a while): 1594 of 2000\n",
      "2024-01-19 13:27:34.955216: I tensorflow/core/kernels/data/shuffle_dataset_op.cc:452] Shuffle buffer filled.\n"
     ]
    },
    {
     "name": "stdout",
     "output_type": "stream",
     "text": [
      "3320/3320 [==============================] - 339s 76ms/step - loss: 0.2029 - accuracy: 0.8977 - recall: 0.9339 - precision: 0.6259 - val_loss: 1.8379 - val_accuracy: 0.7610 - val_recall: 0.4281 - val_precision: 0.3878\n"
     ]
    }
   ],
   "source": [
    "weight_for_0 = (1 / neg) * (total / 2.0)\n",
    "weight_for_1 = (1 / pos) * (total / 2.0)\n",
    "class_weight = {0: weight_for_0, 1: weight_for_1}\n",
    "history = model.fit(ds_train, epochs=20, validation_data=ds_val, class_weight=class_weight)"
   ]
  },
  {
   "cell_type": "code",
   "execution_count": 25,
   "metadata": {},
   "outputs": [
    {
     "name": "stdout",
     "output_type": "stream",
     "text": [
      "103/103 [==============================] - 7s 71ms/step - loss: 0.5006 - accuracy: 0.8293 - recall: 0.6659 - precision: 0.3906\n"
     ]
    },
    {
     "data": {
      "text/plain": [
       "[0.5005568861961365,\n",
       " 0.8292517066001892,\n",
       " 0.6659225821495056,\n",
       " 0.3906348645687103]"
      ]
     },
     "execution_count": 25,
     "metadata": {},
     "output_type": "execute_result"
    }
   ],
   "source": [
    "model.evaluate(ds_test)"
   ]
  },
  {
   "cell_type": "code",
   "execution_count": null,
   "metadata": {},
   "outputs": [],
   "source": []
  },
  {
   "cell_type": "code",
   "execution_count": 26,
   "metadata": {},
   "outputs": [],
   "source": [
    "model.save(\"../models/model_v8_cw.keras\")"
   ]
  },
  {
   "cell_type": "code",
   "execution_count": 27,
   "metadata": {},
   "outputs": [],
   "source": [
    "# save history\n",
    "history = pd.DataFrame.from_dict(history.history)\n",
    "history.to_csv(\"../models/history_model_v8_cw.csv\", index=False)"
   ]
  },
  {
   "cell_type": "code",
   "execution_count": null,
   "metadata": {},
   "outputs": [],
   "source": []
  },
  {
   "cell_type": "code",
   "execution_count": null,
   "metadata": {},
   "outputs": [],
   "source": []
  },
  {
   "cell_type": "code",
   "execution_count": null,
   "metadata": {},
   "outputs": [],
   "source": []
  }
 ],
 "metadata": {
  "kernelspec": {
   "display_name": "base",
   "language": "python",
   "name": "python3"
  },
  "language_info": {
   "codemirror_mode": {
    "name": "ipython",
    "version": 3
   },
   "file_extension": ".py",
   "mimetype": "text/x-python",
   "name": "python",
   "nbconvert_exporter": "python",
   "pygments_lexer": "ipython3",
   "version": "3.10.12"
  }
 },
 "nbformat": 4,
 "nbformat_minor": 2
}

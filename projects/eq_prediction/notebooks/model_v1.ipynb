{
 "cells": [
  {
   "cell_type": "markdown",
   "metadata": {},
   "source": [
    "# LSTM. 8 featerow - mag, x, y, depth, dist, distance, plate, days_diff"
   ]
  },
  {
   "cell_type": "code",
   "execution_count": 15,
   "metadata": {},
   "outputs": [],
   "source": [
    "import numpy as np\n",
    "import tensorflow as tf\n",
    "import pandas as pd\n",
    "SEED = 1337\n",
    "tf.random.set_seed(SEED)\n",
    "np.random.seed(SEED)"
   ]
  },
  {
   "cell_type": "code",
   "execution_count": 16,
   "metadata": {},
   "outputs": [],
   "source": [
    "ds_train = tf.data.Dataset.load(\"../data/ds_train/\")\n",
    "ds_val = tf.data.Dataset.load(\"../data/ds_val/\")\n",
    "ds_test = tf.data.Dataset.load(\"../data/ds_test/\")"
   ]
  },
  {
   "cell_type": "code",
   "execution_count": 17,
   "metadata": {},
   "outputs": [
    {
     "data": {
      "text/plain": [
       "(3294436, 465661, 101326)"
      ]
     },
     "execution_count": 17,
     "metadata": {},
     "output_type": "execute_result"
    }
   ],
   "source": [
    "ds_train.cardinality().numpy(), ds_val.cardinality().numpy(), ds_test.cardinality().numpy()"
   ]
  },
  {
   "cell_type": "code",
   "execution_count": 18,
   "metadata": {},
   "outputs": [],
   "source": [
    "BATCH_SIZE = 1024\n",
    "BLOCK_SIZE = 64"
   ]
  },
  {
   "cell_type": "code",
   "execution_count": 19,
   "metadata": {},
   "outputs": [],
   "source": [
    "def fix_x_and_y(features, context, labels):\n",
    "    return features, labels"
   ]
  },
  {
   "cell_type": "code",
   "execution_count": 20,
   "metadata": {},
   "outputs": [],
   "source": [
    "ds_train = ds_train.map(fix_x_and_y)\n",
    "ds_val = ds_val.map(fix_x_and_y)\n",
    "ds_test = ds_test.map(fix_x_and_y)"
   ]
  },
  {
   "cell_type": "code",
   "execution_count": 21,
   "metadata": {},
   "outputs": [
    {
     "name": "stdout",
     "output_type": "stream",
     "text": [
      "(1024, 64, 9)\n",
      "(1024, 1)\n"
     ]
    }
   ],
   "source": [
    "for x, y in ds_train.batch(BATCH_SIZE).take(1):\n",
    "    print(x.shape)\n",
    "    print(y.shape)"
   ]
  },
  {
   "cell_type": "code",
   "execution_count": 22,
   "metadata": {},
   "outputs": [],
   "source": [
    "# ys = []\n",
    "# for x, y in ds_train.batch(BATCH_SIZE):\n",
    "#     ys.append(y.numpy())\n",
    "# ys = np.concatenate(ys)\n",
    "# np.bincount(tf.cast(ys, tf.int32).numpy().flatten())"
   ]
  },
  {
   "cell_type": "code",
   "execution_count": 23,
   "metadata": {},
   "outputs": [
    {
     "data": {
      "text/plain": [
       "(3294436, 199845, 3094591)"
      ]
     },
     "execution_count": 23,
     "metadata": {},
     "output_type": "execute_result"
    }
   ],
   "source": [
    "#neg, pos = np.bincount(tf.cast(ys, tf.int32).numpy().flatten())\n",
    "neg, pos = 3094591, 199845\n",
    "total = neg + pos\n",
    "total, pos, neg"
   ]
  },
  {
   "cell_type": "code",
   "execution_count": null,
   "metadata": {},
   "outputs": [],
   "source": []
  },
  {
   "cell_type": "code",
   "execution_count": 24,
   "metadata": {},
   "outputs": [],
   "source": [
    "ds_train = ds_train.batch(BATCH_SIZE).shuffle(2000, seed=SEED).prefetch(tf.data.experimental.AUTOTUNE)\n",
    "ds_val = ds_val.batch(BATCH_SIZE).prefetch(tf.data.experimental.AUTOTUNE)\n",
    "ds_test = ds_test.batch(BATCH_SIZE).prefetch(tf.data.experimental.AUTOTUNE)"
   ]
  },
  {
   "cell_type": "code",
   "execution_count": null,
   "metadata": {},
   "outputs": [],
   "source": []
  },
  {
   "cell_type": "code",
   "execution_count": 25,
   "metadata": {},
   "outputs": [],
   "source": [
    "@tf.keras.saving.register_keras_serializable()\n",
    "class MyModel(tf.keras.Model):\n",
    "    def __init__(self, n_embed):\n",
    "        super(MyModel, self).__init__()\n",
    "        self.embed_plate = tf.keras.layers.Embedding(64, n_embed // 9)\n",
    "        self.embed_dd = tf.keras.layers.Embedding(20, n_embed // 9)\n",
    "        self.embed_magtype = tf.keras.layers.Embedding(20, n_embed // 9)\n",
    "        self.embed = tf.keras.layers.Dense(n_embed // 9 * 6)\n",
    "        self.lstm1 = tf.keras.layers.LSTM(n_embed, return_sequences=True)\n",
    "        self.lstm2 = tf.keras.layers.LSTM(n_embed)\n",
    "        self.dense1 = tf.keras.layers.Dense(n_embed, activation='relu')\n",
    "        self.dense2 = tf.keras.layers.Dense(1, activation='sigmoid')\n",
    "        self.conc = tf.keras.layers.Concatenate(axis=-1)\n",
    "\n",
    "    def call(self, x):\n",
    "        cont, plate, dd, magtype = x[:,:,:-3], x[:,:,-3], x[:,:,-2], x[:,:,-1] \n",
    "        x1 = self.embed(cont)\n",
    "        x2 = self.embed_plate(plate)\n",
    "        x3 = self.embed_dd(dd)\n",
    "        x4 = self.embed_magtype(magtype)\n",
    "        x = self.conc([x1, x2, x3, x4])\n",
    "        x = self.lstm1(x)\n",
    "        x = self.lstm2(x)\n",
    "        x = self.dense1(x)\n",
    "        x = self.dense2(x)\n",
    "        return x"
   ]
  },
  {
   "cell_type": "code",
   "execution_count": 26,
   "metadata": {},
   "outputs": [],
   "source": [
    "model = MyModel(135)"
   ]
  },
  {
   "cell_type": "code",
   "execution_count": 27,
   "metadata": {},
   "outputs": [],
   "source": [
    "model.build(input_shape=(None, BLOCK_SIZE, 9))\n",
    "model.count_params()"
   ]
  },
  {
   "cell_type": "code",
   "execution_count": null,
   "metadata": {},
   "outputs": [],
   "source": [
    "model.compile(loss=tf.keras.losses.BinaryCrossentropy(from_logits=False),\n",
    "            optimizer='adam',\n",
    "            metrics=['accuracy', tf.keras.metrics.Recall(), tf.keras.metrics.Precision()])"
   ]
  },
  {
   "cell_type": "code",
   "execution_count": null,
   "metadata": {},
   "outputs": [
    {
     "name": "stdout",
     "output_type": "stream",
     "text": [
      "Epoch 1/20\n"
     ]
    },
    {
     "name": "stderr",
     "output_type": "stream",
     "text": [
      "2024-01-09 16:25:10.091888: I tensorflow/core/kernels/data/shuffle_dataset_op.cc:422] ShuffleDatasetV3:14: Filling up shuffle buffer (this may take a while): 91 of 2000\n",
      "2024-01-09 16:25:30.102669: I tensorflow/core/kernels/data/shuffle_dataset_op.cc:422] ShuffleDatasetV3:14: Filling up shuffle buffer (this may take a while): 196 of 2000\n",
      "2024-01-09 16:25:40.107787: I tensorflow/core/kernels/data/shuffle_dataset_op.cc:422] ShuffleDatasetV3:14: Filling up shuffle buffer (this may take a while): 260 of 2000\n",
      "2024-01-09 16:25:50.166723: I tensorflow/core/kernels/data/shuffle_dataset_op.cc:422] ShuffleDatasetV3:14: Filling up shuffle buffer (this may take a while): 321 of 2000\n",
      "2024-01-09 16:26:10.345374: I tensorflow/core/kernels/data/shuffle_dataset_op.cc:422] ShuffleDatasetV3:14: Filling up shuffle buffer (this may take a while): 449 of 2000\n",
      "2024-01-09 16:26:30.196667: I tensorflow/core/kernels/data/shuffle_dataset_op.cc:422] ShuffleDatasetV3:14: Filling up shuffle buffer (this may take a while): 597 of 2000\n",
      "2024-01-09 16:26:50.130496: I tensorflow/core/kernels/data/shuffle_dataset_op.cc:422] ShuffleDatasetV3:14: Filling up shuffle buffer (this may take a while): 719 of 2000\n",
      "2024-01-09 16:27:10.147126: I tensorflow/core/kernels/data/shuffle_dataset_op.cc:422] ShuffleDatasetV3:14: Filling up shuffle buffer (this may take a while): 854 of 2000\n",
      "2024-01-09 16:28:00.794808: I tensorflow/core/kernels/data/shuffle_dataset_op.cc:422] ShuffleDatasetV3:14: Filling up shuffle buffer (this may take a while): 903 of 2000\n",
      "2024-01-09 16:28:20.110641: I tensorflow/core/kernels/data/shuffle_dataset_op.cc:422] ShuffleDatasetV3:14: Filling up shuffle buffer (this may take a while): 1070 of 2000\n",
      "2024-01-09 16:28:40.207491: I tensorflow/core/kernels/data/shuffle_dataset_op.cc:422] ShuffleDatasetV3:14: Filling up shuffle buffer (this may take a while): 1238 of 2000\n",
      "2024-01-09 16:29:00.140038: I tensorflow/core/kernels/data/shuffle_dataset_op.cc:422] ShuffleDatasetV3:14: Filling up shuffle buffer (this may take a while): 1414 of 2000\n",
      "2024-01-09 16:29:10.148153: I tensorflow/core/kernels/data/shuffle_dataset_op.cc:422] ShuffleDatasetV3:14: Filling up shuffle buffer (this may take a while): 1520 of 2000\n",
      "2024-01-09 16:29:30.098171: I tensorflow/core/kernels/data/shuffle_dataset_op.cc:422] ShuffleDatasetV3:14: Filling up shuffle buffer (this may take a while): 1720 of 2000\n",
      "2024-01-09 16:29:40.154447: I tensorflow/core/kernels/data/shuffle_dataset_op.cc:422] ShuffleDatasetV3:14: Filling up shuffle buffer (this may take a while): 1800 of 2000\n",
      "2024-01-09 16:29:41.819568: E tensorflow/compiler/xla/stream_executor/cuda/cuda_driver.cc:809] failed to alloc 4294967296 bytes on host: CUDA_ERROR_OUT_OF_MEMORY: out of memory\n",
      "2024-01-09 16:29:41.820258: W ./tensorflow/compiler/xla/stream_executor/device_host_allocator.h:52] could not allocate pinned host memory of size: 4294967296\n",
      "2024-01-09 16:29:41.821320: E tensorflow/compiler/xla/stream_executor/cuda/cuda_driver.cc:809] failed to alloc 3865470464 bytes on host: CUDA_ERROR_OUT_OF_MEMORY: out of memory\n",
      "2024-01-09 16:29:41.821355: W ./tensorflow/compiler/xla/stream_executor/device_host_allocator.h:52] could not allocate pinned host memory of size: 3865470464\n",
      "2024-01-09 16:29:41.821643: E tensorflow/compiler/xla/stream_executor/cuda/cuda_driver.cc:809] failed to alloc 3478923264 bytes on host: CUDA_ERROR_OUT_OF_MEMORY: out of memory\n",
      "2024-01-09 16:29:41.821657: W ./tensorflow/compiler/xla/stream_executor/device_host_allocator.h:52] could not allocate pinned host memory of size: 3478923264\n",
      "2024-01-09 16:32:31.609978: I tensorflow/core/kernels/data/shuffle_dataset_op.cc:422] ShuffleDatasetV3:14: Filling up shuffle buffer (this may take a while): 1810 of 2000\n",
      "2024-01-09 16:32:50.799659: I tensorflow/core/kernels/data/shuffle_dataset_op.cc:422] ShuffleDatasetV3:14: Filling up shuffle buffer (this may take a while): 1959 of 2000\n",
      "2024-01-09 16:33:02.179663: I tensorflow/core/kernels/data/shuffle_dataset_op.cc:422] ShuffleDatasetV3:14: Filling up shuffle buffer (this may take a while): 1974 of 2000\n",
      "2024-01-09 16:33:14.457568: I tensorflow/core/kernels/data/shuffle_dataset_op.cc:452] Shuffle buffer filled.\n",
      "2024-01-09 16:33:52.492733: I tensorflow/compiler/xla/stream_executor/cuda/cuda_dnn.cc:442] Loaded cuDNN version 8904\n",
      "Could not load symbol cublasGetSmCountTarget from libcublas.so.11. Error: /home/majkel/miniconda3/lib/libcublas.so.11: undefined symbol: cublasGetSmCountTarget\n",
      "2024-01-09 16:34:01.230627: I tensorflow/compiler/xla/service/service.cc:168] XLA service 0x7f71bc02bc60 initialized for platform CUDA (this does not guarantee that XLA will be used). Devices:\n",
      "2024-01-09 16:34:01.230774: I tensorflow/compiler/xla/service/service.cc:176]   StreamExecutor device (0): NVIDIA GeForce RTX 2060 with Max-Q Design, Compute Capability 7.5\n",
      "2024-01-09 16:34:01.459390: I tensorflow/compiler/mlir/tensorflow/utils/dump_mlir_util.cc:269] disabling MLIR crash reproducer, set env var `MLIR_CRASH_REPRODUCER_DIRECTORY` to enable.\n",
      "2024-01-09 16:34:02.133596: I ./tensorflow/compiler/jit/device_compiler.h:186] Compiled cluster using XLA!  This line is logged at most once for the lifetime of the process.\n"
     ]
    },
    {
     "name": "stdout",
     "output_type": "stream",
     "text": [
      "3218/3218 [==============================] - 1035s 150ms/step - loss: 0.4644 - accuracy: 0.8320 - recall: 0.7507 - precision: 0.2296 - val_loss: 0.4043 - val_accuracy: 0.8843 - val_recall: 0.3701 - val_precision: 0.2317\n",
      "Epoch 2/20\n"
     ]
    },
    {
     "name": "stderr",
     "output_type": "stream",
     "text": [
      "2024-01-09 16:42:20.007268: I tensorflow/core/kernels/data/shuffle_dataset_op.cc:422] ShuffleDatasetV3:14: Filling up shuffle buffer (this may take a while): 88 of 2000\n",
      "2024-01-09 16:42:30.053119: I tensorflow/core/kernels/data/shuffle_dataset_op.cc:422] ShuffleDatasetV3:14: Filling up shuffle buffer (this may take a while): 176 of 2000\n",
      "2024-01-09 16:42:40.074982: I tensorflow/core/kernels/data/shuffle_dataset_op.cc:422] ShuffleDatasetV3:14: Filling up shuffle buffer (this may take a while): 279 of 2000\n",
      "2024-01-09 16:42:59.997191: I tensorflow/core/kernels/data/shuffle_dataset_op.cc:422] ShuffleDatasetV3:14: Filling up shuffle buffer (this may take a while): 464 of 2000\n",
      "2024-01-09 16:43:10.024290: I tensorflow/core/kernels/data/shuffle_dataset_op.cc:422] ShuffleDatasetV3:14: Filling up shuffle buffer (this may take a while): 597 of 2000\n",
      "2024-01-09 16:43:20.025818: I tensorflow/core/kernels/data/shuffle_dataset_op.cc:422] ShuffleDatasetV3:14: Filling up shuffle buffer (this may take a while): 696 of 2000\n",
      "2024-01-09 16:43:40.017901: I tensorflow/core/kernels/data/shuffle_dataset_op.cc:422] ShuffleDatasetV3:14: Filling up shuffle buffer (this may take a while): 901 of 2000\n",
      "2024-01-09 16:44:00.020780: I tensorflow/core/kernels/data/shuffle_dataset_op.cc:422] ShuffleDatasetV3:14: Filling up shuffle buffer (this may take a while): 1129 of 2000\n",
      "2024-01-09 16:44:20.009482: I tensorflow/core/kernels/data/shuffle_dataset_op.cc:422] ShuffleDatasetV3:14: Filling up shuffle buffer (this may take a while): 1392 of 2000\n",
      "2024-01-09 16:44:40.008771: I tensorflow/core/kernels/data/shuffle_dataset_op.cc:422] ShuffleDatasetV3:14: Filling up shuffle buffer (this may take a while): 1619 of 2000\n",
      "2024-01-09 16:44:50.096610: I tensorflow/core/kernels/data/shuffle_dataset_op.cc:422] ShuffleDatasetV3:14: Filling up shuffle buffer (this may take a while): 1718 of 2000\n",
      "2024-01-09 16:45:10.023704: I tensorflow/core/kernels/data/shuffle_dataset_op.cc:422] ShuffleDatasetV3:14: Filling up shuffle buffer (this may take a while): 1909 of 2000\n",
      "2024-01-09 16:45:17.219001: I tensorflow/core/kernels/data/shuffle_dataset_op.cc:452] Shuffle buffer filled.\n"
     ]
    },
    {
     "name": "stdout",
     "output_type": "stream",
     "text": [
      "3218/3218 [==============================] - 677s 152ms/step - loss: 0.4345 - accuracy: 0.8580 - recall: 0.7488 - precision: 0.2638 - val_loss: 0.4202 - val_accuracy: 0.8639 - val_recall: 0.4157 - val_precision: 0.2061\n",
      "Epoch 3/20\n"
     ]
    },
    {
     "name": "stderr",
     "output_type": "stream",
     "text": [
      "2024-01-09 16:53:37.635642: I tensorflow/core/kernels/data/shuffle_dataset_op.cc:422] ShuffleDatasetV3:14: Filling up shuffle buffer (this may take a while): 113 of 2000\n",
      "2024-01-09 16:53:57.515422: I tensorflow/core/kernels/data/shuffle_dataset_op.cc:422] ShuffleDatasetV3:14: Filling up shuffle buffer (this may take a while): 343 of 2000\n",
      "2024-01-09 16:54:07.561510: I tensorflow/core/kernels/data/shuffle_dataset_op.cc:422] ShuffleDatasetV3:14: Filling up shuffle buffer (this may take a while): 474 of 2000\n",
      "2024-01-09 16:54:17.567891: I tensorflow/core/kernels/data/shuffle_dataset_op.cc:422] ShuffleDatasetV3:14: Filling up shuffle buffer (this may take a while): 571 of 2000\n",
      "2024-01-09 16:54:37.550516: I tensorflow/core/kernels/data/shuffle_dataset_op.cc:422] ShuffleDatasetV3:14: Filling up shuffle buffer (this may take a while): 739 of 2000\n",
      "2024-01-09 16:54:47.596515: I tensorflow/core/kernels/data/shuffle_dataset_op.cc:422] ShuffleDatasetV3:14: Filling up shuffle buffer (this may take a while): 839 of 2000\n",
      "2024-01-09 16:55:07.532221: I tensorflow/core/kernels/data/shuffle_dataset_op.cc:422] ShuffleDatasetV3:14: Filling up shuffle buffer (this may take a while): 1024 of 2000\n",
      "2024-01-09 16:55:17.577807: I tensorflow/core/kernels/data/shuffle_dataset_op.cc:422] ShuffleDatasetV3:14: Filling up shuffle buffer (this may take a while): 1102 of 2000\n",
      "2024-01-09 16:55:27.582625: I tensorflow/core/kernels/data/shuffle_dataset_op.cc:422] ShuffleDatasetV3:14: Filling up shuffle buffer (this may take a while): 1196 of 2000\n",
      "2024-01-09 16:55:47.587036: I tensorflow/core/kernels/data/shuffle_dataset_op.cc:422] ShuffleDatasetV3:14: Filling up shuffle buffer (this may take a while): 1387 of 2000\n",
      "2024-01-09 16:56:07.516396: I tensorflow/core/kernels/data/shuffle_dataset_op.cc:422] ShuffleDatasetV3:14: Filling up shuffle buffer (this may take a while): 1561 of 2000\n",
      "2024-01-09 16:56:27.589260: I tensorflow/core/kernels/data/shuffle_dataset_op.cc:422] ShuffleDatasetV3:14: Filling up shuffle buffer (this may take a while): 1750 of 2000\n",
      "2024-01-09 16:56:47.562844: I tensorflow/core/kernels/data/shuffle_dataset_op.cc:422] ShuffleDatasetV3:14: Filling up shuffle buffer (this may take a while): 1942 of 2000\n",
      "2024-01-09 16:56:52.464393: I tensorflow/core/kernels/data/shuffle_dataset_op.cc:452] Shuffle buffer filled.\n"
     ]
    },
    {
     "name": "stdout",
     "output_type": "stream",
     "text": [
      "3218/3218 [==============================] - 717s 159ms/step - loss: 0.4158 - accuracy: 0.8588 - recall: 0.7631 - precision: 0.2675 - val_loss: 0.3319 - val_accuracy: 0.8854 - val_recall: 0.3664 - val_precision: 0.2329\n",
      "Epoch 4/20\n"
     ]
    },
    {
     "name": "stderr",
     "output_type": "stream",
     "text": [
      "2024-01-09 17:05:35.122830: I tensorflow/core/kernels/data/shuffle_dataset_op.cc:422] ShuffleDatasetV3:14: Filling up shuffle buffer (this may take a while): 87 of 2000\n",
      "2024-01-09 17:05:55.086311: I tensorflow/core/kernels/data/shuffle_dataset_op.cc:422] ShuffleDatasetV3:14: Filling up shuffle buffer (this may take a while): 247 of 2000\n",
      "2024-01-09 17:06:15.094043: I tensorflow/core/kernels/data/shuffle_dataset_op.cc:422] ShuffleDatasetV3:14: Filling up shuffle buffer (this may take a while): 436 of 2000\n",
      "2024-01-09 17:06:25.130665: I tensorflow/core/kernels/data/shuffle_dataset_op.cc:422] ShuffleDatasetV3:14: Filling up shuffle buffer (this may take a while): 528 of 2000\n",
      "2024-01-09 17:06:35.144728: I tensorflow/core/kernels/data/shuffle_dataset_op.cc:422] ShuffleDatasetV3:14: Filling up shuffle buffer (this may take a while): 619 of 2000\n",
      "2024-01-09 17:06:55.065261: I tensorflow/core/kernels/data/shuffle_dataset_op.cc:422] ShuffleDatasetV3:14: Filling up shuffle buffer (this may take a while): 807 of 2000\n",
      "2024-01-09 17:07:05.148656: I tensorflow/core/kernels/data/shuffle_dataset_op.cc:422] ShuffleDatasetV3:14: Filling up shuffle buffer (this may take a while): 914 of 2000\n",
      "2024-01-09 17:07:25.031940: I tensorflow/core/kernels/data/shuffle_dataset_op.cc:422] ShuffleDatasetV3:14: Filling up shuffle buffer (this may take a while): 1103 of 2000\n",
      "2024-01-09 17:07:35.158762: I tensorflow/core/kernels/data/shuffle_dataset_op.cc:422] ShuffleDatasetV3:14: Filling up shuffle buffer (this may take a while): 1181 of 2000\n",
      "2024-01-09 17:07:55.047296: I tensorflow/core/kernels/data/shuffle_dataset_op.cc:422] ShuffleDatasetV3:14: Filling up shuffle buffer (this may take a while): 1348 of 2000\n",
      "2024-01-09 17:08:15.086334: I tensorflow/core/kernels/data/shuffle_dataset_op.cc:422] ShuffleDatasetV3:14: Filling up shuffle buffer (this may take a while): 1517 of 2000\n",
      "2024-01-09 17:08:35.077734: I tensorflow/core/kernels/data/shuffle_dataset_op.cc:422] ShuffleDatasetV3:14: Filling up shuffle buffer (this may take a while): 1670 of 2000\n",
      "2024-01-09 17:08:45.101970: I tensorflow/core/kernels/data/shuffle_dataset_op.cc:422] ShuffleDatasetV3:14: Filling up shuffle buffer (this may take a while): 1752 of 2000\n",
      "2024-01-09 17:08:55.138166: I tensorflow/core/kernels/data/shuffle_dataset_op.cc:422] ShuffleDatasetV3:14: Filling up shuffle buffer (this may take a while): 1827 of 2000\n",
      "2024-01-09 17:09:05.143192: I tensorflow/core/kernels/data/shuffle_dataset_op.cc:422] ShuffleDatasetV3:14: Filling up shuffle buffer (this may take a while): 1929 of 2000\n",
      "2024-01-09 17:09:11.969651: I tensorflow/core/kernels/data/shuffle_dataset_op.cc:452] Shuffle buffer filled.\n"
     ]
    },
    {
     "name": "stdout",
     "output_type": "stream",
     "text": [
      "3218/3218 [==============================] - 749s 162ms/step - loss: 0.4015 - accuracy: 0.8556 - recall: 0.7777 - precision: 0.2649 - val_loss: 0.3796 - val_accuracy: 0.8324 - val_recall: 0.6244 - val_precision: 0.2124\n",
      "Epoch 5/20\n"
     ]
    },
    {
     "name": "stderr",
     "output_type": "stream",
     "text": [
      "2024-01-09 17:18:03.890603: I tensorflow/core/kernels/data/shuffle_dataset_op.cc:422] ShuffleDatasetV3:14: Filling up shuffle buffer (this may take a while): 101 of 2000\n",
      "2024-01-09 17:18:13.889270: I tensorflow/core/kernels/data/shuffle_dataset_op.cc:422] ShuffleDatasetV3:14: Filling up shuffle buffer (this may take a while): 174 of 2000\n",
      "2024-01-09 17:18:33.798444: I tensorflow/core/kernels/data/shuffle_dataset_op.cc:422] ShuffleDatasetV3:14: Filling up shuffle buffer (this may take a while): 379 of 2000\n",
      "2024-01-09 17:18:43.912223: I tensorflow/core/kernels/data/shuffle_dataset_op.cc:422] ShuffleDatasetV3:14: Filling up shuffle buffer (this may take a while): 479 of 2000\n",
      "2024-01-09 17:19:03.847269: I tensorflow/core/kernels/data/shuffle_dataset_op.cc:422] ShuffleDatasetV3:14: Filling up shuffle buffer (this may take a while): 635 of 2000\n",
      "2024-01-09 17:19:23.897502: I tensorflow/core/kernels/data/shuffle_dataset_op.cc:422] ShuffleDatasetV3:14: Filling up shuffle buffer (this may take a while): 798 of 2000\n",
      "2024-01-09 17:19:43.833520: I tensorflow/core/kernels/data/shuffle_dataset_op.cc:422] ShuffleDatasetV3:14: Filling up shuffle buffer (this may take a while): 955 of 2000\n",
      "2024-01-09 17:19:53.886950: I tensorflow/core/kernels/data/shuffle_dataset_op.cc:422] ShuffleDatasetV3:14: Filling up shuffle buffer (this may take a while): 1037 of 2000\n",
      "2024-01-09 17:20:13.792164: I tensorflow/core/kernels/data/shuffle_dataset_op.cc:422] ShuffleDatasetV3:14: Filling up shuffle buffer (this may take a while): 1234 of 2000\n",
      "2024-01-09 17:20:23.851387: I tensorflow/core/kernels/data/shuffle_dataset_op.cc:422] ShuffleDatasetV3:14: Filling up shuffle buffer (this may take a while): 1359 of 2000\n",
      "2024-01-09 17:20:43.806409: I tensorflow/core/kernels/data/shuffle_dataset_op.cc:422] ShuffleDatasetV3:14: Filling up shuffle buffer (this may take a while): 1520 of 2000\n",
      "2024-01-09 17:20:53.842854: I tensorflow/core/kernels/data/shuffle_dataset_op.cc:422] ShuffleDatasetV3:14: Filling up shuffle buffer (this may take a while): 1618 of 2000\n",
      "2024-01-09 17:21:13.832817: I tensorflow/core/kernels/data/shuffle_dataset_op.cc:422] ShuffleDatasetV3:14: Filling up shuffle buffer (this may take a while): 1821 of 2000\n",
      "2024-01-09 17:21:23.859692: I tensorflow/core/kernels/data/shuffle_dataset_op.cc:422] ShuffleDatasetV3:14: Filling up shuffle buffer (this may take a while): 1924 of 2000\n",
      "2024-01-09 17:21:33.231344: I tensorflow/core/kernels/data/shuffle_dataset_op.cc:452] Shuffle buffer filled.\n"
     ]
    },
    {
     "name": "stdout",
     "output_type": "stream",
     "text": [
      "3218/3218 [==============================] - 693s 147ms/step - loss: 0.3836 - accuracy: 0.8554 - recall: 0.8003 - precision: 0.2682 - val_loss: 0.4237 - val_accuracy: 0.8223 - val_recall: 0.5631 - val_precision: 0.1889\n",
      "Epoch 6/20\n"
     ]
    },
    {
     "name": "stderr",
     "output_type": "stream",
     "text": [
      "2024-01-09 17:29:36.774035: I tensorflow/core/kernels/data/shuffle_dataset_op.cc:422] ShuffleDatasetV3:14: Filling up shuffle buffer (this may take a while): 74 of 2000\n",
      "2024-01-09 17:29:56.698295: I tensorflow/core/kernels/data/shuffle_dataset_op.cc:422] ShuffleDatasetV3:14: Filling up shuffle buffer (this may take a while): 260 of 2000\n",
      "2024-01-09 17:30:16.738581: I tensorflow/core/kernels/data/shuffle_dataset_op.cc:422] ShuffleDatasetV3:14: Filling up shuffle buffer (this may take a while): 439 of 2000\n",
      "2024-01-09 17:30:36.688400: I tensorflow/core/kernels/data/shuffle_dataset_op.cc:422] ShuffleDatasetV3:14: Filling up shuffle buffer (this may take a while): 635 of 2000\n",
      "2024-01-09 17:30:46.776587: I tensorflow/core/kernels/data/shuffle_dataset_op.cc:422] ShuffleDatasetV3:14: Filling up shuffle buffer (this may take a while): 709 of 2000\n",
      "2024-01-09 17:31:06.853360: I tensorflow/core/kernels/data/shuffle_dataset_op.cc:422] ShuffleDatasetV3:14: Filling up shuffle buffer (this may take a while): 871 of 2000\n",
      "2024-01-09 17:31:26.777255: I tensorflow/core/kernels/data/shuffle_dataset_op.cc:422] ShuffleDatasetV3:14: Filling up shuffle buffer (this may take a while): 1052 of 2000\n",
      "2024-01-09 17:31:46.752355: I tensorflow/core/kernels/data/shuffle_dataset_op.cc:422] ShuffleDatasetV3:14: Filling up shuffle buffer (this may take a while): 1233 of 2000\n",
      "2024-01-09 17:32:06.703893: I tensorflow/core/kernels/data/shuffle_dataset_op.cc:422] ShuffleDatasetV3:14: Filling up shuffle buffer (this may take a while): 1405 of 2000\n",
      "2024-01-09 17:32:16.756956: I tensorflow/core/kernels/data/shuffle_dataset_op.cc:422] ShuffleDatasetV3:14: Filling up shuffle buffer (this may take a while): 1485 of 2000\n",
      "2024-01-09 17:32:36.729324: I tensorflow/core/kernels/data/shuffle_dataset_op.cc:422] ShuffleDatasetV3:14: Filling up shuffle buffer (this may take a while): 1674 of 2000\n",
      "2024-01-09 17:32:46.781818: I tensorflow/core/kernels/data/shuffle_dataset_op.cc:422] ShuffleDatasetV3:14: Filling up shuffle buffer (this may take a while): 1768 of 2000\n",
      "2024-01-09 17:33:06.780196: I tensorflow/core/kernels/data/shuffle_dataset_op.cc:422] ShuffleDatasetV3:14: Filling up shuffle buffer (this may take a while): 1974 of 2000\n",
      "2024-01-09 17:33:09.569935: I tensorflow/core/kernels/data/shuffle_dataset_op.cc:452] Shuffle buffer filled.\n"
     ]
    },
    {
     "name": "stdout",
     "output_type": "stream",
     "text": [
      "3218/3218 [==============================] - 720s 154ms/step - loss: 0.3643 - accuracy: 0.8548 - recall: 0.8239 - precision: 0.2708 - val_loss: 0.3314 - val_accuracy: 0.8279 - val_recall: 0.5245 - val_precision: 0.1864\n",
      "Epoch 7/20\n"
     ]
    },
    {
     "name": "stderr",
     "output_type": "stream",
     "text": [
      "2024-01-09 17:41:36.935232: I tensorflow/core/kernels/data/shuffle_dataset_op.cc:422] ShuffleDatasetV3:14: Filling up shuffle buffer (this may take a while): 95 of 2000\n",
      "2024-01-09 17:41:47.001661: I tensorflow/core/kernels/data/shuffle_dataset_op.cc:422] ShuffleDatasetV3:14: Filling up shuffle buffer (this may take a while): 178 of 2000\n",
      "2024-01-09 17:42:07.030799: I tensorflow/core/kernels/data/shuffle_dataset_op.cc:422] ShuffleDatasetV3:14: Filling up shuffle buffer (this may take a while): 349 of 2000\n",
      "2024-01-09 17:42:26.925185: I tensorflow/core/kernels/data/shuffle_dataset_op.cc:422] ShuffleDatasetV3:14: Filling up shuffle buffer (this may take a while): 524 of 2000\n",
      "2024-01-09 17:42:37.022265: I tensorflow/core/kernels/data/shuffle_dataset_op.cc:422] ShuffleDatasetV3:14: Filling up shuffle buffer (this may take a while): 609 of 2000\n",
      "2024-01-09 17:42:56.937125: I tensorflow/core/kernels/data/shuffle_dataset_op.cc:422] ShuffleDatasetV3:14: Filling up shuffle buffer (this may take a while): 786 of 2000\n",
      "2024-01-09 17:43:06.937878: I tensorflow/core/kernels/data/shuffle_dataset_op.cc:422] ShuffleDatasetV3:14: Filling up shuffle buffer (this may take a while): 886 of 2000\n",
      "2024-01-09 17:43:17.040688: I tensorflow/core/kernels/data/shuffle_dataset_op.cc:422] ShuffleDatasetV3:14: Filling up shuffle buffer (this may take a while): 971 of 2000\n",
      "2024-01-09 17:43:37.080209: I tensorflow/core/kernels/data/shuffle_dataset_op.cc:422] ShuffleDatasetV3:14: Filling up shuffle buffer (this may take a while): 1132 of 2000\n",
      "2024-01-09 17:43:57.088945: I tensorflow/core/kernels/data/shuffle_dataset_op.cc:422] ShuffleDatasetV3:14: Filling up shuffle buffer (this may take a while): 1313 of 2000\n",
      "2024-01-09 17:44:16.989454: I tensorflow/core/kernels/data/shuffle_dataset_op.cc:422] ShuffleDatasetV3:14: Filling up shuffle buffer (this may take a while): 1481 of 2000\n",
      "2024-01-09 17:44:37.021597: I tensorflow/core/kernels/data/shuffle_dataset_op.cc:422] ShuffleDatasetV3:14: Filling up shuffle buffer (this may take a while): 1655 of 2000\n",
      "2024-01-09 17:44:57.017831: I tensorflow/core/kernels/data/shuffle_dataset_op.cc:422] ShuffleDatasetV3:14: Filling up shuffle buffer (this may take a while): 1823 of 2000\n",
      "2024-01-09 17:45:16.301296: I tensorflow/core/kernels/data/shuffle_dataset_op.cc:452] Shuffle buffer filled.\n"
     ]
    },
    {
     "name": "stdout",
     "output_type": "stream",
     "text": [
      "3218/3218 [==============================] - 710s 149ms/step - loss: 0.3472 - accuracy: 0.8584 - recall: 0.8378 - precision: 0.2784 - val_loss: 0.3005 - val_accuracy: 0.8863 - val_recall: 0.3684 - val_precision: 0.2358\n",
      "Epoch 8/20\n"
     ]
    },
    {
     "name": "stderr",
     "output_type": "stream",
     "text": [
      "2024-01-09 17:53:27.507883: I tensorflow/core/kernels/data/shuffle_dataset_op.cc:422] ShuffleDatasetV3:14: Filling up shuffle buffer (this may take a while): 67 of 2000\n",
      "2024-01-09 17:53:37.595723: I tensorflow/core/kernels/data/shuffle_dataset_op.cc:422] ShuffleDatasetV3:14: Filling up shuffle buffer (this may take a while): 152 of 2000\n",
      "2024-01-09 17:53:57.660593: I tensorflow/core/kernels/data/shuffle_dataset_op.cc:422] ShuffleDatasetV3:14: Filling up shuffle buffer (this may take a while): 333 of 2000\n",
      "2024-01-09 17:54:17.470883: I tensorflow/core/kernels/data/shuffle_dataset_op.cc:422] ShuffleDatasetV3:14: Filling up shuffle buffer (this may take a while): 508 of 2000\n",
      "2024-01-09 17:54:27.516404: I tensorflow/core/kernels/data/shuffle_dataset_op.cc:422] ShuffleDatasetV3:14: Filling up shuffle buffer (this may take a while): 599 of 2000\n",
      "2024-01-09 17:54:37.529821: I tensorflow/core/kernels/data/shuffle_dataset_op.cc:422] ShuffleDatasetV3:14: Filling up shuffle buffer (this may take a while): 704 of 2000\n",
      "2024-01-09 17:54:47.588120: I tensorflow/core/kernels/data/shuffle_dataset_op.cc:422] ShuffleDatasetV3:14: Filling up shuffle buffer (this may take a while): 785 of 2000\n",
      "2024-01-09 17:55:07.592372: I tensorflow/core/kernels/data/shuffle_dataset_op.cc:422] ShuffleDatasetV3:14: Filling up shuffle buffer (this may take a while): 937 of 2000\n",
      "2024-01-09 17:55:27.499153: I tensorflow/core/kernels/data/shuffle_dataset_op.cc:422] ShuffleDatasetV3:14: Filling up shuffle buffer (this may take a while): 1111 of 2000\n",
      "2024-01-09 17:55:37.510421: I tensorflow/core/kernels/data/shuffle_dataset_op.cc:422] ShuffleDatasetV3:14: Filling up shuffle buffer (this may take a while): 1189 of 2000\n",
      "2024-01-09 17:55:47.604155: I tensorflow/core/kernels/data/shuffle_dataset_op.cc:422] ShuffleDatasetV3:14: Filling up shuffle buffer (this may take a while): 1262 of 2000\n",
      "2024-01-09 17:56:07.484827: I tensorflow/core/kernels/data/shuffle_dataset_op.cc:422] ShuffleDatasetV3:14: Filling up shuffle buffer (this may take a while): 1449 of 2000\n",
      "2024-01-09 17:56:17.534674: I tensorflow/core/kernels/data/shuffle_dataset_op.cc:422] ShuffleDatasetV3:14: Filling up shuffle buffer (this may take a while): 1538 of 2000\n",
      "2024-01-09 17:56:37.514255: I tensorflow/core/kernels/data/shuffle_dataset_op.cc:422] ShuffleDatasetV3:14: Filling up shuffle buffer (this may take a while): 1746 of 2000\n",
      "2024-01-09 17:56:47.534049: I tensorflow/core/kernels/data/shuffle_dataset_op.cc:422] ShuffleDatasetV3:14: Filling up shuffle buffer (this may take a while): 1873 of 2000\n",
      "2024-01-09 17:57:00.892314: I tensorflow/core/kernels/data/shuffle_dataset_op.cc:452] Shuffle buffer filled.\n"
     ]
    },
    {
     "name": "stdout",
     "output_type": "stream",
     "text": [
      "3218/3218 [==============================] - 709s 150ms/step - loss: 0.3346 - accuracy: 0.8592 - recall: 0.8498 - precision: 0.2814 - val_loss: 0.3929 - val_accuracy: 0.8093 - val_recall: 0.6176 - val_precision: 0.1873\n",
      "Epoch 9/20\n"
     ]
    },
    {
     "name": "stderr",
     "output_type": "stream",
     "text": [
      "2024-01-09 18:05:16.713014: I tensorflow/core/kernels/data/shuffle_dataset_op.cc:422] ShuffleDatasetV3:14: Filling up shuffle buffer (this may take a while): 73 of 2000\n",
      "2024-01-09 18:05:26.796439: I tensorflow/core/kernels/data/shuffle_dataset_op.cc:422] ShuffleDatasetV3:14: Filling up shuffle buffer (this may take a while): 148 of 2000\n",
      "2024-01-09 18:05:46.566369: I tensorflow/core/kernels/data/shuffle_dataset_op.cc:422] ShuffleDatasetV3:14: Filling up shuffle buffer (this may take a while): 280 of 2000\n",
      "2024-01-09 18:05:56.657151: I tensorflow/core/kernels/data/shuffle_dataset_op.cc:422] ShuffleDatasetV3:14: Filling up shuffle buffer (this may take a while): 354 of 2000\n",
      "2024-01-09 18:06:16.637817: I tensorflow/core/kernels/data/shuffle_dataset_op.cc:422] ShuffleDatasetV3:14: Filling up shuffle buffer (this may take a while): 517 of 2000\n",
      "2024-01-09 18:06:36.589724: I tensorflow/core/kernels/data/shuffle_dataset_op.cc:422] ShuffleDatasetV3:14: Filling up shuffle buffer (this may take a while): 673 of 2000\n",
      "2024-01-09 18:06:46.646407: I tensorflow/core/kernels/data/shuffle_dataset_op.cc:422] ShuffleDatasetV3:14: Filling up shuffle buffer (this may take a while): 762 of 2000\n",
      "2024-01-09 18:07:06.620598: I tensorflow/core/kernels/data/shuffle_dataset_op.cc:422] ShuffleDatasetV3:14: Filling up shuffle buffer (this may take a while): 956 of 2000\n",
      "2024-01-09 18:07:26.604823: I tensorflow/core/kernels/data/shuffle_dataset_op.cc:422] ShuffleDatasetV3:14: Filling up shuffle buffer (this may take a while): 1132 of 2000\n",
      "2024-01-09 18:07:46.569726: I tensorflow/core/kernels/data/shuffle_dataset_op.cc:422] ShuffleDatasetV3:14: Filling up shuffle buffer (this may take a while): 1316 of 2000\n",
      "2024-01-09 18:07:56.743682: I tensorflow/core/kernels/data/shuffle_dataset_op.cc:422] ShuffleDatasetV3:14: Filling up shuffle buffer (this may take a while): 1390 of 2000\n",
      "2024-01-09 18:08:16.577735: I tensorflow/core/kernels/data/shuffle_dataset_op.cc:422] ShuffleDatasetV3:14: Filling up shuffle buffer (this may take a while): 1543 of 2000\n",
      "2024-01-09 18:08:26.656147: I tensorflow/core/kernels/data/shuffle_dataset_op.cc:422] ShuffleDatasetV3:14: Filling up shuffle buffer (this may take a while): 1631 of 2000\n",
      "2024-01-09 18:08:46.693707: I tensorflow/core/kernels/data/shuffle_dataset_op.cc:422] ShuffleDatasetV3:14: Filling up shuffle buffer (this may take a while): 1775 of 2000\n",
      "2024-01-09 18:09:06.598965: I tensorflow/core/kernels/data/shuffle_dataset_op.cc:422] ShuffleDatasetV3:14: Filling up shuffle buffer (this may take a while): 1925 of 2000\n",
      "2024-01-09 18:09:14.987667: I tensorflow/core/kernels/data/shuffle_dataset_op.cc:452] Shuffle buffer filled.\n"
     ]
    },
    {
     "name": "stdout",
     "output_type": "stream",
     "text": [
      "3218/3218 [==============================] - 758s 157ms/step - loss: 0.3241 - accuracy: 0.8652 - recall: 0.8531 - precision: 0.2913 - val_loss: 0.4195 - val_accuracy: 0.8507 - val_recall: 0.5707 - val_precision: 0.2247\n",
      "Epoch 10/20\n"
     ]
    },
    {
     "name": "stderr",
     "output_type": "stream",
     "text": [
      "2024-01-09 18:17:54.677590: I tensorflow/core/kernels/data/shuffle_dataset_op.cc:422] ShuffleDatasetV3:14: Filling up shuffle buffer (this may take a while): 77 of 2000\n",
      "2024-01-09 18:18:14.640077: I tensorflow/core/kernels/data/shuffle_dataset_op.cc:422] ShuffleDatasetV3:14: Filling up shuffle buffer (this may take a while): 247 of 2000\n",
      "2024-01-09 18:18:24.656965: I tensorflow/core/kernels/data/shuffle_dataset_op.cc:422] ShuffleDatasetV3:14: Filling up shuffle buffer (this may take a while): 318 of 2000\n",
      "2024-01-09 18:18:34.692941: I tensorflow/core/kernels/data/shuffle_dataset_op.cc:422] ShuffleDatasetV3:14: Filling up shuffle buffer (this may take a while): 390 of 2000\n",
      "2024-01-09 18:18:54.632397: I tensorflow/core/kernels/data/shuffle_dataset_op.cc:422] ShuffleDatasetV3:14: Filling up shuffle buffer (this may take a while): 547 of 2000\n",
      "2024-01-09 18:19:04.739039: I tensorflow/core/kernels/data/shuffle_dataset_op.cc:422] ShuffleDatasetV3:14: Filling up shuffle buffer (this may take a while): 630 of 2000\n",
      "2024-01-09 18:19:24.614482: I tensorflow/core/kernels/data/shuffle_dataset_op.cc:422] ShuffleDatasetV3:14: Filling up shuffle buffer (this may take a while): 764 of 2000\n",
      "2024-01-09 18:19:34.644594: I tensorflow/core/kernels/data/shuffle_dataset_op.cc:422] ShuffleDatasetV3:14: Filling up shuffle buffer (this may take a while): 849 of 2000\n",
      "2024-01-09 18:19:44.695225: I tensorflow/core/kernels/data/shuffle_dataset_op.cc:422] ShuffleDatasetV3:14: Filling up shuffle buffer (this may take a while): 934 of 2000\n",
      "2024-01-09 18:20:04.687229: I tensorflow/core/kernels/data/shuffle_dataset_op.cc:422] ShuffleDatasetV3:14: Filling up shuffle buffer (this may take a while): 1088 of 2000\n",
      "2024-01-09 18:20:24.701599: I tensorflow/core/kernels/data/shuffle_dataset_op.cc:422] ShuffleDatasetV3:14: Filling up shuffle buffer (this may take a while): 1256 of 2000\n",
      "2024-01-09 18:20:44.699845: I tensorflow/core/kernels/data/shuffle_dataset_op.cc:422] ShuffleDatasetV3:14: Filling up shuffle buffer (this may take a while): 1414 of 2000\n",
      "2024-01-09 18:21:04.608450: I tensorflow/core/kernels/data/shuffle_dataset_op.cc:422] ShuffleDatasetV3:14: Filling up shuffle buffer (this may take a while): 1563 of 2000\n",
      "2024-01-09 18:21:14.675386: I tensorflow/core/kernels/data/shuffle_dataset_op.cc:422] ShuffleDatasetV3:14: Filling up shuffle buffer (this may take a while): 1660 of 2000\n",
      "2024-01-09 18:21:34.686275: I tensorflow/core/kernels/data/shuffle_dataset_op.cc:422] ShuffleDatasetV3:14: Filling up shuffle buffer (this may take a while): 1822 of 2000\n",
      "2024-01-09 18:21:54.032769: I tensorflow/core/kernels/data/shuffle_dataset_op.cc:452] Shuffle buffer filled.\n"
     ]
    },
    {
     "name": "stdout",
     "output_type": "stream",
     "text": [
      "3218/3218 [==============================] - 759s 158ms/step - loss: 0.3054 - accuracy: 0.8708 - recall: 0.8652 - precision: 0.3025 - val_loss: 0.3958 - val_accuracy: 0.8570 - val_recall: 0.5634 - val_precision: 0.2325\n",
      "Epoch 11/20\n"
     ]
    },
    {
     "name": "stderr",
     "output_type": "stream",
     "text": [
      "2024-01-09 18:30:34.412343: I tensorflow/core/kernels/data/shuffle_dataset_op.cc:422] ShuffleDatasetV3:14: Filling up shuffle buffer (this may take a while): 70 of 2000\n",
      "2024-01-09 18:30:54.192590: I tensorflow/core/kernels/data/shuffle_dataset_op.cc:422] ShuffleDatasetV3:14: Filling up shuffle buffer (this may take a while): 225 of 2000\n",
      "2024-01-09 18:31:04.279542: I tensorflow/core/kernels/data/shuffle_dataset_op.cc:422] ShuffleDatasetV3:14: Filling up shuffle buffer (this may take a while): 302 of 2000\n",
      "2024-01-09 18:31:24.199817: I tensorflow/core/kernels/data/shuffle_dataset_op.cc:422] ShuffleDatasetV3:14: Filling up shuffle buffer (this may take a while): 443 of 2000\n",
      "2024-01-09 18:31:44.332490: I tensorflow/core/kernels/data/shuffle_dataset_op.cc:422] ShuffleDatasetV3:14: Filling up shuffle buffer (this may take a while): 590 of 2000\n",
      "2024-01-09 18:32:04.180831: I tensorflow/core/kernels/data/shuffle_dataset_op.cc:422] ShuffleDatasetV3:14: Filling up shuffle buffer (this may take a while): 760 of 2000\n",
      "2024-01-09 18:32:14.214169: I tensorflow/core/kernels/data/shuffle_dataset_op.cc:422] ShuffleDatasetV3:14: Filling up shuffle buffer (this may take a while): 845 of 2000\n",
      "2024-01-09 18:32:24.279045: I tensorflow/core/kernels/data/shuffle_dataset_op.cc:422] ShuffleDatasetV3:14: Filling up shuffle buffer (this may take a while): 907 of 2000\n",
      "2024-01-09 18:32:34.289061: I tensorflow/core/kernels/data/shuffle_dataset_op.cc:422] ShuffleDatasetV3:14: Filling up shuffle buffer (this may take a while): 974 of 2000\n",
      "2024-01-09 18:32:54.289460: I tensorflow/core/kernels/data/shuffle_dataset_op.cc:422] ShuffleDatasetV3:14: Filling up shuffle buffer (this may take a while): 1128 of 2000\n",
      "2024-01-09 18:33:14.304588: I tensorflow/core/kernels/data/shuffle_dataset_op.cc:422] ShuffleDatasetV3:14: Filling up shuffle buffer (this may take a while): 1303 of 2000\n",
      "2024-01-09 18:33:34.198106: I tensorflow/core/kernels/data/shuffle_dataset_op.cc:422] ShuffleDatasetV3:14: Filling up shuffle buffer (this may take a while): 1455 of 2000\n",
      "2024-01-09 18:33:44.215092: I tensorflow/core/kernels/data/shuffle_dataset_op.cc:422] ShuffleDatasetV3:14: Filling up shuffle buffer (this may take a while): 1524 of 2000\n",
      "2024-01-09 18:33:54.293464: I tensorflow/core/kernels/data/shuffle_dataset_op.cc:422] ShuffleDatasetV3:14: Filling up shuffle buffer (this may take a while): 1595 of 2000\n",
      "2024-01-09 18:34:14.265617: I tensorflow/core/kernels/data/shuffle_dataset_op.cc:422] ShuffleDatasetV3:14: Filling up shuffle buffer (this may take a while): 1746 of 2000\n",
      "2024-01-09 18:34:34.258652: I tensorflow/core/kernels/data/shuffle_dataset_op.cc:422] ShuffleDatasetV3:14: Filling up shuffle buffer (this may take a while): 1904 of 2000\n",
      "2024-01-09 18:34:44.323560: I tensorflow/core/kernels/data/shuffle_dataset_op.cc:422] ShuffleDatasetV3:14: Filling up shuffle buffer (this may take a while): 1977 of 2000\n",
      "2024-01-09 18:34:47.066994: I tensorflow/core/kernels/data/shuffle_dataset_op.cc:452] Shuffle buffer filled.\n"
     ]
    },
    {
     "name": "stdout",
     "output_type": "stream",
     "text": [
      "3218/3218 [==============================] - 780s 160ms/step - loss: 0.3033 - accuracy: 0.8718 - recall: 0.8666 - precision: 0.3045 - val_loss: 0.3895 - val_accuracy: 0.8489 - val_recall: 0.5620 - val_precision: 0.2204\n",
      "Epoch 12/20\n"
     ]
    },
    {
     "name": "stderr",
     "output_type": "stream",
     "text": [
      "2024-01-09 18:43:34.502238: I tensorflow/core/kernels/data/shuffle_dataset_op.cc:422] ShuffleDatasetV3:14: Filling up shuffle buffer (this may take a while): 74 of 2000\n",
      "2024-01-09 18:43:54.376915: I tensorflow/core/kernels/data/shuffle_dataset_op.cc:422] ShuffleDatasetV3:14: Filling up shuffle buffer (this may take a while): 213 of 2000\n",
      "2024-01-09 18:44:04.631015: I tensorflow/core/kernels/data/shuffle_dataset_op.cc:422] ShuffleDatasetV3:14: Filling up shuffle buffer (this may take a while): 296 of 2000\n",
      "2024-01-09 18:44:24.465699: I tensorflow/core/kernels/data/shuffle_dataset_op.cc:422] ShuffleDatasetV3:14: Filling up shuffle buffer (this may take a while): 459 of 2000\n",
      "2024-01-09 18:44:44.546859: I tensorflow/core/kernels/data/shuffle_dataset_op.cc:422] ShuffleDatasetV3:14: Filling up shuffle buffer (this may take a while): 610 of 2000\n",
      "2024-01-09 18:45:04.414306: I tensorflow/core/kernels/data/shuffle_dataset_op.cc:422] ShuffleDatasetV3:14: Filling up shuffle buffer (this may take a while): 757 of 2000\n",
      "2024-01-09 18:45:14.419403: I tensorflow/core/kernels/data/shuffle_dataset_op.cc:422] ShuffleDatasetV3:14: Filling up shuffle buffer (this may take a while): 826 of 2000\n",
      "2024-01-09 18:45:24.488914: I tensorflow/core/kernels/data/shuffle_dataset_op.cc:422] ShuffleDatasetV3:14: Filling up shuffle buffer (this may take a while): 898 of 2000\n",
      "2024-01-09 18:45:34.516925: I tensorflow/core/kernels/data/shuffle_dataset_op.cc:422] ShuffleDatasetV3:14: Filling up shuffle buffer (this may take a while): 967 of 2000\n",
      "2024-01-09 18:45:54.378317: I tensorflow/core/kernels/data/shuffle_dataset_op.cc:422] ShuffleDatasetV3:14: Filling up shuffle buffer (this may take a while): 1114 of 2000\n",
      "2024-01-09 18:46:04.490657: I tensorflow/core/kernels/data/shuffle_dataset_op.cc:422] ShuffleDatasetV3:14: Filling up shuffle buffer (this may take a while): 1204 of 2000\n",
      "2024-01-09 18:46:24.494683: I tensorflow/core/kernels/data/shuffle_dataset_op.cc:422] ShuffleDatasetV3:14: Filling up shuffle buffer (this may take a while): 1357 of 2000\n",
      "2024-01-09 18:46:44.468433: I tensorflow/core/kernels/data/shuffle_dataset_op.cc:422] ShuffleDatasetV3:14: Filling up shuffle buffer (this may take a while): 1515 of 2000\n",
      "2024-01-09 18:46:54.500453: I tensorflow/core/kernels/data/shuffle_dataset_op.cc:422] ShuffleDatasetV3:14: Filling up shuffle buffer (this may take a while): 1600 of 2000\n",
      "2024-01-09 18:47:04.504320: I tensorflow/core/kernels/data/shuffle_dataset_op.cc:422] ShuffleDatasetV3:14: Filling up shuffle buffer (this may take a while): 1677 of 2000\n",
      "2024-01-09 18:47:24.630672: I tensorflow/core/kernels/data/shuffle_dataset_op.cc:422] ShuffleDatasetV3:14: Filling up shuffle buffer (this may take a while): 1841 of 2000\n",
      "2024-01-09 18:47:41.422767: I tensorflow/core/kernels/data/shuffle_dataset_op.cc:452] Shuffle buffer filled.\n"
     ]
    },
    {
     "name": "stdout",
     "output_type": "stream",
     "text": [
      "3218/3218 [==============================] - 763s 156ms/step - loss: 0.2922 - accuracy: 0.8767 - recall: 0.8718 - precision: 0.3141 - val_loss: 0.4055 - val_accuracy: 0.8391 - val_recall: 0.5727 - val_precision: 0.2099\n",
      "Epoch 13/20\n"
     ]
    },
    {
     "name": "stderr",
     "output_type": "stream",
     "text": [
      "2024-01-09 18:56:17.349049: I tensorflow/core/kernels/data/shuffle_dataset_op.cc:422] ShuffleDatasetV3:14: Filling up shuffle buffer (this may take a while): 95 of 2000\n",
      "2024-01-09 18:56:27.412987: I tensorflow/core/kernels/data/shuffle_dataset_op.cc:422] ShuffleDatasetV3:14: Filling up shuffle buffer (this may take a while): 161 of 2000\n",
      "2024-01-09 18:56:47.371915: I tensorflow/core/kernels/data/shuffle_dataset_op.cc:422] ShuffleDatasetV3:14: Filling up shuffle buffer (this may take a while): 310 of 2000\n",
      "2024-01-09 18:56:57.386507: I tensorflow/core/kernels/data/shuffle_dataset_op.cc:422] ShuffleDatasetV3:14: Filling up shuffle buffer (this may take a while): 376 of 2000\n",
      "2024-01-09 18:57:17.331482: I tensorflow/core/kernels/data/shuffle_dataset_op.cc:422] ShuffleDatasetV3:14: Filling up shuffle buffer (this may take a while): 507 of 2000\n",
      "2024-01-09 18:57:27.392828: I tensorflow/core/kernels/data/shuffle_dataset_op.cc:422] ShuffleDatasetV3:14: Filling up shuffle buffer (this may take a while): 597 of 2000\n",
      "2024-01-09 18:57:47.425587: I tensorflow/core/kernels/data/shuffle_dataset_op.cc:422] ShuffleDatasetV3:14: Filling up shuffle buffer (this may take a while): 755 of 2000\n",
      "2024-01-09 18:58:07.401632: I tensorflow/core/kernels/data/shuffle_dataset_op.cc:422] ShuffleDatasetV3:14: Filling up shuffle buffer (this may take a while): 915 of 2000\n",
      "2024-01-09 18:58:27.386945: I tensorflow/core/kernels/data/shuffle_dataset_op.cc:422] ShuffleDatasetV3:14: Filling up shuffle buffer (this may take a while): 1073 of 2000\n",
      "2024-01-09 18:58:47.406077: I tensorflow/core/kernels/data/shuffle_dataset_op.cc:422] ShuffleDatasetV3:14: Filling up shuffle buffer (this may take a while): 1233 of 2000\n",
      "2024-01-09 18:59:07.471477: I tensorflow/core/kernels/data/shuffle_dataset_op.cc:422] ShuffleDatasetV3:14: Filling up shuffle buffer (this may take a while): 1393 of 2000\n",
      "2024-01-09 18:59:27.356251: I tensorflow/core/kernels/data/shuffle_dataset_op.cc:422] ShuffleDatasetV3:14: Filling up shuffle buffer (this may take a while): 1555 of 2000\n",
      "2024-01-09 18:59:47.339265: I tensorflow/core/kernels/data/shuffle_dataset_op.cc:422] ShuffleDatasetV3:14: Filling up shuffle buffer (this may take a while): 1717 of 2000\n",
      "2024-01-09 18:59:57.352503: I tensorflow/core/kernels/data/shuffle_dataset_op.cc:422] ShuffleDatasetV3:14: Filling up shuffle buffer (this may take a while): 1792 of 2000\n",
      "2024-01-09 19:00:07.369202: I tensorflow/core/kernels/data/shuffle_dataset_op.cc:422] ShuffleDatasetV3:14: Filling up shuffle buffer (this may take a while): 1871 of 2000\n",
      "2024-01-09 19:00:20.740235: I tensorflow/core/kernels/data/shuffle_dataset_op.cc:452] Shuffle buffer filled.\n"
     ]
    },
    {
     "name": "stdout",
     "output_type": "stream",
     "text": [
      "3218/3218 [==============================] - 750s 154ms/step - loss: 0.2711 - accuracy: 0.8807 - recall: 0.8864 - precision: 0.3235 - val_loss: 0.4298 - val_accuracy: 0.8481 - val_recall: 0.5610 - val_precision: 0.2191\n",
      "Epoch 14/20\n"
     ]
    },
    {
     "name": "stderr",
     "output_type": "stream",
     "text": [
      "2024-01-09 19:08:48.031895: I tensorflow/core/kernels/data/shuffle_dataset_op.cc:422] ShuffleDatasetV3:14: Filling up shuffle buffer (this may take a while): 86 of 2000\n",
      "2024-01-09 19:09:07.939078: I tensorflow/core/kernels/data/shuffle_dataset_op.cc:422] ShuffleDatasetV3:14: Filling up shuffle buffer (this may take a while): 251 of 2000\n",
      "2024-01-09 19:09:17.983394: I tensorflow/core/kernels/data/shuffle_dataset_op.cc:422] ShuffleDatasetV3:14: Filling up shuffle buffer (this may take a while): 336 of 2000\n",
      "2024-01-09 19:09:28.083552: I tensorflow/core/kernels/data/shuffle_dataset_op.cc:422] ShuffleDatasetV3:14: Filling up shuffle buffer (this may take a while): 413 of 2000\n",
      "2024-01-09 19:09:48.037053: I tensorflow/core/kernels/data/shuffle_dataset_op.cc:422] ShuffleDatasetV3:14: Filling up shuffle buffer (this may take a while): 571 of 2000\n",
      "2024-01-09 19:10:08.023769: I tensorflow/core/kernels/data/shuffle_dataset_op.cc:422] ShuffleDatasetV3:14: Filling up shuffle buffer (this may take a while): 712 of 2000\n",
      "2024-01-09 19:10:27.942715: I tensorflow/core/kernels/data/shuffle_dataset_op.cc:422] ShuffleDatasetV3:14: Filling up shuffle buffer (this may take a while): 858 of 2000\n",
      "2024-01-09 19:10:37.984587: I tensorflow/core/kernels/data/shuffle_dataset_op.cc:422] ShuffleDatasetV3:14: Filling up shuffle buffer (this may take a while): 935 of 2000\n",
      "2024-01-09 19:10:48.022820: I tensorflow/core/kernels/data/shuffle_dataset_op.cc:422] ShuffleDatasetV3:14: Filling up shuffle buffer (this may take a while): 1017 of 2000\n",
      "2024-01-09 19:10:58.069540: I tensorflow/core/kernels/data/shuffle_dataset_op.cc:422] ShuffleDatasetV3:14: Filling up shuffle buffer (this may take a while): 1082 of 2000\n",
      "2024-01-09 19:11:18.063417: I tensorflow/core/kernels/data/shuffle_dataset_op.cc:422] ShuffleDatasetV3:14: Filling up shuffle buffer (this may take a while): 1246 of 2000\n",
      "2024-01-09 19:11:37.933521: I tensorflow/core/kernels/data/shuffle_dataset_op.cc:422] ShuffleDatasetV3:14: Filling up shuffle buffer (this may take a while): 1402 of 2000\n",
      "2024-01-09 19:11:47.945077: I tensorflow/core/kernels/data/shuffle_dataset_op.cc:422] ShuffleDatasetV3:14: Filling up shuffle buffer (this may take a while): 1476 of 2000\n",
      "2024-01-09 19:11:57.947134: I tensorflow/core/kernels/data/shuffle_dataset_op.cc:422] ShuffleDatasetV3:14: Filling up shuffle buffer (this may take a while): 1583 of 2000\n",
      "2024-01-09 19:12:08.056900: I tensorflow/core/kernels/data/shuffle_dataset_op.cc:422] ShuffleDatasetV3:14: Filling up shuffle buffer (this may take a while): 1652 of 2000\n",
      "2024-01-09 19:12:28.022830: I tensorflow/core/kernels/data/shuffle_dataset_op.cc:422] ShuffleDatasetV3:14: Filling up shuffle buffer (this may take a while): 1813 of 2000\n",
      "2024-01-09 19:12:47.963919: I tensorflow/core/kernels/data/shuffle_dataset_op.cc:422] ShuffleDatasetV3:14: Filling up shuffle buffer (this may take a while): 1973 of 2000\n",
      "2024-01-09 19:12:50.928776: I tensorflow/core/kernels/data/shuffle_dataset_op.cc:452] Shuffle buffer filled.\n"
     ]
    },
    {
     "name": "stdout",
     "output_type": "stream",
     "text": [
      "3218/3218 [==============================] - 743s 152ms/step - loss: 0.2613 - accuracy: 0.8828 - recall: 0.8932 - precision: 0.3286 - val_loss: 0.4202 - val_accuracy: 0.8564 - val_recall: 0.5301 - val_precision: 0.2240\n",
      "Epoch 15/20\n"
     ]
    },
    {
     "name": "stderr",
     "output_type": "stream",
     "text": [
      "2024-01-09 19:21:11.101769: I tensorflow/core/kernels/data/shuffle_dataset_op.cc:422] ShuffleDatasetV3:14: Filling up shuffle buffer (this may take a while): 92 of 2000\n",
      "2024-01-09 19:21:31.103460: I tensorflow/core/kernels/data/shuffle_dataset_op.cc:422] ShuffleDatasetV3:14: Filling up shuffle buffer (this may take a while): 255 of 2000\n",
      "2024-01-09 19:21:51.013121: I tensorflow/core/kernels/data/shuffle_dataset_op.cc:422] ShuffleDatasetV3:14: Filling up shuffle buffer (this may take a while): 419 of 2000\n",
      "2024-01-09 19:22:01.030193: I tensorflow/core/kernels/data/shuffle_dataset_op.cc:422] ShuffleDatasetV3:14: Filling up shuffle buffer (this may take a while): 501 of 2000\n",
      "2024-01-09 19:22:11.057950: I tensorflow/core/kernels/data/shuffle_dataset_op.cc:422] ShuffleDatasetV3:14: Filling up shuffle buffer (this may take a while): 599 of 2000\n",
      "2024-01-09 19:22:21.079991: I tensorflow/core/kernels/data/shuffle_dataset_op.cc:422] ShuffleDatasetV3:14: Filling up shuffle buffer (this may take a while): 694 of 2000\n",
      "2024-01-09 19:22:41.068528: I tensorflow/core/kernels/data/shuffle_dataset_op.cc:422] ShuffleDatasetV3:14: Filling up shuffle buffer (this may take a while): 845 of 2000\n",
      "2024-01-09 19:23:01.051840: I tensorflow/core/kernels/data/shuffle_dataset_op.cc:422] ShuffleDatasetV3:14: Filling up shuffle buffer (this may take a while): 1008 of 2000\n",
      "2024-01-09 19:23:11.119574: I tensorflow/core/kernels/data/shuffle_dataset_op.cc:422] ShuffleDatasetV3:14: Filling up shuffle buffer (this may take a while): 1099 of 2000\n",
      "2024-01-09 19:23:31.186557: I tensorflow/core/kernels/data/shuffle_dataset_op.cc:422] ShuffleDatasetV3:14: Filling up shuffle buffer (this may take a while): 1245 of 2000\n",
      "2024-01-09 19:23:51.126688: I tensorflow/core/kernels/data/shuffle_dataset_op.cc:422] ShuffleDatasetV3:14: Filling up shuffle buffer (this may take a while): 1419 of 2000\n",
      "2024-01-09 19:24:11.072731: I tensorflow/core/kernels/data/shuffle_dataset_op.cc:422] ShuffleDatasetV3:14: Filling up shuffle buffer (this may take a while): 1588 of 2000\n",
      "2024-01-09 19:24:21.082051: I tensorflow/core/kernels/data/shuffle_dataset_op.cc:422] ShuffleDatasetV3:14: Filling up shuffle buffer (this may take a while): 1668 of 2000\n",
      "2024-01-09 19:24:31.095473: I tensorflow/core/kernels/data/shuffle_dataset_op.cc:422] ShuffleDatasetV3:14: Filling up shuffle buffer (this may take a while): 1751 of 2000\n",
      "2024-01-09 19:24:51.019368: I tensorflow/core/kernels/data/shuffle_dataset_op.cc:422] ShuffleDatasetV3:14: Filling up shuffle buffer (this may take a while): 1941 of 2000\n",
      "2024-01-09 19:24:59.972852: I tensorflow/core/kernels/data/shuffle_dataset_op.cc:452] Shuffle buffer filled.\n"
     ]
    },
    {
     "name": "stdout",
     "output_type": "stream",
     "text": [
      "3218/3218 [==============================] - 714s 147ms/step - loss: 0.2482 - accuracy: 0.8849 - recall: 0.9040 - precision: 0.3341 - val_loss: 0.4499 - val_accuracy: 0.8533 - val_recall: 0.5176 - val_precision: 0.2165\n",
      "Epoch 16/20\n"
     ]
    },
    {
     "name": "stderr",
     "output_type": "stream",
     "text": [
      "2024-01-09 19:33:05.604640: I tensorflow/core/kernels/data/shuffle_dataset_op.cc:422] ShuffleDatasetV3:14: Filling up shuffle buffer (this may take a while): 85 of 2000\n",
      "2024-01-09 19:33:25.332385: I tensorflow/core/kernels/data/shuffle_dataset_op.cc:422] ShuffleDatasetV3:14: Filling up shuffle buffer (this may take a while): 240 of 2000\n",
      "2024-01-09 19:33:35.445217: I tensorflow/core/kernels/data/shuffle_dataset_op.cc:422] ShuffleDatasetV3:14: Filling up shuffle buffer (this may take a while): 328 of 2000\n",
      "2024-01-09 19:33:55.408974: I tensorflow/core/kernels/data/shuffle_dataset_op.cc:422] ShuffleDatasetV3:14: Filling up shuffle buffer (this may take a while): 479 of 2000\n",
      "2024-01-09 19:34:15.357858: I tensorflow/core/kernels/data/shuffle_dataset_op.cc:422] ShuffleDatasetV3:14: Filling up shuffle buffer (this may take a while): 632 of 2000\n",
      "2024-01-09 19:34:25.402465: I tensorflow/core/kernels/data/shuffle_dataset_op.cc:422] ShuffleDatasetV3:14: Filling up shuffle buffer (this may take a while): 718 of 2000\n",
      "2024-01-09 19:34:35.422237: I tensorflow/core/kernels/data/shuffle_dataset_op.cc:422] ShuffleDatasetV3:14: Filling up shuffle buffer (this may take a while): 784 of 2000\n",
      "2024-01-09 19:34:45.513697: I tensorflow/core/kernels/data/shuffle_dataset_op.cc:422] ShuffleDatasetV3:14: Filling up shuffle buffer (this may take a while): 867 of 2000\n",
      "2024-01-09 19:35:05.375909: I tensorflow/core/kernels/data/shuffle_dataset_op.cc:422] ShuffleDatasetV3:14: Filling up shuffle buffer (this may take a while): 1024 of 2000\n",
      "2024-01-09 19:35:25.409932: I tensorflow/core/kernels/data/shuffle_dataset_op.cc:422] ShuffleDatasetV3:14: Filling up shuffle buffer (this may take a while): 1212 of 2000\n",
      "2024-01-09 19:35:45.354139: I tensorflow/core/kernels/data/shuffle_dataset_op.cc:422] ShuffleDatasetV3:14: Filling up shuffle buffer (this may take a while): 1363 of 2000\n",
      "2024-01-09 19:35:55.356198: I tensorflow/core/kernels/data/shuffle_dataset_op.cc:422] ShuffleDatasetV3:14: Filling up shuffle buffer (this may take a while): 1478 of 2000\n",
      "2024-01-09 19:36:05.473689: I tensorflow/core/kernels/data/shuffle_dataset_op.cc:422] ShuffleDatasetV3:14: Filling up shuffle buffer (this may take a while): 1576 of 2000\n",
      "2024-01-09 19:36:16.636321: I tensorflow/core/kernels/data/shuffle_dataset_op.cc:422] ShuffleDatasetV3:14: Filling up shuffle buffer (this may take a while): 1658 of 2000\n",
      "2024-01-09 19:36:35.465379: I tensorflow/core/kernels/data/shuffle_dataset_op.cc:422] ShuffleDatasetV3:14: Filling up shuffle buffer (this may take a while): 1766 of 2000\n",
      "2024-01-09 19:36:45.493326: I tensorflow/core/kernels/data/shuffle_dataset_op.cc:422] ShuffleDatasetV3:14: Filling up shuffle buffer (this may take a while): 1836 of 2000\n",
      "2024-01-09 19:37:05.368907: I tensorflow/core/kernels/data/shuffle_dataset_op.cc:422] ShuffleDatasetV3:14: Filling up shuffle buffer (this may take a while): 1951 of 2000\n",
      "2024-01-09 19:37:11.544818: I tensorflow/core/kernels/data/shuffle_dataset_op.cc:452] Shuffle buffer filled.\n"
     ]
    },
    {
     "name": "stdout",
     "output_type": "stream",
     "text": [
      "3218/3218 [==============================] - 798s 168ms/step - loss: 0.2431 - accuracy: 0.8871 - recall: 0.9076 - precision: 0.3391 - val_loss: 0.4756 - val_accuracy: 0.8495 - val_recall: 0.5440 - val_precision: 0.2172\n",
      "Epoch 17/20\n"
     ]
    },
    {
     "name": "stderr",
     "output_type": "stream",
     "text": [
      "2024-01-09 19:46:24.727844: I tensorflow/core/kernels/data/shuffle_dataset_op.cc:422] ShuffleDatasetV3:14: Filling up shuffle buffer (this may take a while): 66 of 2000\n",
      "2024-01-09 19:46:34.772390: I tensorflow/core/kernels/data/shuffle_dataset_op.cc:422] ShuffleDatasetV3:14: Filling up shuffle buffer (this may take a while): 138 of 2000\n",
      "2024-01-09 19:46:54.670037: I tensorflow/core/kernels/data/shuffle_dataset_op.cc:422] ShuffleDatasetV3:14: Filling up shuffle buffer (this may take a while): 333 of 2000\n",
      "2024-01-09 19:47:04.753627: I tensorflow/core/kernels/data/shuffle_dataset_op.cc:422] ShuffleDatasetV3:14: Filling up shuffle buffer (this may take a while): 423 of 2000\n",
      "2024-01-09 19:47:24.764294: I tensorflow/core/kernels/data/shuffle_dataset_op.cc:422] ShuffleDatasetV3:14: Filling up shuffle buffer (this may take a while): 572 of 2000\n",
      "2024-01-09 19:47:44.762127: I tensorflow/core/kernels/data/shuffle_dataset_op.cc:422] ShuffleDatasetV3:14: Filling up shuffle buffer (this may take a while): 705 of 2000\n",
      "2024-01-09 19:48:04.677301: I tensorflow/core/kernels/data/shuffle_dataset_op.cc:422] ShuffleDatasetV3:14: Filling up shuffle buffer (this may take a while): 863 of 2000\n",
      "2024-01-09 19:48:14.721550: I tensorflow/core/kernels/data/shuffle_dataset_op.cc:422] ShuffleDatasetV3:14: Filling up shuffle buffer (this may take a while): 926 of 2000\n",
      "2024-01-09 19:48:34.712061: I tensorflow/core/kernels/data/shuffle_dataset_op.cc:422] ShuffleDatasetV3:14: Filling up shuffle buffer (this may take a while): 1091 of 2000\n",
      "2024-01-09 19:48:44.781353: I tensorflow/core/kernels/data/shuffle_dataset_op.cc:422] ShuffleDatasetV3:14: Filling up shuffle buffer (this may take a while): 1162 of 2000\n",
      "2024-01-09 19:49:04.814513: I tensorflow/core/kernels/data/shuffle_dataset_op.cc:422] ShuffleDatasetV3:14: Filling up shuffle buffer (this may take a while): 1303 of 2000\n",
      "2024-01-09 19:49:24.722643: I tensorflow/core/kernels/data/shuffle_dataset_op.cc:422] ShuffleDatasetV3:14: Filling up shuffle buffer (this may take a while): 1468 of 2000\n",
      "2024-01-09 19:49:34.723285: I tensorflow/core/kernels/data/shuffle_dataset_op.cc:422] ShuffleDatasetV3:14: Filling up shuffle buffer (this may take a while): 1551 of 2000\n",
      "2024-01-09 19:49:44.824264: I tensorflow/core/kernels/data/shuffle_dataset_op.cc:422] ShuffleDatasetV3:14: Filling up shuffle buffer (this may take a while): 1620 of 2000\n",
      "2024-01-09 19:50:04.664623: I tensorflow/core/kernels/data/shuffle_dataset_op.cc:422] ShuffleDatasetV3:14: Filling up shuffle buffer (this may take a while): 1751 of 2000\n",
      "2024-01-09 19:50:14.821469: I tensorflow/core/kernels/data/shuffle_dataset_op.cc:422] ShuffleDatasetV3:14: Filling up shuffle buffer (this may take a while): 1821 of 2000\n",
      "2024-01-09 19:50:34.748405: I tensorflow/core/kernels/data/shuffle_dataset_op.cc:422] ShuffleDatasetV3:14: Filling up shuffle buffer (this may take a while): 1979 of 2000\n",
      "2024-01-09 19:50:36.373918: I tensorflow/core/kernels/data/shuffle_dataset_op.cc:452] Shuffle buffer filled.\n"
     ]
    },
    {
     "name": "stdout",
     "output_type": "stream",
     "text": [
      "3218/3218 [==============================] - 735s 146ms/step - loss: 0.2258 - accuracy: 0.8950 - recall: 0.9154 - precision: 0.3574 - val_loss: 0.5076 - val_accuracy: 0.8390 - val_recall: 0.5419 - val_precision: 0.2031\n",
      "Epoch 18/20\n"
     ]
    },
    {
     "name": "stderr",
     "output_type": "stream",
     "text": [
      "2024-01-09 19:58:40.779595: I tensorflow/core/kernels/data/shuffle_dataset_op.cc:422] ShuffleDatasetV3:14: Filling up shuffle buffer (this may take a while): 80 of 2000\n",
      "2024-01-09 19:59:00.668533: I tensorflow/core/kernels/data/shuffle_dataset_op.cc:422] ShuffleDatasetV3:14: Filling up shuffle buffer (this may take a while): 211 of 2000\n",
      "2024-01-09 19:59:10.763966: I tensorflow/core/kernels/data/shuffle_dataset_op.cc:422] ShuffleDatasetV3:14: Filling up shuffle buffer (this may take a while): 282 of 2000\n",
      "2024-01-09 19:59:30.676181: I tensorflow/core/kernels/data/shuffle_dataset_op.cc:422] ShuffleDatasetV3:14: Filling up shuffle buffer (this may take a while): 403 of 2000\n",
      "2024-01-09 19:59:40.685515: I tensorflow/core/kernels/data/shuffle_dataset_op.cc:422] ShuffleDatasetV3:14: Filling up shuffle buffer (this may take a while): 471 of 2000\n",
      "2024-01-09 19:59:50.687181: I tensorflow/core/kernels/data/shuffle_dataset_op.cc:422] ShuffleDatasetV3:14: Filling up shuffle buffer (this may take a while): 543 of 2000\n",
      "2024-01-09 20:00:10.693829: I tensorflow/core/kernels/data/shuffle_dataset_op.cc:422] ShuffleDatasetV3:14: Filling up shuffle buffer (this may take a while): 682 of 2000\n",
      "2024-01-09 20:00:30.664783: I tensorflow/core/kernels/data/shuffle_dataset_op.cc:422] ShuffleDatasetV3:14: Filling up shuffle buffer (this may take a while): 823 of 2000\n",
      "2024-01-09 20:00:50.771651: I tensorflow/core/kernels/data/shuffle_dataset_op.cc:422] ShuffleDatasetV3:14: Filling up shuffle buffer (this may take a while): 976 of 2000\n",
      "2024-01-09 20:01:10.716237: I tensorflow/core/kernels/data/shuffle_dataset_op.cc:422] ShuffleDatasetV3:14: Filling up shuffle buffer (this may take a while): 1129 of 2000\n",
      "2024-01-09 20:01:20.737994: I tensorflow/core/kernels/data/shuffle_dataset_op.cc:422] ShuffleDatasetV3:14: Filling up shuffle buffer (this may take a while): 1204 of 2000\n",
      "2024-01-09 20:01:40.726274: I tensorflow/core/kernels/data/shuffle_dataset_op.cc:422] ShuffleDatasetV3:14: Filling up shuffle buffer (this may take a while): 1352 of 2000\n",
      "2024-01-09 20:01:50.733716: I tensorflow/core/kernels/data/shuffle_dataset_op.cc:422] ShuffleDatasetV3:14: Filling up shuffle buffer (this may take a while): 1420 of 2000\n",
      "2024-01-09 20:02:10.743676: I tensorflow/core/kernels/data/shuffle_dataset_op.cc:422] ShuffleDatasetV3:14: Filling up shuffle buffer (this may take a while): 1561 of 2000\n",
      "2024-01-09 20:02:30.707284: I tensorflow/core/kernels/data/shuffle_dataset_op.cc:422] ShuffleDatasetV3:14: Filling up shuffle buffer (this may take a while): 1708 of 2000\n",
      "2024-01-09 20:02:50.648282: I tensorflow/core/kernels/data/shuffle_dataset_op.cc:422] ShuffleDatasetV3:14: Filling up shuffle buffer (this may take a while): 1892 of 2000\n",
      "2024-01-09 20:03:00.701662: I tensorflow/core/kernels/data/shuffle_dataset_op.cc:422] ShuffleDatasetV3:14: Filling up shuffle buffer (this may take a while): 1989 of 2000\n",
      "2024-01-09 20:03:01.994127: I tensorflow/core/kernels/data/shuffle_dataset_op.cc:452] Shuffle buffer filled.\n"
     ]
    },
    {
     "name": "stdout",
     "output_type": "stream",
     "text": [
      "3218/3218 [==============================] - 774s 156ms/step - loss: 0.2227 - accuracy: 0.8969 - recall: 0.9175 - precision: 0.3619 - val_loss: 0.3812 - val_accuracy: 0.8578 - val_recall: 0.5491 - val_precision: 0.2305\n",
      "Epoch 19/20\n"
     ]
    },
    {
     "name": "stderr",
     "output_type": "stream",
     "text": [
      "2024-01-09 20:11:34.947479: I tensorflow/core/kernels/data/shuffle_dataset_op.cc:422] ShuffleDatasetV3:14: Filling up shuffle buffer (this may take a while): 70 of 2000\n",
      "2024-01-09 20:11:54.911166: I tensorflow/core/kernels/data/shuffle_dataset_op.cc:422] ShuffleDatasetV3:14: Filling up shuffle buffer (this may take a while): 210 of 2000\n",
      "2024-01-09 20:12:04.914115: I tensorflow/core/kernels/data/shuffle_dataset_op.cc:422] ShuffleDatasetV3:14: Filling up shuffle buffer (this may take a while): 282 of 2000\n",
      "2024-01-09 20:12:24.943496: I tensorflow/core/kernels/data/shuffle_dataset_op.cc:422] ShuffleDatasetV3:14: Filling up shuffle buffer (this may take a while): 420 of 2000\n",
      "2024-01-09 20:12:44.907991: I tensorflow/core/kernels/data/shuffle_dataset_op.cc:422] ShuffleDatasetV3:14: Filling up shuffle buffer (this may take a while): 563 of 2000\n",
      "2024-01-09 20:13:04.850142: I tensorflow/core/kernels/data/shuffle_dataset_op.cc:422] ShuffleDatasetV3:14: Filling up shuffle buffer (this may take a while): 710 of 2000\n",
      "2024-01-09 20:13:14.991986: I tensorflow/core/kernels/data/shuffle_dataset_op.cc:422] ShuffleDatasetV3:14: Filling up shuffle buffer (this may take a while): 779 of 2000\n",
      "2024-01-09 20:13:35.012040: I tensorflow/core/kernels/data/shuffle_dataset_op.cc:422] ShuffleDatasetV3:14: Filling up shuffle buffer (this may take a while): 955 of 2000\n",
      "2024-01-09 20:13:54.926546: I tensorflow/core/kernels/data/shuffle_dataset_op.cc:422] ShuffleDatasetV3:14: Filling up shuffle buffer (this may take a while): 1091 of 2000\n",
      "2024-01-09 20:14:14.866576: I tensorflow/core/kernels/data/shuffle_dataset_op.cc:422] ShuffleDatasetV3:14: Filling up shuffle buffer (this may take a while): 1248 of 2000\n",
      "2024-01-09 20:14:34.896926: I tensorflow/core/kernels/data/shuffle_dataset_op.cc:422] ShuffleDatasetV3:14: Filling up shuffle buffer (this may take a while): 1385 of 2000\n",
      "2024-01-09 20:14:45.058980: I tensorflow/core/kernels/data/shuffle_dataset_op.cc:422] ShuffleDatasetV3:14: Filling up shuffle buffer (this may take a while): 1461 of 2000\n",
      "2024-01-09 20:15:04.867629: I tensorflow/core/kernels/data/shuffle_dataset_op.cc:422] ShuffleDatasetV3:14: Filling up shuffle buffer (this may take a while): 1604 of 2000\n",
      "2024-01-09 20:15:24.939886: I tensorflow/core/kernels/data/shuffle_dataset_op.cc:422] ShuffleDatasetV3:14: Filling up shuffle buffer (this may take a while): 1759 of 2000\n",
      "2024-01-09 20:15:44.890747: I tensorflow/core/kernels/data/shuffle_dataset_op.cc:422] ShuffleDatasetV3:14: Filling up shuffle buffer (this may take a while): 1912 of 2000\n",
      "2024-01-09 20:15:54.917690: I tensorflow/core/kernels/data/shuffle_dataset_op.cc:422] ShuffleDatasetV3:14: Filling up shuffle buffer (this may take a while): 1987 of 2000\n",
      "2024-01-09 20:15:56.524104: I tensorflow/core/kernels/data/shuffle_dataset_op.cc:452] Shuffle buffer filled.\n"
     ]
    },
    {
     "name": "stdout",
     "output_type": "stream",
     "text": [
      "3218/3218 [==============================] - 755s 150ms/step - loss: 0.2062 - accuracy: 0.9028 - recall: 0.9264 - precision: 0.3772 - val_loss: 0.4777 - val_accuracy: 0.8685 - val_recall: 0.5024 - val_precision: 0.2374\n",
      "Epoch 20/20\n"
     ]
    },
    {
     "name": "stderr",
     "output_type": "stream",
     "text": [
      "2024-01-09 20:24:10.352640: I tensorflow/core/kernels/data/shuffle_dataset_op.cc:422] ShuffleDatasetV3:14: Filling up shuffle buffer (this may take a while): 86 of 2000\n",
      "2024-01-09 20:24:30.297024: I tensorflow/core/kernels/data/shuffle_dataset_op.cc:422] ShuffleDatasetV3:14: Filling up shuffle buffer (this may take a while): 224 of 2000\n",
      "2024-01-09 20:24:40.308452: I tensorflow/core/kernels/data/shuffle_dataset_op.cc:422] ShuffleDatasetV3:14: Filling up shuffle buffer (this may take a while): 291 of 2000\n",
      "2024-01-09 20:24:50.342788: I tensorflow/core/kernels/data/shuffle_dataset_op.cc:422] ShuffleDatasetV3:14: Filling up shuffle buffer (this may take a while): 369 of 2000\n",
      "2024-01-09 20:25:00.378988: I tensorflow/core/kernels/data/shuffle_dataset_op.cc:422] ShuffleDatasetV3:14: Filling up shuffle buffer (this may take a while): 452 of 2000\n",
      "2024-01-09 20:25:20.331729: I tensorflow/core/kernels/data/shuffle_dataset_op.cc:422] ShuffleDatasetV3:14: Filling up shuffle buffer (this may take a while): 581 of 2000\n",
      "2024-01-09 20:25:40.428188: I tensorflow/core/kernels/data/shuffle_dataset_op.cc:422] ShuffleDatasetV3:14: Filling up shuffle buffer (this may take a while): 735 of 2000\n",
      "2024-01-09 20:26:00.311287: I tensorflow/core/kernels/data/shuffle_dataset_op.cc:422] ShuffleDatasetV3:14: Filling up shuffle buffer (this may take a while): 874 of 2000\n",
      "2024-01-09 20:26:10.347897: I tensorflow/core/kernels/data/shuffle_dataset_op.cc:422] ShuffleDatasetV3:14: Filling up shuffle buffer (this may take a while): 960 of 2000\n",
      "2024-01-09 20:26:20.372035: I tensorflow/core/kernels/data/shuffle_dataset_op.cc:422] ShuffleDatasetV3:14: Filling up shuffle buffer (this may take a while): 1055 of 2000\n",
      "2024-01-09 20:26:40.305895: I tensorflow/core/kernels/data/shuffle_dataset_op.cc:422] ShuffleDatasetV3:14: Filling up shuffle buffer (this may take a while): 1205 of 2000\n",
      "2024-01-09 20:26:50.367890: I tensorflow/core/kernels/data/shuffle_dataset_op.cc:422] ShuffleDatasetV3:14: Filling up shuffle buffer (this may take a while): 1283 of 2000\n",
      "2024-01-09 20:27:00.565650: I tensorflow/core/kernels/data/shuffle_dataset_op.cc:422] ShuffleDatasetV3:14: Filling up shuffle buffer (this may take a while): 1360 of 2000\n",
      "2024-01-09 20:27:20.297499: I tensorflow/core/kernels/data/shuffle_dataset_op.cc:422] ShuffleDatasetV3:14: Filling up shuffle buffer (this may take a while): 1533 of 2000\n",
      "2024-01-09 20:27:30.394585: I tensorflow/core/kernels/data/shuffle_dataset_op.cc:422] ShuffleDatasetV3:14: Filling up shuffle buffer (this may take a while): 1604 of 2000\n",
      "2024-01-09 20:27:50.326723: I tensorflow/core/kernels/data/shuffle_dataset_op.cc:422] ShuffleDatasetV3:14: Filling up shuffle buffer (this may take a while): 1770 of 2000\n",
      "2024-01-09 20:28:00.335973: I tensorflow/core/kernels/data/shuffle_dataset_op.cc:422] ShuffleDatasetV3:14: Filling up shuffle buffer (this may take a while): 1863 of 2000\n",
      "2024-01-09 20:28:18.690371: I tensorflow/core/kernels/data/shuffle_dataset_op.cc:452] Shuffle buffer filled.\n"
     ]
    },
    {
     "name": "stdout",
     "output_type": "stream",
     "text": [
      "3218/3218 [==============================] - 751s 152ms/step - loss: 0.2009 - accuracy: 0.9057 - recall: 0.9272 - precision: 0.3850 - val_loss: 0.5050 - val_accuracy: 0.8658 - val_recall: 0.5512 - val_precision: 0.2441\n"
     ]
    }
   ],
   "source": [
    "weight_for_0 = (1 / neg) * (total / 2.0)\n",
    "weight_for_1 = (1 / pos) * (total / 2.0)\n",
    "class_weight = {0: weight_for_0, 1: weight_for_1}\n",
    "history = model.fit(ds_train, epochs=20, validation_data=ds_val, class_weight=class_weight)"
   ]
  },
  {
   "cell_type": "code",
   "execution_count": null,
   "metadata": {},
   "outputs": [
    {
     "name": "stderr",
     "output_type": "stream",
     "text": [
      "2024-01-26 06:43:30.344902: I tensorflow/compiler/xla/stream_executor/cuda/cuda_dnn.cc:442] Loaded cuDNN version 8904\n",
      "Could not load symbol cublasGetSmCountTarget from libcublas.so.11. Error: /home/majkel/miniconda3/lib/libcublas.so.11: undefined symbol: cublasGetSmCountTarget\n"
     ]
    },
    {
     "name": "stdout",
     "output_type": "stream",
     "text": [
      "99/99 [==============================] - 11s 60ms/step - loss: 0.2812 - accuracy: 0.8920 - recall: 0.7478 - precision: 0.1414\n"
     ]
    },
    {
     "data": {
      "text/plain": [
       "[0.2811870276927948,\n",
       " 0.8919823169708252,\n",
       " 0.7478108406066895,\n",
       " 0.14142584800720215]"
      ]
     },
     "execution_count": 13,
     "metadata": {},
     "output_type": "execute_result"
    }
   ],
   "source": [
    "model.evaluate(ds_test)"
   ]
  },
  {
   "cell_type": "code",
   "execution_count": null,
   "metadata": {},
   "outputs": [],
   "source": [
    "model.save(\"../models/model_1_cw.keras\")"
   ]
  },
  {
   "cell_type": "code",
   "execution_count": null,
   "metadata": {},
   "outputs": [],
   "source": [
    "# save history\n",
    "history = pd.DataFrame.from_dict(history.history)\n",
    "history.to_csv(\"../models/history_model_v1_cw.csv\", index=False)"
   ]
  },
  {
   "cell_type": "code",
   "execution_count": null,
   "metadata": {},
   "outputs": [],
   "source": []
  }
 ],
 "metadata": {
  "kernelspec": {
   "display_name": "base",
   "language": "python",
   "name": "python3"
  },
  "language_info": {
   "codemirror_mode": {
    "name": "ipython",
    "version": 3
   },
   "file_extension": ".py",
   "mimetype": "text/x-python",
   "name": "python",
   "nbconvert_exporter": "python",
   "pygments_lexer": "ipython3",
   "version": "3.10.12"
  }
 },
 "nbformat": 4,
 "nbformat_minor": 2
}

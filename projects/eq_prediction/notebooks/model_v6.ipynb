{
 "cells": [
  {
   "cell_type": "markdown",
   "metadata": {},
   "source": [
    "# LSTM. 8 featerow - mag, x, y, depth, dist, distance, plate, days_diff"
   ]
  },
  {
   "cell_type": "code",
   "execution_count": 1,
   "metadata": {},
   "outputs": [
    {
     "name": "stderr",
     "output_type": "stream",
     "text": [
      "2024-01-15 03:00:12.253823: E tensorflow/compiler/xla/stream_executor/cuda/cuda_dnn.cc:9342] Unable to register cuDNN factory: Attempting to register factory for plugin cuDNN when one has already been registered\n",
      "2024-01-15 03:00:12.253887: E tensorflow/compiler/xla/stream_executor/cuda/cuda_fft.cc:609] Unable to register cuFFT factory: Attempting to register factory for plugin cuFFT when one has already been registered\n",
      "2024-01-15 03:00:12.256548: E tensorflow/compiler/xla/stream_executor/cuda/cuda_blas.cc:1518] Unable to register cuBLAS factory: Attempting to register factory for plugin cuBLAS when one has already been registered\n",
      "2024-01-15 03:00:12.494399: I tensorflow/core/platform/cpu_feature_guard.cc:182] This TensorFlow binary is optimized to use available CPU instructions in performance-critical operations.\n",
      "To enable the following instructions: AVX2 FMA, in other operations, rebuild TensorFlow with the appropriate compiler flags.\n",
      "2024-01-15 03:00:14.212662: W tensorflow/compiler/tf2tensorrt/utils/py_utils.cc:38] TF-TRT Warning: Could not find TensorRT\n"
     ]
    }
   ],
   "source": [
    "import numpy as np\n",
    "import tensorflow as tf\n",
    "import pandas as pd\n",
    "SEED = 1337\n",
    "tf.random.set_seed(SEED)\n",
    "np.random.seed(SEED)"
   ]
  },
  {
   "cell_type": "code",
   "execution_count": 2,
   "metadata": {},
   "outputs": [
    {
     "name": "stderr",
     "output_type": "stream",
     "text": [
      "2024-01-15 03:00:18.247265: I tensorflow/compiler/xla/stream_executor/cuda/cuda_gpu_executor.cc:880] could not open file to read NUMA node: /sys/bus/pci/devices/0000:01:00.0/numa_node\n",
      "Your kernel may have been built without NUMA support.\n",
      "2024-01-15 03:00:18.576295: I tensorflow/compiler/xla/stream_executor/cuda/cuda_gpu_executor.cc:880] could not open file to read NUMA node: /sys/bus/pci/devices/0000:01:00.0/numa_node\n",
      "Your kernel may have been built without NUMA support.\n",
      "2024-01-15 03:00:18.576428: I tensorflow/compiler/xla/stream_executor/cuda/cuda_gpu_executor.cc:880] could not open file to read NUMA node: /sys/bus/pci/devices/0000:01:00.0/numa_node\n",
      "Your kernel may have been built without NUMA support.\n",
      "2024-01-15 03:00:18.583749: I tensorflow/compiler/xla/stream_executor/cuda/cuda_gpu_executor.cc:880] could not open file to read NUMA node: /sys/bus/pci/devices/0000:01:00.0/numa_node\n",
      "Your kernel may have been built without NUMA support.\n",
      "2024-01-15 03:00:18.583889: I tensorflow/compiler/xla/stream_executor/cuda/cuda_gpu_executor.cc:880] could not open file to read NUMA node: /sys/bus/pci/devices/0000:01:00.0/numa_node\n",
      "Your kernel may have been built without NUMA support.\n",
      "2024-01-15 03:00:18.583932: I tensorflow/compiler/xla/stream_executor/cuda/cuda_gpu_executor.cc:880] could not open file to read NUMA node: /sys/bus/pci/devices/0000:01:00.0/numa_node\n",
      "Your kernel may have been built without NUMA support.\n",
      "2024-01-15 03:00:20.648767: I tensorflow/compiler/xla/stream_executor/cuda/cuda_gpu_executor.cc:880] could not open file to read NUMA node: /sys/bus/pci/devices/0000:01:00.0/numa_node\n",
      "Your kernel may have been built without NUMA support.\n",
      "2024-01-15 03:00:20.648908: I tensorflow/compiler/xla/stream_executor/cuda/cuda_gpu_executor.cc:880] could not open file to read NUMA node: /sys/bus/pci/devices/0000:01:00.0/numa_node\n",
      "Your kernel may have been built without NUMA support.\n",
      "2024-01-15 03:00:20.648919: I tensorflow/core/common_runtime/gpu/gpu_device.cc:1977] Could not identify NUMA node of platform GPU id 0, defaulting to 0.  Your kernel may not have been built with NUMA support.\n",
      "2024-01-15 03:00:20.648986: I tensorflow/compiler/xla/stream_executor/cuda/cuda_gpu_executor.cc:880] could not open file to read NUMA node: /sys/bus/pci/devices/0000:01:00.0/numa_node\n",
      "Your kernel may have been built without NUMA support.\n",
      "2024-01-15 03:00:20.649015: I tensorflow/core/common_runtime/gpu/gpu_device.cc:1886] Created device /job:localhost/replica:0/task:0/device:GPU:0 with 3886 MB memory:  -> device: 0, name: NVIDIA GeForce RTX 2060 with Max-Q Design, pci bus id: 0000:01:00.0, compute capability: 7.5\n"
     ]
    }
   ],
   "source": [
    "ds_train = tf.data.Dataset.load(\"../data/ds_train_1_16/\")\n",
    "ds_val = tf.data.Dataset.load(\"../data/ds_val_1_16/\")\n",
    "ds_test = tf.data.Dataset.load(\"../data/ds_test_1_16/\")"
   ]
  },
  {
   "cell_type": "code",
   "execution_count": 3,
   "metadata": {},
   "outputs": [
    {
     "data": {
      "text/plain": [
       "(3299048, 465661, 101326)"
      ]
     },
     "execution_count": 3,
     "metadata": {},
     "output_type": "execute_result"
    }
   ],
   "source": [
    "ds_train.cardinality().numpy(), ds_val.cardinality().numpy(), ds_test.cardinality().numpy()"
   ]
  },
  {
   "cell_type": "code",
   "execution_count": 4,
   "metadata": {},
   "outputs": [],
   "source": [
    "BATCH_SIZE = 1024\n",
    "BLOCK_SIZE = 16"
   ]
  },
  {
   "cell_type": "code",
   "execution_count": 5,
   "metadata": {},
   "outputs": [],
   "source": [
    "def fix_x_and_y(features, context, labels):\n",
    "    return features, labels"
   ]
  },
  {
   "cell_type": "code",
   "execution_count": 6,
   "metadata": {},
   "outputs": [],
   "source": [
    "ds_train = ds_train.map(fix_x_and_y)\n",
    "ds_val = ds_val.map(fix_x_and_y)\n",
    "ds_test = ds_test.map(fix_x_and_y)"
   ]
  },
  {
   "cell_type": "code",
   "execution_count": 7,
   "metadata": {},
   "outputs": [
    {
     "name": "stdout",
     "output_type": "stream",
     "text": [
      "(1024, 16, 9)\n",
      "(1024, 16, 6) (1024, 16) (1024, 16) (1024, 16)\n",
      "(1024, 1)\n"
     ]
    }
   ],
   "source": [
    "for x, y in ds_train.batch(BATCH_SIZE).take(1):\n",
    "    print(x.shape)\n",
    "    print(x[:,:,:-3].shape, x[:,:,-3].shape, x[:,:,-2].shape, x[:,:,-1].shape)\n",
    "    print(y.shape)"
   ]
  },
  {
   "cell_type": "code",
   "execution_count": 8,
   "metadata": {},
   "outputs": [
    {
     "data": {
      "text/plain": [
       "array([3098250,  200798])"
      ]
     },
     "execution_count": 8,
     "metadata": {},
     "output_type": "execute_result"
    }
   ],
   "source": [
    "# ys = []\n",
    "# for x, y in ds_train.batch(BATCH_SIZE):\n",
    "#     ys.append(y.numpy())\n",
    "# ys = np.concatenate(ys)\n",
    "# np.bincount(tf.cast(ys, tf.int32).numpy().flatten())"
   ]
  },
  {
   "cell_type": "code",
   "execution_count": 9,
   "metadata": {},
   "outputs": [
    {
     "data": {
      "text/plain": [
       "(3299048, 200798, 3098250)"
      ]
     },
     "execution_count": 9,
     "metadata": {},
     "output_type": "execute_result"
    }
   ],
   "source": [
    "#neg, pos = np.bincount(tf.cast(ys, tf.int32).numpy().flatten())\n",
    "neg, pos = 3098250, 200798\n",
    "total = neg + pos\n",
    "total, pos, neg"
   ]
  },
  {
   "cell_type": "code",
   "execution_count": null,
   "metadata": {},
   "outputs": [],
   "source": []
  },
  {
   "cell_type": "code",
   "execution_count": 10,
   "metadata": {},
   "outputs": [],
   "source": [
    "ds_train = ds_train.batch(BATCH_SIZE).shuffle(2000, seed=SEED).prefetch(tf.data.experimental.AUTOTUNE)\n",
    "ds_val = ds_val.batch(BATCH_SIZE).prefetch(tf.data.experimental.AUTOTUNE)\n",
    "ds_test = ds_test.batch(BATCH_SIZE).prefetch(tf.data.experimental.AUTOTUNE)"
   ]
  },
  {
   "cell_type": "code",
   "execution_count": null,
   "metadata": {},
   "outputs": [],
   "source": []
  },
  {
   "cell_type": "code",
   "execution_count": 11,
   "metadata": {},
   "outputs": [],
   "source": [
    "@tf.keras.saving.register_keras_serializable()\n",
    "class MyModel(tf.keras.Model):\n",
    "    def __init__(self, n_embed):\n",
    "        super(MyModel, self).__init__()\n",
    "        self.embed_plate = tf.keras.layers.Embedding(32, n_embed // 9, name=\"embed_plate\")\n",
    "        self.embed_dd = tf.keras.layers.Embedding(20, n_embed // 9, name=\"embed_dd\")\n",
    "        self.embed_magtype = tf.keras.layers.Embedding(20, n_embed // 9, name=\"embed_magtype\")\n",
    "        self.embed = tf.keras.layers.Dense(n_embed // 9 * 6, name=\"embed_continous\")\n",
    "        self.lstm1 = tf.keras.layers.LSTM(n_embed, return_sequences=True, name=\"lstm1\")\n",
    "        self.lstm2 = tf.keras.layers.LSTM(n_embed, name=\"lstm2\")\n",
    "        self.dense1 = tf.keras.layers.Dense(n_embed, activation='relu', name=\"pre_classifier\")\n",
    "        self.dense2 = tf.keras.layers.Dense(1, activation='sigmoid', name=\"classifier\")\n",
    "        self.conc = tf.keras.layers.Concatenate(axis=-1, name=\"concatenate\")\n",
    "\n",
    "    def build_graph(self):\n",
    "        x = [tf.keras.layers.Input(shape=(BLOCK_SIZE, 6), batch_size=None, name=\"input_continous\"),\n",
    "            tf.keras.layers.Input(shape=(BLOCK_SIZE), batch_size=None, name=\"input_plate\"),\n",
    "            tf.keras.layers.Input(shape=(BLOCK_SIZE), batch_size=None, name=\"input_dd\"),\n",
    "            tf.keras.layers.Input(shape=(BLOCK_SIZE), batch_size=None, name=\"input_magtype\")]\n",
    "        return tf.keras.Model(inputs=x, outputs=self.call(x))\n",
    "\n",
    "    def call(self, x):\n",
    "        cont, plate, dd, magtype = x[:,:,:-3], x[:,:,-3], x[:,:,-2], x[:,:,-1]\n",
    "        x1 = self.embed(cont)\n",
    "        x2 = self.embed_plate(plate)\n",
    "        x3 = self.embed_dd(dd)\n",
    "        x4 = self.embed_magtype(magtype)\n",
    "        x = self.conc([x1, x2, x3, x4])\n",
    "        x = self.lstm1(x)\n",
    "        x = self.lstm2(x)\n",
    "        x = self.dense1(x)\n",
    "        x = self.dense2(x)\n",
    "        return x"
   ]
  },
  {
   "cell_type": "code",
   "execution_count": 12,
   "metadata": {},
   "outputs": [],
   "source": [
    "model = MyModel(135)"
   ]
  },
  {
   "cell_type": "code",
   "execution_count": 13,
   "metadata": {},
   "outputs": [
    {
     "data": {
      "text/plain": [
       "312886"
      ]
     },
     "execution_count": 13,
     "metadata": {},
     "output_type": "execute_result"
    }
   ],
   "source": [
    "model.build(input_shape=(None, BLOCK_SIZE, 9))\n",
    "model.count_params()"
   ]
  },
  {
   "cell_type": "code",
   "execution_count": null,
   "metadata": {},
   "outputs": [],
   "source": []
  },
  {
   "cell_type": "code",
   "execution_count": 14,
   "metadata": {},
   "outputs": [],
   "source": [
    "model.compile(loss=tf.keras.losses.BinaryCrossentropy(from_logits=False),\n",
    "            optimizer='adam',\n",
    "            metrics=['accuracy', tf.keras.metrics.Recall(), tf.keras.metrics.Precision()])"
   ]
  },
  {
   "cell_type": "code",
   "execution_count": 15,
   "metadata": {},
   "outputs": [
    {
     "name": "stdout",
     "output_type": "stream",
     "text": [
      "Epoch 1/20\n"
     ]
    },
    {
     "name": "stderr",
     "output_type": "stream",
     "text": [
      "2024-01-15 03:06:26.288528: I tensorflow/core/kernels/data/shuffle_dataset_op.cc:422] ShuffleDatasetV3:20: Filling up shuffle buffer (this may take a while): 218 of 2000\n",
      "2024-01-15 03:06:36.307175: I tensorflow/core/kernels/data/shuffle_dataset_op.cc:422] ShuffleDatasetV3:20: Filling up shuffle buffer (this may take a while): 437 of 2000\n",
      "2024-01-15 03:06:46.310402: I tensorflow/core/kernels/data/shuffle_dataset_op.cc:422] ShuffleDatasetV3:20: Filling up shuffle buffer (this may take a while): 657 of 2000\n",
      "2024-01-15 03:07:06.292097: I tensorflow/core/kernels/data/shuffle_dataset_op.cc:422] ShuffleDatasetV3:20: Filling up shuffle buffer (this may take a while): 1110 of 2000\n",
      "2024-01-15 03:07:16.318478: I tensorflow/core/kernels/data/shuffle_dataset_op.cc:422] ShuffleDatasetV3:20: Filling up shuffle buffer (this may take a while): 1341 of 2000\n",
      "2024-01-15 03:07:36.285599: I tensorflow/core/kernels/data/shuffle_dataset_op.cc:422] ShuffleDatasetV3:20: Filling up shuffle buffer (this may take a while): 1791 of 2000\n",
      "2024-01-15 03:07:46.286326: I tensorflow/core/kernels/data/shuffle_dataset_op.cc:422] ShuffleDatasetV3:20: Filling up shuffle buffer (this may take a while): 1994 of 2000\n",
      "2024-01-15 03:07:46.560368: I tensorflow/core/kernels/data/shuffle_dataset_op.cc:452] Shuffle buffer filled.\n",
      "2024-01-15 03:07:48.585221: I tensorflow/compiler/xla/stream_executor/cuda/cuda_dnn.cc:442] Loaded cuDNN version 8904\n",
      "Could not load symbol cublasGetSmCountTarget from libcublas.so.11. Error: /home/majkel/miniconda3/lib/libcublas.so.11: undefined symbol: cublasGetSmCountTarget\n",
      "2024-01-15 03:07:49.833431: I tensorflow/compiler/xla/service/service.cc:168] XLA service 0x7f2e7b489930 initialized for platform CUDA (this does not guarantee that XLA will be used). Devices:\n",
      "2024-01-15 03:07:49.833496: I tensorflow/compiler/xla/service/service.cc:176]   StreamExecutor device (0): NVIDIA GeForce RTX 2060 with Max-Q Design, Compute Capability 7.5\n",
      "2024-01-15 03:07:49.874227: I tensorflow/compiler/mlir/tensorflow/utils/dump_mlir_util.cc:269] disabling MLIR crash reproducer, set env var `MLIR_CRASH_REPRODUCER_DIRECTORY` to enable.\n",
      "2024-01-15 03:07:50.119962: I ./tensorflow/compiler/jit/device_compiler.h:186] Compiled cluster using XLA!  This line is logged at most once for the lifetime of the process.\n"
     ]
    },
    {
     "name": "stdout",
     "output_type": "stream",
     "text": [
      "3222/3222 [==============================] - 260s 50ms/step - loss: 0.4703 - accuracy: 0.8241 - recall: 0.7492 - precision: 0.2211 - val_loss: 0.3937 - val_accuracy: 0.8636 - val_recall: 0.4557 - val_precision: 0.2168\n",
      "Epoch 2/20\n"
     ]
    },
    {
     "name": "stderr",
     "output_type": "stream",
     "text": [
      "2024-01-15 03:10:41.934316: I tensorflow/core/kernels/data/shuffle_dataset_op.cc:422] ShuffleDatasetV3:20: Filling up shuffle buffer (this may take a while): 232 of 2000\n",
      "2024-01-15 03:10:51.951482: I tensorflow/core/kernels/data/shuffle_dataset_op.cc:422] ShuffleDatasetV3:20: Filling up shuffle buffer (this may take a while): 463 of 2000\n",
      "2024-01-15 03:11:11.938628: I tensorflow/core/kernels/data/shuffle_dataset_op.cc:422] ShuffleDatasetV3:20: Filling up shuffle buffer (this may take a while): 926 of 2000\n",
      "2024-01-15 03:11:21.958969: I tensorflow/core/kernels/data/shuffle_dataset_op.cc:422] ShuffleDatasetV3:20: Filling up shuffle buffer (this may take a while): 1157 of 2000\n",
      "2024-01-15 03:11:41.953680: I tensorflow/core/kernels/data/shuffle_dataset_op.cc:422] ShuffleDatasetV3:20: Filling up shuffle buffer (this may take a while): 1611 of 2000\n"
     ]
    },
    {
     "name": "stdout",
     "output_type": "stream",
     "text": [
      "   1/3222 [..............................] - ETA: 78:02:20 - loss: 1.0106 - accuracy: 0.5195 - recall: 0.8065 - precision: 0.2475"
     ]
    },
    {
     "name": "stderr",
     "output_type": "stream",
     "text": [
      "2024-01-15 03:11:58.947608: I tensorflow/core/kernels/data/shuffle_dataset_op.cc:452] Shuffle buffer filled.\n"
     ]
    },
    {
     "name": "stdout",
     "output_type": "stream",
     "text": [
      "3222/3222 [==============================] - 248s 50ms/step - loss: 0.4436 - accuracy: 0.8419 - recall: 0.7550 - precision: 0.2430 - val_loss: 0.3283 - val_accuracy: 0.8889 - val_recall: 0.3610 - val_precision: 0.2396\n",
      "Epoch 3/20\n"
     ]
    },
    {
     "name": "stderr",
     "output_type": "stream",
     "text": [
      "2024-01-15 03:14:50.325847: I tensorflow/core/kernels/data/shuffle_dataset_op.cc:422] ShuffleDatasetV3:20: Filling up shuffle buffer (this may take a while): 225 of 2000\n",
      "2024-01-15 03:15:10.305141: I tensorflow/core/kernels/data/shuffle_dataset_op.cc:422] ShuffleDatasetV3:20: Filling up shuffle buffer (this may take a while): 665 of 2000\n",
      "2024-01-15 03:15:20.323930: I tensorflow/core/kernels/data/shuffle_dataset_op.cc:422] ShuffleDatasetV3:20: Filling up shuffle buffer (this may take a while): 878 of 2000\n",
      "2024-01-15 03:15:30.334742: I tensorflow/core/kernels/data/shuffle_dataset_op.cc:422] ShuffleDatasetV3:20: Filling up shuffle buffer (this may take a while): 1099 of 2000\n",
      "2024-01-15 03:15:50.307436: I tensorflow/core/kernels/data/shuffle_dataset_op.cc:422] ShuffleDatasetV3:20: Filling up shuffle buffer (this may take a while): 1542 of 2000\n",
      "2024-01-15 03:16:00.329343: I tensorflow/core/kernels/data/shuffle_dataset_op.cc:422] ShuffleDatasetV3:20: Filling up shuffle buffer (this may take a while): 1760 of 2000\n",
      "2024-01-15 03:16:10.329830: I tensorflow/core/kernels/data/shuffle_dataset_op.cc:422] ShuffleDatasetV3:20: Filling up shuffle buffer (this may take a while): 1984 of 2000\n"
     ]
    },
    {
     "name": "stdout",
     "output_type": "stream",
     "text": [
      "   1/3222 [..............................] - ETA: 81:23:00 - loss: 0.5041 - accuracy: 0.9277 - recall: 0.0000e+00 - precision: 0.0000e+00"
     ]
    },
    {
     "name": "stderr",
     "output_type": "stream",
     "text": [
      "2024-01-15 03:16:11.051257: I tensorflow/core/kernels/data/shuffle_dataset_op.cc:452] Shuffle buffer filled.\n"
     ]
    },
    {
     "name": "stdout",
     "output_type": "stream",
     "text": [
      "3222/3222 [==============================] - 256s 51ms/step - loss: 0.4266 - accuracy: 0.8486 - recall: 0.7623 - precision: 0.2531 - val_loss: 0.4121 - val_accuracy: 0.8660 - val_recall: 0.3896 - val_precision: 0.2018\n",
      "Epoch 4/20\n"
     ]
    },
    {
     "name": "stderr",
     "output_type": "stream",
     "text": [
      "2024-01-15 03:19:06.559870: I tensorflow/core/kernels/data/shuffle_dataset_op.cc:422] ShuffleDatasetV3:20: Filling up shuffle buffer (this may take a while): 225 of 2000\n",
      "2024-01-15 03:19:16.561935: I tensorflow/core/kernels/data/shuffle_dataset_op.cc:422] ShuffleDatasetV3:20: Filling up shuffle buffer (this may take a while): 446 of 2000\n",
      "2024-01-15 03:19:26.582384: I tensorflow/core/kernels/data/shuffle_dataset_op.cc:422] ShuffleDatasetV3:20: Filling up shuffle buffer (this may take a while): 669 of 2000\n",
      "2024-01-15 03:19:36.597934: I tensorflow/core/kernels/data/shuffle_dataset_op.cc:422] ShuffleDatasetV3:20: Filling up shuffle buffer (this may take a while): 895 of 2000\n",
      "2024-01-15 03:19:56.596795: I tensorflow/core/kernels/data/shuffle_dataset_op.cc:422] ShuffleDatasetV3:20: Filling up shuffle buffer (this may take a while): 1358 of 2000\n",
      "2024-01-15 03:20:16.575316: I tensorflow/core/kernels/data/shuffle_dataset_op.cc:422] ShuffleDatasetV3:20: Filling up shuffle buffer (this may take a while): 1806 of 2000\n"
     ]
    },
    {
     "name": "stdout",
     "output_type": "stream",
     "text": [
      "   1/3222 [..............................] - ETA: 79:29:23 - loss: 0.6054 - accuracy: 0.9531 - recall: 0.0000e+00 - precision: 0.0000e+00"
     ]
    },
    {
     "name": "stderr",
     "output_type": "stream",
     "text": [
      "2024-01-15 03:20:25.205866: I tensorflow/core/kernels/data/shuffle_dataset_op.cc:452] Shuffle buffer filled.\n"
     ]
    },
    {
     "name": "stdout",
     "output_type": "stream",
     "text": [
      "3222/3222 [==============================] - 249s 50ms/step - loss: 0.4141 - accuracy: 0.8446 - recall: 0.7813 - precision: 0.2507 - val_loss: 0.3400 - val_accuracy: 0.8788 - val_recall: 0.3698 - val_precision: 0.2193\n",
      "Epoch 5/20\n"
     ]
    },
    {
     "name": "stderr",
     "output_type": "stream",
     "text": [
      "2024-01-15 03:23:15.756835: I tensorflow/core/kernels/data/shuffle_dataset_op.cc:422] ShuffleDatasetV3:20: Filling up shuffle buffer (this may take a while): 226 of 2000\n",
      "2024-01-15 03:23:25.764289: I tensorflow/core/kernels/data/shuffle_dataset_op.cc:422] ShuffleDatasetV3:20: Filling up shuffle buffer (this may take a while): 445 of 2000\n",
      "2024-01-15 03:23:35.765718: I tensorflow/core/kernels/data/shuffle_dataset_op.cc:422] ShuffleDatasetV3:20: Filling up shuffle buffer (this may take a while): 672 of 2000\n",
      "2024-01-15 03:23:45.774483: I tensorflow/core/kernels/data/shuffle_dataset_op.cc:422] ShuffleDatasetV3:20: Filling up shuffle buffer (this may take a while): 899 of 2000\n",
      "2024-01-15 03:24:05.737906: I tensorflow/core/kernels/data/shuffle_dataset_op.cc:422] ShuffleDatasetV3:20: Filling up shuffle buffer (this may take a while): 1350 of 2000\n",
      "2024-01-15 03:24:15.745796: I tensorflow/core/kernels/data/shuffle_dataset_op.cc:422] ShuffleDatasetV3:20: Filling up shuffle buffer (this may take a while): 1578 of 2000\n",
      "2024-01-15 03:24:25.769388: I tensorflow/core/kernels/data/shuffle_dataset_op.cc:422] ShuffleDatasetV3:20: Filling up shuffle buffer (this may take a while): 1805 of 2000\n"
     ]
    },
    {
     "name": "stdout",
     "output_type": "stream",
     "text": [
      "   1/3222 [..............................] - ETA: 79:30:07 - loss: 0.1074 - accuracy: 0.9971 - recall: 0.0000e+00 - precision: 0.0000e+00"
     ]
    },
    {
     "name": "stderr",
     "output_type": "stream",
     "text": [
      "2024-01-15 03:24:34.398737: I tensorflow/core/kernels/data/shuffle_dataset_op.cc:452] Shuffle buffer filled.\n"
     ]
    },
    {
     "name": "stdout",
     "output_type": "stream",
     "text": [
      "3222/3222 [==============================] - 253s 51ms/step - loss: 0.3945 - accuracy: 0.8483 - recall: 0.7974 - precision: 0.2582 - val_loss: 0.3580 - val_accuracy: 0.8704 - val_recall: 0.3862 - val_precision: 0.2083\n",
      "Epoch 6/20\n"
     ]
    },
    {
     "name": "stderr",
     "output_type": "stream",
     "text": [
      "2024-01-15 03:27:29.040813: I tensorflow/core/kernels/data/shuffle_dataset_op.cc:422] ShuffleDatasetV3:20: Filling up shuffle buffer (this may take a while): 222 of 2000\n",
      "2024-01-15 03:27:39.059039: I tensorflow/core/kernels/data/shuffle_dataset_op.cc:422] ShuffleDatasetV3:20: Filling up shuffle buffer (this may take a while): 450 of 2000\n",
      "2024-01-15 03:27:59.066244: I tensorflow/core/kernels/data/shuffle_dataset_op.cc:422] ShuffleDatasetV3:20: Filling up shuffle buffer (this may take a while): 907 of 2000\n",
      "2024-01-15 03:28:09.069954: I tensorflow/core/kernels/data/shuffle_dataset_op.cc:422] ShuffleDatasetV3:20: Filling up shuffle buffer (this may take a while): 1137 of 2000\n",
      "2024-01-15 03:28:29.074026: I tensorflow/core/kernels/data/shuffle_dataset_op.cc:422] ShuffleDatasetV3:20: Filling up shuffle buffer (this may take a while): 1591 of 2000\n"
     ]
    },
    {
     "name": "stdout",
     "output_type": "stream",
     "text": [
      "   1/3222 [..............................] - ETA: 78:53:45 - loss: 0.5638 - accuracy: 0.9102 - recall: 0.7787 - precision: 0.5938"
     ]
    },
    {
     "name": "stderr",
     "output_type": "stream",
     "text": [
      "2024-01-15 03:28:47.027878: I tensorflow/core/kernels/data/shuffle_dataset_op.cc:452] Shuffle buffer filled.\n"
     ]
    },
    {
     "name": "stdout",
     "output_type": "stream",
     "text": [
      "3222/3222 [==============================] - 250s 50ms/step - loss: 0.3794 - accuracy: 0.8489 - recall: 0.8102 - precision: 0.2612 - val_loss: 0.3666 - val_accuracy: 0.8475 - val_recall: 0.5755 - val_precision: 0.2214\n",
      "Epoch 7/20\n"
     ]
    },
    {
     "name": "stderr",
     "output_type": "stream",
     "text": [
      "2024-01-15 03:31:38.750881: I tensorflow/core/kernels/data/shuffle_dataset_op.cc:422] ShuffleDatasetV3:20: Filling up shuffle buffer (this may take a while): 222 of 2000\n",
      "2024-01-15 03:31:58.719029: I tensorflow/core/kernels/data/shuffle_dataset_op.cc:422] ShuffleDatasetV3:20: Filling up shuffle buffer (this may take a while): 660 of 2000\n",
      "2024-01-15 03:32:08.739176: I tensorflow/core/kernels/data/shuffle_dataset_op.cc:422] ShuffleDatasetV3:20: Filling up shuffle buffer (this may take a while): 881 of 2000\n",
      "2024-01-15 03:32:28.756720: I tensorflow/core/kernels/data/shuffle_dataset_op.cc:422] ShuffleDatasetV3:20: Filling up shuffle buffer (this may take a while): 1321 of 2000\n",
      "2024-01-15 03:32:48.729796: I tensorflow/core/kernels/data/shuffle_dataset_op.cc:422] ShuffleDatasetV3:20: Filling up shuffle buffer (this may take a while): 1763 of 2000\n"
     ]
    },
    {
     "name": "stdout",
     "output_type": "stream",
     "text": [
      "   1/3222 [..............................] - ETA: 81:17:33 - loss: 0.0461 - accuracy: 0.9941 - recall: 0.0000e+00 - precision: 0.0000e+00"
     ]
    },
    {
     "name": "stderr",
     "output_type": "stream",
     "text": [
      "2024-01-15 03:32:59.385759: I tensorflow/core/kernels/data/shuffle_dataset_op.cc:452] Shuffle buffer filled.\n"
     ]
    },
    {
     "name": "stdout",
     "output_type": "stream",
     "text": [
      "3222/3222 [==============================] - 253s 50ms/step - loss: 0.3644 - accuracy: 0.8478 - recall: 0.8298 - precision: 0.2626 - val_loss: 0.3780 - val_accuracy: 0.8338 - val_recall: 0.5587 - val_precision: 0.2006\n",
      "Epoch 8/20\n"
     ]
    },
    {
     "name": "stderr",
     "output_type": "stream",
     "text": [
      "2024-01-15 03:35:52.075783: I tensorflow/core/kernels/data/shuffle_dataset_op.cc:422] ShuffleDatasetV3:20: Filling up shuffle buffer (this may take a while): 221 of 2000\n",
      "2024-01-15 03:36:12.100299: I tensorflow/core/kernels/data/shuffle_dataset_op.cc:422] ShuffleDatasetV3:20: Filling up shuffle buffer (this may take a while): 672 of 2000\n",
      "2024-01-15 03:36:32.081034: I tensorflow/core/kernels/data/shuffle_dataset_op.cc:422] ShuffleDatasetV3:20: Filling up shuffle buffer (this may take a while): 1123 of 2000\n",
      "2024-01-15 03:36:42.108622: I tensorflow/core/kernels/data/shuffle_dataset_op.cc:422] ShuffleDatasetV3:20: Filling up shuffle buffer (this may take a while): 1347 of 2000\n",
      "2024-01-15 03:37:02.078882: I tensorflow/core/kernels/data/shuffle_dataset_op.cc:422] ShuffleDatasetV3:20: Filling up shuffle buffer (this may take a while): 1784 of 2000\n"
     ]
    },
    {
     "name": "stdout",
     "output_type": "stream",
     "text": [
      "   1/3222 [..............................] - ETA: 80:23:50 - loss: 0.2665 - accuracy: 0.9609 - recall: 0.0000e+00 - precision: 0.0000e+00"
     ]
    },
    {
     "name": "stderr",
     "output_type": "stream",
     "text": [
      "2024-01-15 03:37:11.733341: I tensorflow/core/kernels/data/shuffle_dataset_op.cc:452] Shuffle buffer filled.\n"
     ]
    },
    {
     "name": "stdout",
     "output_type": "stream",
     "text": [
      "3222/3222 [==============================] - 251s 50ms/step - loss: 0.3525 - accuracy: 0.8518 - recall: 0.8383 - precision: 0.2694 - val_loss: 0.5137 - val_accuracy: 0.7763 - val_recall: 0.6143 - val_precision: 0.1608\n",
      "Epoch 9/20\n"
     ]
    },
    {
     "name": "stderr",
     "output_type": "stream",
     "text": [
      "2024-01-15 03:40:03.381245: I tensorflow/core/kernels/data/shuffle_dataset_op.cc:422] ShuffleDatasetV3:20: Filling up shuffle buffer (this may take a while): 226 of 2000\n",
      "2024-01-15 03:40:13.384109: I tensorflow/core/kernels/data/shuffle_dataset_op.cc:422] ShuffleDatasetV3:20: Filling up shuffle buffer (this may take a while): 455 of 2000\n",
      "2024-01-15 03:40:33.398655: I tensorflow/core/kernels/data/shuffle_dataset_op.cc:422] ShuffleDatasetV3:20: Filling up shuffle buffer (this may take a while): 911 of 2000\n",
      "2024-01-15 03:40:53.368510: I tensorflow/core/kernels/data/shuffle_dataset_op.cc:422] ShuffleDatasetV3:20: Filling up shuffle buffer (this may take a while): 1346 of 2000\n",
      "2024-01-15 03:41:03.382881: I tensorflow/core/kernels/data/shuffle_dataset_op.cc:422] ShuffleDatasetV3:20: Filling up shuffle buffer (this may take a while): 1573 of 2000\n",
      "2024-01-15 03:41:13.388529: I tensorflow/core/kernels/data/shuffle_dataset_op.cc:422] ShuffleDatasetV3:20: Filling up shuffle buffer (this may take a while): 1799 of 2000\n"
     ]
    },
    {
     "name": "stdout",
     "output_type": "stream",
     "text": [
      "   1/3222 [..............................] - ETA: 79:43:06 - loss: 0.8107 - accuracy: 0.2695 - recall: 0.9634 - precision: 0.1756"
     ]
    },
    {
     "name": "stderr",
     "output_type": "stream",
     "text": [
      "2024-01-15 03:41:22.273268: I tensorflow/core/kernels/data/shuffle_dataset_op.cc:452] Shuffle buffer filled.\n"
     ]
    },
    {
     "name": "stdout",
     "output_type": "stream",
     "text": [
      "3222/3222 [==============================] - 251s 50ms/step - loss: 0.3407 - accuracy: 0.8551 - recall: 0.8457 - precision: 0.2753 - val_loss: 0.4240 - val_accuracy: 0.8191 - val_recall: 0.5686 - val_precision: 0.1870\n",
      "Epoch 10/20\n"
     ]
    },
    {
     "name": "stderr",
     "output_type": "stream",
     "text": [
      "2024-01-15 03:44:14.885072: I tensorflow/core/kernels/data/shuffle_dataset_op.cc:422] ShuffleDatasetV3:20: Filling up shuffle buffer (this may take a while): 227 of 2000\n",
      "2024-01-15 03:44:34.862995: I tensorflow/core/kernels/data/shuffle_dataset_op.cc:422] ShuffleDatasetV3:20: Filling up shuffle buffer (this may take a while): 678 of 2000\n",
      "2024-01-15 03:44:44.891305: I tensorflow/core/kernels/data/shuffle_dataset_op.cc:422] ShuffleDatasetV3:20: Filling up shuffle buffer (this may take a while): 906 of 2000\n",
      "2024-01-15 03:45:04.889179: I tensorflow/core/kernels/data/shuffle_dataset_op.cc:422] ShuffleDatasetV3:20: Filling up shuffle buffer (this may take a while): 1355 of 2000\n",
      "2024-01-15 03:45:24.859859: I tensorflow/core/kernels/data/shuffle_dataset_op.cc:422] ShuffleDatasetV3:20: Filling up shuffle buffer (this may take a while): 1807 of 2000\n"
     ]
    },
    {
     "name": "stdout",
     "output_type": "stream",
     "text": [
      "   1/3222 [..............................] - ETA: 79:22:13 - loss: 0.0896 - accuracy: 0.9971 - recall: 0.0000e+00 - precision: 0.0000e+00"
     ]
    },
    {
     "name": "stderr",
     "output_type": "stream",
     "text": [
      "2024-01-15 03:45:33.367823: I tensorflow/core/kernels/data/shuffle_dataset_op.cc:452] Shuffle buffer filled.\n"
     ]
    },
    {
     "name": "stdout",
     "output_type": "stream",
     "text": [
      "3222/3222 [==============================] - 285s 61ms/step - loss: 0.3350 - accuracy: 0.8577 - recall: 0.8488 - precision: 0.2797 - val_loss: 0.4873 - val_accuracy: 0.8267 - val_recall: 0.5816 - val_precision: 0.1974\n",
      "Epoch 11/20\n"
     ]
    },
    {
     "name": "stderr",
     "output_type": "stream",
     "text": [
      "2024-01-15 03:48:59.898561: I tensorflow/core/kernels/data/shuffle_dataset_op.cc:422] ShuffleDatasetV3:20: Filling up shuffle buffer (this may take a while): 242 of 2000\n",
      "2024-01-15 03:49:19.885781: I tensorflow/core/kernels/data/shuffle_dataset_op.cc:422] ShuffleDatasetV3:20: Filling up shuffle buffer (this may take a while): 732 of 2000\n",
      "2024-01-15 03:49:39.874639: I tensorflow/core/kernels/data/shuffle_dataset_op.cc:422] ShuffleDatasetV3:20: Filling up shuffle buffer (this may take a while): 1218 of 2000\n",
      "2024-01-15 03:49:49.897861: I tensorflow/core/kernels/data/shuffle_dataset_op.cc:422] ShuffleDatasetV3:20: Filling up shuffle buffer (this may take a while): 1464 of 2000\n",
      "2024-01-15 03:50:09.890573: I tensorflow/core/kernels/data/shuffle_dataset_op.cc:422] ShuffleDatasetV3:20: Filling up shuffle buffer (this may take a while): 1957 of 2000\n"
     ]
    },
    {
     "name": "stdout",
     "output_type": "stream",
     "text": [
      "   1/3222 [..............................] - ETA: 73:20:10 - loss: 0.1670 - accuracy: 0.9561 - recall: 0.0000e+00 - precision: 0.0000e+00"
     ]
    },
    {
     "name": "stderr",
     "output_type": "stream",
     "text": [
      "2024-01-15 03:50:11.634621: I tensorflow/core/kernels/data/shuffle_dataset_op.cc:452] Shuffle buffer filled.\n"
     ]
    },
    {
     "name": "stdout",
     "output_type": "stream",
     "text": [
      "3222/3222 [==============================] - 345s 82ms/step - loss: 0.3245 - accuracy: 0.8603 - recall: 0.8560 - precision: 0.2846 - val_loss: 0.3959 - val_accuracy: 0.8560 - val_recall: 0.5530 - val_precision: 0.2287\n",
      "Epoch 12/20\n"
     ]
    },
    {
     "name": "stderr",
     "output_type": "stream",
     "text": [
      "2024-01-15 03:54:45.258393: I tensorflow/core/kernels/data/shuffle_dataset_op.cc:422] ShuffleDatasetV3:20: Filling up shuffle buffer (this may take a while): 241 of 2000\n",
      "2024-01-15 03:55:05.241363: I tensorflow/core/kernels/data/shuffle_dataset_op.cc:422] ShuffleDatasetV3:20: Filling up shuffle buffer (this may take a while): 727 of 2000\n",
      "2024-01-15 03:55:15.261545: I tensorflow/core/kernels/data/shuffle_dataset_op.cc:422] ShuffleDatasetV3:20: Filling up shuffle buffer (this may take a while): 972 of 2000\n",
      "2024-01-15 03:55:25.269652: I tensorflow/core/kernels/data/shuffle_dataset_op.cc:422] ShuffleDatasetV3:20: Filling up shuffle buffer (this may take a while): 1218 of 2000\n",
      "2024-01-15 03:55:45.244860: I tensorflow/core/kernels/data/shuffle_dataset_op.cc:422] ShuffleDatasetV3:20: Filling up shuffle buffer (this may take a while): 1703 of 2000\n",
      "2024-01-15 03:55:55.263806: I tensorflow/core/kernels/data/shuffle_dataset_op.cc:422] ShuffleDatasetV3:20: Filling up shuffle buffer (this may take a while): 1949 of 2000\n"
     ]
    },
    {
     "name": "stdout",
     "output_type": "stream",
     "text": [
      "   1/3222 [..............................] - ETA: 73:37:50 - loss: 0.1614 - accuracy: 0.9922 - recall: 0.0000e+00 - precision: 0.0000e+00"
     ]
    },
    {
     "name": "stderr",
     "output_type": "stream",
     "text": [
      "2024-01-15 03:55:57.336360: I tensorflow/core/kernels/data/shuffle_dataset_op.cc:452] Shuffle buffer filled.\n"
     ]
    },
    {
     "name": "stdout",
     "output_type": "stream",
     "text": [
      "3222/3222 [==============================] - 344s 81ms/step - loss: 0.3219 - accuracy: 0.8630 - recall: 0.8553 - precision: 0.2887 - val_loss: 0.4739 - val_accuracy: 0.8265 - val_recall: 0.5725 - val_precision: 0.1953\n",
      "Epoch 13/20\n"
     ]
    },
    {
     "name": "stderr",
     "output_type": "stream",
     "text": [
      "2024-01-15 04:00:29.597824: I tensorflow/core/kernels/data/shuffle_dataset_op.cc:422] ShuffleDatasetV3:20: Filling up shuffle buffer (this may take a while): 248 of 2000\n",
      "2024-01-15 04:00:39.605762: I tensorflow/core/kernels/data/shuffle_dataset_op.cc:422] ShuffleDatasetV3:20: Filling up shuffle buffer (this may take a while): 493 of 2000\n",
      "2024-01-15 04:00:49.607879: I tensorflow/core/kernels/data/shuffle_dataset_op.cc:422] ShuffleDatasetV3:20: Filling up shuffle buffer (this may take a while): 738 of 2000\n",
      "2024-01-15 04:01:09.590245: I tensorflow/core/kernels/data/shuffle_dataset_op.cc:422] ShuffleDatasetV3:20: Filling up shuffle buffer (this may take a while): 1230 of 2000\n",
      "2024-01-15 04:01:29.600551: I tensorflow/core/kernels/data/shuffle_dataset_op.cc:422] ShuffleDatasetV3:20: Filling up shuffle buffer (this may take a while): 1723 of 2000\n"
     ]
    },
    {
     "name": "stdout",
     "output_type": "stream",
     "text": [
      "   1/3222 [..............................] - ETA: 72:53:26 - loss: 0.1393 - accuracy: 0.9883 - recall: 0.0000e+00 - precision: 0.0000e+00"
     ]
    },
    {
     "name": "stderr",
     "output_type": "stream",
     "text": [
      "2024-01-15 04:01:40.854517: I tensorflow/core/kernels/data/shuffle_dataset_op.cc:452] Shuffle buffer filled.\n"
     ]
    },
    {
     "name": "stdout",
     "output_type": "stream",
     "text": [
      "3222/3222 [==============================] - 343s 81ms/step - loss: 0.3110 - accuracy: 0.8655 - recall: 0.8620 - precision: 0.2939 - val_loss: 0.4400 - val_accuracy: 0.8265 - val_recall: 0.5684 - val_precision: 0.1945\n",
      "Epoch 14/20\n"
     ]
    },
    {
     "name": "stderr",
     "output_type": "stream",
     "text": [
      "2024-01-15 04:06:13.039191: I tensorflow/core/kernels/data/shuffle_dataset_op.cc:422] ShuffleDatasetV3:20: Filling up shuffle buffer (this may take a while): 251 of 2000\n",
      "2024-01-15 04:06:33.017807: I tensorflow/core/kernels/data/shuffle_dataset_op.cc:422] ShuffleDatasetV3:20: Filling up shuffle buffer (this may take a while): 748 of 2000\n",
      "2024-01-15 04:06:43.031590: I tensorflow/core/kernels/data/shuffle_dataset_op.cc:422] ShuffleDatasetV3:20: Filling up shuffle buffer (this may take a while): 996 of 2000\n",
      "2024-01-15 04:07:03.015700: I tensorflow/core/kernels/data/shuffle_dataset_op.cc:422] ShuffleDatasetV3:20: Filling up shuffle buffer (this may take a while): 1482 of 2000\n",
      "2024-01-15 04:07:13.034538: I tensorflow/core/kernels/data/shuffle_dataset_op.cc:422] ShuffleDatasetV3:20: Filling up shuffle buffer (this may take a while): 1727 of 2000\n"
     ]
    },
    {
     "name": "stdout",
     "output_type": "stream",
     "text": [
      "   1/3222 [..............................] - ETA: 72:44:56 - loss: 1.0578 - accuracy: 0.3174 - recall: 1.0000 - precision: 0.3167"
     ]
    },
    {
     "name": "stderr",
     "output_type": "stream",
     "text": [
      "2024-01-15 04:07:24.127675: I tensorflow/core/kernels/data/shuffle_dataset_op.cc:452] Shuffle buffer filled.\n"
     ]
    },
    {
     "name": "stdout",
     "output_type": "stream",
     "text": [
      "3222/3222 [==============================] - 343s 81ms/step - loss: 0.3057 - accuracy: 0.8657 - recall: 0.8676 - precision: 0.2950 - val_loss: 0.5175 - val_accuracy: 0.8217 - val_recall: 0.5730 - val_precision: 0.1904\n",
      "Epoch 15/20\n"
     ]
    },
    {
     "name": "stderr",
     "output_type": "stream",
     "text": [
      "2024-01-15 04:11:55.724758: I tensorflow/core/kernels/data/shuffle_dataset_op.cc:422] ShuffleDatasetV3:20: Filling up shuffle buffer (this may take a while): 240 of 2000\n",
      "2024-01-15 04:12:05.734129: I tensorflow/core/kernels/data/shuffle_dataset_op.cc:422] ShuffleDatasetV3:20: Filling up shuffle buffer (this may take a while): 482 of 2000\n",
      "2024-01-15 04:12:25.731501: I tensorflow/core/kernels/data/shuffle_dataset_op.cc:422] ShuffleDatasetV3:20: Filling up shuffle buffer (this may take a while): 974 of 2000\n",
      "2024-01-15 04:12:45.717273: I tensorflow/core/kernels/data/shuffle_dataset_op.cc:422] ShuffleDatasetV3:20: Filling up shuffle buffer (this may take a while): 1464 of 2000\n",
      "2024-01-15 04:12:55.722917: I tensorflow/core/kernels/data/shuffle_dataset_op.cc:422] ShuffleDatasetV3:20: Filling up shuffle buffer (this may take a while): 1708 of 2000\n",
      "2024-01-15 04:13:05.733803: I tensorflow/core/kernels/data/shuffle_dataset_op.cc:422] ShuffleDatasetV3:20: Filling up shuffle buffer (this may take a while): 1955 of 2000\n"
     ]
    },
    {
     "name": "stdout",
     "output_type": "stream",
     "text": [
      "   1/3222 [..............................] - ETA: 73:23:55 - loss: 0.1835 - accuracy: 0.9014 - recall: 0.7143 - precision: 0.0935"
     ]
    },
    {
     "name": "stderr",
     "output_type": "stream",
     "text": [
      "2024-01-15 04:13:07.558709: I tensorflow/core/kernels/data/shuffle_dataset_op.cc:452] Shuffle buffer filled.\n"
     ]
    },
    {
     "name": "stdout",
     "output_type": "stream",
     "text": [
      "3222/3222 [==============================] - 344s 81ms/step - loss: 0.2977 - accuracy: 0.8668 - recall: 0.8740 - precision: 0.2976 - val_loss: 0.4463 - val_accuracy: 0.8513 - val_recall: 0.5360 - val_precision: 0.2178\n",
      "Epoch 16/20\n"
     ]
    },
    {
     "name": "stderr",
     "output_type": "stream",
     "text": [
      "2024-01-15 04:17:39.837377: I tensorflow/core/kernels/data/shuffle_dataset_op.cc:422] ShuffleDatasetV3:20: Filling up shuffle buffer (this may take a while): 248 of 2000\n",
      "2024-01-15 04:17:59.807357: I tensorflow/core/kernels/data/shuffle_dataset_op.cc:422] ShuffleDatasetV3:20: Filling up shuffle buffer (this may take a while): 735 of 2000\n",
      "2024-01-15 04:18:09.830209: I tensorflow/core/kernels/data/shuffle_dataset_op.cc:422] ShuffleDatasetV3:20: Filling up shuffle buffer (this may take a while): 975 of 2000\n",
      "2024-01-15 04:18:29.805482: I tensorflow/core/kernels/data/shuffle_dataset_op.cc:422] ShuffleDatasetV3:20: Filling up shuffle buffer (this may take a while): 1451 of 2000\n",
      "2024-01-15 04:18:39.823615: I tensorflow/core/kernels/data/shuffle_dataset_op.cc:422] ShuffleDatasetV3:20: Filling up shuffle buffer (this may take a while): 1693 of 2000\n",
      "2024-01-15 04:18:49.826684: I tensorflow/core/kernels/data/shuffle_dataset_op.cc:422] ShuffleDatasetV3:20: Filling up shuffle buffer (this may take a while): 1940 of 2000\n"
     ]
    },
    {
     "name": "stdout",
     "output_type": "stream",
     "text": [
      "   1/3222 [..............................] - ETA: 74:01:13 - loss: 0.0596 - accuracy: 0.9893 - recall: 0.0000e+00 - precision: 0.0000e+00"
     ]
    },
    {
     "name": "stderr",
     "output_type": "stream",
     "text": [
      "2024-01-15 04:18:52.337413: I tensorflow/core/kernels/data/shuffle_dataset_op.cc:452] Shuffle buffer filled.\n"
     ]
    },
    {
     "name": "stdout",
     "output_type": "stream",
     "text": [
      "3222/3222 [==============================] - 345s 81ms/step - loss: 0.2956 - accuracy: 0.8679 - recall: 0.8757 - precision: 0.2998 - val_loss: 0.4507 - val_accuracy: 0.8413 - val_recall: 0.5558 - val_precision: 0.2090\n",
      "Epoch 17/20\n"
     ]
    },
    {
     "name": "stderr",
     "output_type": "stream",
     "text": [
      "2024-01-15 04:23:25.056714: I tensorflow/core/kernels/data/shuffle_dataset_op.cc:422] ShuffleDatasetV3:20: Filling up shuffle buffer (this may take a while): 230 of 2000\n",
      "2024-01-15 04:23:35.073338: I tensorflow/core/kernels/data/shuffle_dataset_op.cc:422] ShuffleDatasetV3:20: Filling up shuffle buffer (this may take a while): 476 of 2000\n",
      "2024-01-15 04:23:55.055217: I tensorflow/core/kernels/data/shuffle_dataset_op.cc:422] ShuffleDatasetV3:20: Filling up shuffle buffer (this may take a while): 967 of 2000\n",
      "2024-01-15 04:24:05.062591: I tensorflow/core/kernels/data/shuffle_dataset_op.cc:422] ShuffleDatasetV3:20: Filling up shuffle buffer (this may take a while): 1213 of 2000\n",
      "2024-01-15 04:24:25.041409: I tensorflow/core/kernels/data/shuffle_dataset_op.cc:422] ShuffleDatasetV3:20: Filling up shuffle buffer (this may take a while): 1707 of 2000\n",
      "2024-01-15 04:24:35.068239: I tensorflow/core/kernels/data/shuffle_dataset_op.cc:422] ShuffleDatasetV3:20: Filling up shuffle buffer (this may take a while): 1951 of 2000\n"
     ]
    },
    {
     "name": "stdout",
     "output_type": "stream",
     "text": [
      "   1/3222 [..............................] - ETA: 73:37:07 - loss: 0.4548 - accuracy: 0.7607 - recall: 0.6604 - precision: 0.1336"
     ]
    },
    {
     "name": "stderr",
     "output_type": "stream",
     "text": [
      "2024-01-15 04:24:37.118516: I tensorflow/core/kernels/data/shuffle_dataset_op.cc:452] Shuffle buffer filled.\n"
     ]
    },
    {
     "name": "stdout",
     "output_type": "stream",
     "text": [
      "3222/3222 [==============================] - 344s 81ms/step - loss: 0.2827 - accuracy: 0.8697 - recall: 0.8857 - precision: 0.3042 - val_loss: 0.4889 - val_accuracy: 0.8445 - val_recall: 0.5643 - val_precision: 0.2149\n",
      "Epoch 18/20\n"
     ]
    },
    {
     "name": "stderr",
     "output_type": "stream",
     "text": [
      "2024-01-15 04:29:08.587024: I tensorflow/core/kernels/data/shuffle_dataset_op.cc:422] ShuffleDatasetV3:20: Filling up shuffle buffer (this may take a while): 247 of 2000\n",
      "2024-01-15 04:29:28.580802: I tensorflow/core/kernels/data/shuffle_dataset_op.cc:422] ShuffleDatasetV3:20: Filling up shuffle buffer (this may take a while): 734 of 2000\n",
      "2024-01-15 04:29:48.581103: I tensorflow/core/kernels/data/shuffle_dataset_op.cc:422] ShuffleDatasetV3:20: Filling up shuffle buffer (this may take a while): 1222 of 2000\n",
      "2024-01-15 04:29:58.593705: I tensorflow/core/kernels/data/shuffle_dataset_op.cc:422] ShuffleDatasetV3:20: Filling up shuffle buffer (this may take a while): 1466 of 2000\n",
      "2024-01-15 04:30:18.559911: I tensorflow/core/kernels/data/shuffle_dataset_op.cc:422] ShuffleDatasetV3:20: Filling up shuffle buffer (this may take a while): 1956 of 2000\n"
     ]
    },
    {
     "name": "stdout",
     "output_type": "stream",
     "text": [
      "   1/3222 [..............................] - ETA: 73:22:04 - loss: 0.4938 - accuracy: 0.6396 - recall: 0.9348 - precision: 0.2638"
     ]
    },
    {
     "name": "stderr",
     "output_type": "stream",
     "text": [
      "2024-01-15 04:30:20.364488: I tensorflow/core/kernels/data/shuffle_dataset_op.cc:452] Shuffle buffer filled.\n"
     ]
    },
    {
     "name": "stdout",
     "output_type": "stream",
     "text": [
      "3222/3222 [==============================] - 342s 81ms/step - loss: 0.2778 - accuracy: 0.8713 - recall: 0.8883 - precision: 0.3073 - val_loss: 0.4741 - val_accuracy: 0.8327 - val_recall: 0.5600 - val_precision: 0.1995\n",
      "Epoch 19/20\n"
     ]
    },
    {
     "name": "stderr",
     "output_type": "stream",
     "text": [
      "2024-01-15 04:34:50.986367: I tensorflow/core/kernels/data/shuffle_dataset_op.cc:422] ShuffleDatasetV3:20: Filling up shuffle buffer (this may take a while): 245 of 2000\n",
      "2024-01-15 04:35:10.970545: I tensorflow/core/kernels/data/shuffle_dataset_op.cc:422] ShuffleDatasetV3:20: Filling up shuffle buffer (this may take a while): 728 of 2000\n",
      "2024-01-15 04:35:30.966045: I tensorflow/core/kernels/data/shuffle_dataset_op.cc:422] ShuffleDatasetV3:20: Filling up shuffle buffer (this may take a while): 1220 of 2000\n",
      "2024-01-15 04:35:40.986501: I tensorflow/core/kernels/data/shuffle_dataset_op.cc:422] ShuffleDatasetV3:20: Filling up shuffle buffer (this may take a while): 1465 of 2000\n",
      "2024-01-15 04:35:50.992318: I tensorflow/core/kernels/data/shuffle_dataset_op.cc:422] ShuffleDatasetV3:20: Filling up shuffle buffer (this may take a while): 1708 of 2000\n"
     ]
    },
    {
     "name": "stdout",
     "output_type": "stream",
     "text": [
      "   1/3222 [..............................] - ETA: 73:30:29 - loss: 0.0948 - accuracy: 0.9805 - recall: 0.3333 - precision: 0.0526"
     ]
    },
    {
     "name": "stderr",
     "output_type": "stream",
     "text": [
      "2024-01-15 04:36:02.914536: I tensorflow/core/kernels/data/shuffle_dataset_op.cc:452] Shuffle buffer filled.\n"
     ]
    },
    {
     "name": "stdout",
     "output_type": "stream",
     "text": [
      "3222/3222 [==============================] - 343s 81ms/step - loss: 0.2704 - accuracy: 0.8723 - recall: 0.8938 - precision: 0.3098 - val_loss: 0.4504 - val_accuracy: 0.8477 - val_recall: 0.5450 - val_precision: 0.2149\n",
      "Epoch 20/20\n"
     ]
    },
    {
     "name": "stderr",
     "output_type": "stream",
     "text": [
      "2024-01-15 04:40:34.226303: I tensorflow/core/kernels/data/shuffle_dataset_op.cc:422] ShuffleDatasetV3:20: Filling up shuffle buffer (this may take a while): 246 of 2000\n",
      "2024-01-15 04:40:44.259970: I tensorflow/core/kernels/data/shuffle_dataset_op.cc:422] ShuffleDatasetV3:20: Filling up shuffle buffer (this may take a while): 483 of 2000\n",
      "2024-01-15 04:41:04.232878: I tensorflow/core/kernels/data/shuffle_dataset_op.cc:422] ShuffleDatasetV3:20: Filling up shuffle buffer (this may take a while): 967 of 2000\n",
      "2024-01-15 04:41:14.256417: I tensorflow/core/kernels/data/shuffle_dataset_op.cc:422] ShuffleDatasetV3:20: Filling up shuffle buffer (this may take a while): 1207 of 2000\n",
      "2024-01-15 04:41:34.232719: I tensorflow/core/kernels/data/shuffle_dataset_op.cc:422] ShuffleDatasetV3:20: Filling up shuffle buffer (this may take a while): 1691 of 2000\n",
      "2024-01-15 04:41:44.240960: I tensorflow/core/kernels/data/shuffle_dataset_op.cc:422] ShuffleDatasetV3:20: Filling up shuffle buffer (this may take a while): 1931 of 2000\n"
     ]
    },
    {
     "name": "stdout",
     "output_type": "stream",
     "text": [
      "   1/3222 [..............................] - ETA: 74:20:31 - loss: 0.0289 - accuracy: 0.9912 - recall: 0.0000e+00 - precision: 0.0000e+00"
     ]
    },
    {
     "name": "stderr",
     "output_type": "stream",
     "text": [
      "2024-01-15 04:41:47.106591: I tensorflow/core/kernels/data/shuffle_dataset_op.cc:452] Shuffle buffer filled.\n"
     ]
    },
    {
     "name": "stdout",
     "output_type": "stream",
     "text": [
      "3222/3222 [==============================] - 344s 81ms/step - loss: 0.2631 - accuracy: 0.8747 - recall: 0.8996 - precision: 0.3147 - val_loss: 0.4565 - val_accuracy: 0.8457 - val_recall: 0.5069 - val_precision: 0.2035\n"
     ]
    }
   ],
   "source": [
    "weight_for_0 = (1 / neg) * (total / 2.0)\n",
    "weight_for_1 = (1 / pos) * (total / 2.0)\n",
    "class_weight = {0: weight_for_0, 1: weight_for_1}\n",
    "history = model.fit(ds_train, epochs=20, validation_data=ds_val, class_weight=class_weight)"
   ]
  },
  {
   "cell_type": "code",
   "execution_count": 16,
   "metadata": {},
   "outputs": [
    {
     "name": "stdout",
     "output_type": "stream",
     "text": [
      "99/99 [==============================] - 5s 50ms/step - loss: 0.2992 - accuracy: 0.8675 - recall: 0.7925 - precision: 0.1226\n"
     ]
    },
    {
     "data": {
      "text/plain": [
       "[0.2991568148136139,\n",
       " 0.8675167560577393,\n",
       " 0.792469322681427,\n",
       " 0.12262872606515884]"
      ]
     },
     "execution_count": 16,
     "metadata": {},
     "output_type": "execute_result"
    }
   ],
   "source": [
    "model.evaluate(ds_test)"
   ]
  },
  {
   "cell_type": "code",
   "execution_count": null,
   "metadata": {},
   "outputs": [],
   "source": []
  },
  {
   "cell_type": "code",
   "execution_count": 17,
   "metadata": {},
   "outputs": [],
   "source": [
    "model.save(\"../models/model_v6_cw.keras\")"
   ]
  },
  {
   "cell_type": "code",
   "execution_count": 18,
   "metadata": {},
   "outputs": [],
   "source": [
    "# save history\n",
    "history = pd.DataFrame.from_dict(history.history)\n",
    "history.to_csv(\"../models/history_model_v6_cw.csv\", index=False)"
   ]
  },
  {
   "cell_type": "code",
   "execution_count": null,
   "metadata": {},
   "outputs": [],
   "source": []
  }
 ],
 "metadata": {
  "kernelspec": {
   "display_name": "base",
   "language": "python",
   "name": "python3"
  },
  "language_info": {
   "codemirror_mode": {
    "name": "ipython",
    "version": 3
   },
   "file_extension": ".py",
   "mimetype": "text/x-python",
   "name": "python",
   "nbconvert_exporter": "python",
   "pygments_lexer": "ipython3",
   "version": "3.10.12"
  }
 },
 "nbformat": 4,
 "nbformat_minor": 2
}

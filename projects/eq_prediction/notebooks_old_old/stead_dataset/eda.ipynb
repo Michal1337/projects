{
 "cells": [
  {
   "cell_type": "code",
   "execution_count": 1,
   "metadata": {},
   "outputs": [],
   "source": [
    "import pandas as pd\n",
    "import numpy as np\n",
    "import matplotlib.pyplot as plt"
   ]
  },
  {
   "cell_type": "code",
   "execution_count": 2,
   "metadata": {},
   "outputs": [
    {
     "name": "stderr",
     "output_type": "stream",
     "text": [
      "/tmp/ipykernel_744/2052844954.py:1: DtypeWarning: Columns (7,11,13,14,24,25,26,30,31) have mixed types. Specify dtype option on import or set low_memory=False.\n",
      "  df = pd.read_csv(\"../../data/merge.csv\")\n"
     ]
    },
    {
     "data": {
      "text/html": [
       "<div>\n",
       "<style scoped>\n",
       "    .dataframe tbody tr th:only-of-type {\n",
       "        vertical-align: middle;\n",
       "    }\n",
       "\n",
       "    .dataframe tbody tr th {\n",
       "        vertical-align: top;\n",
       "    }\n",
       "\n",
       "    .dataframe thead th {\n",
       "        text-align: right;\n",
       "    }\n",
       "</style>\n",
       "<table border=\"1\" class=\"dataframe\">\n",
       "  <thead>\n",
       "    <tr style=\"text-align: right;\">\n",
       "      <th></th>\n",
       "      <th>network_code</th>\n",
       "      <th>receiver_code</th>\n",
       "      <th>receiver_type</th>\n",
       "      <th>receiver_latitude</th>\n",
       "      <th>receiver_longitude</th>\n",
       "      <th>receiver_elevation_m</th>\n",
       "      <th>p_arrival_sample</th>\n",
       "      <th>p_status</th>\n",
       "      <th>p_weight</th>\n",
       "      <th>p_travel_sec</th>\n",
       "      <th>...</th>\n",
       "      <th>source_magnitude_author</th>\n",
       "      <th>source_mechanism_strike_dip_rake</th>\n",
       "      <th>source_distance_deg</th>\n",
       "      <th>source_distance_km</th>\n",
       "      <th>back_azimuth_deg</th>\n",
       "      <th>snr_db</th>\n",
       "      <th>coda_end_sample</th>\n",
       "      <th>trace_start_time</th>\n",
       "      <th>trace_category</th>\n",
       "      <th>trace_name</th>\n",
       "    </tr>\n",
       "  </thead>\n",
       "  <tbody>\n",
       "    <tr>\n",
       "      <th>0</th>\n",
       "      <td>TA</td>\n",
       "      <td>109C</td>\n",
       "      <td>HH</td>\n",
       "      <td>32.8889</td>\n",
       "      <td>-117.1051</td>\n",
       "      <td>150.0</td>\n",
       "      <td>NaN</td>\n",
       "      <td>NaN</td>\n",
       "      <td>NaN</td>\n",
       "      <td>NaN</td>\n",
       "      <td>...</td>\n",
       "      <td>NaN</td>\n",
       "      <td>NaN</td>\n",
       "      <td>NaN</td>\n",
       "      <td>NaN</td>\n",
       "      <td>NaN</td>\n",
       "      <td>NaN</td>\n",
       "      <td>NaN</td>\n",
       "      <td>2015-10-21 05:55:00</td>\n",
       "      <td>noise</td>\n",
       "      <td>109C.TA_201510210555_NO</td>\n",
       "    </tr>\n",
       "    <tr>\n",
       "      <th>1</th>\n",
       "      <td>TA</td>\n",
       "      <td>109C</td>\n",
       "      <td>HH</td>\n",
       "      <td>32.8889</td>\n",
       "      <td>-117.1051</td>\n",
       "      <td>150.0</td>\n",
       "      <td>NaN</td>\n",
       "      <td>NaN</td>\n",
       "      <td>NaN</td>\n",
       "      <td>NaN</td>\n",
       "      <td>...</td>\n",
       "      <td>NaN</td>\n",
       "      <td>NaN</td>\n",
       "      <td>NaN</td>\n",
       "      <td>NaN</td>\n",
       "      <td>NaN</td>\n",
       "      <td>NaN</td>\n",
       "      <td>NaN</td>\n",
       "      <td>2015-11-06 14:50:00</td>\n",
       "      <td>noise</td>\n",
       "      <td>109C.TA_201511061450_NO</td>\n",
       "    </tr>\n",
       "    <tr>\n",
       "      <th>2</th>\n",
       "      <td>TA</td>\n",
       "      <td>109C</td>\n",
       "      <td>HH</td>\n",
       "      <td>32.8889</td>\n",
       "      <td>-117.1051</td>\n",
       "      <td>150.0</td>\n",
       "      <td>NaN</td>\n",
       "      <td>NaN</td>\n",
       "      <td>NaN</td>\n",
       "      <td>NaN</td>\n",
       "      <td>...</td>\n",
       "      <td>NaN</td>\n",
       "      <td>NaN</td>\n",
       "      <td>NaN</td>\n",
       "      <td>NaN</td>\n",
       "      <td>NaN</td>\n",
       "      <td>NaN</td>\n",
       "      <td>NaN</td>\n",
       "      <td>2015-11-07 02:20:00</td>\n",
       "      <td>noise</td>\n",
       "      <td>109C.TA_201511070220_NO</td>\n",
       "    </tr>\n",
       "    <tr>\n",
       "      <th>3</th>\n",
       "      <td>TA</td>\n",
       "      <td>109C</td>\n",
       "      <td>HH</td>\n",
       "      <td>32.8889</td>\n",
       "      <td>-117.1051</td>\n",
       "      <td>150.0</td>\n",
       "      <td>NaN</td>\n",
       "      <td>NaN</td>\n",
       "      <td>NaN</td>\n",
       "      <td>NaN</td>\n",
       "      <td>...</td>\n",
       "      <td>NaN</td>\n",
       "      <td>NaN</td>\n",
       "      <td>NaN</td>\n",
       "      <td>NaN</td>\n",
       "      <td>NaN</td>\n",
       "      <td>NaN</td>\n",
       "      <td>NaN</td>\n",
       "      <td>2015-11-14 05:15:00</td>\n",
       "      <td>noise</td>\n",
       "      <td>109C.TA_201511140515_NO</td>\n",
       "    </tr>\n",
       "    <tr>\n",
       "      <th>4</th>\n",
       "      <td>TA</td>\n",
       "      <td>109C</td>\n",
       "      <td>HH</td>\n",
       "      <td>32.8889</td>\n",
       "      <td>-117.1051</td>\n",
       "      <td>150.0</td>\n",
       "      <td>NaN</td>\n",
       "      <td>NaN</td>\n",
       "      <td>NaN</td>\n",
       "      <td>NaN</td>\n",
       "      <td>...</td>\n",
       "      <td>NaN</td>\n",
       "      <td>NaN</td>\n",
       "      <td>NaN</td>\n",
       "      <td>NaN</td>\n",
       "      <td>NaN</td>\n",
       "      <td>NaN</td>\n",
       "      <td>NaN</td>\n",
       "      <td>2015-12-25 18:50:00</td>\n",
       "      <td>noise</td>\n",
       "      <td>109C.TA_201512251850_NO</td>\n",
       "    </tr>\n",
       "    <tr>\n",
       "      <th>...</th>\n",
       "      <td>...</td>\n",
       "      <td>...</td>\n",
       "      <td>...</td>\n",
       "      <td>...</td>\n",
       "      <td>...</td>\n",
       "      <td>...</td>\n",
       "      <td>...</td>\n",
       "      <td>...</td>\n",
       "      <td>...</td>\n",
       "      <td>...</td>\n",
       "      <td>...</td>\n",
       "      <td>...</td>\n",
       "      <td>...</td>\n",
       "      <td>...</td>\n",
       "      <td>...</td>\n",
       "      <td>...</td>\n",
       "      <td>...</td>\n",
       "      <td>...</td>\n",
       "      <td>...</td>\n",
       "      <td>...</td>\n",
       "      <td>...</td>\n",
       "    </tr>\n",
       "    <tr>\n",
       "      <th>1265652</th>\n",
       "      <td>WY</td>\n",
       "      <td>YHL</td>\n",
       "      <td>HH</td>\n",
       "      <td>44.8509</td>\n",
       "      <td>-111.1830</td>\n",
       "      <td>2691.0</td>\n",
       "      <td>400.0</td>\n",
       "      <td>manual</td>\n",
       "      <td>0.68</td>\n",
       "      <td>4.21</td>\n",
       "      <td>...</td>\n",
       "      <td>NaN</td>\n",
       "      <td>NaN</td>\n",
       "      <td>0.1253</td>\n",
       "      <td>13.93</td>\n",
       "      <td>124.9</td>\n",
       "      <td>[34.40000153 33.         36.70000076]</td>\n",
       "      <td>[[1239.]]</td>\n",
       "      <td>2017-06-21 09:40:43.810000</td>\n",
       "      <td>earthquake_local</td>\n",
       "      <td>YHL.WY_20170621094042_EV</td>\n",
       "    </tr>\n",
       "    <tr>\n",
       "      <th>1265653</th>\n",
       "      <td>WY</td>\n",
       "      <td>YHL</td>\n",
       "      <td>HH</td>\n",
       "      <td>44.8509</td>\n",
       "      <td>-111.1830</td>\n",
       "      <td>2691.0</td>\n",
       "      <td>600.0</td>\n",
       "      <td>manual</td>\n",
       "      <td>0.65</td>\n",
       "      <td>4.84</td>\n",
       "      <td>...</td>\n",
       "      <td>NaN</td>\n",
       "      <td>NaN</td>\n",
       "      <td>0.1553</td>\n",
       "      <td>17.26</td>\n",
       "      <td>121.7</td>\n",
       "      <td>[44.20000076 43.79999924 41.40000153]</td>\n",
       "      <td>[[1551.]]</td>\n",
       "      <td>2017-06-21 12:21:05.390000</td>\n",
       "      <td>earthquake_local</td>\n",
       "      <td>YHL.WY_20170621122104_EV</td>\n",
       "    </tr>\n",
       "    <tr>\n",
       "      <th>1265654</th>\n",
       "      <td>WY</td>\n",
       "      <td>YHL</td>\n",
       "      <td>HH</td>\n",
       "      <td>44.8509</td>\n",
       "      <td>-111.1830</td>\n",
       "      <td>2691.0</td>\n",
       "      <td>500.0</td>\n",
       "      <td>manual</td>\n",
       "      <td>0.65</td>\n",
       "      <td>4.82</td>\n",
       "      <td>...</td>\n",
       "      <td>NaN</td>\n",
       "      <td>NaN</td>\n",
       "      <td>0.1534</td>\n",
       "      <td>17.05</td>\n",
       "      <td>121.5</td>\n",
       "      <td>[47.5        39.90000153 42.70000076]</td>\n",
       "      <td>[[1443.]]</td>\n",
       "      <td>2017-06-21 12:23:40.200000</td>\n",
       "      <td>earthquake_local</td>\n",
       "      <td>YHL.WY_20170621122339_EV</td>\n",
       "    </tr>\n",
       "    <tr>\n",
       "      <th>1265655</th>\n",
       "      <td>WY</td>\n",
       "      <td>YHL</td>\n",
       "      <td>HH</td>\n",
       "      <td>44.8509</td>\n",
       "      <td>-111.1830</td>\n",
       "      <td>2691.0</td>\n",
       "      <td>500.0</td>\n",
       "      <td>manual</td>\n",
       "      <td>0.59</td>\n",
       "      <td>4.26</td>\n",
       "      <td>...</td>\n",
       "      <td>NaN</td>\n",
       "      <td>NaN</td>\n",
       "      <td>0.1267</td>\n",
       "      <td>14.08</td>\n",
       "      <td>126.6</td>\n",
       "      <td>[24.70000076 21.89999962 21.        ]</td>\n",
       "      <td>[[1322.]]</td>\n",
       "      <td>2017-06-21 13:34:40.330000</td>\n",
       "      <td>earthquake_local</td>\n",
       "      <td>YHL.WY_20170621133439_EV</td>\n",
       "    </tr>\n",
       "    <tr>\n",
       "      <th>1265656</th>\n",
       "      <td>WY</td>\n",
       "      <td>YHL</td>\n",
       "      <td>HH</td>\n",
       "      <td>44.8509</td>\n",
       "      <td>-111.1830</td>\n",
       "      <td>2691.0</td>\n",
       "      <td>500.0</td>\n",
       "      <td>manual</td>\n",
       "      <td>0.59</td>\n",
       "      <td>4.45</td>\n",
       "      <td>...</td>\n",
       "      <td>NaN</td>\n",
       "      <td>NaN</td>\n",
       "      <td>0.1484</td>\n",
       "      <td>16.50</td>\n",
       "      <td>130.0</td>\n",
       "      <td>[32.90000153 32.79999924 35.59999847]</td>\n",
       "      <td>[[1429.]]</td>\n",
       "      <td>2017-06-21 14:06:11.750000</td>\n",
       "      <td>earthquake_local</td>\n",
       "      <td>YHL.WY_20170621140610_EV</td>\n",
       "    </tr>\n",
       "  </tbody>\n",
       "</table>\n",
       "<p>1265657 rows × 35 columns</p>\n",
       "</div>"
      ],
      "text/plain": [
       "        network_code receiver_code receiver_type  receiver_latitude  \\\n",
       "0                 TA          109C            HH            32.8889   \n",
       "1                 TA          109C            HH            32.8889   \n",
       "2                 TA          109C            HH            32.8889   \n",
       "3                 TA          109C            HH            32.8889   \n",
       "4                 TA          109C            HH            32.8889   \n",
       "...              ...           ...           ...                ...   \n",
       "1265652           WY           YHL            HH            44.8509   \n",
       "1265653           WY           YHL            HH            44.8509   \n",
       "1265654           WY           YHL            HH            44.8509   \n",
       "1265655           WY           YHL            HH            44.8509   \n",
       "1265656           WY           YHL            HH            44.8509   \n",
       "\n",
       "         receiver_longitude  receiver_elevation_m  p_arrival_sample p_status  \\\n",
       "0                 -117.1051                 150.0               NaN      NaN   \n",
       "1                 -117.1051                 150.0               NaN      NaN   \n",
       "2                 -117.1051                 150.0               NaN      NaN   \n",
       "3                 -117.1051                 150.0               NaN      NaN   \n",
       "4                 -117.1051                 150.0               NaN      NaN   \n",
       "...                     ...                   ...               ...      ...   \n",
       "1265652           -111.1830                2691.0             400.0   manual   \n",
       "1265653           -111.1830                2691.0             600.0   manual   \n",
       "1265654           -111.1830                2691.0             500.0   manual   \n",
       "1265655           -111.1830                2691.0             500.0   manual   \n",
       "1265656           -111.1830                2691.0             500.0   manual   \n",
       "\n",
       "         p_weight  p_travel_sec  ...  source_magnitude_author  \\\n",
       "0             NaN           NaN  ...                      NaN   \n",
       "1             NaN           NaN  ...                      NaN   \n",
       "2             NaN           NaN  ...                      NaN   \n",
       "3             NaN           NaN  ...                      NaN   \n",
       "4             NaN           NaN  ...                      NaN   \n",
       "...           ...           ...  ...                      ...   \n",
       "1265652      0.68          4.21  ...                      NaN   \n",
       "1265653      0.65          4.84  ...                      NaN   \n",
       "1265654      0.65          4.82  ...                      NaN   \n",
       "1265655      0.59          4.26  ...                      NaN   \n",
       "1265656      0.59          4.45  ...                      NaN   \n",
       "\n",
       "        source_mechanism_strike_dip_rake  source_distance_deg  \\\n",
       "0                                    NaN                  NaN   \n",
       "1                                    NaN                  NaN   \n",
       "2                                    NaN                  NaN   \n",
       "3                                    NaN                  NaN   \n",
       "4                                    NaN                  NaN   \n",
       "...                                  ...                  ...   \n",
       "1265652                              NaN               0.1253   \n",
       "1265653                              NaN               0.1553   \n",
       "1265654                              NaN               0.1534   \n",
       "1265655                              NaN               0.1267   \n",
       "1265656                              NaN               0.1484   \n",
       "\n",
       "        source_distance_km back_azimuth_deg  \\\n",
       "0                      NaN              NaN   \n",
       "1                      NaN              NaN   \n",
       "2                      NaN              NaN   \n",
       "3                      NaN              NaN   \n",
       "4                      NaN              NaN   \n",
       "...                    ...              ...   \n",
       "1265652              13.93            124.9   \n",
       "1265653              17.26            121.7   \n",
       "1265654              17.05            121.5   \n",
       "1265655              14.08            126.6   \n",
       "1265656              16.50            130.0   \n",
       "\n",
       "                                        snr_db  coda_end_sample  \\\n",
       "0                                          NaN              NaN   \n",
       "1                                          NaN              NaN   \n",
       "2                                          NaN              NaN   \n",
       "3                                          NaN              NaN   \n",
       "4                                          NaN              NaN   \n",
       "...                                        ...              ...   \n",
       "1265652  [34.40000153 33.         36.70000076]        [[1239.]]   \n",
       "1265653  [44.20000076 43.79999924 41.40000153]        [[1551.]]   \n",
       "1265654  [47.5        39.90000153 42.70000076]        [[1443.]]   \n",
       "1265655  [24.70000076 21.89999962 21.        ]        [[1322.]]   \n",
       "1265656  [32.90000153 32.79999924 35.59999847]        [[1429.]]   \n",
       "\n",
       "                   trace_start_time    trace_category  \\\n",
       "0               2015-10-21 05:55:00             noise   \n",
       "1               2015-11-06 14:50:00             noise   \n",
       "2               2015-11-07 02:20:00             noise   \n",
       "3               2015-11-14 05:15:00             noise   \n",
       "4               2015-12-25 18:50:00             noise   \n",
       "...                             ...               ...   \n",
       "1265652  2017-06-21 09:40:43.810000  earthquake_local   \n",
       "1265653  2017-06-21 12:21:05.390000  earthquake_local   \n",
       "1265654  2017-06-21 12:23:40.200000  earthquake_local   \n",
       "1265655  2017-06-21 13:34:40.330000  earthquake_local   \n",
       "1265656  2017-06-21 14:06:11.750000  earthquake_local   \n",
       "\n",
       "                       trace_name  \n",
       "0         109C.TA_201510210555_NO  \n",
       "1         109C.TA_201511061450_NO  \n",
       "2         109C.TA_201511070220_NO  \n",
       "3         109C.TA_201511140515_NO  \n",
       "4         109C.TA_201512251850_NO  \n",
       "...                           ...  \n",
       "1265652  YHL.WY_20170621094042_EV  \n",
       "1265653  YHL.WY_20170621122104_EV  \n",
       "1265654  YHL.WY_20170621122339_EV  \n",
       "1265655  YHL.WY_20170621133439_EV  \n",
       "1265656  YHL.WY_20170621140610_EV  \n",
       "\n",
       "[1265657 rows x 35 columns]"
      ]
     },
     "execution_count": 2,
     "metadata": {},
     "output_type": "execute_result"
    }
   ],
   "source": [
    "df = pd.read_csv(\"../../data/merge.csv\")\n",
    "df"
   ]
  },
  {
   "cell_type": "code",
   "execution_count": 3,
   "metadata": {},
   "outputs": [
    {
     "data": {
      "text/plain": [
       "(1265657, 35)"
      ]
     },
     "execution_count": 3,
     "metadata": {},
     "output_type": "execute_result"
    }
   ],
   "source": [
    "df.shape"
   ]
  },
  {
   "cell_type": "code",
   "execution_count": 7,
   "metadata": {},
   "outputs": [],
   "source": [
    "df[\"trace_start_time\"] = pd.to_datetime(df[\"trace_start_time\"], format=\"mixed\")"
   ]
  },
  {
   "cell_type": "code",
   "execution_count": 4,
   "metadata": {},
   "outputs": [
    {
     "data": {
      "text/plain": [
       "(1265657, 35)"
      ]
     },
     "execution_count": 4,
     "metadata": {},
     "output_type": "execute_result"
    }
   ],
   "source": [
    "df.shape"
   ]
  },
  {
   "cell_type": "code",
   "execution_count": 8,
   "metadata": {},
   "outputs": [
    {
     "data": {
      "image/png": "[encoded data removed]",
      "text/plain": [
       "<Figure size 640x480 with 1 Axes>"
      ]
     },
     "metadata": {},
     "output_type": "display_data"
    }
   ],
   "source": [
    "# plot count of earthquakes over time\n",
    "df[\"trace_start_time\"].hist(bins=100)\n",
    "plt.show()"
   ]
  },
  {
   "cell_type": "code",
   "execution_count": 9,
   "metadata": {},
   "outputs": [
    {
     "data": {
      "image/png": "[encoded data removed]",
      "text/plain": [
       "<Figure size 640x480 with 1 Axes>"
      ]
     },
     "metadata": {},
     "output_type": "display_data"
    }
   ],
   "source": [
    "# plot count of earthquakes over longitude and latitude\n",
    "df.plot.scatter(x=\"source_longitude\", y=\"source_latitude\")\n",
    "plt.show()"
   ]
  },
  {
   "cell_type": "code",
   "execution_count": 10,
   "metadata": {},
   "outputs": [
    {
     "data": {
      "text/plain": [
       "<Axes: >"
      ]
     },
     "execution_count": 10,
     "metadata": {},
     "output_type": "execute_result"
    },
    {
     "data": {
      "image/png": "[encoded data removed]",
      "text/plain": [
       "<Figure size 640x480 with 1 Axes>"
      ]
     },
     "metadata": {},
     "output_type": "display_data"
    }
   ],
   "source": [
    "# plot count of earthquakes over longitude\n",
    "df[\"source_longitude\"].hist(bins=100)"
   ]
  },
  {
   "cell_type": "code",
   "execution_count": 11,
   "metadata": {},
   "outputs": [
    {
     "data": {
      "text/plain": [
       "<Axes: >"
      ]
     },
     "execution_count": 11,
     "metadata": {},
     "output_type": "execute_result"
    },
    {
     "data": {
      "image/png": "[encoded data removed]",
      "text/plain": [
       "<Figure size 640x480 with 1 Axes>"
      ]
     },
     "metadata": {},
     "output_type": "display_data"
    }
   ],
   "source": [
    "# plot count of earthquakes over latitude\n",
    "df[\"source_latitude\"].hist(bins=100)"
   ]
  },
  {
   "cell_type": "code",
   "execution_count": null,
   "metadata": {},
   "outputs": [],
   "source": []
  },
  {
   "cell_type": "code",
   "execution_count": null,
   "metadata": {},
   "outputs": [],
   "source": []
  },
  {
   "cell_type": "code",
   "execution_count": null,
   "metadata": {},
   "outputs": [],
   "source": []
  },
  {
   "cell_type": "code",
   "execution_count": null,
   "metadata": {},
   "outputs": [],
   "source": []
  },
  {
   "cell_type": "code",
   "execution_count": null,
   "metadata": {},
   "outputs": [],
   "source": []
  },
  {
   "cell_type": "code",
   "execution_count": null,
   "metadata": {},
   "outputs": [],
   "source": []
  },
  {
   "cell_type": "code",
   "execution_count": null,
   "metadata": {},
   "outputs": [],
   "source": []
  }
 ],
 "metadata": {
  "kernelspec": {
   "display_name": "base",
   "language": "python",
   "name": "python3"
  },
  "language_info": {
   "codemirror_mode": {
    "name": "ipython",
    "version": 3
   },
   "file_extension": ".py",
   "mimetype": "text/x-python",
   "name": "python",
   "nbconvert_exporter": "python",
   "pygments_lexer": "ipython3",
   "version": "3.10.12"
  },
  "orig_nbformat": 4
 },
 "nbformat": 4,
 "nbformat_minor": 2
}

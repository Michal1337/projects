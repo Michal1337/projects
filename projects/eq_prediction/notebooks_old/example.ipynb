{
 "cells": [
  {
   "cell_type": "code",
   "execution_count": 1,
   "metadata": {},
   "outputs": [
    {
     "name": "stderr",
     "output_type": "stream",
     "text": [
      "2023-12-06 22:34:46.611074: E tensorflow/compiler/xla/stream_executor/cuda/cuda_dnn.cc:9342] Unable to register cuDNN factory: Attempting to register factory for plugin cuDNN when one has already been registered\n",
      "2023-12-06 22:34:46.611206: E tensorflow/compiler/xla/stream_executor/cuda/cuda_fft.cc:609] Unable to register cuFFT factory: Attempting to register factory for plugin cuFFT when one has already been registered\n",
      "2023-12-06 22:34:46.611246: E tensorflow/compiler/xla/stream_executor/cuda/cuda_blas.cc:1518] Unable to register cuBLAS factory: Attempting to register factory for plugin cuBLAS when one has already been registered\n",
      "2023-12-06 22:34:46.621399: I tensorflow/core/platform/cpu_feature_guard.cc:182] This TensorFlow binary is optimized to use available CPU instructions in performance-critical operations.\n",
      "To enable the following instructions: AVX2 FMA, in other operations, rebuild TensorFlow with the appropriate compiler flags.\n",
      "2023-12-06 22:34:47.800473: W tensorflow/compiler/tf2tensorrt/utils/py_utils.cc:38] TF-TRT Warning: Could not find TensorRT\n"
     ]
    }
   ],
   "source": [
    "import tensorflow as tf\n",
    "import numpy as np"
   ]
  },
  {
   "cell_type": "code",
   "execution_count": 3,
   "metadata": {},
   "outputs": [],
   "source": [
    "#loads model, model takes 2 inputs\n",
    "model = tf.keras.models.load_model(\"../models/test_model.keras\")\n",
    "model = tf.keras.models.load_model(\"../models/test_model.h5\")"
   ]
  },
  {
   "cell_type": "code",
   "execution_count": null,
   "metadata": {},
   "outputs": [],
   "source": [
    "BLOCK_SIZE = 64"
   ]
  },
  {
   "cell_type": "code",
   "execution_count": 15,
   "metadata": {},
   "outputs": [],
   "source": [
    "# FIRST INPUT\n",
    "# example input need to be in shape (None, block_size, n_features). In this example block_size = 64,\n",
    "# n_features = 8 (mag, lat, lon, depth , dist, distance, diff_days, plate). None is the batch dimension, which can be any size. As long as it fits in the VRAM.\n",
    "# mag - magnitude\n",
    "# x - latitude\n",
    "# y - longitude\n",
    "# depth - depth\n",
    "# dist - distance from edge of the plate\n",
    "# distance - distance from middle of the square\n",
    "# diff_days - difference in days from the last earthquake\n",
    "# plate - plate number\n",
    "# Note that features from mag to distance are continuous, while diff_days and plate are discrete.\n",
    "# All continuous features are preprocessed with scaler from .pkl file in data/ folder.\n",
    "x = np.random.rand(1, BLOCK_SIZE, 8)"
   ]
  },
  {
   "cell_type": "code",
   "execution_count": null,
   "metadata": {},
   "outputs": [],
   "source": [
    "# SECOND INPUT\n",
    "# example input need to be in shape (None, 4).\n",
    "# 4 features are: latitude, longitude, dist, plate\n",
    "# latitude - latitude of the middle of the square\n",
    "# longitude - longitude of the middle of the square\n",
    "# dist - distance from edge of the plate\n",
    "# plate - plate number\n",
    "# Note that features from mag to distance are continuous, while diff_days are discrete.\n",
    "x_reg = np.random.rand(1, 4)"
   ]
  },
  {
   "cell_type": "code",
   "execution_count": 16,
   "metadata": {},
   "outputs": [
    {
     "name": "stdout",
     "output_type": "stream",
     "text": [
      "1/1 [==============================] - 1s 703ms/step\n"
     ]
    },
    {
     "data": {
      "text/plain": [
       "array([[ 1.5245371, -2.2519789]], dtype=float32)"
      ]
     },
     "execution_count": 16,
     "metadata": {},
     "output_type": "execute_result"
    }
   ],
   "source": [
    "inputs = [x, x_reg]\n",
    "probs = model.predict(inputs)"
   ]
  },
  {
   "cell_type": "code",
   "execution_count": 5,
   "metadata": {},
   "outputs": [
    {
     "data": {
      "text/plain": [
       "<tf.Tensor: shape=(1, 2), dtype=float32, numpy=array([[0.97678554, 0.02321445]], dtype=float32)>"
      ]
     },
     "execution_count": 5,
     "metadata": {},
     "output_type": "execute_result"
    }
   ],
   "source": [
    "# model return probabilities of earthquake in the next 30 days in the given square\n",
    "probs"
   ]
  },
  {
   "cell_type": "code",
   "execution_count": 6,
   "metadata": {},
   "outputs": [],
   "source": [
    "# first element is the probability of the first class, second element is the probability of the second class, here first class is no earthquake, second class is earthquake"
   ]
  },
  {
   "cell_type": "code",
   "execution_count": null,
   "metadata": {},
   "outputs": [],
   "source": []
  },
  {
   "cell_type": "code",
   "execution_count": null,
   "metadata": {},
   "outputs": [],
   "source": []
  }
 ],
 "metadata": {
  "kernelspec": {
   "display_name": "base",
   "language": "python",
   "name": "python3"
  },
  "language_info": {
   "codemirror_mode": {
    "name": "ipython",
    "version": 3
   },
   "file_extension": ".py",
   "mimetype": "text/x-python",
   "name": "python",
   "nbconvert_exporter": "python",
   "pygments_lexer": "ipython3",
   "version": "3.10.12"
  }
 },
 "nbformat": 4,
 "nbformat_minor": 2
}

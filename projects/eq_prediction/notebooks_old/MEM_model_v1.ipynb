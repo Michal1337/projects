{
 "cells": [
  {
   "cell_type": "markdown",
   "metadata": {},
   "source": [
    "# LSTM. 5 featerow - mag, x, y, depth, diff_days"
   ]
  },
  {
   "cell_type": "code",
   "execution_count": 47,
   "metadata": {},
   "outputs": [],
   "source": [
    "import numpy as np\n",
    "import tensorflow as tf\n",
    "import pandas as pd\n",
    "SEED = 1337\n",
    "tf.random.set_seed(SEED)\n",
    "np.random.seed(SEED)"
   ]
  },
  {
   "cell_type": "code",
   "execution_count": null,
   "metadata": {},
   "outputs": [],
   "source": []
  },
  {
   "cell_type": "code",
   "execution_count": 48,
   "metadata": {},
   "outputs": [
    {
     "name": "stderr",
     "output_type": "stream",
     "text": [
      "2024-01-28 05:48:48.118900: I tensorflow/compiler/xla/stream_executor/cuda/cuda_gpu_executor.cc:880] could not open file to read NUMA node: /sys/bus/pci/devices/0000:01:00.0/numa_node\n",
      "Your kernel may have been built without NUMA support.\n",
      "2024-01-28 05:48:48.648841: I tensorflow/compiler/xla/stream_executor/cuda/cuda_gpu_executor.cc:880] could not open file to read NUMA node: /sys/bus/pci/devices/0000:01:00.0/numa_node\n",
      "Your kernel may have been built without NUMA support.\n",
      "2024-01-28 05:48:48.648914: I tensorflow/compiler/xla/stream_executor/cuda/cuda_gpu_executor.cc:880] could not open file to read NUMA node: /sys/bus/pci/devices/0000:01:00.0/numa_node\n",
      "Your kernel may have been built without NUMA support.\n",
      "2024-01-28 05:48:48.662702: I tensorflow/compiler/xla/stream_executor/cuda/cuda_gpu_executor.cc:880] could not open file to read NUMA node: /sys/bus/pci/devices/0000:01:00.0/numa_node\n",
      "Your kernel may have been built without NUMA support.\n",
      "2024-01-28 05:48:48.662778: I tensorflow/compiler/xla/stream_executor/cuda/cuda_gpu_executor.cc:880] could not open file to read NUMA node: /sys/bus/pci/devices/0000:01:00.0/numa_node\n",
      "Your kernel may have been built without NUMA support.\n",
      "2024-01-28 05:48:48.662820: I tensorflow/compiler/xla/stream_executor/cuda/cuda_gpu_executor.cc:880] could not open file to read NUMA node: /sys/bus/pci/devices/0000:01:00.0/numa_node\n",
      "Your kernel may have been built without NUMA support.\n",
      "2024-01-28 05:48:51.993556: I tensorflow/compiler/xla/stream_executor/cuda/cuda_gpu_executor.cc:880] could not open file to read NUMA node: /sys/bus/pci/devices/0000:01:00.0/numa_node\n",
      "Your kernel may have been built without NUMA support.\n",
      "2024-01-28 05:48:51.993972: I tensorflow/compiler/xla/stream_executor/cuda/cuda_gpu_executor.cc:880] could not open file to read NUMA node: /sys/bus/pci/devices/0000:01:00.0/numa_node\n",
      "Your kernel may have been built without NUMA support.\n",
      "2024-01-28 05:48:51.994188: I tensorflow/core/common_runtime/gpu/gpu_device.cc:1977] Could not identify NUMA node of platform GPU id 0, defaulting to 0.  Your kernel may not have been built with NUMA support.\n",
      "2024-01-28 05:48:51.995105: I tensorflow/compiler/xla/stream_executor/cuda/cuda_gpu_executor.cc:880] could not open file to read NUMA node: /sys/bus/pci/devices/0000:01:00.0/numa_node\n",
      "Your kernel may have been built without NUMA support.\n",
      "2024-01-28 05:48:51.995512: I tensorflow/core/common_runtime/gpu/gpu_device.cc:1886] Created device /job:localhost/replica:0/task:0/device:GPU:0 with 3886 MB memory:  -> device: 0, name: NVIDIA GeForce RTX 2060 with Max-Q Design, pci bus id: 0000:01:00.0, compute capability: 7.5\n"
     ]
    }
   ],
   "source": [
    "ds_train = tf.data.Dataset.load(\"../data/MEM_ds_train/\")\n",
    "ds_val = tf.data.Dataset.load(\"../data/MEM_ds_val/\")\n",
    "ds_test = tf.data.Dataset.load(\"../data/MEM_ds_test/\")"
   ]
  },
  {
   "cell_type": "code",
   "execution_count": 49,
   "metadata": {},
   "outputs": [
    {
     "data": {
      "text/plain": [
       "(3216086, 465519, 100158)"
      ]
     },
     "execution_count": 49,
     "metadata": {},
     "output_type": "execute_result"
    }
   ],
   "source": [
    "ds_train.cardinality().numpy(), ds_val.cardinality().numpy(), ds_test.cardinality().numpy()"
   ]
  },
  {
   "cell_type": "code",
   "execution_count": 50,
   "metadata": {},
   "outputs": [],
   "source": [
    "BATCH_SIZE = 512\n",
    "BLOCK_SIZE = 64"
   ]
  },
  {
   "cell_type": "code",
   "execution_count": 51,
   "metadata": {},
   "outputs": [],
   "source": [
    "def transform_element(features, context, labels):\n",
    "    return features, (labels[:,:-1], labels[:,-1])"
   ]
  },
  {
   "cell_type": "code",
   "execution_count": 52,
   "metadata": {},
   "outputs": [],
   "source": [
    "ds_train = ds_train.map(transform_element)\n",
    "ds_val = ds_val.map(transform_element)\n",
    "ds_test = ds_test.map(transform_element)"
   ]
  },
  {
   "cell_type": "code",
   "execution_count": 53,
   "metadata": {},
   "outputs": [
    {
     "name": "stdout",
     "output_type": "stream",
     "text": [
      "(512, 64, 8)\n",
      "(512, 64, 4)\n",
      "(512, 64)\n"
     ]
    }
   ],
   "source": [
    "for x, y in ds_train.batch(BATCH_SIZE).take(1):\n",
    "    print(x.shape)\n",
    "    print(y[0].shape)\n",
    "    print(y[1].shape)"
   ]
  },
  {
   "cell_type": "code",
   "execution_count": 54,
   "metadata": {},
   "outputs": [],
   "source": [
    "ds_train = ds_train.batch(BATCH_SIZE).shuffle(2000, seed=SEED).prefetch(tf.data.experimental.AUTOTUNE)\n",
    "ds_val = ds_val.batch(BATCH_SIZE).prefetch(tf.data.experimental.AUTOTUNE)\n",
    "ds_test = ds_test.batch(BATCH_SIZE).prefetch(tf.data.experimental.AUTOTUNE)"
   ]
  },
  {
   "cell_type": "code",
   "execution_count": 55,
   "metadata": {},
   "outputs": [],
   "source": [
    "class MyModel(tf.keras.Model):\n",
    "    def __init__(self, n_embed):\n",
    "        super(MyModel, self).__init__()\n",
    "        self.embed_plate = tf.keras.layers.Embedding(100, n_embed // 8)\n",
    "        self.embed_dd = tf.keras.layers.Embedding(100, n_embed // 8)\n",
    "        self.lstm_embed = tf.keras.layers.LSTM(n_embed // 8 * 6, return_sequences=True)\n",
    "        self.lstm1 = tf.keras.layers.LSTM(n_embed, return_sequences=True)\n",
    "        self.lstm2 = tf.keras.layers.LSTM(n_embed, return_sequences=True)\n",
    "        self.dense1 = tf.keras.layers.Dense(n_embed, activation='relu')\n",
    "        self.out1 = tf.keras.layers.Dense(4, activation='sigmoid')\n",
    "        self.out2 = tf.keras.layers.Dense(17, activation='softmax')\n",
    "        self.conc = tf.keras.layers.Concatenate(axis=-1)\n",
    "\n",
    "    def call(self, x):\n",
    "        cont, plate, dd = x[:,:,:-2], x[:,:,-2], x[:,:,-1] \n",
    "        x1 = self.lstm_embed(cont)\n",
    "        x2 = self.embed_plate(plate)\n",
    "        x3 = self.embed_dd(dd)\n",
    "        x = self.conc([x1, x2, x3])\n",
    "        x = self.lstm1(x)\n",
    "        x = self.lstm2(x)\n",
    "        x = self.dense1(x)\n",
    "        out1 = self.out1(x)\n",
    "        out2 = self.out2(x)\n",
    "        return [out1, out2]"
   ]
  },
  {
   "cell_type": "code",
   "execution_count": 56,
   "metadata": {},
   "outputs": [],
   "source": [
    "model = MyModel(128)"
   ]
  },
  {
   "cell_type": "code",
   "execution_count": 57,
   "metadata": {},
   "outputs": [
    {
     "data": {
      "text/plain": [
       "325141"
      ]
     },
     "execution_count": 57,
     "metadata": {},
     "output_type": "execute_result"
    }
   ],
   "source": [
    "model.build(input_shape=(None, BLOCK_SIZE, 8))\n",
    "model.count_params()"
   ]
  },
  {
   "cell_type": "code",
   "execution_count": 58,
   "metadata": {},
   "outputs": [],
   "source": [
    "LAMBDA_1 = 2\n",
    "LAMBDA_2 = 1\n",
    "loss_weights = {'output_1': LAMBDA_1, 'output_2': LAMBDA_2}"
   ]
  },
  {
   "cell_type": "code",
   "execution_count": 59,
   "metadata": {},
   "outputs": [],
   "source": [
    "model.compile(optimizer='adam',\n",
    "            loss={'output_1': 'mse', 'output_2': tf.keras.losses.SparseCategoricalCrossentropy(from_logits=False)},\n",
    "            loss_weights=loss_weights,\n",
    "            metrics={'output_1': 'mse', 'output_2': 'accuracy'})"
   ]
  },
  {
   "cell_type": "code",
   "execution_count": 60,
   "metadata": {},
   "outputs": [
    {
     "name": "stdout",
     "output_type": "stream",
     "text": [
      "Epoch 1/30\n"
     ]
    },
    {
     "name": "stderr",
     "output_type": "stream",
     "text": [
      "2024-01-28 05:49:15.295477: I tensorflow/core/kernels/data/shuffle_dataset_op.cc:422] ShuffleDatasetV3:14: Filling up shuffle buffer (this may take a while): 364 of 2000\n",
      "2024-01-28 05:49:35.297816: I tensorflow/core/kernels/data/shuffle_dataset_op.cc:422] ShuffleDatasetV3:14: Filling up shuffle buffer (this may take a while): 1086 of 2000\n",
      "2024-01-28 05:49:55.298179: I tensorflow/core/kernels/data/shuffle_dataset_op.cc:422] ShuffleDatasetV3:14: Filling up shuffle buffer (this may take a while): 1635 of 2000\n",
      "2024-01-28 05:50:04.939784: I tensorflow/core/kernels/data/shuffle_dataset_op.cc:452] Shuffle buffer filled.\n",
      "2024-01-28 05:50:09.702583: I tensorflow/compiler/xla/stream_executor/cuda/cuda_dnn.cc:442] Loaded cuDNN version 8904\n",
      "Could not load symbol cublasGetSmCountTarget from libcublas.so.11. Error: /home/majkel/miniconda3/lib/libcublas.so.11: undefined symbol: cublasGetSmCountTarget\n",
      "2024-01-28 05:50:12.076320: I tensorflow/compiler/xla/service/service.cc:168] XLA service 0x7f44b8003200 initialized for platform CUDA (this does not guarantee that XLA will be used). Devices:\n",
      "2024-01-28 05:50:12.076399: I tensorflow/compiler/xla/service/service.cc:176]   StreamExecutor device (0): NVIDIA GeForce RTX 2060 with Max-Q Design, Compute Capability 7.5\n",
      "2024-01-28 05:50:12.172990: I tensorflow/compiler/mlir/tensorflow/utils/dump_mlir_util.cc:269] disabling MLIR crash reproducer, set env var `MLIR_CRASH_REPRODUCER_DIRECTORY` to enable.\n",
      "2024-01-28 05:50:12.597478: I ./tensorflow/compiler/jit/device_compiler.h:186] Compiled cluster using XLA!  This line is logged at most once for the lifetime of the process.\n"
     ]
    },
    {
     "name": "stdout",
     "output_type": "stream",
     "text": [
      "2356/6282 [==========>...................] - ETA: 10:12 - loss: 0.3474 - output_1_loss: 0.0495 - output_2_loss: 0.2485 - output_1_mse: 0.0495 - output_2_accuracy: 0.9431"
     ]
    },
    {
     "name": "stderr",
     "output_type": "stream",
     "text": [
      "2024-01-28 05:56:21.764320: E tensorflow/compiler/xla/stream_executor/cuda/cuda_driver.cc:809] failed to alloc 4294967296 bytes on host: CUDA_ERROR_OUT_OF_MEMORY: out of memory\n",
      "2024-01-28 05:56:21.764431: W ./tensorflow/compiler/xla/stream_executor/device_host_allocator.h:52] could not allocate pinned host memory of size: 4294967296\n",
      "2024-01-28 05:56:21.765127: E tensorflow/compiler/xla/stream_executor/cuda/cuda_driver.cc:809] failed to alloc 3865470464 bytes on host: CUDA_ERROR_OUT_OF_MEMORY: out of memory\n",
      "2024-01-28 05:56:21.765181: W ./tensorflow/compiler/xla/stream_executor/device_host_allocator.h:52] could not allocate pinned host memory of size: 3865470464\n",
      "2024-01-28 05:56:21.765488: E tensorflow/compiler/xla/stream_executor/cuda/cuda_driver.cc:809] failed to alloc 3478923264 bytes on host: CUDA_ERROR_OUT_OF_MEMORY: out of memory\n",
      "2024-01-28 05:56:21.765529: W ./tensorflow/compiler/xla/stream_executor/device_host_allocator.h:52] could not allocate pinned host memory of size: 3478923264\n"
     ]
    },
    {
     "name": "stdout",
     "output_type": "stream",
     "text": [
      "6282/6282 [==============================] - 1197s 179ms/step - loss: 0.2954 - output_1_loss: 0.0452 - output_2_loss: 0.2050 - output_1_mse: 0.0452 - output_2_accuracy: 0.9482 - val_loss: 0.2173 - val_output_1_loss: 0.0492 - val_output_2_loss: 0.1189 - val_output_1_mse: 0.0492 - val_output_2_accuracy: 0.9666\n",
      "Epoch 2/30\n"
     ]
    },
    {
     "name": "stderr",
     "output_type": "stream",
     "text": [
      "2024-01-28 06:09:05.484066: I tensorflow/core/kernels/data/shuffle_dataset_op.cc:422] ShuffleDatasetV3:14: Filling up shuffle buffer (this may take a while): 221 of 2000\n",
      "2024-01-28 06:09:15.483115: I tensorflow/core/kernels/data/shuffle_dataset_op.cc:422] ShuffleDatasetV3:14: Filling up shuffle buffer (this may take a while): 493 of 2000\n",
      "2024-01-28 06:09:35.485309: I tensorflow/core/kernels/data/shuffle_dataset_op.cc:422] ShuffleDatasetV3:14: Filling up shuffle buffer (this may take a while): 1060 of 2000\n",
      "2024-01-28 06:09:45.486195: I tensorflow/core/kernels/data/shuffle_dataset_op.cc:422] ShuffleDatasetV3:14: Filling up shuffle buffer (this may take a while): 1281 of 2000\n",
      "2024-01-28 06:09:55.491162: I tensorflow/core/kernels/data/shuffle_dataset_op.cc:422] ShuffleDatasetV3:14: Filling up shuffle buffer (this may take a while): 1588 of 2000\n",
      "2024-01-28 06:10:08.467134: I tensorflow/core/kernels/data/shuffle_dataset_op.cc:452] Shuffle buffer filled.\n"
     ]
    },
    {
     "name": "stdout",
     "output_type": "stream",
     "text": [
      "6282/6282 [==============================] - 1210s 181ms/step - loss: 0.2651 - output_1_loss: 0.0396 - output_2_loss: 0.1860 - output_1_mse: 0.0396 - output_2_accuracy: 0.9484 - val_loss: 0.2045 - val_output_1_loss: 0.0448 - val_output_2_loss: 0.1149 - val_output_1_mse: 0.0448 - val_output_2_accuracy: 0.9666\n",
      "Epoch 3/30\n"
     ]
    },
    {
     "name": "stderr",
     "output_type": "stream",
     "text": [
      "2024-01-28 06:29:15.853013: I tensorflow/core/kernels/data/shuffle_dataset_op.cc:422] ShuffleDatasetV3:14: Filling up shuffle buffer (this may take a while): 191 of 2000\n",
      "2024-01-28 06:29:35.873213: I tensorflow/core/kernels/data/shuffle_dataset_op.cc:422] ShuffleDatasetV3:14: Filling up shuffle buffer (this may take a while): 602 of 2000\n",
      "2024-01-28 06:29:55.838375: I tensorflow/core/kernels/data/shuffle_dataset_op.cc:422] ShuffleDatasetV3:14: Filling up shuffle buffer (this may take a while): 1152 of 2000\n",
      "2024-01-28 06:30:05.862596: I tensorflow/core/kernels/data/shuffle_dataset_op.cc:422] ShuffleDatasetV3:14: Filling up shuffle buffer (this may take a while): 1426 of 2000\n",
      "2024-01-28 06:30:24.052665: I tensorflow/core/kernels/data/shuffle_dataset_op.cc:452] Shuffle buffer filled.\n"
     ]
    },
    {
     "name": "stdout",
     "output_type": "stream",
     "text": [
      "6282/6282 [==============================] - 1250s 187ms/step - loss: 0.2563 - output_1_loss: 0.0369 - output_2_loss: 0.1826 - output_1_mse: 0.0369 - output_2_accuracy: 0.9484 - val_loss: 0.2016 - val_output_1_loss: 0.0428 - val_output_2_loss: 0.1160 - val_output_1_mse: 0.0428 - val_output_2_accuracy: 0.9666\n",
      "Epoch 4/30\n"
     ]
    },
    {
     "name": "stderr",
     "output_type": "stream",
     "text": [
      "2024-01-28 06:50:06.083976: I tensorflow/core/kernels/data/shuffle_dataset_op.cc:422] ShuffleDatasetV3:14: Filling up shuffle buffer (this may take a while): 135 of 2000\n",
      "2024-01-28 06:50:26.045607: I tensorflow/core/kernels/data/shuffle_dataset_op.cc:422] ShuffleDatasetV3:14: Filling up shuffle buffer (this may take a while): 430 of 2000\n",
      "2024-01-28 06:50:36.049506: I tensorflow/core/kernels/data/shuffle_dataset_op.cc:422] ShuffleDatasetV3:14: Filling up shuffle buffer (this may take a while): 617 of 2000\n",
      "2024-01-28 06:50:46.061868: I tensorflow/core/kernels/data/shuffle_dataset_op.cc:422] ShuffleDatasetV3:14: Filling up shuffle buffer (this may take a while): 882 of 2000\n",
      "2024-01-28 06:51:06.037619: I tensorflow/core/kernels/data/shuffle_dataset_op.cc:422] ShuffleDatasetV3:14: Filling up shuffle buffer (this may take a while): 1313 of 2000\n",
      "2024-01-28 06:51:16.222238: I tensorflow/core/kernels/data/shuffle_dataset_op.cc:422] ShuffleDatasetV3:14: Filling up shuffle buffer (this may take a while): 1572 of 2000\n",
      "2024-01-28 06:51:26.419050: I tensorflow/core/kernels/data/shuffle_dataset_op.cc:422] ShuffleDatasetV3:14: Filling up shuffle buffer (this may take a while): 1779 of 2000\n",
      "2024-01-28 06:51:40.791186: I tensorflow/core/kernels/data/shuffle_dataset_op.cc:452] Shuffle buffer filled.\n"
     ]
    },
    {
     "name": "stdout",
     "output_type": "stream",
     "text": [
      "6282/6282 [==============================] - 1292s 189ms/step - loss: 0.2519 - output_1_loss: 0.0352 - output_2_loss: 0.1814 - output_1_mse: 0.0352 - output_2_accuracy: 0.9484 - val_loss: 0.2019 - val_output_1_loss: 0.0434 - val_output_2_loss: 0.1152 - val_output_1_mse: 0.0434 - val_output_2_accuracy: 0.9666\n",
      "Epoch 5/30\n"
     ]
    },
    {
     "name": "stderr",
     "output_type": "stream",
     "text": [
      "2024-01-28 07:11:37.978138: I tensorflow/core/kernels/data/shuffle_dataset_op.cc:422] ShuffleDatasetV3:14: Filling up shuffle buffer (this may take a while): 130 of 2000\n",
      "2024-01-28 07:11:57.952617: I tensorflow/core/kernels/data/shuffle_dataset_op.cc:422] ShuffleDatasetV3:14: Filling up shuffle buffer (this may take a while): 455 of 2000\n",
      "2024-01-28 07:12:07.956063: I tensorflow/core/kernels/data/shuffle_dataset_op.cc:422] ShuffleDatasetV3:14: Filling up shuffle buffer (this may take a while): 608 of 2000\n",
      "2024-01-28 07:12:27.931127: I tensorflow/core/kernels/data/shuffle_dataset_op.cc:422] ShuffleDatasetV3:14: Filling up shuffle buffer (this may take a while): 916 of 2000\n",
      "2024-01-28 07:12:47.905349: I tensorflow/core/kernels/data/shuffle_dataset_op.cc:422] ShuffleDatasetV3:14: Filling up shuffle buffer (this may take a while): 1276 of 2000\n",
      "2024-01-28 07:12:57.919861: I tensorflow/core/kernels/data/shuffle_dataset_op.cc:422] ShuffleDatasetV3:14: Filling up shuffle buffer (this may take a while): 1453 of 2000\n",
      "2024-01-28 07:13:07.933308: I tensorflow/core/kernels/data/shuffle_dataset_op.cc:422] ShuffleDatasetV3:14: Filling up shuffle buffer (this may take a while): 1627 of 2000\n",
      "2024-01-28 07:13:17.937723: I tensorflow/core/kernels/data/shuffle_dataset_op.cc:422] ShuffleDatasetV3:14: Filling up shuffle buffer (this may take a while): 1810 of 2000\n",
      "2024-01-28 07:13:27.975282: I tensorflow/core/kernels/data/shuffle_dataset_op.cc:422] ShuffleDatasetV3:14: Filling up shuffle buffer (this may take a while): 1982 of 2000\n",
      "2024-01-28 07:13:28.944388: I tensorflow/core/kernels/data/shuffle_dataset_op.cc:452] Shuffle buffer filled.\n"
     ]
    },
    {
     "name": "stdout",
     "output_type": "stream",
     "text": [
      "6282/6282 [==============================] - 1331s 192ms/step - loss: 0.2483 - output_1_loss: 0.0338 - output_2_loss: 0.1806 - output_1_mse: 0.0338 - output_2_accuracy: 0.9484 - val_loss: 0.1972 - val_output_1_loss: 0.0413 - val_output_2_loss: 0.1146 - val_output_1_mse: 0.0413 - val_output_2_accuracy: 0.9666\n",
      "Epoch 6/30\n"
     ]
    },
    {
     "name": "stderr",
     "output_type": "stream",
     "text": [
      "2024-01-28 07:33:48.667002: I tensorflow/core/kernels/data/shuffle_dataset_op.cc:422] ShuffleDatasetV3:14: Filling up shuffle buffer (this may take a while): 127 of 2000\n",
      "2024-01-28 07:34:08.552873: I tensorflow/core/kernels/data/shuffle_dataset_op.cc:422] ShuffleDatasetV3:14: Filling up shuffle buffer (this may take a while): 436 of 2000\n",
      "2024-01-28 07:34:18.579956: I tensorflow/core/kernels/data/shuffle_dataset_op.cc:422] ShuffleDatasetV3:14: Filling up shuffle buffer (this may take a while): 597 of 2000\n",
      "2024-01-28 07:34:38.578341: I tensorflow/core/kernels/data/shuffle_dataset_op.cc:422] ShuffleDatasetV3:14: Filling up shuffle buffer (this may take a while): 912 of 2000\n",
      "2024-01-28 07:34:58.554261: I tensorflow/core/kernels/data/shuffle_dataset_op.cc:422] ShuffleDatasetV3:14: Filling up shuffle buffer (this may take a while): 1253 of 2000\n",
      "2024-01-28 07:35:18.552850: I tensorflow/core/kernels/data/shuffle_dataset_op.cc:422] ShuffleDatasetV3:14: Filling up shuffle buffer (this may take a while): 1610 of 2000\n",
      "2024-01-28 07:35:28.570159: I tensorflow/core/kernels/data/shuffle_dataset_op.cc:422] ShuffleDatasetV3:14: Filling up shuffle buffer (this may take a while): 1790 of 2000\n",
      "2024-01-28 07:35:41.652212: I tensorflow/core/kernels/data/shuffle_dataset_op.cc:452] Shuffle buffer filled.\n"
     ]
    },
    {
     "name": "stdout",
     "output_type": "stream",
     "text": [
      "6282/6282 [==============================] - 1320s 190ms/step - loss: 0.2456 - output_1_loss: 0.0328 - output_2_loss: 0.1801 - output_1_mse: 0.0328 - output_2_accuracy: 0.9484 - val_loss: 0.1932 - val_output_1_loss: 0.0393 - val_output_2_loss: 0.1145 - val_output_1_mse: 0.0393 - val_output_2_accuracy: 0.9666\n",
      "Epoch 7/30\n"
     ]
    },
    {
     "name": "stderr",
     "output_type": "stream",
     "text": [
      "2024-01-28 07:55:48.944360: I tensorflow/core/kernels/data/shuffle_dataset_op.cc:422] ShuffleDatasetV3:14: Filling up shuffle buffer (this may take a while): 123 of 2000\n",
      "2024-01-28 07:56:08.854605: I tensorflow/core/kernels/data/shuffle_dataset_op.cc:422] ShuffleDatasetV3:14: Filling up shuffle buffer (this may take a while): 382 of 2000\n",
      "2024-01-28 07:56:18.870281: I tensorflow/core/kernels/data/shuffle_dataset_op.cc:422] ShuffleDatasetV3:14: Filling up shuffle buffer (this may take a while): 527 of 2000\n",
      "2024-01-28 07:56:28.872114: I tensorflow/core/kernels/data/shuffle_dataset_op.cc:422] ShuffleDatasetV3:14: Filling up shuffle buffer (this may take a while): 653 of 2000\n",
      "2024-01-28 07:56:48.944622: I tensorflow/core/kernels/data/shuffle_dataset_op.cc:422] ShuffleDatasetV3:14: Filling up shuffle buffer (this may take a while): 936 of 2000\n",
      "2024-01-28 07:57:08.910469: I tensorflow/core/kernels/data/shuffle_dataset_op.cc:422] ShuffleDatasetV3:14: Filling up shuffle buffer (this may take a while): 1227 of 2000\n",
      "2024-01-28 07:57:28.911342: I tensorflow/core/kernels/data/shuffle_dataset_op.cc:422] ShuffleDatasetV3:14: Filling up shuffle buffer (this may take a while): 1529 of 2000\n",
      "2024-01-28 07:57:48.891223: I tensorflow/core/kernels/data/shuffle_dataset_op.cc:422] ShuffleDatasetV3:14: Filling up shuffle buffer (this may take a while): 1816 of 2000\n",
      "2024-01-28 07:57:58.936243: I tensorflow/core/kernels/data/shuffle_dataset_op.cc:422] ShuffleDatasetV3:14: Filling up shuffle buffer (this may take a while): 1946 of 2000\n",
      "2024-01-28 07:58:02.243566: I tensorflow/core/kernels/data/shuffle_dataset_op.cc:452] Shuffle buffer filled.\n"
     ]
    },
    {
     "name": "stdout",
     "output_type": "stream",
     "text": [
      "6282/6282 [==============================] - 1339s 190ms/step - loss: 0.2422 - output_1_loss: 0.0314 - output_2_loss: 0.1793 - output_1_mse: 0.0314 - output_2_accuracy: 0.9484 - val_loss: 0.1911 - val_output_1_loss: 0.0384 - val_output_2_loss: 0.1142 - val_output_1_mse: 0.0384 - val_output_2_accuracy: 0.9666\n",
      "Epoch 8/30\n"
     ]
    },
    {
     "name": "stderr",
     "output_type": "stream",
     "text": [
      "2024-01-28 08:18:07.702546: I tensorflow/core/kernels/data/shuffle_dataset_op.cc:422] ShuffleDatasetV3:14: Filling up shuffle buffer (this may take a while): 118 of 2000\n",
      "2024-01-28 08:18:27.637842: I tensorflow/core/kernels/data/shuffle_dataset_op.cc:422] ShuffleDatasetV3:14: Filling up shuffle buffer (this may take a while): 354 of 2000\n",
      "2024-01-28 08:18:47.609036: I tensorflow/core/kernels/data/shuffle_dataset_op.cc:422] ShuffleDatasetV3:14: Filling up shuffle buffer (this may take a while): 587 of 2000\n",
      "2024-01-28 08:19:07.579502: I tensorflow/core/kernels/data/shuffle_dataset_op.cc:422] ShuffleDatasetV3:14: Filling up shuffle buffer (this may take a while): 840 of 2000\n",
      "2024-01-28 08:19:17.610187: I tensorflow/core/kernels/data/shuffle_dataset_op.cc:422] ShuffleDatasetV3:14: Filling up shuffle buffer (this may take a while): 978 of 2000\n",
      "2024-01-28 08:19:37.619617: I tensorflow/core/kernels/data/shuffle_dataset_op.cc:422] ShuffleDatasetV3:14: Filling up shuffle buffer (this may take a while): 1276 of 2000\n",
      "2024-01-28 08:19:47.633979: I tensorflow/core/kernels/data/shuffle_dataset_op.cc:422] ShuffleDatasetV3:14: Filling up shuffle buffer (this may take a while): 1408 of 2000\n",
      "2024-01-28 08:20:07.573560: I tensorflow/core/kernels/data/shuffle_dataset_op.cc:422] ShuffleDatasetV3:14: Filling up shuffle buffer (this may take a while): 1668 of 2000\n",
      "2024-01-28 08:20:17.622866: I tensorflow/core/kernels/data/shuffle_dataset_op.cc:422] ShuffleDatasetV3:14: Filling up shuffle buffer (this may take a while): 1827 of 2000\n",
      "2024-01-28 08:20:29.977397: I tensorflow/core/kernels/data/shuffle_dataset_op.cc:452] Shuffle buffer filled.\n"
     ]
    },
    {
     "name": "stdout",
     "output_type": "stream",
     "text": [
      "6282/6282 [==============================] - 1359s 192ms/step - loss: 0.2399 - output_1_loss: 0.0305 - output_2_loss: 0.1788 - output_1_mse: 0.0305 - output_2_accuracy: 0.9484 - val_loss: 0.1873 - val_output_1_loss: 0.0367 - val_output_2_loss: 0.1138 - val_output_1_mse: 0.0367 - val_output_2_accuracy: 0.9666\n",
      "Epoch 9/30\n"
     ]
    },
    {
     "name": "stderr",
     "output_type": "stream",
     "text": [
      "2024-01-28 08:40:46.511086: I tensorflow/core/kernels/data/shuffle_dataset_op.cc:422] ShuffleDatasetV3:14: Filling up shuffle buffer (this may take a while): 119 of 2000\n",
      "2024-01-28 08:40:56.462203: I tensorflow/core/kernels/data/shuffle_dataset_op.cc:422] ShuffleDatasetV3:14: Filling up shuffle buffer (this may take a while): 219 of 2000\n",
      "2024-01-28 08:41:06.490713: I tensorflow/core/kernels/data/shuffle_dataset_op.cc:422] ShuffleDatasetV3:14: Filling up shuffle buffer (this may take a while): 342 of 2000\n",
      "2024-01-28 08:41:26.436482: I tensorflow/core/kernels/data/shuffle_dataset_op.cc:422] ShuffleDatasetV3:14: Filling up shuffle buffer (this may take a while): 595 of 2000\n",
      "2024-01-28 08:41:46.448601: I tensorflow/core/kernels/data/shuffle_dataset_op.cc:422] ShuffleDatasetV3:14: Filling up shuffle buffer (this may take a while): 834 of 2000\n",
      "2024-01-28 08:41:56.459229: I tensorflow/core/kernels/data/shuffle_dataset_op.cc:422] ShuffleDatasetV3:14: Filling up shuffle buffer (this may take a while): 960 of 2000\n",
      "2024-01-28 08:42:16.417321: I tensorflow/core/kernels/data/shuffle_dataset_op.cc:422] ShuffleDatasetV3:14: Filling up shuffle buffer (this may take a while): 1204 of 2000\n",
      "2024-01-28 08:42:26.469448: I tensorflow/core/kernels/data/shuffle_dataset_op.cc:422] ShuffleDatasetV3:14: Filling up shuffle buffer (this may take a while): 1346 of 2000\n",
      "2024-01-28 08:42:36.484278: I tensorflow/core/kernels/data/shuffle_dataset_op.cc:422] ShuffleDatasetV3:14: Filling up shuffle buffer (this may take a while): 1484 of 2000\n",
      "2024-01-28 08:42:56.430482: I tensorflow/core/kernels/data/shuffle_dataset_op.cc:422] ShuffleDatasetV3:14: Filling up shuffle buffer (this may take a while): 1728 of 2000\n",
      "2024-01-28 08:43:06.466664: I tensorflow/core/kernels/data/shuffle_dataset_op.cc:422] ShuffleDatasetV3:14: Filling up shuffle buffer (this may take a while): 1862 of 2000\n",
      "2024-01-28 08:43:16.479359: I tensorflow/core/kernels/data/shuffle_dataset_op.cc:422] ShuffleDatasetV3:14: Filling up shuffle buffer (this may take a while): 1998 of 2000\n",
      "2024-01-28 08:43:16.667284: I tensorflow/core/kernels/data/shuffle_dataset_op.cc:452] Shuffle buffer filled.\n"
     ]
    },
    {
     "name": "stdout",
     "output_type": "stream",
     "text": [
      "6282/6282 [==============================] - 1377s 194ms/step - loss: 0.2379 - output_1_loss: 0.0298 - output_2_loss: 0.1784 - output_1_mse: 0.0298 - output_2_accuracy: 0.9484 - val_loss: 0.1891 - val_output_1_loss: 0.0373 - val_output_2_loss: 0.1146 - val_output_1_mse: 0.0373 - val_output_2_accuracy: 0.9666\n",
      "Epoch 10/30\n"
     ]
    },
    {
     "name": "stderr",
     "output_type": "stream",
     "text": [
      "2024-01-28 09:03:43.900272: I tensorflow/core/kernels/data/shuffle_dataset_op.cc:422] ShuffleDatasetV3:14: Filling up shuffle buffer (this may take a while): 88 of 2000\n",
      "2024-01-28 09:04:03.823845: I tensorflow/core/kernels/data/shuffle_dataset_op.cc:422] ShuffleDatasetV3:14: Filling up shuffle buffer (this may take a while): 270 of 2000\n",
      "2024-01-28 09:04:13.847012: I tensorflow/core/kernels/data/shuffle_dataset_op.cc:422] ShuffleDatasetV3:14: Filling up shuffle buffer (this may take a while): 383 of 2000\n",
      "2024-01-28 09:04:23.851079: I tensorflow/core/kernels/data/shuffle_dataset_op.cc:422] ShuffleDatasetV3:14: Filling up shuffle buffer (this may take a while): 507 of 2000\n",
      "2024-01-28 09:04:33.856604: I tensorflow/core/kernels/data/shuffle_dataset_op.cc:422] ShuffleDatasetV3:14: Filling up shuffle buffer (this may take a while): 626 of 2000\n",
      "2024-01-28 09:04:53.795773: I tensorflow/core/kernels/data/shuffle_dataset_op.cc:422] ShuffleDatasetV3:14: Filling up shuffle buffer (this may take a while): 892 of 2000\n",
      "2024-01-28 09:05:03.827585: I tensorflow/core/kernels/data/shuffle_dataset_op.cc:422] ShuffleDatasetV3:14: Filling up shuffle buffer (this may take a while): 1038 of 2000\n",
      "2024-01-28 09:05:13.866733: I tensorflow/core/kernels/data/shuffle_dataset_op.cc:422] ShuffleDatasetV3:14: Filling up shuffle buffer (this may take a while): 1168 of 2000\n",
      "2024-01-28 09:05:33.808021: I tensorflow/core/kernels/data/shuffle_dataset_op.cc:422] ShuffleDatasetV3:14: Filling up shuffle buffer (this may take a while): 1456 of 2000\n",
      "2024-01-28 09:05:53.847370: I tensorflow/core/kernels/data/shuffle_dataset_op.cc:422] ShuffleDatasetV3:14: Filling up shuffle buffer (this may take a while): 1710 of 2000\n",
      "2024-01-28 09:06:13.842026: I tensorflow/core/kernels/data/shuffle_dataset_op.cc:422] ShuffleDatasetV3:14: Filling up shuffle buffer (this may take a while): 1970 of 2000\n",
      "2024-01-28 09:06:15.934647: I tensorflow/core/kernels/data/shuffle_dataset_op.cc:452] Shuffle buffer filled.\n"
     ]
    },
    {
     "name": "stdout",
     "output_type": "stream",
     "text": [
      "6282/6282 [==============================] - 1365s 191ms/step - loss: 0.2362 - output_1_loss: 0.0291 - output_2_loss: 0.1779 - output_1_mse: 0.0291 - output_2_accuracy: 0.9484 - val_loss: 0.1877 - val_output_1_loss: 0.0365 - val_output_2_loss: 0.1146 - val_output_1_mse: 0.0365 - val_output_2_accuracy: 0.9666\n",
      "Epoch 11/30\n"
     ]
    },
    {
     "name": "stderr",
     "output_type": "stream",
     "text": [
      "2024-01-28 09:26:28.688369: I tensorflow/core/kernels/data/shuffle_dataset_op.cc:422] ShuffleDatasetV3:14: Filling up shuffle buffer (this may take a while): 108 of 2000\n",
      "2024-01-28 09:26:48.643071: I tensorflow/core/kernels/data/shuffle_dataset_op.cc:422] ShuffleDatasetV3:14: Filling up shuffle buffer (this may take a while): 340 of 2000\n",
      "2024-01-28 09:26:58.643254: I tensorflow/core/kernels/data/shuffle_dataset_op.cc:422] ShuffleDatasetV3:14: Filling up shuffle buffer (this may take a while): 458 of 2000\n",
      "2024-01-28 09:27:08.707216: I tensorflow/core/kernels/data/shuffle_dataset_op.cc:422] ShuffleDatasetV3:14: Filling up shuffle buffer (this may take a while): 578 of 2000\n",
      "2024-01-28 09:27:28.658343: I tensorflow/core/kernels/data/shuffle_dataset_op.cc:422] ShuffleDatasetV3:14: Filling up shuffle buffer (this may take a while): 830 of 2000\n",
      "2024-01-28 09:27:48.626296: I tensorflow/core/kernels/data/shuffle_dataset_op.cc:422] ShuffleDatasetV3:14: Filling up shuffle buffer (this may take a while): 1081 of 2000\n",
      "2024-01-28 09:27:58.656037: I tensorflow/core/kernels/data/shuffle_dataset_op.cc:422] ShuffleDatasetV3:14: Filling up shuffle buffer (this may take a while): 1208 of 2000\n",
      "2024-01-28 09:28:18.688634: I tensorflow/core/kernels/data/shuffle_dataset_op.cc:422] ShuffleDatasetV3:14: Filling up shuffle buffer (this may take a while): 1455 of 2000\n",
      "2024-01-28 09:28:38.663353: I tensorflow/core/kernels/data/shuffle_dataset_op.cc:422] ShuffleDatasetV3:14: Filling up shuffle buffer (this may take a while): 1683 of 2000\n",
      "2024-01-28 09:28:48.692524: I tensorflow/core/kernels/data/shuffle_dataset_op.cc:422] ShuffleDatasetV3:14: Filling up shuffle buffer (this may take a while): 1768 of 2000\n",
      "2024-01-28 09:28:58.738812: I tensorflow/core/kernels/data/shuffle_dataset_op.cc:422] ShuffleDatasetV3:14: Filling up shuffle buffer (this may take a while): 1862 of 2000\n",
      "2024-01-28 09:29:14.958953: I tensorflow/core/kernels/data/shuffle_dataset_op.cc:452] Shuffle buffer filled.\n"
     ]
    },
    {
     "name": "stdout",
     "output_type": "stream",
     "text": [
      "6282/6282 [==============================] - 1377s 191ms/step - loss: 0.2359 - output_1_loss: 0.0290 - output_2_loss: 0.1778 - output_1_mse: 0.0290 - output_2_accuracy: 0.9485 - val_loss: 0.1841 - val_output_1_loss: 0.0351 - val_output_2_loss: 0.1139 - val_output_1_mse: 0.0351 - val_output_2_accuracy: 0.9666\n",
      "Epoch 12/30\n"
     ]
    },
    {
     "name": "stderr",
     "output_type": "stream",
     "text": [
      "2024-01-28 09:49:26.124390: I tensorflow/core/kernels/data/shuffle_dataset_op.cc:422] ShuffleDatasetV3:14: Filling up shuffle buffer (this may take a while): 97 of 2000\n",
      "2024-01-28 09:49:46.237413: I tensorflow/core/kernels/data/shuffle_dataset_op.cc:422] ShuffleDatasetV3:14: Filling up shuffle buffer (this may take a while): 321 of 2000\n",
      "2024-01-28 09:50:06.030485: I tensorflow/core/kernels/data/shuffle_dataset_op.cc:422] ShuffleDatasetV3:14: Filling up shuffle buffer (this may take a while): 569 of 2000\n",
      "2024-01-28 09:50:16.053959: I tensorflow/core/kernels/data/shuffle_dataset_op.cc:422] ShuffleDatasetV3:14: Filling up shuffle buffer (this may take a while): 673 of 2000\n",
      "2024-01-28 09:50:36.042736: I tensorflow/core/kernels/data/shuffle_dataset_op.cc:422] ShuffleDatasetV3:14: Filling up shuffle buffer (this may take a while): 892 of 2000\n",
      "2024-01-28 09:50:56.078868: I tensorflow/core/kernels/data/shuffle_dataset_op.cc:422] ShuffleDatasetV3:14: Filling up shuffle buffer (this may take a while): 1130 of 2000\n",
      "2024-01-28 09:51:16.029207: I tensorflow/core/kernels/data/shuffle_dataset_op.cc:422] ShuffleDatasetV3:14: Filling up shuffle buffer (this may take a while): 1360 of 2000\n",
      "2024-01-28 09:51:36.081851: I tensorflow/core/kernels/data/shuffle_dataset_op.cc:422] ShuffleDatasetV3:14: Filling up shuffle buffer (this may take a while): 1586 of 2000\n",
      "2024-01-28 09:51:56.034787: I tensorflow/core/kernels/data/shuffle_dataset_op.cc:422] ShuffleDatasetV3:14: Filling up shuffle buffer (this may take a while): 1819 of 2000\n",
      "2024-01-28 09:52:06.047014: I tensorflow/core/kernels/data/shuffle_dataset_op.cc:422] ShuffleDatasetV3:14: Filling up shuffle buffer (this may take a while): 1943 of 2000\n",
      "2024-01-28 09:52:11.500186: I tensorflow/core/kernels/data/shuffle_dataset_op.cc:452] Shuffle buffer filled.\n"
     ]
    },
    {
     "name": "stdout",
     "output_type": "stream",
     "text": [
      "6282/6282 [==============================] - 1373s 190ms/step - loss: 0.2347 - output_1_loss: 0.0286 - output_2_loss: 0.1775 - output_1_mse: 0.0286 - output_2_accuracy: 0.9485 - val_loss: 0.1833 - val_output_1_loss: 0.0353 - val_output_2_loss: 0.1128 - val_output_1_mse: 0.0353 - val_output_2_accuracy: 0.9667\n",
      "Epoch 13/30\n"
     ]
    },
    {
     "name": "stderr",
     "output_type": "stream",
     "text": [
      "2024-01-28 10:12:18.853586: I tensorflow/core/kernels/data/shuffle_dataset_op.cc:422] ShuffleDatasetV3:14: Filling up shuffle buffer (this may take a while): 108 of 2000\n",
      "2024-01-28 10:12:38.869096: I tensorflow/core/kernels/data/shuffle_dataset_op.cc:422] ShuffleDatasetV3:14: Filling up shuffle buffer (this may take a while): 342 of 2000\n",
      "2024-01-28 10:12:58.824735: I tensorflow/core/kernels/data/shuffle_dataset_op.cc:422] ShuffleDatasetV3:14: Filling up shuffle buffer (this may take a while): 581 of 2000\n",
      "2024-01-28 10:13:08.825474: I tensorflow/core/kernels/data/shuffle_dataset_op.cc:422] ShuffleDatasetV3:14: Filling up shuffle buffer (this may take a while): 700 of 2000\n",
      "2024-01-28 10:13:28.773984: I tensorflow/core/kernels/data/shuffle_dataset_op.cc:422] ShuffleDatasetV3:14: Filling up shuffle buffer (this may take a while): 929 of 2000\n",
      "2024-01-28 10:13:38.776160: I tensorflow/core/kernels/data/shuffle_dataset_op.cc:422] ShuffleDatasetV3:14: Filling up shuffle buffer (this may take a while): 1036 of 2000\n",
      "2024-01-28 10:13:48.835338: I tensorflow/core/kernels/data/shuffle_dataset_op.cc:422] ShuffleDatasetV3:14: Filling up shuffle buffer (this may take a while): 1155 of 2000\n",
      "2024-01-28 10:14:08.829420: I tensorflow/core/kernels/data/shuffle_dataset_op.cc:422] ShuffleDatasetV3:14: Filling up shuffle buffer (this may take a while): 1387 of 2000\n",
      "2024-01-28 10:14:18.850625: I tensorflow/core/kernels/data/shuffle_dataset_op.cc:422] ShuffleDatasetV3:14: Filling up shuffle buffer (this may take a while): 1507 of 2000\n",
      "2024-01-28 10:14:38.837152: I tensorflow/core/kernels/data/shuffle_dataset_op.cc:422] ShuffleDatasetV3:14: Filling up shuffle buffer (this may take a while): 1754 of 2000\n",
      "2024-01-28 10:14:58.154408: I tensorflow/core/kernels/data/shuffle_dataset_op.cc:452] Shuffle buffer filled.\n"
     ]
    },
    {
     "name": "stdout",
     "output_type": "stream",
     "text": [
      "6282/6282 [==============================] - 1369s 191ms/step - loss: 0.2338 - output_1_loss: 0.0283 - output_2_loss: 0.1771 - output_1_mse: 0.0283 - output_2_accuracy: 0.9485 - val_loss: 0.1879 - val_output_1_loss: 0.0364 - val_output_2_loss: 0.1151 - val_output_1_mse: 0.0364 - val_output_2_accuracy: 0.9667\n",
      "Epoch 14/30\n"
     ]
    },
    {
     "name": "stderr",
     "output_type": "stream",
     "text": [
      "2024-01-28 10:35:08.169300: I tensorflow/core/kernels/data/shuffle_dataset_op.cc:422] ShuffleDatasetV3:14: Filling up shuffle buffer (this may take a while): 124 of 2000\n",
      "2024-01-28 10:35:18.169582: I tensorflow/core/kernels/data/shuffle_dataset_op.cc:422] ShuffleDatasetV3:14: Filling up shuffle buffer (this may take a while): 256 of 2000\n",
      "2024-01-28 10:35:28.169741: I tensorflow/core/kernels/data/shuffle_dataset_op.cc:422] ShuffleDatasetV3:14: Filling up shuffle buffer (this may take a while): 359 of 2000\n",
      "2024-01-28 10:35:48.113727: I tensorflow/core/kernels/data/shuffle_dataset_op.cc:422] ShuffleDatasetV3:14: Filling up shuffle buffer (this may take a while): 603 of 2000\n",
      "2024-01-28 10:35:58.121897: I tensorflow/core/kernels/data/shuffle_dataset_op.cc:422] ShuffleDatasetV3:14: Filling up shuffle buffer (this may take a while): 724 of 2000\n",
      "2024-01-28 10:36:18.119291: I tensorflow/core/kernels/data/shuffle_dataset_op.cc:422] ShuffleDatasetV3:14: Filling up shuffle buffer (this may take a while): 957 of 2000\n",
      "2024-01-28 10:36:28.184627: I tensorflow/core/kernels/data/shuffle_dataset_op.cc:422] ShuffleDatasetV3:14: Filling up shuffle buffer (this may take a while): 1067 of 2000\n",
      "2024-01-28 10:36:48.104843: I tensorflow/core/kernels/data/shuffle_dataset_op.cc:422] ShuffleDatasetV3:14: Filling up shuffle buffer (this may take a while): 1318 of 2000\n",
      "2024-01-28 10:36:58.187464: I tensorflow/core/kernels/data/shuffle_dataset_op.cc:422] ShuffleDatasetV3:14: Filling up shuffle buffer (this may take a while): 1444 of 2000\n",
      "2024-01-28 10:37:18.136177: I tensorflow/core/kernels/data/shuffle_dataset_op.cc:422] ShuffleDatasetV3:14: Filling up shuffle buffer (this may take a while): 1642 of 2000\n",
      "2024-01-28 10:37:28.157911: I tensorflow/core/kernels/data/shuffle_dataset_op.cc:422] ShuffleDatasetV3:14: Filling up shuffle buffer (this may take a while): 1725 of 2000\n",
      "2024-01-28 10:37:38.207341: I tensorflow/core/kernels/data/shuffle_dataset_op.cc:422] ShuffleDatasetV3:14: Filling up shuffle buffer (this may take a while): 1821 of 2000\n",
      "2024-01-28 10:37:57.640140: I tensorflow/core/kernels/data/shuffle_dataset_op.cc:452] Shuffle buffer filled.\n"
     ]
    },
    {
     "name": "stdout",
     "output_type": "stream",
     "text": [
      "6282/6282 [==============================] - 1387s 192ms/step - loss: 0.2330 - output_1_loss: 0.0281 - output_2_loss: 0.1769 - output_1_mse: 0.0281 - output_2_accuracy: 0.9485 - val_loss: 0.1837 - val_output_1_loss: 0.0353 - val_output_2_loss: 0.1130 - val_output_1_mse: 0.0353 - val_output_2_accuracy: 0.9667\n",
      "Epoch 15/30\n"
     ]
    },
    {
     "name": "stderr",
     "output_type": "stream",
     "text": [
      "2024-01-28 10:58:15.431153: I tensorflow/core/kernels/data/shuffle_dataset_op.cc:422] ShuffleDatasetV3:14: Filling up shuffle buffer (this may take a while): 119 of 2000\n",
      "2024-01-28 10:58:25.449254: I tensorflow/core/kernels/data/shuffle_dataset_op.cc:422] ShuffleDatasetV3:14: Filling up shuffle buffer (this may take a while): 219 of 2000\n",
      "2024-01-28 10:58:45.473278: I tensorflow/core/kernels/data/shuffle_dataset_op.cc:422] ShuffleDatasetV3:14: Filling up shuffle buffer (this may take a while): 435 of 2000\n",
      "2024-01-28 10:59:05.458158: I tensorflow/core/kernels/data/shuffle_dataset_op.cc:422] ShuffleDatasetV3:14: Filling up shuffle buffer (this may take a while): 655 of 2000\n",
      "2024-01-28 10:59:25.436252: I tensorflow/core/kernels/data/shuffle_dataset_op.cc:422] ShuffleDatasetV3:14: Filling up shuffle buffer (this may take a while): 899 of 2000\n",
      "2024-01-28 10:59:35.472769: I tensorflow/core/kernels/data/shuffle_dataset_op.cc:422] ShuffleDatasetV3:14: Filling up shuffle buffer (this may take a while): 1022 of 2000\n",
      "2024-01-28 10:59:55.451059: I tensorflow/core/kernels/data/shuffle_dataset_op.cc:422] ShuffleDatasetV3:14: Filling up shuffle buffer (this may take a while): 1267 of 2000\n",
      "2024-01-28 11:00:05.470384: I tensorflow/core/kernels/data/shuffle_dataset_op.cc:422] ShuffleDatasetV3:14: Filling up shuffle buffer (this may take a while): 1399 of 2000\n",
      "2024-01-28 11:00:25.409512: I tensorflow/core/kernels/data/shuffle_dataset_op.cc:422] ShuffleDatasetV3:14: Filling up shuffle buffer (this may take a while): 1630 of 2000\n",
      "2024-01-28 11:00:35.422319: I tensorflow/core/kernels/data/shuffle_dataset_op.cc:422] ShuffleDatasetV3:14: Filling up shuffle buffer (this may take a while): 1749 of 2000\n",
      "2024-01-28 11:00:55.396057: I tensorflow/core/kernels/data/shuffle_dataset_op.cc:422] ShuffleDatasetV3:14: Filling up shuffle buffer (this may take a while): 1990 of 2000\n",
      "2024-01-28 11:00:56.193451: I tensorflow/core/kernels/data/shuffle_dataset_op.cc:452] Shuffle buffer filled.\n"
     ]
    },
    {
     "name": "stdout",
     "output_type": "stream",
     "text": [
      "6282/6282 [==============================] - 1381s 193ms/step - loss: 0.2320 - output_1_loss: 0.0277 - output_2_loss: 0.1765 - output_1_mse: 0.0277 - output_2_accuracy: 0.9485 - val_loss: 0.1805 - val_output_1_loss: 0.0335 - val_output_2_loss: 0.1135 - val_output_1_mse: 0.0335 - val_output_2_accuracy: 0.9667\n",
      "Epoch 16/30\n"
     ]
    },
    {
     "name": "stderr",
     "output_type": "stream",
     "text": [
      "2024-01-28 11:21:16.792216: I tensorflow/core/kernels/data/shuffle_dataset_op.cc:422] ShuffleDatasetV3:14: Filling up shuffle buffer (this may take a while): 109 of 2000\n",
      "2024-01-28 11:21:36.784937: I tensorflow/core/kernels/data/shuffle_dataset_op.cc:422] ShuffleDatasetV3:14: Filling up shuffle buffer (this may take a while): 335 of 2000\n",
      "2024-01-28 11:21:56.754320: I tensorflow/core/kernels/data/shuffle_dataset_op.cc:422] ShuffleDatasetV3:14: Filling up shuffle buffer (this may take a while): 569 of 2000\n",
      "2024-01-28 11:22:16.804287: I tensorflow/core/kernels/data/shuffle_dataset_op.cc:422] ShuffleDatasetV3:14: Filling up shuffle buffer (this may take a while): 785 of 2000\n",
      "2024-01-28 11:22:36.770380: I tensorflow/core/kernels/data/shuffle_dataset_op.cc:422] ShuffleDatasetV3:14: Filling up shuffle buffer (this may take a while): 1016 of 2000\n",
      "2024-01-28 11:22:56.779691: I tensorflow/core/kernels/data/shuffle_dataset_op.cc:422] ShuffleDatasetV3:14: Filling up shuffle buffer (this may take a while): 1285 of 2000\n",
      "2024-01-28 11:23:06.782860: I tensorflow/core/kernels/data/shuffle_dataset_op.cc:422] ShuffleDatasetV3:14: Filling up shuffle buffer (this may take a while): 1394 of 2000\n",
      "2024-01-28 11:23:26.739626: I tensorflow/core/kernels/data/shuffle_dataset_op.cc:422] ShuffleDatasetV3:14: Filling up shuffle buffer (this may take a while): 1634 of 2000\n",
      "2024-01-28 11:23:36.741058: I tensorflow/core/kernels/data/shuffle_dataset_op.cc:422] ShuffleDatasetV3:14: Filling up shuffle buffer (this may take a while): 1743 of 2000\n",
      "2024-01-28 11:23:46.747194: I tensorflow/core/kernels/data/shuffle_dataset_op.cc:422] ShuffleDatasetV3:14: Filling up shuffle buffer (this may take a while): 1856 of 2000\n",
      "2024-01-28 11:23:59.863559: I tensorflow/core/kernels/data/shuffle_dataset_op.cc:452] Shuffle buffer filled.\n"
     ]
    },
    {
     "name": "stdout",
     "output_type": "stream",
     "text": [
      "6282/6282 [==============================] - 1373s 191ms/step - loss: 0.2309 - output_1_loss: 0.0274 - output_2_loss: 0.1761 - output_1_mse: 0.0274 - output_2_accuracy: 0.9485 - val_loss: 0.1845 - val_output_1_loss: 0.0350 - val_output_2_loss: 0.1145 - val_output_1_mse: 0.0350 - val_output_2_accuracy: 0.9667\n",
      "Epoch 17/30\n"
     ]
    },
    {
     "name": "stderr",
     "output_type": "stream",
     "text": [
      "2024-01-28 11:44:09.678966: I tensorflow/core/kernels/data/shuffle_dataset_op.cc:422] ShuffleDatasetV3:14: Filling up shuffle buffer (this may take a while): 103 of 2000\n",
      "2024-01-28 11:44:19.765625: I tensorflow/core/kernels/data/shuffle_dataset_op.cc:422] ShuffleDatasetV3:14: Filling up shuffle buffer (this may take a while): 206 of 2000\n",
      "2024-01-28 11:44:39.663404: I tensorflow/core/kernels/data/shuffle_dataset_op.cc:422] ShuffleDatasetV3:14: Filling up shuffle buffer (this may take a while): 439 of 2000\n",
      "2024-01-28 11:44:49.664370: I tensorflow/core/kernels/data/shuffle_dataset_op.cc:422] ShuffleDatasetV3:14: Filling up shuffle buffer (this may take a while): 546 of 2000\n",
      "2024-01-28 11:44:59.676494: I tensorflow/core/kernels/data/shuffle_dataset_op.cc:422] ShuffleDatasetV3:14: Filling up shuffle buffer (this may take a while): 666 of 2000\n",
      "2024-01-28 11:45:09.724047: I tensorflow/core/kernels/data/shuffle_dataset_op.cc:422] ShuffleDatasetV3:14: Filling up shuffle buffer (this may take a while): 778 of 2000\n",
      "2024-01-28 11:45:29.673905: I tensorflow/core/kernels/data/shuffle_dataset_op.cc:422] ShuffleDatasetV3:14: Filling up shuffle buffer (this may take a while): 988 of 2000\n",
      "2024-01-28 11:45:39.730964: I tensorflow/core/kernels/data/shuffle_dataset_op.cc:422] ShuffleDatasetV3:14: Filling up shuffle buffer (this may take a while): 1106 of 2000\n",
      "2024-01-28 11:45:59.686610: I tensorflow/core/kernels/data/shuffle_dataset_op.cc:422] ShuffleDatasetV3:14: Filling up shuffle buffer (this may take a while): 1328 of 2000\n",
      "2024-01-28 11:46:09.694347: I tensorflow/core/kernels/data/shuffle_dataset_op.cc:422] ShuffleDatasetV3:14: Filling up shuffle buffer (this may take a while): 1446 of 2000\n",
      "2024-01-28 11:46:29.686924: I tensorflow/core/kernels/data/shuffle_dataset_op.cc:422] ShuffleDatasetV3:14: Filling up shuffle buffer (this may take a while): 1683 of 2000\n",
      "2024-01-28 11:46:39.687673: I tensorflow/core/kernels/data/shuffle_dataset_op.cc:422] ShuffleDatasetV3:14: Filling up shuffle buffer (this may take a while): 1809 of 2000\n",
      "2024-01-28 11:46:56.024786: I tensorflow/core/kernels/data/shuffle_dataset_op.cc:452] Shuffle buffer filled.\n"
     ]
    },
    {
     "name": "stdout",
     "output_type": "stream",
     "text": [
      "6282/6282 [==============================] - 1383s 192ms/step - loss: 0.2303 - output_1_loss: 0.0272 - output_2_loss: 0.1759 - output_1_mse: 0.0272 - output_2_accuracy: 0.9485 - val_loss: 0.1784 - val_output_1_loss: 0.0329 - val_output_2_loss: 0.1125 - val_output_1_mse: 0.0329 - val_output_2_accuracy: 0.9667\n",
      "Epoch 18/30\n"
     ]
    },
    {
     "name": "stderr",
     "output_type": "stream",
     "text": [
      "2024-01-28 12:07:12.795545: I tensorflow/core/kernels/data/shuffle_dataset_op.cc:422] ShuffleDatasetV3:14: Filling up shuffle buffer (this may take a while): 98 of 2000\n",
      "2024-01-28 12:07:32.763816: I tensorflow/core/kernels/data/shuffle_dataset_op.cc:422] ShuffleDatasetV3:14: Filling up shuffle buffer (this may take a while): 311 of 2000\n",
      "2024-01-28 12:07:52.789195: I tensorflow/core/kernels/data/shuffle_dataset_op.cc:422] ShuffleDatasetV3:14: Filling up shuffle buffer (this may take a while): 547 of 2000\n",
      "2024-01-28 12:08:12.729672: I tensorflow/core/kernels/data/shuffle_dataset_op.cc:422] ShuffleDatasetV3:14: Filling up shuffle buffer (this may take a while): 781 of 2000\n",
      "2024-01-28 12:08:22.803859: I tensorflow/core/kernels/data/shuffle_dataset_op.cc:422] ShuffleDatasetV3:14: Filling up shuffle buffer (this may take a while): 903 of 2000\n",
      "2024-01-28 12:08:42.746505: I tensorflow/core/kernels/data/shuffle_dataset_op.cc:422] ShuffleDatasetV3:14: Filling up shuffle buffer (this may take a while): 1123 of 2000\n",
      "2024-01-28 12:09:02.735446: I tensorflow/core/kernels/data/shuffle_dataset_op.cc:422] ShuffleDatasetV3:14: Filling up shuffle buffer (this may take a while): 1361 of 2000\n",
      "2024-01-28 12:09:12.819199: I tensorflow/core/kernels/data/shuffle_dataset_op.cc:422] ShuffleDatasetV3:14: Filling up shuffle buffer (this may take a while): 1476 of 2000\n",
      "2024-01-28 12:09:32.789376: I tensorflow/core/kernels/data/shuffle_dataset_op.cc:422] ShuffleDatasetV3:14: Filling up shuffle buffer (this may take a while): 1671 of 2000\n",
      "2024-01-28 12:09:52.814342: I tensorflow/core/kernels/data/shuffle_dataset_op.cc:422] ShuffleDatasetV3:14: Filling up shuffle buffer (this may take a while): 1856 of 2000\n",
      "2024-01-28 12:10:07.754851: I tensorflow/core/kernels/data/shuffle_dataset_op.cc:452] Shuffle buffer filled.\n"
     ]
    },
    {
     "name": "stdout",
     "output_type": "stream",
     "text": [
      "6282/6282 [==============================] - 1393s 192ms/step - loss: 0.2299 - output_1_loss: 0.0271 - output_2_loss: 0.1758 - output_1_mse: 0.0271 - output_2_accuracy: 0.9486 - val_loss: 0.1824 - val_output_1_loss: 0.0344 - val_output_2_loss: 0.1136 - val_output_1_mse: 0.0344 - val_output_2_accuracy: 0.9667\n",
      "Epoch 19/30\n"
     ]
    },
    {
     "name": "stderr",
     "output_type": "stream",
     "text": [
      "2024-01-28 12:30:25.806004: I tensorflow/core/kernels/data/shuffle_dataset_op.cc:422] ShuffleDatasetV3:14: Filling up shuffle buffer (this may take a while): 105 of 2000\n",
      "2024-01-28 12:30:45.648679: I tensorflow/core/kernels/data/shuffle_dataset_op.cc:422] ShuffleDatasetV3:14: Filling up shuffle buffer (this may take a while): 310 of 2000\n",
      "2024-01-28 12:30:55.689243: I tensorflow/core/kernels/data/shuffle_dataset_op.cc:422] ShuffleDatasetV3:14: Filling up shuffle buffer (this may take a while): 412 of 2000\n",
      "2024-01-28 12:31:15.656136: I tensorflow/core/kernels/data/shuffle_dataset_op.cc:422] ShuffleDatasetV3:14: Filling up shuffle buffer (this may take a while): 625 of 2000\n",
      "2024-01-28 12:31:25.661302: I tensorflow/core/kernels/data/shuffle_dataset_op.cc:422] ShuffleDatasetV3:14: Filling up shuffle buffer (this may take a while): 739 of 2000\n",
      "2024-01-28 12:31:45.615822: I tensorflow/core/kernels/data/shuffle_dataset_op.cc:422] ShuffleDatasetV3:14: Filling up shuffle buffer (this may take a while): 979 of 2000\n",
      "2024-01-28 12:31:55.666639: I tensorflow/core/kernels/data/shuffle_dataset_op.cc:422] ShuffleDatasetV3:14: Filling up shuffle buffer (this may take a while): 1109 of 2000\n",
      "2024-01-28 12:32:15.680751: I tensorflow/core/kernels/data/shuffle_dataset_op.cc:422] ShuffleDatasetV3:14: Filling up shuffle buffer (this may take a while): 1355 of 2000\n",
      "2024-01-28 12:32:25.699959: I tensorflow/core/kernels/data/shuffle_dataset_op.cc:422] ShuffleDatasetV3:14: Filling up shuffle buffer (this may take a while): 1464 of 2000\n",
      "2024-01-28 12:32:45.633376: I tensorflow/core/kernels/data/shuffle_dataset_op.cc:422] ShuffleDatasetV3:14: Filling up shuffle buffer (this may take a while): 1704 of 2000\n",
      "2024-01-28 12:33:05.659325: I tensorflow/core/kernels/data/shuffle_dataset_op.cc:422] ShuffleDatasetV3:14: Filling up shuffle buffer (this may take a while): 1956 of 2000\n",
      "2024-01-28 12:33:08.722803: I tensorflow/core/kernels/data/shuffle_dataset_op.cc:452] Shuffle buffer filled.\n"
     ]
    },
    {
     "name": "stdout",
     "output_type": "stream",
     "text": [
      "6282/6282 [==============================] - 1376s 191ms/step - loss: 0.2296 - output_1_loss: 0.0270 - output_2_loss: 0.1756 - output_1_mse: 0.0270 - output_2_accuracy: 0.9486 - val_loss: 0.1811 - val_output_1_loss: 0.0337 - val_output_2_loss: 0.1137 - val_output_1_mse: 0.0337 - val_output_2_accuracy: 0.9667\n",
      "Epoch 20/30\n"
     ]
    },
    {
     "name": "stderr",
     "output_type": "stream",
     "text": [
      "2024-01-28 12:53:21.432589: I tensorflow/core/kernels/data/shuffle_dataset_op.cc:422] ShuffleDatasetV3:14: Filling up shuffle buffer (this may take a while): 95 of 2000\n",
      "2024-01-28 12:53:31.480029: I tensorflow/core/kernels/data/shuffle_dataset_op.cc:422] ShuffleDatasetV3:14: Filling up shuffle buffer (this may take a while): 193 of 2000\n",
      "2024-01-28 12:53:51.402701: I tensorflow/core/kernels/data/shuffle_dataset_op.cc:422] ShuffleDatasetV3:14: Filling up shuffle buffer (this may take a while): 411 of 2000\n",
      "2024-01-28 12:54:01.429682: I tensorflow/core/kernels/data/shuffle_dataset_op.cc:422] ShuffleDatasetV3:14: Filling up shuffle buffer (this may take a while): 539 of 2000\n",
      "2024-01-28 12:54:21.407059: I tensorflow/core/kernels/data/shuffle_dataset_op.cc:422] ShuffleDatasetV3:14: Filling up shuffle buffer (this may take a while): 767 of 2000\n",
      "2024-01-28 12:54:31.407973: I tensorflow/core/kernels/data/shuffle_dataset_op.cc:422] ShuffleDatasetV3:14: Filling up shuffle buffer (this may take a while): 879 of 2000\n",
      "2024-01-28 12:54:41.436980: I tensorflow/core/kernels/data/shuffle_dataset_op.cc:422] ShuffleDatasetV3:14: Filling up shuffle buffer (this may take a while): 1003 of 2000\n",
      "2024-01-28 12:55:01.429147: I tensorflow/core/kernels/data/shuffle_dataset_op.cc:422] ShuffleDatasetV3:14: Filling up shuffle buffer (this may take a while): 1229 of 2000\n",
      "2024-01-28 12:55:11.429989: I tensorflow/core/kernels/data/shuffle_dataset_op.cc:422] ShuffleDatasetV3:14: Filling up shuffle buffer (this may take a while): 1355 of 2000\n",
      "2024-01-28 12:55:31.429280: I tensorflow/core/kernels/data/shuffle_dataset_op.cc:422] ShuffleDatasetV3:14: Filling up shuffle buffer (this may take a while): 1591 of 2000\n",
      "2024-01-28 12:55:41.446434: I tensorflow/core/kernels/data/shuffle_dataset_op.cc:422] ShuffleDatasetV3:14: Filling up shuffle buffer (this may take a while): 1708 of 2000\n",
      "2024-01-28 12:55:51.459521: I tensorflow/core/kernels/data/shuffle_dataset_op.cc:422] ShuffleDatasetV3:14: Filling up shuffle buffer (this may take a while): 1815 of 2000\n",
      "2024-01-28 12:56:07.647485: I tensorflow/core/kernels/data/shuffle_dataset_op.cc:452] Shuffle buffer filled.\n"
     ]
    },
    {
     "name": "stdout",
     "output_type": "stream",
     "text": [
      "6282/6282 [==============================] - 1389s 193ms/step - loss: 0.2289 - output_1_loss: 0.0268 - output_2_loss: 0.1752 - output_1_mse: 0.0268 - output_2_accuracy: 0.9486 - val_loss: 0.1798 - val_output_1_loss: 0.0334 - val_output_2_loss: 0.1129 - val_output_1_mse: 0.0334 - val_output_2_accuracy: 0.9667\n",
      "Epoch 21/30\n"
     ]
    },
    {
     "name": "stderr",
     "output_type": "stream",
     "text": [
      "2024-01-28 13:16:30.490340: I tensorflow/core/kernels/data/shuffle_dataset_op.cc:422] ShuffleDatasetV3:14: Filling up shuffle buffer (this may take a while): 83 of 2000\n",
      "2024-01-28 13:16:40.502896: I tensorflow/core/kernels/data/shuffle_dataset_op.cc:422] ShuffleDatasetV3:14: Filling up shuffle buffer (this may take a while): 164 of 2000\n",
      "2024-01-28 13:17:00.505569: I tensorflow/core/kernels/data/shuffle_dataset_op.cc:422] ShuffleDatasetV3:14: Filling up shuffle buffer (this may take a while): 347 of 2000\n",
      "2024-01-28 13:17:20.508039: I tensorflow/core/kernels/data/shuffle_dataset_op.cc:422] ShuffleDatasetV3:14: Filling up shuffle buffer (this may take a while): 545 of 2000\n",
      "2024-01-28 13:17:40.538161: I tensorflow/core/kernels/data/shuffle_dataset_op.cc:422] ShuffleDatasetV3:14: Filling up shuffle buffer (this may take a while): 743 of 2000\n",
      "2024-01-28 13:18:00.488113: I tensorflow/core/kernels/data/shuffle_dataset_op.cc:422] ShuffleDatasetV3:14: Filling up shuffle buffer (this may take a while): 1004 of 2000\n",
      "2024-01-28 13:18:20.452860: I tensorflow/core/kernels/data/shuffle_dataset_op.cc:422] ShuffleDatasetV3:14: Filling up shuffle buffer (this may take a while): 1319 of 2000\n",
      "2024-01-28 13:18:30.466195: I tensorflow/core/kernels/data/shuffle_dataset_op.cc:422] ShuffleDatasetV3:14: Filling up shuffle buffer (this may take a while): 1504 of 2000\n",
      "2024-01-28 13:18:40.489354: I tensorflow/core/kernels/data/shuffle_dataset_op.cc:422] ShuffleDatasetV3:14: Filling up shuffle buffer (this may take a while): 1666 of 2000\n",
      "2024-01-28 13:18:50.506940: I tensorflow/core/kernels/data/shuffle_dataset_op.cc:422] ShuffleDatasetV3:14: Filling up shuffle buffer (this may take a while): 1842 of 2000\n",
      "2024-01-28 13:18:58.598021: I tensorflow/core/kernels/data/shuffle_dataset_op.cc:452] Shuffle buffer filled.\n"
     ]
    },
    {
     "name": "stdout",
     "output_type": "stream",
     "text": [
      "6282/6282 [==============================] - 1355s 190ms/step - loss: 0.2286 - output_1_loss: 0.0267 - output_2_loss: 0.1751 - output_1_mse: 0.0267 - output_2_accuracy: 0.9486 - val_loss: 0.1804 - val_output_1_loss: 0.0337 - val_output_2_loss: 0.1129 - val_output_1_mse: 0.0337 - val_output_2_accuracy: 0.9667\n",
      "Epoch 22/30\n"
     ]
    },
    {
     "name": "stderr",
     "output_type": "stream",
     "text": [
      "2024-01-28 13:39:05.471980: I tensorflow/core/kernels/data/shuffle_dataset_op.cc:422] ShuffleDatasetV3:14: Filling up shuffle buffer (this may take a while): 112 of 2000\n",
      "2024-01-28 13:39:25.509134: I tensorflow/core/kernels/data/shuffle_dataset_op.cc:422] ShuffleDatasetV3:14: Filling up shuffle buffer (this may take a while): 344 of 2000\n",
      "2024-01-28 13:39:45.440175: I tensorflow/core/kernels/data/shuffle_dataset_op.cc:422] ShuffleDatasetV3:14: Filling up shuffle buffer (this may take a while): 560 of 2000\n",
      "2024-01-28 13:39:55.510964: I tensorflow/core/kernels/data/shuffle_dataset_op.cc:422] ShuffleDatasetV3:14: Filling up shuffle buffer (this may take a while): 683 of 2000\n",
      "2024-01-28 13:40:15.438518: I tensorflow/core/kernels/data/shuffle_dataset_op.cc:422] ShuffleDatasetV3:14: Filling up shuffle buffer (this may take a while): 912 of 2000\n",
      "2024-01-28 13:40:25.440378: I tensorflow/core/kernels/data/shuffle_dataset_op.cc:422] ShuffleDatasetV3:14: Filling up shuffle buffer (this may take a while): 1026 of 2000\n",
      "2024-01-28 13:40:45.458413: I tensorflow/core/kernels/data/shuffle_dataset_op.cc:422] ShuffleDatasetV3:14: Filling up shuffle buffer (this may take a while): 1255 of 2000\n",
      "2024-01-28 13:40:55.478369: I tensorflow/core/kernels/data/shuffle_dataset_op.cc:422] ShuffleDatasetV3:14: Filling up shuffle buffer (this may take a while): 1375 of 2000\n",
      "2024-01-28 13:41:05.483590: I tensorflow/core/kernels/data/shuffle_dataset_op.cc:422] ShuffleDatasetV3:14: Filling up shuffle buffer (this may take a while): 1481 of 2000\n",
      "2024-01-28 13:41:25.423536: I tensorflow/core/kernels/data/shuffle_dataset_op.cc:422] ShuffleDatasetV3:14: Filling up shuffle buffer (this may take a while): 1714 of 2000\n",
      "2024-01-28 13:41:35.431344: I tensorflow/core/kernels/data/shuffle_dataset_op.cc:422] ShuffleDatasetV3:14: Filling up shuffle buffer (this may take a while): 1824 of 2000\n",
      "2024-01-28 13:41:49.112088: I tensorflow/core/kernels/data/shuffle_dataset_op.cc:452] Shuffle buffer filled.\n"
     ]
    },
    {
     "name": "stdout",
     "output_type": "stream",
     "text": [
      "6282/6282 [==============================] - 1384s 193ms/step - loss: 0.2278 - output_1_loss: 0.0265 - output_2_loss: 0.1748 - output_1_mse: 0.0265 - output_2_accuracy: 0.9486 - val_loss: 0.1831 - val_output_1_loss: 0.0352 - val_output_2_loss: 0.1128 - val_output_1_mse: 0.0352 - val_output_2_accuracy: 0.9667\n",
      "Epoch 23/30\n"
     ]
    },
    {
     "name": "stderr",
     "output_type": "stream",
     "text": [
      "2024-01-28 14:02:09.481767: I tensorflow/core/kernels/data/shuffle_dataset_op.cc:422] ShuffleDatasetV3:14: Filling up shuffle buffer (this may take a while): 114 of 2000\n",
      "2024-01-28 14:02:19.494656: I tensorflow/core/kernels/data/shuffle_dataset_op.cc:422] ShuffleDatasetV3:14: Filling up shuffle buffer (this may take a while): 227 of 2000\n",
      "2024-01-28 14:02:39.468071: I tensorflow/core/kernels/data/shuffle_dataset_op.cc:422] ShuffleDatasetV3:14: Filling up shuffle buffer (this may take a while): 474 of 2000\n",
      "2024-01-28 14:02:59.475307: I tensorflow/core/kernels/data/shuffle_dataset_op.cc:422] ShuffleDatasetV3:14: Filling up shuffle buffer (this may take a while): 696 of 2000\n",
      "2024-01-28 14:03:19.451862: I tensorflow/core/kernels/data/shuffle_dataset_op.cc:422] ShuffleDatasetV3:14: Filling up shuffle buffer (this may take a while): 915 of 2000\n",
      "2024-01-28 14:03:29.464617: I tensorflow/core/kernels/data/shuffle_dataset_op.cc:422] ShuffleDatasetV3:14: Filling up shuffle buffer (this may take a while): 1024 of 2000\n",
      "2024-01-28 14:03:39.514838: I tensorflow/core/kernels/data/shuffle_dataset_op.cc:422] ShuffleDatasetV3:14: Filling up shuffle buffer (this may take a while): 1144 of 2000\n",
      "2024-01-28 14:03:59.436675: I tensorflow/core/kernels/data/shuffle_dataset_op.cc:422] ShuffleDatasetV3:14: Filling up shuffle buffer (this may take a while): 1360 of 2000\n",
      "2024-01-28 14:04:09.501055: I tensorflow/core/kernels/data/shuffle_dataset_op.cc:422] ShuffleDatasetV3:14: Filling up shuffle buffer (this may take a while): 1472 of 2000\n",
      "2024-01-28 14:04:29.433288: I tensorflow/core/kernels/data/shuffle_dataset_op.cc:422] ShuffleDatasetV3:14: Filling up shuffle buffer (this may take a while): 1691 of 2000\n",
      "2024-01-28 14:04:39.506839: I tensorflow/core/kernels/data/shuffle_dataset_op.cc:422] ShuffleDatasetV3:14: Filling up shuffle buffer (this may take a while): 1801 of 2000\n",
      "2024-01-28 14:04:49.530329: I tensorflow/core/kernels/data/shuffle_dataset_op.cc:422] ShuffleDatasetV3:14: Filling up shuffle buffer (this may take a while): 1912 of 2000\n",
      "2024-01-28 14:04:58.194621: I tensorflow/core/kernels/data/shuffle_dataset_op.cc:452] Shuffle buffer filled.\n"
     ]
    },
    {
     "name": "stdout",
     "output_type": "stream",
     "text": [
      "6282/6282 [==============================] - 1369s 189ms/step - loss: 0.2271 - output_1_loss: 0.0263 - output_2_loss: 0.1745 - output_1_mse: 0.0263 - output_2_accuracy: 0.9486 - val_loss: 0.1814 - val_output_1_loss: 0.0343 - val_output_2_loss: 0.1129 - val_output_1_mse: 0.0343 - val_output_2_accuracy: 0.9667\n",
      "Epoch 24/30\n"
     ]
    },
    {
     "name": "stderr",
     "output_type": "stream",
     "text": [
      "2024-01-28 14:24:58.594512: I tensorflow/core/kernels/data/shuffle_dataset_op.cc:422] ShuffleDatasetV3:14: Filling up shuffle buffer (this may take a while): 117 of 2000\n",
      "2024-01-28 14:25:08.615175: I tensorflow/core/kernels/data/shuffle_dataset_op.cc:422] ShuffleDatasetV3:14: Filling up shuffle buffer (this may take a while): 219 of 2000\n",
      "2024-01-28 14:25:18.638331: I tensorflow/core/kernels/data/shuffle_dataset_op.cc:422] ShuffleDatasetV3:14: Filling up shuffle buffer (this may take a while): 320 of 2000\n",
      "2024-01-28 14:25:38.616713: I tensorflow/core/kernels/data/shuffle_dataset_op.cc:422] ShuffleDatasetV3:14: Filling up shuffle buffer (this may take a while): 531 of 2000\n",
      "2024-01-28 14:25:58.572990: I tensorflow/core/kernels/data/shuffle_dataset_op.cc:422] ShuffleDatasetV3:14: Filling up shuffle buffer (this may take a while): 786 of 2000\n",
      "2024-01-28 14:26:08.595568: I tensorflow/core/kernels/data/shuffle_dataset_op.cc:422] ShuffleDatasetV3:14: Filling up shuffle buffer (this may take a while): 907 of 2000\n",
      "2024-01-28 14:26:28.571837: I tensorflow/core/kernels/data/shuffle_dataset_op.cc:422] ShuffleDatasetV3:14: Filling up shuffle buffer (this may take a while): 1136 of 2000\n",
      "2024-01-28 14:26:38.582095: I tensorflow/core/kernels/data/shuffle_dataset_op.cc:422] ShuffleDatasetV3:14: Filling up shuffle buffer (this may take a while): 1238 of 2000\n",
      "2024-01-28 14:26:48.586233: I tensorflow/core/kernels/data/shuffle_dataset_op.cc:422] ShuffleDatasetV3:14: Filling up shuffle buffer (this may take a while): 1343 of 2000\n",
      "2024-01-28 14:26:58.590846: I tensorflow/core/kernels/data/shuffle_dataset_op.cc:422] ShuffleDatasetV3:14: Filling up shuffle buffer (this may take a while): 1444 of 2000\n",
      "2024-01-28 14:27:08.629319: I tensorflow/core/kernels/data/shuffle_dataset_op.cc:422] ShuffleDatasetV3:14: Filling up shuffle buffer (this may take a while): 1544 of 2000\n",
      "2024-01-28 14:27:28.619010: I tensorflow/core/kernels/data/shuffle_dataset_op.cc:422] ShuffleDatasetV3:14: Filling up shuffle buffer (this may take a while): 1807 of 2000\n",
      "2024-01-28 14:27:42.234282: I tensorflow/core/kernels/data/shuffle_dataset_op.cc:452] Shuffle buffer filled.\n"
     ]
    },
    {
     "name": "stdout",
     "output_type": "stream",
     "text": [
      "6282/6282 [==============================] - 1384s 193ms/step - loss: 0.2267 - output_1_loss: 0.0262 - output_2_loss: 0.1743 - output_1_mse: 0.0262 - output_2_accuracy: 0.9486 - val_loss: 0.1816 - val_output_1_loss: 0.0342 - val_output_2_loss: 0.1133 - val_output_1_mse: 0.0342 - val_output_2_accuracy: 0.9667\n",
      "Epoch 25/30\n"
     ]
    },
    {
     "name": "stderr",
     "output_type": "stream",
     "text": [
      "2024-01-28 14:48:02.613387: I tensorflow/core/kernels/data/shuffle_dataset_op.cc:422] ShuffleDatasetV3:14: Filling up shuffle buffer (this may take a while): 110 of 2000\n",
      "2024-01-28 14:48:12.636666: I tensorflow/core/kernels/data/shuffle_dataset_op.cc:422] ShuffleDatasetV3:14: Filling up shuffle buffer (this may take a while): 209 of 2000\n",
      "2024-01-28 14:48:32.621458: I tensorflow/core/kernels/data/shuffle_dataset_op.cc:422] ShuffleDatasetV3:14: Filling up shuffle buffer (this may take a while): 444 of 2000\n",
      "2024-01-28 14:48:52.572833: I tensorflow/core/kernels/data/shuffle_dataset_op.cc:422] ShuffleDatasetV3:14: Filling up shuffle buffer (this may take a while): 697 of 2000\n",
      "2024-01-28 14:49:12.675263: I tensorflow/core/kernels/data/shuffle_dataset_op.cc:422] ShuffleDatasetV3:14: Filling up shuffle buffer (this may take a while): 883 of 2000\n",
      "2024-01-28 14:49:32.713526: I tensorflow/core/kernels/data/shuffle_dataset_op.cc:422] ShuffleDatasetV3:14: Filling up shuffle buffer (this may take a while): 1063 of 2000\n",
      "2024-01-28 14:49:52.701042: I tensorflow/core/kernels/data/shuffle_dataset_op.cc:422] ShuffleDatasetV3:14: Filling up shuffle buffer (this may take a while): 1235 of 2000\n",
      "2024-01-28 14:50:12.618015: I tensorflow/core/kernels/data/shuffle_dataset_op.cc:422] ShuffleDatasetV3:14: Filling up shuffle buffer (this may take a while): 1405 of 2000\n",
      "2024-01-28 14:50:22.629869: I tensorflow/core/kernels/data/shuffle_dataset_op.cc:422] ShuffleDatasetV3:14: Filling up shuffle buffer (this may take a while): 1510 of 2000\n",
      "2024-01-28 14:50:32.645300: I tensorflow/core/kernels/data/shuffle_dataset_op.cc:422] ShuffleDatasetV3:14: Filling up shuffle buffer (this may take a while): 1602 of 2000\n",
      "2024-01-28 14:50:52.610295: I tensorflow/core/kernels/data/shuffle_dataset_op.cc:422] ShuffleDatasetV3:14: Filling up shuffle buffer (this may take a while): 1797 of 2000\n",
      "2024-01-28 14:51:02.636343: I tensorflow/core/kernels/data/shuffle_dataset_op.cc:422] ShuffleDatasetV3:14: Filling up shuffle buffer (this may take a while): 1886 of 2000\n",
      "2024-01-28 14:51:14.157550: I tensorflow/core/kernels/data/shuffle_dataset_op.cc:452] Shuffle buffer filled.\n"
     ]
    },
    {
     "name": "stdout",
     "output_type": "stream",
     "text": [
      "6282/6282 [==============================] - 1375s 187ms/step - loss: 0.2264 - output_1_loss: 0.0261 - output_2_loss: 0.1741 - output_1_mse: 0.0261 - output_2_accuracy: 0.9486 - val_loss: 0.1828 - val_output_1_loss: 0.0348 - val_output_2_loss: 0.1132 - val_output_1_mse: 0.0348 - val_output_2_accuracy: 0.9667\n",
      "Epoch 26/30\n"
     ]
    },
    {
     "name": "stderr",
     "output_type": "stream",
     "text": [
      "2024-01-28 15:10:58.055301: I tensorflow/core/kernels/data/shuffle_dataset_op.cc:422] ShuffleDatasetV3:14: Filling up shuffle buffer (this may take a while): 102 of 2000\n",
      "2024-01-28 15:11:08.074923: I tensorflow/core/kernels/data/shuffle_dataset_op.cc:422] ShuffleDatasetV3:14: Filling up shuffle buffer (this may take a while): 222 of 2000\n",
      "2024-01-28 15:11:28.041736: I tensorflow/core/kernels/data/shuffle_dataset_op.cc:422] ShuffleDatasetV3:14: Filling up shuffle buffer (this may take a while): 527 of 2000\n",
      "2024-01-28 15:11:38.059480: I tensorflow/core/kernels/data/shuffle_dataset_op.cc:422] ShuffleDatasetV3:14: Filling up shuffle buffer (this may take a while): 662 of 2000\n",
      "2024-01-28 15:11:48.059990: I tensorflow/core/kernels/data/shuffle_dataset_op.cc:422] ShuffleDatasetV3:14: Filling up shuffle buffer (this may take a while): 759 of 2000\n",
      "2024-01-28 15:12:08.062355: I tensorflow/core/kernels/data/shuffle_dataset_op.cc:422] ShuffleDatasetV3:14: Filling up shuffle buffer (this may take a while): 994 of 2000\n",
      "2024-01-28 15:12:18.068973: I tensorflow/core/kernels/data/shuffle_dataset_op.cc:422] ShuffleDatasetV3:14: Filling up shuffle buffer (this may take a while): 1136 of 2000\n",
      "2024-01-28 15:12:38.081588: I tensorflow/core/kernels/data/shuffle_dataset_op.cc:422] ShuffleDatasetV3:14: Filling up shuffle buffer (this may take a while): 1366 of 2000\n",
      "2024-01-28 15:12:48.083962: I tensorflow/core/kernels/data/shuffle_dataset_op.cc:422] ShuffleDatasetV3:14: Filling up shuffle buffer (this may take a while): 1490 of 2000\n",
      "2024-01-28 15:13:08.047796: I tensorflow/core/kernels/data/shuffle_dataset_op.cc:422] ShuffleDatasetV3:14: Filling up shuffle buffer (this may take a while): 1771 of 2000\n",
      "2024-01-28 15:13:24.420478: I tensorflow/core/kernels/data/shuffle_dataset_op.cc:452] Shuffle buffer filled.\n"
     ]
    },
    {
     "name": "stdout",
     "output_type": "stream",
     "text": [
      "6282/6282 [==============================] - 1285s 180ms/step - loss: 0.2262 - output_1_loss: 0.0261 - output_2_loss: 0.1739 - output_1_mse: 0.0261 - output_2_accuracy: 0.9486 - val_loss: 0.1819 - val_output_1_loss: 0.0345 - val_output_2_loss: 0.1128 - val_output_1_mse: 0.0345 - val_output_2_accuracy: 0.9667\n",
      "Epoch 27/30\n"
     ]
    },
    {
     "name": "stderr",
     "output_type": "stream",
     "text": [
      "2024-01-28 15:32:23.617902: I tensorflow/core/kernels/data/shuffle_dataset_op.cc:422] ShuffleDatasetV3:14: Filling up shuffle buffer (this may take a while): 95 of 2000\n",
      "2024-01-28 15:32:33.614493: I tensorflow/core/kernels/data/shuffle_dataset_op.cc:422] ShuffleDatasetV3:14: Filling up shuffle buffer (this may take a while): 182 of 2000\n",
      "2024-01-28 15:32:53.552282: I tensorflow/core/kernels/data/shuffle_dataset_op.cc:422] ShuffleDatasetV3:14: Filling up shuffle buffer (this may take a while): 365 of 2000\n",
      "2024-01-28 15:33:13.492348: I tensorflow/core/kernels/data/shuffle_dataset_op.cc:422] ShuffleDatasetV3:14: Filling up shuffle buffer (this may take a while): 570 of 2000\n",
      "2024-01-28 15:33:23.533536: I tensorflow/core/kernels/data/shuffle_dataset_op.cc:422] ShuffleDatasetV3:14: Filling up shuffle buffer (this may take a while): 657 of 2000\n",
      "2024-01-28 15:33:43.501225: I tensorflow/core/kernels/data/shuffle_dataset_op.cc:422] ShuffleDatasetV3:14: Filling up shuffle buffer (this may take a while): 869 of 2000\n",
      "2024-01-28 15:34:03.493063: I tensorflow/core/kernels/data/shuffle_dataset_op.cc:422] ShuffleDatasetV3:14: Filling up shuffle buffer (this may take a while): 1088 of 2000\n",
      "2024-01-28 15:34:13.552340: I tensorflow/core/kernels/data/shuffle_dataset_op.cc:422] ShuffleDatasetV3:14: Filling up shuffle buffer (this may take a while): 1187 of 2000\n",
      "2024-01-28 15:34:23.562850: I tensorflow/core/kernels/data/shuffle_dataset_op.cc:422] ShuffleDatasetV3:14: Filling up shuffle buffer (this may take a while): 1279 of 2000\n",
      "2024-01-28 15:34:33.580384: I tensorflow/core/kernels/data/shuffle_dataset_op.cc:422] ShuffleDatasetV3:14: Filling up shuffle buffer (this may take a while): 1368 of 2000\n",
      "2024-01-28 15:34:53.504217: I tensorflow/core/kernels/data/shuffle_dataset_op.cc:422] ShuffleDatasetV3:14: Filling up shuffle buffer (this may take a while): 1569 of 2000\n",
      "2024-01-28 15:35:13.540029: I tensorflow/core/kernels/data/shuffle_dataset_op.cc:422] ShuffleDatasetV3:14: Filling up shuffle buffer (this may take a while): 1761 of 2000\n",
      "2024-01-28 15:35:23.542875: I tensorflow/core/kernels/data/shuffle_dataset_op.cc:422] ShuffleDatasetV3:14: Filling up shuffle buffer (this may take a while): 1861 of 2000\n",
      "2024-01-28 15:35:33.569295: I tensorflow/core/kernels/data/shuffle_dataset_op.cc:422] ShuffleDatasetV3:14: Filling up shuffle buffer (this may take a while): 1962 of 2000\n",
      "2024-01-28 15:35:37.785294: I tensorflow/core/kernels/data/shuffle_dataset_op.cc:452] Shuffle buffer filled.\n"
     ]
    },
    {
     "name": "stdout",
     "output_type": "stream",
     "text": [
      "6282/6282 [==============================] - 1102s 143ms/step - loss: 0.2259 - output_1_loss: 0.0261 - output_2_loss: 0.1738 - output_1_mse: 0.0261 - output_2_accuracy: 0.9486 - val_loss: 0.1812 - val_output_1_loss: 0.0332 - val_output_2_loss: 0.1148 - val_output_1_mse: 0.0332 - val_output_2_accuracy: 0.9668\n",
      "Epoch 28/30\n"
     ]
    },
    {
     "name": "stderr",
     "output_type": "stream",
     "text": [
      "2024-01-28 15:50:45.356096: I tensorflow/core/kernels/data/shuffle_dataset_op.cc:422] ShuffleDatasetV3:14: Filling up shuffle buffer (this may take a while): 87 of 2000\n",
      "2024-01-28 15:51:05.306501: I tensorflow/core/kernels/data/shuffle_dataset_op.cc:422] ShuffleDatasetV3:14: Filling up shuffle buffer (this may take a while): 262 of 2000\n",
      "2024-01-28 15:51:15.356490: I tensorflow/core/kernels/data/shuffle_dataset_op.cc:422] ShuffleDatasetV3:14: Filling up shuffle buffer (this may take a while): 356 of 2000\n",
      "2024-01-28 15:51:35.317877: I tensorflow/core/kernels/data/shuffle_dataset_op.cc:422] ShuffleDatasetV3:14: Filling up shuffle buffer (this may take a while): 534 of 2000\n",
      "2024-01-28 15:51:55.341931: I tensorflow/core/kernels/data/shuffle_dataset_op.cc:422] ShuffleDatasetV3:14: Filling up shuffle buffer (this may take a while): 731 of 2000\n",
      "2024-01-28 15:52:15.312139: I tensorflow/core/kernels/data/shuffle_dataset_op.cc:422] ShuffleDatasetV3:14: Filling up shuffle buffer (this may take a while): 928 of 2000\n",
      "2024-01-28 15:52:35.337234: I tensorflow/core/kernels/data/shuffle_dataset_op.cc:422] ShuffleDatasetV3:14: Filling up shuffle buffer (this may take a while): 1139 of 2000\n",
      "2024-01-28 15:52:55.253249: I tensorflow/core/kernels/data/shuffle_dataset_op.cc:422] ShuffleDatasetV3:14: Filling up shuffle buffer (this may take a while): 1357 of 2000\n",
      "2024-01-28 15:53:05.313639: I tensorflow/core/kernels/data/shuffle_dataset_op.cc:422] ShuffleDatasetV3:14: Filling up shuffle buffer (this may take a while): 1461 of 2000\n",
      "2024-01-28 15:53:15.423697: I tensorflow/core/kernels/data/shuffle_dataset_op.cc:422] ShuffleDatasetV3:14: Filling up shuffle buffer (this may take a while): 1560 of 2000\n",
      "2024-01-28 15:53:35.259850: I tensorflow/core/kernels/data/shuffle_dataset_op.cc:422] ShuffleDatasetV3:14: Filling up shuffle buffer (this may take a while): 1763 of 2000\n",
      "2024-01-28 15:53:45.334213: I tensorflow/core/kernels/data/shuffle_dataset_op.cc:422] ShuffleDatasetV3:14: Filling up shuffle buffer (this may take a while): 1869 of 2000\n",
      "2024-01-28 15:53:58.807085: I tensorflow/core/kernels/data/shuffle_dataset_op.cc:452] Shuffle buffer filled.\n"
     ]
    },
    {
     "name": "stdout",
     "output_type": "stream",
     "text": [
      "6282/6282 [==============================] - 1030s 131ms/step - loss: 0.2255 - output_1_loss: 0.0260 - output_2_loss: 0.1735 - output_1_mse: 0.0260 - output_2_accuracy: 0.9487 - val_loss: 0.1812 - val_output_1_loss: 0.0340 - val_output_2_loss: 0.1131 - val_output_1_mse: 0.0340 - val_output_2_accuracy: 0.9668\n",
      "Epoch 29/30\n"
     ]
    },
    {
     "name": "stderr",
     "output_type": "stream",
     "text": [
      "2024-01-28 16:07:55.457268: I tensorflow/core/kernels/data/shuffle_dataset_op.cc:422] ShuffleDatasetV3:14: Filling up shuffle buffer (this may take a while): 90 of 2000\n",
      "2024-01-28 16:08:05.562600: I tensorflow/core/kernels/data/shuffle_dataset_op.cc:422] ShuffleDatasetV3:14: Filling up shuffle buffer (this may take a while): 189 of 2000\n",
      "2024-01-28 16:08:25.457717: I tensorflow/core/kernels/data/shuffle_dataset_op.cc:422] ShuffleDatasetV3:14: Filling up shuffle buffer (this may take a while): 354 of 2000\n",
      "2024-01-28 16:08:45.489740: I tensorflow/core/kernels/data/shuffle_dataset_op.cc:422] ShuffleDatasetV3:14: Filling up shuffle buffer (this may take a while): 527 of 2000\n",
      "2024-01-28 16:09:05.490695: I tensorflow/core/kernels/data/shuffle_dataset_op.cc:422] ShuffleDatasetV3:14: Filling up shuffle buffer (this may take a while): 708 of 2000\n",
      "2024-01-28 16:09:25.484991: I tensorflow/core/kernels/data/shuffle_dataset_op.cc:422] ShuffleDatasetV3:14: Filling up shuffle buffer (this may take a while): 894 of 2000\n",
      "2024-01-28 16:09:45.450196: I tensorflow/core/kernels/data/shuffle_dataset_op.cc:422] ShuffleDatasetV3:14: Filling up shuffle buffer (this may take a while): 1084 of 2000\n",
      "2024-01-28 16:09:55.456657: I tensorflow/core/kernels/data/shuffle_dataset_op.cc:422] ShuffleDatasetV3:14: Filling up shuffle buffer (this may take a while): 1192 of 2000\n",
      "2024-01-28 16:10:15.440288: I tensorflow/core/kernels/data/shuffle_dataset_op.cc:422] ShuffleDatasetV3:14: Filling up shuffle buffer (this may take a while): 1439 of 2000\n",
      "2024-01-28 16:10:25.467087: I tensorflow/core/kernels/data/shuffle_dataset_op.cc:422] ShuffleDatasetV3:14: Filling up shuffle buffer (this may take a while): 1539 of 2000\n",
      "2024-01-28 16:10:35.483162: I tensorflow/core/kernels/data/shuffle_dataset_op.cc:422] ShuffleDatasetV3:14: Filling up shuffle buffer (this may take a while): 1643 of 2000\n",
      "2024-01-28 16:10:55.412778: I tensorflow/core/kernels/data/shuffle_dataset_op.cc:422] ShuffleDatasetV3:14: Filling up shuffle buffer (this may take a while): 1867 of 2000\n",
      "2024-01-28 16:11:10.231000: I tensorflow/core/kernels/data/shuffle_dataset_op.cc:452] Shuffle buffer filled.\n"
     ]
    },
    {
     "name": "stdout",
     "output_type": "stream",
     "text": [
      "6282/6282 [==============================] - 1029s 131ms/step - loss: 0.2251 - output_1_loss: 0.0259 - output_2_loss: 0.1734 - output_1_mse: 0.0259 - output_2_accuracy: 0.9487 - val_loss: 0.1814 - val_output_1_loss: 0.0344 - val_output_2_loss: 0.1127 - val_output_1_mse: 0.0344 - val_output_2_accuracy: 0.9668\n",
      "Epoch 30/30\n"
     ]
    },
    {
     "name": "stderr",
     "output_type": "stream",
     "text": [
      "2024-01-28 16:25:04.410062: I tensorflow/core/kernels/data/shuffle_dataset_op.cc:422] ShuffleDatasetV3:14: Filling up shuffle buffer (this may take a while): 92 of 2000\n",
      "2024-01-28 16:25:14.404993: I tensorflow/core/kernels/data/shuffle_dataset_op.cc:422] ShuffleDatasetV3:14: Filling up shuffle buffer (this may take a while): 189 of 2000\n",
      "2024-01-28 16:25:34.428447: I tensorflow/core/kernels/data/shuffle_dataset_op.cc:422] ShuffleDatasetV3:14: Filling up shuffle buffer (this may take a while): 348 of 2000\n",
      "2024-01-28 16:25:54.393827: I tensorflow/core/kernels/data/shuffle_dataset_op.cc:422] ShuffleDatasetV3:14: Filling up shuffle buffer (this may take a while): 530 of 2000\n",
      "2024-01-28 16:26:04.481223: I tensorflow/core/kernels/data/shuffle_dataset_op.cc:422] ShuffleDatasetV3:14: Filling up shuffle buffer (this may take a while): 621 of 2000\n",
      "2024-01-28 16:26:24.408497: I tensorflow/core/kernels/data/shuffle_dataset_op.cc:422] ShuffleDatasetV3:14: Filling up shuffle buffer (this may take a while): 820 of 2000\n",
      "2024-01-28 16:26:44.477168: I tensorflow/core/kernels/data/shuffle_dataset_op.cc:422] ShuffleDatasetV3:14: Filling up shuffle buffer (this may take a while): 1037 of 2000\n",
      "2024-01-28 16:27:04.445697: I tensorflow/core/kernels/data/shuffle_dataset_op.cc:422] ShuffleDatasetV3:14: Filling up shuffle buffer (this may take a while): 1233 of 2000\n",
      "2024-01-28 16:27:24.393420: I tensorflow/core/kernels/data/shuffle_dataset_op.cc:422] ShuffleDatasetV3:14: Filling up shuffle buffer (this may take a while): 1433 of 2000\n",
      "2024-01-28 16:27:34.406567: I tensorflow/core/kernels/data/shuffle_dataset_op.cc:422] ShuffleDatasetV3:14: Filling up shuffle buffer (this may take a while): 1536 of 2000\n",
      "2024-01-28 16:27:44.440709: I tensorflow/core/kernels/data/shuffle_dataset_op.cc:422] ShuffleDatasetV3:14: Filling up shuffle buffer (this may take a while): 1643 of 2000\n",
      "2024-01-28 16:28:04.409764: I tensorflow/core/kernels/data/shuffle_dataset_op.cc:422] ShuffleDatasetV3:14: Filling up shuffle buffer (this may take a while): 1865 of 2000\n",
      "2024-01-28 16:28:14.469393: I tensorflow/core/kernels/data/shuffle_dataset_op.cc:422] ShuffleDatasetV3:14: Filling up shuffle buffer (this may take a while): 1975 of 2000\n",
      "2024-01-28 16:28:16.919105: I tensorflow/core/kernels/data/shuffle_dataset_op.cc:452] Shuffle buffer filled.\n"
     ]
    },
    {
     "name": "stdout",
     "output_type": "stream",
     "text": [
      "6282/6282 [==============================] - 966s 121ms/step - loss: 0.2249 - output_1_loss: 0.0258 - output_2_loss: 0.1733 - output_1_mse: 0.0258 - output_2_accuracy: 0.9487 - val_loss: 0.1803 - val_output_1_loss: 0.0338 - val_output_2_loss: 0.1128 - val_output_1_mse: 0.0338 - val_output_2_accuracy: 0.9667\n"
     ]
    }
   ],
   "source": [
    "history = model.fit(ds_train, epochs=30, validation_data=ds_val)"
   ]
  },
  {
   "cell_type": "code",
   "execution_count": 61,
   "metadata": {},
   "outputs": [
    {
     "name": "stdout",
     "output_type": "stream",
     "text": [
      "196/196 [==============================] - 23s 113ms/step - loss: 0.1933 - output_1_loss: 0.0386 - output_2_loss: 0.1160 - output_1_mse: 0.0386 - output_2_accuracy: 0.9658\n"
     ]
    },
    {
     "data": {
      "text/plain": [
       "[0.19325430691242218,\n",
       " 0.038622625172138214,\n",
       " 0.11600910127162933,\n",
       " 0.038622625172138214,\n",
       " 0.96584552526474]"
      ]
     },
     "execution_count": 61,
     "metadata": {},
     "output_type": "execute_result"
    }
   ],
   "source": [
    "model.evaluate(ds_test)"
   ]
  },
  {
   "cell_type": "code",
   "execution_count": 62,
   "metadata": {},
   "outputs": [],
   "source": [
    "model.save(\"../models/MEM_model_v1.keras\")"
   ]
  },
  {
   "cell_type": "code",
   "execution_count": 63,
   "metadata": {},
   "outputs": [],
   "source": [
    "# save history\n",
    "history = pd.DataFrame.from_dict(history.history)\n",
    "history.to_csv(\"../models/MEM_history_model_v1.csv\", index=False)"
   ]
  },
  {
   "cell_type": "code",
   "execution_count": null,
   "metadata": {},
   "outputs": [],
   "source": []
  }
 ],
 "metadata": {
  "kernelspec": {
   "display_name": "base",
   "language": "python",
   "name": "python3"
  },
  "language_info": {
   "codemirror_mode": {
    "name": "ipython",
    "version": 3
   },
   "file_extension": ".py",
   "mimetype": "text/x-python",
   "name": "python",
   "nbconvert_exporter": "python",
   "pygments_lexer": "ipython3",
   "version": "3.10.12"
  }
 },
 "nbformat": 4,
 "nbformat_minor": 2
}

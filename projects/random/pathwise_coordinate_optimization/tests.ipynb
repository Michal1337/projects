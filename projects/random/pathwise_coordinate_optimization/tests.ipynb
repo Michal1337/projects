{
 "cells": [
  {
   "cell_type": "code",
   "execution_count": 8,
   "metadata": {},
   "outputs": [],
   "source": [
    "import numpy as np\n",
    "import pandas as pd\n",
    "import time\n",
    "from tqdm import tqdm\n",
    "from sklearn.linear_model import LassoLars, LinearRegression\n",
    "from sklearn.metrics import mean_squared_error\n",
    "\n",
    "from RegressionModel import RegressionModel\n",
    "from utils import *"
   ]
  },
  {
   "cell_type": "code",
   "execution_count": 9,
   "metadata": {},
   "outputs": [],
   "source": [
    "X = pd.read_csv(\"data/efron2004_x.csv\", sep=\",\", index_col=0).values\n",
    "y = pd.read_csv(\"data/efron2004_y.csv\", sep=\",\", index_col=0).values.reshape(-1)\n",
    "X = standardize(X)"
   ]
  },
  {
   "cell_type": "code",
   "execution_count": 10,
   "metadata": {},
   "outputs": [],
   "source": [
    "lam = 1"
   ]
  },
  {
   "cell_type": "code",
   "execution_count": 11,
   "metadata": {},
   "outputs": [],
   "source": [
    "model = RegressionModel(lam=lam, tol=1e-4, max_iter=1000)"
   ]
  },
  {
   "cell_type": "code",
   "execution_count": 12,
   "metadata": {},
   "outputs": [
    {
     "name": "stdout",
     "output_type": "stream",
     "text": [
      "[8 2 1 4 0 7 3 5 6 9]\n",
      "[3 8 0 7 5 6 4 9 2 1]\n",
      "[2 5 8 3 6 0 4 9 1 7]\n",
      "[6 7 0 2 5 1 4 8 3 9]\n",
      "[1 8 7 3 9 6 4 5 2 0]\n",
      "[3 9 8 2 5 7 4 1 6 0]\n",
      "[1 0 3 2 5 6 9 7 4 8]\n",
      "[0 5 6 3 7 1 4 9 2 8]\n",
      "[0 7 8 4 2 3 5 6 9 1]\n",
      "[1 9 2 6 8 5 4 0 7 3]\n",
      "[5 8 7 2 0 1 3 6 9 4]\n",
      "[1 0 2 6 3 8 5 4 9 7]\n",
      "[1 9 5 2 8 4 0 6 7 3]\n",
      "[3 2 9 8 0 6 5 4 7 1]\n",
      "[7 9 5 1 4 2 8 3 6 0]\n",
      "[6 5 0 2 8 1 7 4 3 9]\n",
      "[1 7 8 3 9 2 5 0 6 4]\n"
     ]
    },
    {
     "data": {
      "text/plain": [
       "(0.5004903026709713, True, 16)"
      ]
     },
     "execution_count": 12,
     "metadata": {},
     "output_type": "execute_result"
    }
   ],
   "source": [
    "conv, it = model.fit(X, y, shuffle=True)\n",
    "y_pred = model.predict(X)\n",
    "mse = mean_squared_error(y, y_pred)\n",
    "mse, conv, it"
   ]
  },
  {
   "cell_type": "code",
   "execution_count": 13,
   "metadata": {},
   "outputs": [
    {
     "data": {
      "text/plain": [
       "array([ 0.        , -1.25464347,  6.6456634 ,  3.18044378,  0.        ,\n",
       "        0.        , -2.40408075,  0.        ,  5.86553119,  0.09183343])"
      ]
     },
     "execution_count": 13,
     "metadata": {},
     "output_type": "execute_result"
    }
   ],
   "source": [
    "np.where(model.weights.abs() < 1e-8, 0, 1)"
   ]
  },
  {
   "cell_type": "code",
   "execution_count": 16,
   "metadata": {},
   "outputs": [
    {
     "data": {
      "text/plain": [
       "6"
      ]
     },
     "execution_count": 16,
     "metadata": {},
     "output_type": "execute_result"
    }
   ],
   "source": [
    "np.where(np.abs(model.weights) < 1e-8, 0, 1).sum()"
   ]
  },
  {
   "cell_type": "code",
   "execution_count": null,
   "metadata": {},
   "outputs": [],
   "source": []
  },
  {
   "cell_type": "code",
   "execution_count": 64,
   "metadata": {},
   "outputs": [
    {
     "data": {
      "text/plain": [
       "(19.692474685640313, 0.2502450753058891, 19.442229610334426)"
      ]
     },
     "execution_count": 64,
     "metadata": {},
     "output_type": "execute_result"
    }
   ],
   "source": [
    "1/(2 * len(X)) * ((y-y_pred)**2).sum() + lam * np.abs(model.weights).sum(), 1/(2 * len(X)) * ((y-y_pred)**2).sum(), lam * np.abs(model.weights).sum()"
   ]
  },
  {
   "cell_type": "code",
   "execution_count": 65,
   "metadata": {},
   "outputs": [
    {
     "data": {
      "text/plain": [
       "array([ 0.        , -1.25466995,  6.64565839,  3.18044834,  0.        ,\n",
       "        0.        , -2.40411938,  0.        ,  5.86551573,  0.09181781])"
      ]
     },
     "execution_count": 65,
     "metadata": {},
     "output_type": "execute_result"
    }
   ],
   "source": [
    "model.weights"
   ]
  },
  {
   "cell_type": "code",
   "execution_count": null,
   "metadata": {},
   "outputs": [],
   "source": []
  },
  {
   "cell_type": "code",
   "execution_count": 66,
   "metadata": {},
   "outputs": [
    {
     "data": {
      "text/plain": [
       "0.5004904374245501"
      ]
     },
     "execution_count": 66,
     "metadata": {},
     "output_type": "execute_result"
    }
   ],
   "source": [
    "model = LassoLars(alpha=lam / len(X), fit_intercept=False)\n",
    "model.fit(X, y)\n",
    "y_pred = model.predict(X)\n",
    "mse = mean_squared_error(y, y_pred)\n",
    "mse"
   ]
  },
  {
   "cell_type": "code",
   "execution_count": 67,
   "metadata": {},
   "outputs": [
    {
     "data": {
      "text/plain": [
       "(19.69241144267663, 0.2502452187122751, 19.442166223964353)"
      ]
     },
     "execution_count": 67,
     "metadata": {},
     "output_type": "execute_result"
    }
   ],
   "source": [
    "1/(2 * len(X)) * ((y-y_pred)**2).sum() + lam * np.abs(model.coef_).sum(), 1/(2 * len(X)) * ((y-y_pred)**2).sum(), lam * np.abs(model.coef_).sum()"
   ]
  },
  {
   "cell_type": "code",
   "execution_count": 68,
   "metadata": {},
   "outputs": [
    {
     "data": {
      "text/plain": [
       "array([ 0.        , -1.25464197,  6.64568016,  3.1804226 ,  0.        ,\n",
       "        0.        , -2.40409038,  0.        ,  5.86550413,  0.09182698])"
      ]
     },
     "execution_count": 68,
     "metadata": {},
     "output_type": "execute_result"
    }
   ],
   "source": [
    "model.coef_"
   ]
  },
  {
   "cell_type": "code",
   "execution_count": null,
   "metadata": {},
   "outputs": [],
   "source": []
  },
  {
   "cell_type": "code",
   "execution_count": 42,
   "metadata": {},
   "outputs": [
    {
     "data": {
      "text/plain": [
       "0.48115950993832063"
      ]
     },
     "execution_count": 42,
     "metadata": {},
     "output_type": "execute_result"
    }
   ],
   "source": [
    "model = LinearRegression(fit_intercept=False)\n",
    "model.fit(X, y)\n",
    "y_pred = model.predict(X)\n",
    "mse = mean_squared_error(y, y_pred)\n",
    "mse"
   ]
  },
  {
   "cell_type": "code",
   "execution_count": 43,
   "metadata": {},
   "outputs": [
    {
     "data": {
      "text/plain": [
       "array([ -0.13001884,  -3.11430123,   6.75066232,   4.21254835,\n",
       "       -10.28733834,   6.1910424 ,   1.31216923,   2.29936317,\n",
       "         9.75614628,   0.87818624])"
      ]
     },
     "execution_count": 43,
     "metadata": {},
     "output_type": "execute_result"
    }
   ],
   "source": [
    "model.coef_"
   ]
  },
  {
   "cell_type": "code",
   "execution_count": null,
   "metadata": {},
   "outputs": [],
   "source": []
  },
  {
   "cell_type": "code",
   "execution_count": null,
   "metadata": {},
   "outputs": [],
   "source": [
    "ns = [100, 100, 100, 1000, 5000]\n",
    "ps = [1000, 5000, 20000, 100, 100]\n",
    "rhos = [0, 0.1, 0.2, 0.5, 0.9, 0.95]\n",
    "L = 1"
   ]
  },
  {
   "cell_type": "code",
   "execution_count": null,
   "metadata": {},
   "outputs": [],
   "source": [
    "def eval(model, X, y):\n",
    "    start = time.time()\n",
    "    model.fit(X, y)\n",
    "    y_pred = model.predict(X)\n",
    "    mse = mean_squared_error(y, y_pred)\n",
    "    return mse, time.time() - start"
   ]
  },
  {
   "cell_type": "code",
   "execution_count": null,
   "metadata": {},
   "outputs": [],
   "source": [
    "results = []\n",
    "for n, p in tqdm(zip(ns, ps), total=len(ns)):\n",
    "    for rho in rhos:\n",
    "        mse_coord, mse_lars, mse_lr = [], [], []\n",
    "        time_coord, time_lars, time_lr = [], [], []\n",
    "        its, convs = [], []\n",
    "        for _ in range(L):\n",
    "            X, y = generate_data(n, p, rho)\n",
    "            X = standardize(X)\n",
    "\n",
    "            model = RegressionModel(1, 1e-4, 100)\n",
    "            start = time.time()\n",
    "            it, conv = model.fit(X, y)\n",
    "            y_pred = model.predict(X)\n",
    "            mse = mean_squared_error(y, y_pred)\n",
    "            mse_coord.append(mse)\n",
    "            time_coord.append(time.time() - start)\n",
    "            its.append(it)\n",
    "            convs.append(conv)\n",
    "\n",
    "            model = LassoLars()\n",
    "            mse, ex_time = eval(model, X, y)\n",
    "            mse_lars.append(mse)\n",
    "            time_lars.append(ex_time)\n",
    "            \n",
    "            model = LinearRegression()\n",
    "            mse, ex_time = eval(model, X, y)\n",
    "            mse_lr.append(mse)\n",
    "            time_lr.append(ex_time)\n",
    "            \n",
    "        results.append([\"coord\", n, p, rho, np.mean(mse_coord), np.mean(time_coord), np.mean(its), np.mean(convs)])\n",
    "        results.append([\"LARS\", n, p, rho, np.mean(mse_lars), np.mean(time_lars)])\n",
    "        results.append([\"LR\", n, p, rho, np.mean(mse_lr), np.mean(time_lr)])"
   ]
  },
  {
   "cell_type": "code",
   "execution_count": null,
   "metadata": {},
   "outputs": [],
   "source": [
    "df = pd.DataFrame(results, columns=[\"method\", \"n\", \"p\", \"rho\", \"mse\", \"time\", \"it\", \"conv\"])\n",
    "df.head()"
   ]
  },
  {
   "cell_type": "code",
   "execution_count": null,
   "metadata": {},
   "outputs": [],
   "source": [
    "df.to_csv(\"results.csv\", index=False)"
   ]
  },
  {
   "cell_type": "code",
   "execution_count": null,
   "metadata": {},
   "outputs": [],
   "source": []
  },
  {
   "cell_type": "code",
   "execution_count": 41,
   "metadata": {},
   "outputs": [],
   "source": [
    "# Fit_intercept?\n",
    "# What lambda, no data in paper\n",
    "# What tol, no data in paper, generalnie stopping rule\n",
    "# LassoLars works worse\n",
    "# Different results than in example in paper\n",
    "# Cos o normalizacji\n",
    "# Czy raport ok?"
   ]
  },
  {
   "cell_type": "code",
   "execution_count": null,
   "metadata": {},
   "outputs": [],
   "source": []
  }
 ],
 "metadata": {
  "kernelspec": {
   "display_name": "base",
   "language": "python",
   "name": "python3"
  },
  "language_info": {
   "codemirror_mode": {
    "name": "ipython",
    "version": 3
   },
   "file_extension": ".py",
   "mimetype": "text/x-python",
   "name": "python",
   "nbconvert_exporter": "python",
   "pygments_lexer": "ipython3",
   "version": "3.10.12"
  }
 },
 "nbformat": 4,
 "nbformat_minor": 2
}

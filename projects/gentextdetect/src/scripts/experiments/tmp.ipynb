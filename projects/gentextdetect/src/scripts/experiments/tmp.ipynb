{
 "cells": [
  {
   "cell_type": "code",
   "execution_count": 1,
   "id": "49bca80d",
   "metadata": {},
   "outputs": [],
   "source": [
    "import csv\n",
    "import os\n",
    "from typing import List\n",
    "\n",
    "import pandas as pd\n",
    "import torch\n",
    "from torch.distributed import destroy_process_group, init_process_group\n",
    "from torch.nn.parallel import DistributedDataParallel as DDP\n",
    "from torch.utils.data import DataLoader\n",
    "from torch.utils.data.distributed import DistributedSampler\n",
    "from transformers import AutoTokenizer\n",
    "\n",
    "from ex_params import (\n",
    "    BASELINE_MODELS,\n",
    "    CHECKPOINTS_PATH,\n",
    "    DATASETS_PATH,\n",
    "    MODEL_PATH,\n",
    "    PAD_TOKENS,\n",
    "    PREDICTIONS_PATH,\n",
    "    SEED,\n",
    "    TRAINING_HISTORY_PATH,\n",
    ")\n",
    "from ex_utils import TextDataset, collate_fn, collate_fn_longest, evaluate_test\n",
    "from models import BaselineClassifier, FineTuneClassifier, FineTuneClassifierPhi\n",
    "\n",
    "\n",
    "from torch.utils.data import Sampler\n",
    "\n",
    "torch.manual_seed(SEED)\n",
    "if torch.cuda.is_available():\n",
    "    torch.cuda.manual_seed(SEED)\n",
    "torch.set_float32_matmul_precision(\"high\")"
   ]
  },
  {
   "cell_type": "code",
   "execution_count": 2,
   "id": "c7491f02",
   "metadata": {},
   "outputs": [],
   "source": [
    "def path2model(path: str):\n",
    "    if \"baseline\" in path:\n",
    "        tokenizer = AutoTokenizer.from_pretrained(\"meta-llama/Llama-3.2-1B-Instruct\")\n",
    "        tokenizer.pad_token = \"<|finetune_right_pad_id|>\"\n",
    "        tokenizer.padding_side = \"left\"\n",
    "\n",
    "        model_size = path.split(\"_\")[1]\n",
    "        model_config = BASELINE_MODELS[model_size]\n",
    "        model = BaselineClassifier(\n",
    "            d_model=model_config[\"d_model\"],\n",
    "            num_layers=model_config[\"num_layers\"],\n",
    "            nhead=model_config[\"num_heads\"],\n",
    "            max_seq_length=model_config[\"max_len\"],\n",
    "            vocab_size=len(tokenizer),\n",
    "            pad_token_id=tokenizer.pad_token_id,\n",
    "            num_labels=1,\n",
    "        )\n",
    "        state_dict = torch.load(path, map_location=\"cpu\")\n",
    "\n",
    "        new_state_dict = {}\n",
    "        for k, v in state_dict.items():\n",
    "            new_k = k.replace(\"_orig_mod.\", \"\") if k.startswith(\"_orig_mod.\") else k\n",
    "            new_state_dict[new_k] = v\n",
    "\n",
    "        model.load_state_dict(new_state_dict)\n",
    "\n",
    "    elif \"finetune\" in path:\n",
    "        base_model = path.split(\"_\")[2]\n",
    "        folder = base_model2folder(base_model)\n",
    "        base_model_path = os.path.join(MODEL_PATH, folder, base_model)\n",
    "\n",
    "        tokenizer = AutoTokenizer.from_pretrained(\n",
    "            base_model_path, trust_remote_code=True\n",
    "        )\n",
    "        if base_model in PAD_TOKENS.keys():\n",
    "            tokenizer.pad_token = PAD_TOKENS[base_model]\n",
    "        tokenizer.padding_side = \"left\"\n",
    "\n",
    "        if \"phi\" in path.lower():\n",
    "            model = FineTuneClassifierPhi.from_classifier_head(\n",
    "                base_model_path=base_model_path,\n",
    "                path=path,\n",
    "                num_labels=1,\n",
    "            )\n",
    "        else:\n",
    "            model = FineTuneClassifier.from_classifier_head(\n",
    "                base_model_path=base_model_path,\n",
    "                path=path,\n",
    "                num_labels=1,\n",
    "            )\n",
    "    else:\n",
    "        raise ValueError(\"Unknown model type\")\n",
    "\n",
    "    return model, tokenizer"
   ]
  },
  {
   "cell_type": "code",
   "execution_count": 3,
   "id": "e6b137ec",
   "metadata": {},
   "outputs": [],
   "source": [
    "path  = \"../../../checkpoints/baseline/baseline_mini_master-large.pt\""
   ]
  },
  {
   "cell_type": "code",
   "execution_count": 4,
   "id": "53a0d65c",
   "metadata": {},
   "outputs": [
    {
     "name": "stderr",
     "output_type": "stream",
     "text": [
      "/tmp/ipykernel_1283/3093547060.py:18: FutureWarning: You are using `torch.load` with `weights_only=False` (the current default value), which uses the default pickle module implicitly. It is possible to construct malicious pickle data which will execute arbitrary code during unpickling (See https://github.com/pytorch/pytorch/blob/main/SECURITY.md#untrusted-models for more details). In a future release, the default value for `weights_only` will be flipped to `True`. This limits the functions that could be executed during unpickling. Arbitrary objects will no longer be allowed to be loaded via this mode unless they are explicitly allowlisted by the user via `torch.serialization.add_safe_globals`. We recommend you start setting `weights_only=True` for any use case where you don't have full control of the loaded file. Please open an issue on GitHub for any issues related to this experimental feature.\n",
      "  state_dict = torch.load(path, map_location=\"cpu\")\n"
     ]
    }
   ],
   "source": [
    "model, tokenizer = path2model(path)"
   ]
  },
  {
   "cell_type": "code",
   "execution_count": 26,
   "id": "f0e4096e",
   "metadata": {},
   "outputs": [
    {
     "data": {
      "text/plain": [
       "BaselineClassifier(\n",
       "  (token_embedding): Embedding(128256, 324, padding_idx=128004)\n",
       "  (pos_embedding): Embedding(8192, 324)\n",
       "  (transformer): TransformerEncoder(\n",
       "    (layers): ModuleList(\n",
       "      (0-3): 4 x TransformerEncoderLayer(\n",
       "        (self_attn): MultiheadAttention(\n",
       "          (out_proj): NonDynamicallyQuantizableLinear(in_features=324, out_features=324, bias=True)\n",
       "        )\n",
       "        (linear1): Linear(in_features=324, out_features=2048, bias=True)\n",
       "        (dropout): Dropout(p=0.1, inplace=False)\n",
       "        (linear2): Linear(in_features=2048, out_features=324, bias=True)\n",
       "        (norm1): LayerNorm((324,), eps=1e-05, elementwise_affine=True)\n",
       "        (norm2): LayerNorm((324,), eps=1e-05, elementwise_affine=True)\n",
       "        (dropout1): Dropout(p=0.1, inplace=False)\n",
       "        (dropout2): Dropout(p=0.1, inplace=False)\n",
       "      )\n",
       "    )\n",
       "  )\n",
       "  (classifier): Linear(in_features=648, out_features=1, bias=True)\n",
       ")"
      ]
     },
     "execution_count": 26,
     "metadata": {},
     "output_type": "execute_result"
    }
   ],
   "source": [
    "from tqdm import tqdm\n",
    "device = \"cuda\"\n",
    "model.to(device)"
   ]
  },
  {
   "cell_type": "code",
   "execution_count": 56,
   "id": "afa6b87d",
   "metadata": {},
   "outputs": [],
   "source": [
    "texts = [\"\"\"We sat at a small café by the gate, talking about movies, travel, and life like old friends. As he boarded his flight, he turned back and said, “Stay inspired — maybe one day I’ll be in your movie.”\"\"\"]\n",
    "labels = [0]"
   ]
  },
  {
   "cell_type": "code",
   "execution_count": 57,
   "id": "ec9e29d2",
   "metadata": {},
   "outputs": [],
   "source": [
    "ds = TextDataset(texts, labels)"
   ]
  },
  {
   "cell_type": "code",
   "execution_count": 58,
   "id": "cf184ae0",
   "metadata": {},
   "outputs": [],
   "source": [
    "loader = DataLoader(\n",
    "    ds,\n",
    "    batch_size=1,\n",
    "    shuffle=False,\n",
    "    collate_fn=lambda batch: collate_fn(batch, tokenizer),\n",
    ")"
   ]
  },
  {
   "cell_type": "code",
   "execution_count": 59,
   "id": "aeb34f14",
   "metadata": {},
   "outputs": [
    {
     "name": "stderr",
     "output_type": "stream",
     "text": [
      "Evaluating: 100%|██████████| 1/1 [00:00<00:00,  1.43it/s]\n"
     ]
    }
   ],
   "source": [
    "with torch.no_grad():\n",
    "    for batch in tqdm(loader, desc=\"Evaluating\"):\n",
    "        input_ids = batch[\"input_ids\"].to(device)\n",
    "        labels = batch[\"labels\"].to(device)\n",
    "\n",
    "        with torch.autocast(device_type=\"cuda\", dtype=torch.bfloat16):\n",
    "            outputs = model(input_ids)\n",
    "\n",
    "            mask = labels.view(-1) != -100\n",
    "            labels = labels.view(-1)[mask].float()\n",
    "            outputs = outputs.view(-1)[mask]\n",
    "\n",
    "\n",
    "        logits = torch.sigmoid(outputs).squeeze().float().cpu().numpy()\n",
    "        labels = labels.squeeze().cpu().numpy()"
   ]
  },
  {
   "cell_type": "code",
   "execution_count": 60,
   "id": "7f504ea0",
   "metadata": {},
   "outputs": [
    {
     "data": {
      "text/plain": [
       "array([0.65234375, 0.640625  , 0.66796875, 0.6328125 , 0.65234375,\n",
       "       0.63671875, 0.65625   , 0.66796875, 0.6484375 , 0.62109375,\n",
       "       0.65234375, 0.671875  , 0.68359375, 0.6484375 , 0.66796875,\n",
       "       0.6484375 , 0.65625   , 0.63671875, 0.65234375, 0.671875  ,\n",
       "       0.6640625 , 0.66796875, 0.6796875 , 0.6875    , 0.66015625,\n",
       "       0.6640625 , 0.72265625, 0.69140625, 0.69921875, 0.66796875,\n",
       "       0.6953125 , 0.69921875, 0.69921875, 0.71875   , 0.68359375,\n",
       "       0.67578125, 0.69140625, 0.70703125, 0.65234375, 0.69921875,\n",
       "       0.63671875, 0.69921875, 0.69921875, 0.6875    , 0.69140625,\n",
       "       0.6640625 , 0.68359375, 0.66796875, 0.6796875 ], dtype=float32)"
      ]
     },
     "execution_count": 60,
     "metadata": {},
     "output_type": "execute_result"
    }
   ],
   "source": [
    "logits"
   ]
  },
  {
   "cell_type": "code",
   "execution_count": null,
   "id": "a5d6fb54",
   "metadata": {},
   "outputs": [],
   "source": []
  },
  {
   "cell_type": "code",
   "execution_count": null,
   "id": "01a05fdb",
   "metadata": {},
   "outputs": [],
   "source": []
  },
  {
   "cell_type": "code",
   "execution_count": null,
   "id": "af48d246",
   "metadata": {},
   "outputs": [],
   "source": []
  },
  {
   "cell_type": "code",
   "execution_count": null,
   "id": "9db57c98",
   "metadata": {},
   "outputs": [],
   "source": []
  },
  {
   "cell_type": "code",
   "execution_count": null,
   "id": "c934163b",
   "metadata": {},
   "outputs": [],
   "source": []
  }
 ],
 "metadata": {
  "kernelspec": {
   "display_name": "base",
   "language": "python",
   "name": "python3"
  },
  "language_info": {
   "codemirror_mode": {
    "name": "ipython",
    "version": 3
   },
   "file_extension": ".py",
   "mimetype": "text/x-python",
   "name": "python",
   "nbconvert_exporter": "python",
   "pygments_lexer": "ipython3",
   "version": "3.12.3"
  }
 },
 "nbformat": 4,
 "nbformat_minor": 5
}

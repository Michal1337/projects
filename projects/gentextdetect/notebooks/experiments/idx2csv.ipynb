{
 "cells": [
  {
   "cell_type": "code",
   "execution_count": 1,
   "metadata": {},
   "outputs": [],
   "source": [
    "import csv\n",
    "import pandas as pd\n",
    "from tqdm import tqdm"
   ]
  },
  {
   "cell_type": "code",
   "execution_count": 3,
   "metadata": {},
   "outputs": [
    {
     "data": {
      "text/html": [
       "<div>\n",
       "<style scoped>\n",
       "    .dataframe tbody tr th:only-of-type {\n",
       "        vertical-align: middle;\n",
       "    }\n",
       "\n",
       "    .dataframe tbody tr th {\n",
       "        vertical-align: top;\n",
       "    }\n",
       "\n",
       "    .dataframe thead th {\n",
       "        text-align: right;\n",
       "    }\n",
       "</style>\n",
       "<table border=\"1\" class=\"dataframe\">\n",
       "  <thead>\n",
       "    <tr style=\"text-align: right;\">\n",
       "      <th></th>\n",
       "      <th>index</th>\n",
       "      <th>num_sentences</th>\n",
       "      <th>num_words</th>\n",
       "      <th>num_chars</th>\n",
       "      <th>num_tokens</th>\n",
       "      <th>data</th>\n",
       "      <th>model</th>\n",
       "    </tr>\n",
       "  </thead>\n",
       "  <tbody>\n",
       "    <tr>\n",
       "      <th>0</th>\n",
       "      <td>1676</td>\n",
       "      <td>6</td>\n",
       "      <td>17</td>\n",
       "      <td>789</td>\n",
       "      <td>145</td>\n",
       "      <td>nyt-articles</td>\n",
       "      <td>phi-4</td>\n",
       "    </tr>\n",
       "    <tr>\n",
       "      <th>1</th>\n",
       "      <td>14657</td>\n",
       "      <td>4</td>\n",
       "      <td>23</td>\n",
       "      <td>620</td>\n",
       "      <td>138</td>\n",
       "      <td>nyt-articles</td>\n",
       "      <td>phi-4</td>\n",
       "    </tr>\n",
       "    <tr>\n",
       "      <th>2</th>\n",
       "      <td>3933</td>\n",
       "      <td>5</td>\n",
       "      <td>32</td>\n",
       "      <td>854</td>\n",
       "      <td>176</td>\n",
       "      <td>nyt-articles</td>\n",
       "      <td>phi-4</td>\n",
       "    </tr>\n",
       "    <tr>\n",
       "      <th>3</th>\n",
       "      <td>12750</td>\n",
       "      <td>4</td>\n",
       "      <td>43</td>\n",
       "      <td>772</td>\n",
       "      <td>137</td>\n",
       "      <td>nyt-articles</td>\n",
       "      <td>phi-4</td>\n",
       "    </tr>\n",
       "    <tr>\n",
       "      <th>4</th>\n",
       "      <td>12113</td>\n",
       "      <td>5</td>\n",
       "      <td>29</td>\n",
       "      <td>784</td>\n",
       "      <td>146</td>\n",
       "      <td>nyt-articles</td>\n",
       "      <td>phi-4</td>\n",
       "    </tr>\n",
       "  </tbody>\n",
       "</table>\n",
       "</div>"
      ],
      "text/plain": [
       "   index  num_sentences  num_words  num_chars  num_tokens          data  model\n",
       "0   1676              6         17        789         145  nyt-articles  phi-4\n",
       "1  14657              4         23        620         138  nyt-articles  phi-4\n",
       "2   3933              5         32        854         176  nyt-articles  phi-4\n",
       "3  12750              4         43        772         137  nyt-articles  phi-4\n",
       "4  12113              5         29        784         146  nyt-articles  phi-4"
      ]
     },
     "execution_count": 3,
     "metadata": {},
     "output_type": "execute_result"
    }
   ],
   "source": [
    "df = pd.read_csv(\"../../data/datasets/test3_idx.csv\")\n",
    "df.head()"
   ]
  },
  {
   "cell_type": "code",
   "execution_count": 6,
   "metadata": {},
   "outputs": [],
   "source": [
    "save_path = \"../../data/datasets/test.csv\""
   ]
  },
  {
   "cell_type": "code",
   "execution_count": 8,
   "metadata": {},
   "outputs": [
    {
     "name": "stderr",
     "output_type": "stream",
     "text": [
      "100%|██████████| 3/3 [00:48<00:00, 16.25s/it]\n"
     ]
    }
   ],
   "source": [
    "# init csv at save_path with text and label columns\n",
    "with open(save_path, mode=\"w\", newline=\"\", encoding=\"utf-8\") as file:\n",
    "    writer = csv.writer(file)\n",
    "    writer.writerow([\"text\", \"label\"])\n",
    "\n",
    "# iterate through every data and model combination\n",
    "for data in tqdm(df[\"data\"].unique()):\n",
    "    for model in df[\"model\"].unique():\n",
    "        if model == \"human\":\n",
    "            path = f\"../../data/data_human/{data}_human.csv\"\n",
    "        else:\n",
    "            path = f\"../../data/data_ai/{data.replace(\"-\", \"_\")}/{data}_{model}.csv\"\n",
    "\n",
    "        subset = df[(df[\"data\"] == data) & (df[\"model\"] == model)]\n",
    "        df_data = pd.read_csv(path)\n",
    "\n",
    "        # select rowns from df_data based on index col in subset\n",
    "        idx = subset[\"index\"].tolist()\n",
    "        df_subset = df_data.iloc[idx]\n",
    "\n",
    "        label = 0 if model == \"human\" else 1\n",
    "\n",
    "        # save df_subset to csv at save_path\n",
    "        with open(save_path, mode=\"a\", newline=\"\", encoding=\"utf-8\") as file:\n",
    "            writer = csv.writer(file)\n",
    "            for i in range(len(df_subset)):\n",
    "                text = df_subset.iloc[i][\"text\"]\n",
    "                writer.writerow([text, label])"
   ]
  },
  {
   "cell_type": "code",
   "execution_count": null,
   "metadata": {},
   "outputs": [],
   "source": [
    "def idx2csv(df, save_path, cols_c0):\n",
    "    # init csv\n",
    "    with open(save_path, mode=\"w\", newline=\"\", encoding=\"utf-8\") as file:\n",
    "        writer = csv.writer(file)\n",
    "        writer.writerow([\"text\", \"label\"])\n",
    "\n",
    "    # iterate through every data and model combination\n",
    "    for data in tqdm(df[\"data\"].unique()):\n",
    "        for model in df[\"model\"].unique():\n",
    "            if model == \"human\":\n",
    "                path = f\"../data/data_human/{data}_human.csv\"\n",
    "            else:\n",
    "                path = f\"../data/data_ai/{data.replace('-', '_')}/{data}_{model}.csv\"\n",
    "\n",
    "            subset = df[(df[\"data\"] == data) & (df[\"model\"] == model)]\n",
    "            df_data = pd.read_csv(path)\n",
    "\n",
    "            idx = subset[\"index\"].tolist()\n",
    "            df_subset = df_data.iloc[idx]\n",
    "\n",
    "            label = 0 if model in cols_c0 else 1\n",
    "\n",
    "            # save df_subset to csv at save_path\n",
    "            with open(save_path, mode=\"a\", newline=\"\", encoding=\"utf-8\") as file:\n",
    "                writer = csv.writer(file)\n",
    "                for i in range(len(df_subset)):\n",
    "                    text = df_subset.iloc[i][\"text\"]\n",
    "                    writer.writerow([text, label])"
   ]
  },
  {
   "cell_type": "code",
   "execution_count": null,
   "metadata": {},
   "outputs": [],
   "source": []
  },
  {
   "cell_type": "code",
   "execution_count": null,
   "metadata": {},
   "outputs": [],
   "source": []
  }
 ],
 "metadata": {
  "kernelspec": {
   "display_name": "base",
   "language": "python",
   "name": "python3"
  },
  "language_info": {
   "codemirror_mode": {
    "name": "ipython",
    "version": 3
   },
   "file_extension": ".py",
   "mimetype": "text/x-python",
   "name": "python",
   "nbconvert_exporter": "python",
   "pygments_lexer": "ipython3",
   "version": "3.12.3"
  }
 },
 "nbformat": 4,
 "nbformat_minor": 2
}

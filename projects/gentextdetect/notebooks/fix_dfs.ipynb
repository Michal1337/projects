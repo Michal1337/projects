{
 "cells": [
  {
   "cell_type": "code",
   "execution_count": 26,
   "metadata": {},
   "outputs": [],
   "source": [
    "import os\n",
    "import tiktoken\n",
    "import pandas as pd\n",
    "from tqdm import tqdm"
   ]
  },
  {
   "cell_type": "code",
   "execution_count": 27,
   "metadata": {},
   "outputs": [],
   "source": [
    "def get_csv_paths(folder_path, recursive=False):\n",
    "    if recursive:\n",
    "        # Walk through all subdirectories\n",
    "        file_paths = [os.path.join(root, file) \n",
    "                      for root, _, files in os.walk(folder_path) \n",
    "                      for file in files if file.endswith('.csv')]\n",
    "    else:\n",
    "        # Get files in the root folder only\n",
    "        file_paths = [os.path.join(folder_path, file) \n",
    "                      for file in os.listdir(folder_path) \n",
    "                      if file.endswith('.csv')]\n",
    "    \n",
    "    return file_paths"
   ]
  },
  {
   "cell_type": "code",
   "execution_count": 28,
   "metadata": {},
   "outputs": [],
   "source": [
    "DATA_HUMAN_PATH = \"../data/data_human/\"\n",
    "DATA_AI_PATH = \"../data/data_ai/nyt_comments/\""
   ]
  },
  {
   "cell_type": "code",
   "execution_count": 29,
   "metadata": {},
   "outputs": [],
   "source": [
    "paths = get_csv_paths(DATA_AI_PATH, recursive=True)"
   ]
  },
  {
   "cell_type": "code",
   "execution_count": 30,
   "metadata": {},
   "outputs": [],
   "source": [
    "enc = tiktoken.get_encoding(\"cl100k_base\") #cl100k_base"
   ]
  },
  {
   "cell_type": "code",
   "execution_count": 31,
   "metadata": {},
   "outputs": [],
   "source": [
    "import re\n",
    "def clean_newlines(text):\n",
    "    # Replace 3 or more consecutive newlines with just 2\n",
    "    return re.sub(r'\\n{3,}', '\\n\\n', text)"
   ]
  },
  {
   "cell_type": "code",
   "execution_count": 54,
   "metadata": {},
   "outputs": [],
   "source": [
    "def clean_text(s: str) -> str:\n",
    "    \"\"\"\n",
    "    Remove a leading '\", [' or '[' and a trailing '\", ]' or ']' from the given string.\n",
    "    \"\"\"\n",
    "    # Remove leading patterns\n",
    "    try:\n",
    "        for prefix in ('\"', \"[\", '[\"'):\n",
    "            if s.startswith(prefix):\n",
    "                s = s[len(prefix) :]\n",
    "                break\n",
    "\n",
    "        # Remove trailing patterns\n",
    "        for suffix in ('\"', \"]\", '\"]'):\n",
    "            if s.endswith(suffix):\n",
    "                s = s[: -len(suffix)]\n",
    "                break\n",
    "        \n",
    "        s = s.replace(\"  \", \"\")\n",
    "        s = s.strip()\n",
    "        s = re.sub(r'\\n{3,}', '\\n\\n', s)\n",
    "    except AttributeError:\n",
    "        pass\n",
    "\n",
    "    return s"
   ]
  },
  {
   "cell_type": "code",
   "execution_count": null,
   "metadata": {},
   "outputs": [],
   "source": [
    "for path in paths:\n",
    "    print(f\"Processing {path}...\")\n",
    "    df = pd.read_csv(path)\n",
    "    df['text'] = df['text'].apply(clean_text)\n",
    "    texts = df['text'].tolist()\n",
    "    print(f\"Number of texts: {len(texts)}\")\n",
    "    err = []\n",
    "    for i, text in enumerate(tqdm(texts)):\n",
    "        try:\n",
    "            enc.encode(text)\n",
    "        except:\n",
    "            err.append([i, text])\n",
    "\n",
    "    if len(err) > 0:\n",
    "        print(f\"{len(err)} Errors in {path}:\")\n",
    "        for i, text in err:\n",
    "            print(f\"Index: {i}, Text: {text}\")\n",
    "\n",
    "        # get user input\n",
    "        user_input = input(f\"Do you want to remove the errors in {path}? (y/n): \")\n",
    "        if user_input.lower() == \"y\":\n",
    "            df.drop(index=[i for i, _ in err], inplace=True)\n",
    "        else:\n",
    "            print(f\"Errors in {path} were not removed.\")\n",
    "            \n",
    "    df.to_csv(path, index=False)"
   ]
  },
  {
   "cell_type": "code",
   "execution_count": null,
   "metadata": {},
   "outputs": [],
   "source": []
  },
  {
   "cell_type": "code",
   "execution_count": null,
   "metadata": {},
   "outputs": [],
   "source": []
  },
  {
   "cell_type": "code",
   "execution_count": null,
   "metadata": {},
   "outputs": [],
   "source": []
  },
  {
   "cell_type": "code",
   "execution_count": null,
   "metadata": {},
   "outputs": [],
   "source": []
  }
 ],
 "metadata": {
  "kernelspec": {
   "display_name": "base",
   "language": "python",
   "name": "python3"
  },
  "language_info": {
   "codemirror_mode": {
    "name": "ipython",
    "version": 3
   },
   "file_extension": ".py",
   "mimetype": "text/x-python",
   "name": "python",
   "nbconvert_exporter": "python",
   "pygments_lexer": "ipython3",
   "version": "3.12.3"
  }
 },
 "nbformat": 4,
 "nbformat_minor": 2
}

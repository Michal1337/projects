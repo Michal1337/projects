{
 "cells": [
  {
   "cell_type": "code",
   "execution_count": 26,
   "metadata": {},
   "outputs": [],
   "source": [
    "import spacy\n",
    "import pandas as pd\n",
    "from collections import Counter\n",
    "import PyPDF2\n",
    "import joblib"
   ]
  },
  {
   "cell_type": "code",
   "execution_count": 27,
   "metadata": {},
   "outputs": [],
   "source": [
    "ID_ZESPOLU = \"4\""
   ]
  },
  {
   "cell_type": "code",
   "execution_count": 28,
   "metadata": {},
   "outputs": [],
   "source": [
    "df_meta = pd.read_csv(\"TMP_KIID_META.csv\",encoding=\"cp1250\",sep=\";\")\n",
    "nlp = spacy.load(\"pl_core_news_sm\")"
   ]
  },
  {
   "cell_type": "code",
   "execution_count": 29,
   "metadata": {},
   "outputs": [],
   "source": [
    "def pdf_2_text(pdf):\n",
    "    return_str = False\n",
    "    if type(pdf) == str:\n",
    "        pdf = [pdf]\n",
    "        return_str = True\n",
    "    \n",
    "    content = dict()\n",
    "    \n",
    "    for fname in pdf:\n",
    "        \n",
    "        print(f\"Reading {fname}...\")\n",
    "        \n",
    "        content[fname] = ''\n",
    "        \n",
    "        pdfFileObj = open(\"data/\" + fname, 'rb') \n",
    "        pdfReader = PyPDF2.PdfFileReader(pdfFileObj) \n",
    "        \n",
    "        try:\n",
    "            numPages = pdfReader.numPages\n",
    "        except:\n",
    "            pass\n",
    "        else:\n",
    "            for j in range(pdfReader.numPages):\n",
    "                pageObj = pdfReader.getPage(j)\n",
    "                content[fname] += pageObj.extractText().replace(\"\\n\", ' ')\n",
    "\n",
    "        pdfFileObj.close()\n",
    "            \n",
    "    return list(content.values())[0] if return_str else content"
   ]
  },
  {
   "cell_type": "code",
   "execution_count": 30,
   "metadata": {},
   "outputs": [],
   "source": [
    "def make_BagOfWords_S(df_meta):\n",
    "    pdfs = df_meta[\"NAZWA_PLIKU\"].values\n",
    "    id_kiid = df_meta[\"ID_KIID\"].values\n",
    "    df = pd.DataFrame(columns=[\"ID_KIID\",\"SLOWO\",\"LICZBA_WYSTAPIEN\"])\n",
    "    for i in range(len(pdfs)):\n",
    "        text = pdf_2_text(pdfs[i])\n",
    "        text = text.replace(\"\\n\",\" \")\n",
    "        doc = nlp(text)\n",
    "        words = []\n",
    "        for token in doc:\n",
    "            if not token.is_stop and not token.is_punct and not token.like_num and not token.like_url and not token.text.startswith(('+', '-')) and len(token.text)>1:\n",
    "                words.append(token.text)\n",
    "    \n",
    "        df_tmp = pd.DataFrame(dict(Counter(words)).items(), columns=[\"SLOWO\",\"LICZBA_WYSTAPIEN\"])\n",
    "        df_tmp.insert(0, \"ID_KIID\", id_kiid[i])\n",
    "        df = pd.concat([df,df_tmp]).reset_index(drop=True)\n",
    "         \n",
    "    df.insert(1, \"ID_ZESPOLU\", ID_ZESPOLU)\n",
    "    df = df.sort_values(by=[\"ID_KIID\",\"LICZBA_WYSTAPIEN\"]).reset_index(drop=True)\n",
    "    df.to_csv(\"TMP_KIID_BAGOFWORDS_S.csv\",index=False,encoding=\"cp1250\",sep=\";\")"
   ]
  },
  {
   "cell_type": "code",
   "execution_count": 32,
   "metadata": {},
   "outputs": [],
   "source": [
    "def make_BagOfWords_N(df_meta):\n",
    "    pdfs = df_meta[\"NAZWA_PLIKU\"].values\n",
    "    id_kiid = df_meta[\"ID_KIID\"].values\n",
    "    df_lemma = pd.DataFrame(columns=[\"ID_KIID\",\"SLOWO\",\"LICZBA_WYSTAPIEN\"])\n",
    "    for i in range(len(pdfs)):\n",
    "        text = pdf_2_text(pdfs[i])\n",
    "        text = text.replace(\"\\n\",\" \")\n",
    "        doc = nlp(text)\n",
    "        words_lemma = []\n",
    "        for token in doc:\n",
    "            if not token.is_stop and not token.is_punct and not token.like_num and not token.like_url and not token.text.startswith(('+', '-')) and len(token.text)>1:\n",
    "                words_lemma.append(token.lemma_.capitalize())\n",
    "        \n",
    "        df_tmp = pd.DataFrame(dict(Counter(words_lemma)).items(), columns=[\"SLOWO\",\"LICZBA_WYSTAPIEN\"])\n",
    "        df_tmp.insert(0, \"ID_KIID\", id_kiid[i])\n",
    "        df_lemma = pd.concat([df_lemma,df_tmp]).reset_index(drop=True)\n",
    "        \n",
    "    df_lemma.insert(1, \"ID_ZESPOLU\", ID_ZESPOLU)\n",
    "    df_lemma = df_lemma.sort_values(by=[\"ID_KIID\",\"LICZBA_WYSTAPIEN\"]).reset_index(drop=True)\n",
    "    df_lemma.to_csv(\"TMP_KIID_BAGOFWORDS_N.csv\",index=False,encoding=\"cp1250\",sep=\";\")"
   ]
  },
  {
   "cell_type": "code",
   "execution_count": 33,
   "metadata": {
    "scrolled": true
   },
   "outputs": [
    {
     "name": "stdout",
     "output_type": "stream",
     "text": [
      "Reading 19022019_Noble_Fund_Obligacji_KIID.pdf...\n",
      "Reading 20190719_Open_Finance_Obligacji.pdf...\n",
      "Reading 20190801_Open_Finance_Konserwatywny.pdf...\n",
      "Reading 20200219_Open_Finance_Akcji.pdf...\n",
      "Reading 20200219_Open_Finance_Akcji_MIS.pdf...\n",
      "Reading 20200219_Open_Finance_Aktywnej_Alokacji.pdf...\n",
      "Reading 20200219_Open_Finance_Stabilnego_Wzrostu.pdf...\n",
      "Reading Open_Finance_Akcji_20190219.pdf...\n",
      "Reading Open_Finance_Akcji_20190719.pdf...\n",
      "Reading Open_Finance_Akcji_20200101.pdf...\n",
      "Reading Open_Finance_Akcji_MIS_20190219.pdf...\n",
      "Reading Open_Finance_Akcji_MIS_20190719.pdf...\n",
      "Reading Open_Finance_Akcji_MIS_20200101.pdf...\n",
      "Reading Open_Finance_Aktywnej_Alokacji_20190219.pdf...\n",
      "Reading Open_Finance_Aktywnej_Alokacji_20190719.pdf...\n",
      "Reading Open_Finance_Aktywnej_Alokacji_20200101.pdf...\n",
      "Reading Open_Finance_Konserwatywny_20190801.pdf...\n",
      "Reading Open_Finance_Obligacji_20190219.pdf...\n",
      "Reading Open_Finance_Obligacji_20190719.pdf...\n",
      "Reading Open_Finance_Oszczednosciowy_20190219.pdf...\n",
      "Reading Open_Finance_Oszczednosciowy_20190719.pdf...\n",
      "Reading Open_Finance_Stabilnego_Wzrostu_20190219.pdf...\n",
      "Reading Open_Finance_Stabilnego_Wzrostu_20190719.pdf...\n",
      "Reading Open_Finance_Stabilnego_Wzrostu_20200101.pdf...\n",
      "Reading 20200619_Open_Finance_Akcji_MISS_KIID.pdf...\n",
      "Reading Noble_Fund_Akcji_Amerykanskich_20210217.pdf...\n",
      "Reading Noble_Fund_Akcji_Europejskich_20210217.pdf...\n",
      "Reading Noble_Fund_Akcji_MiSS_20210217.pdf...\n",
      "Reading Noble_Fund_Emerytalny_20210217.pdf...\n",
      "Reading Noble_Fund_Konserwatywny_20210217.pdf...\n",
      "Reading Noble_Fund_Obligacji_20210217.pdf...\n",
      "Reading Noble_Fund_Stabilny_20210217.pdf...\n",
      "Reading Noble_Fund_Strategii_Dluznych_20210217.pdf...\n",
      "Reading Noble_Fund_Strategii_Mieszanych_20210217.pdf...\n",
      "Reading 01012019_Noble_Fund_Africa_and_Frontier_KIID.pdf...\n",
      "Reading 01012019_Noble_Fund_Akcji_KIID.pdf...\n",
      "Reading 01012019_Noble_Fund_Akcji_MiSS_KIID.pdf...\n",
      "Reading 01012019_Noble_Fund_Global_Return_KIID.pdf...\n",
      "Reading 01012019_Noble_Fund_Mieszany_KIID.pdf...\n",
      "Reading 01012019_Noble_Fund_Obligacji_KIID.pdf...\n",
      "Reading 01012019_Noble_Fund_Oszczednosciowy_KIID.pdf...\n",
      "Reading 01012019_Noble_Fund_Stabilnego_Wzrostu_Plus_KIID.pdf...\n",
      "Reading 01012019_Noble_Fund_Timingowy_KIID.pdf...\n",
      "Reading 2013_04_29_Noble_Fund_Africa_KIID.pdf...\n",
      "Reading 2013_04_29_Noble_Fund_Akcji_KIID.pdf...\n",
      "Reading 2013_04_29_Noble_Fund_Akcji_MiSS_KIID.pdf...\n",
      "Reading 2013_04_29_Noble_Fund_Global_Return_KIID.pdf...\n",
      "Reading 2013_04_29_Noble_Fund_Mieszany_KIID.pdf...\n",
      "Reading 2013_04_29_Noble_Fund_Skarbowy_KIID.pdf...\n",
      "Reading 2013_04_29_Noble_Fund_Stabilnego_Wzrostu_Plus_KIID.pdf...\n",
      "Reading 2013_04_29_Noble_Fund_Timingowy_KIID.pdf...\n",
      "Reading 2013_04_30_Noble_Fund_Africa_KIID.pdf...\n",
      "Reading 2013_07_30_Noble_Fund_Africa_and_Frontier_KIID.pdf...\n",
      "Reading 2013_07_31_Noble_Fund_Mieszany_KIID.pdf...\n",
      "Reading 2013_07_31_Noble_Fund_Skarbowy_KIID.pdf...\n",
      "Reading 2013_07_31_Noble_Fund_Stabilnego_Wzrostu_Plus_KIID.pdf...\n",
      "Reading 2014_02_20_Noble_Fund_Africa_and_Frontier_KIID.pdf...\n",
      "Reading 2014_02_20_Noble_Fund_Akcji_KIID.pdf...\n",
      "Reading 2014_02_20_Noble_Fund_Akcji_MiSS_KIID.pdf...\n",
      "Reading 2014_02_20_Noble_Fund_Global_Return_KIID.pdf...\n",
      "Reading 2014_02_20_Noble_Fund_Mieszany_KIID.pdf...\n",
      "Reading 2014_02_20_Noble_Fund_Skarbowy_KIID.pdf...\n",
      "Reading 2014_02_20_Noble_Fund_Stabilnego_Wzrostu_Plus_KIID.pdf...\n",
      "Reading 2014_02_20_Noble_Fund_Timingowy_KIID.pdf...\n",
      "Reading 2014_03_19_Noble_Fund_Global_Return_KIID.pdf...\n",
      "Reading 2014_04_22_Noble_Fund_Obligacji_KIID.pdf...\n",
      "Reading 2014_04_30_Noble_Fund_Obligacji_KIID.pdf...\n",
      "Reading 2014_04_30_Noble_Fund_Pieniezny_KIID.pdf...\n",
      "Reading 2014_05_30_Noble_Fund_Mieszany_KIID.pdf...\n",
      "Reading 2014_05_30_Noble_Fund_Obligacji_KIID.pdf...\n",
      "Reading 2014_05_30_Noble_Fund_Pieniezny_KIID.pdf...\n",
      "Reading 2014_05_30_Noble_Fund_Stabilnego_Wzrostu_Plus_KIID.pdf...\n",
      "Reading 2015_02_19_Noble_Fund_Africa_KIID.pdf...\n",
      "Reading 2015_02_19_Noble_Fund_Akcji_KIID.pdf...\n",
      "Reading 2015_02_19_Noble_Fund_Akcji_MiSS_KIID.pdf...\n",
      "Reading 2015_02_19_Noble_Fund_Global_Return_KIID.pdf...\n",
      "Reading 2015_02_19_Noble_Fund_Mieszany_KIID.pdf...\n",
      "Reading 2015_02_19_Noble_Fund_Obligacji_KIID.pdf...\n",
      "Reading 2015_02_19_Noble_Fund_Pieniezny_KIID.pdf...\n",
      "Reading 2015_02_19_Noble_Fund_Stabilnego_Wzrostu_Plus_KIID.pdf...\n",
      "Reading 2015_02_19_Noble_Fund_Timingowy_KIID.pdf...\n",
      "Reading 2015_03_30_Noble_Fund_Akcji_KIID.pdf...\n",
      "Reading 2016_01_04_Noble_Fund_Akcji_MiSS_KIID.pdf...\n",
      "Reading 2016_02_19_Noble_Fund_Mieszany_KIID.pdf...\n",
      "Reading 2016_02_19_Noble_Fund_Pieniezny_KIID.pdf...\n",
      "Reading 20190219_Noble_Fund_Africa_and_Frontier_KIID.pdf...\n"
     ]
    },
    {
     "name": "stderr",
     "output_type": "stream",
     "text": [
      "Xref table not zero-indexed. ID numbers for objects will be corrected.\n"
     ]
    },
    {
     "name": "stdout",
     "output_type": "stream",
     "text": [
      "Reading 20190219_Noble_Noble_Fund_Akcji_KIID.pdf...\n",
      "Reading 20190219_Noble_Noble_Fund_Akcji_MiSS_KIID.pdf...\n",
      "Reading 20190219_Noble_Noble_Fund_Global_Return_KIID.pdf...\n",
      "Reading 20190219_Noble_Noble_Fund_Mieszany_KIID.pdf...\n",
      "Reading 20190219_Noble_Noble_Fund_Oszczednosciowy_KIID.pdf...\n",
      "Reading 20190219_Noble_Noble_Fund_Stabilnego_Wzrostu_Plus_KIID.pdf...\n",
      "Reading 20190219_Noble_Noble_Fund_Timingowy_KIID.pdf...\n"
     ]
    },
    {
     "name": "stderr",
     "output_type": "stream",
     "text": [
      "Xref table not zero-indexed. ID numbers for objects will be corrected.\n"
     ]
    },
    {
     "name": "stdout",
     "output_type": "stream",
     "text": [
      "Reading 20190524_Noble_Fund_Obligacji_KIID.pdf...\n",
      "Reading 20190708_Noble_Fund_Mieszany_KIID.pdf...\n"
     ]
    },
    {
     "name": "stderr",
     "output_type": "stream",
     "text": [
      "Xref table not zero-indexed. ID numbers for objects will be corrected.\n"
     ]
    },
    {
     "name": "stdout",
     "output_type": "stream",
     "text": [
      "Reading 20190716_Noble_Fund_Africa_and_Frontier_KIID.pdf...\n"
     ]
    },
    {
     "name": "stderr",
     "output_type": "stream",
     "text": [
      "Xref table not zero-indexed. ID numbers for objects will be corrected.\n"
     ]
    },
    {
     "name": "stdout",
     "output_type": "stream",
     "text": [
      "Reading 20190716_Noble_Fund_Mieszany_KIID.pdf...\n"
     ]
    },
    {
     "name": "stderr",
     "output_type": "stream",
     "text": [
      "Xref table not zero-indexed. ID numbers for objects will be corrected.\n"
     ]
    },
    {
     "name": "stdout",
     "output_type": "stream",
     "text": [
      "Reading 20190716_Noble_Fund_Obligacji_KIID.pdf...\n"
     ]
    },
    {
     "name": "stderr",
     "output_type": "stream",
     "text": [
      "Xref table not zero-indexed. ID numbers for objects will be corrected.\n"
     ]
    },
    {
     "name": "stdout",
     "output_type": "stream",
     "text": [
      "Reading 20190716_Noble_Fund_Oszczednosciowy_KIID.pdf...\n"
     ]
    },
    {
     "name": "stderr",
     "output_type": "stream",
     "text": [
      "Xref table not zero-indexed. ID numbers for objects will be corrected.\n"
     ]
    },
    {
     "name": "stdout",
     "output_type": "stream",
     "text": [
      "Reading 20190716_Noble_Fund_Timingowy_KIID.pdf...\n"
     ]
    },
    {
     "name": "stderr",
     "output_type": "stream",
     "text": [
      "Xref table not zero-indexed. ID numbers for objects will be corrected.\n"
     ]
    },
    {
     "name": "stdout",
     "output_type": "stream",
     "text": [
      "Reading 20190716_Noble_Noble_Fund_Akcji.pdf...\n"
     ]
    },
    {
     "name": "stderr",
     "output_type": "stream",
     "text": [
      "Xref table not zero-indexed. ID numbers for objects will be corrected.\n"
     ]
    },
    {
     "name": "stdout",
     "output_type": "stream",
     "text": [
      "Reading 20190716_Noble_Noble_Fund_Akcji_MiSS.pdf...\n"
     ]
    },
    {
     "name": "stderr",
     "output_type": "stream",
     "text": [
      "Xref table not zero-indexed. ID numbers for objects will be corrected.\n"
     ]
    },
    {
     "name": "stdout",
     "output_type": "stream",
     "text": [
      "Reading 20190716_Noble_Noble_Fund_Global_Return_KIID.pdf...\n"
     ]
    },
    {
     "name": "stderr",
     "output_type": "stream",
     "text": [
      "Xref table not zero-indexed. ID numbers for objects will be corrected.\n"
     ]
    },
    {
     "name": "stdout",
     "output_type": "stream",
     "text": [
      "Reading 20190716_Noble_Noble_Fund_Stabilnego_Wzrostu_Plus_KIID.pdf...\n",
      "Reading 20190801_Noble_Fund_Konserwatywny_KIID.pdf...\n",
      "Reading 20200101_Noble_Fund_Africa_and_Frontier_KIID.pdf...\n",
      "Reading 20200101_Noble_Fund_Akcji_KIID.pdf...\n",
      "Reading 20200101_Noble_Fund_Akcji_MiSS_KIID.pdf...\n",
      "Reading 20200101_Noble_Fund_Global_Return_KIID.pdf...\n",
      "Reading 20200101_Noble_Fund_Mieszany_KIID.pdf...\n",
      "Reading 20200101_Noble_Fund_Stabilnego_Wzrostu_Plus_KIID.pdf...\n",
      "Reading 20200101_Noble_Fund_Timingowy_KIID.pdf...\n"
     ]
    },
    {
     "name": "stderr",
     "output_type": "stream",
     "text": [
      "Xref table not zero-indexed. ID numbers for objects will be corrected.\n"
     ]
    },
    {
     "name": "stdout",
     "output_type": "stream",
     "text": [
      "Reading 20200217_Noble_Fund_Strategii_Dluznych_KIID.pdf...\n",
      "Reading 20200219_Noble_Fund_Africa_and_Frontier_KIID.pdf...\n",
      "Reading 20200219_Noble_Fund_Akcji_KIID.pdf...\n",
      "Reading 20200219_Noble_Fund_Akcji_MiSS_KIID.pdf...\n",
      "Reading 20200219_Noble_Fund_Global_Return_KIID.pdf...\n",
      "Reading 20200219_Noble_Fund_Konserwatywny_KIID.pdf...\n",
      "Reading 20200219_Noble_Fund_Mieszany_KIID.pdf...\n",
      "Reading 20200219_Noble_Fund_Obligacji_KIID.pdf...\n",
      "Reading 20200219_Noble_Fund_Stabilnego_Wzrostu_Plus_KIID.pdf...\n",
      "Reading 20200219_Noble_Fund_Timingowy_KIID.pdf...\n"
     ]
    },
    {
     "name": "stderr",
     "output_type": "stream",
     "text": [
      "Xref table not zero-indexed. ID numbers for objects will be corrected.\n"
     ]
    },
    {
     "name": "stdout",
     "output_type": "stream",
     "text": [
      "Reading 20200407_Noble_Fund_Akcji_Amerykańskich_KIID.pdf...\n"
     ]
    },
    {
     "name": "stderr",
     "output_type": "stream",
     "text": [
      "Xref table not zero-indexed. ID numbers for objects will be corrected.\n"
     ]
    },
    {
     "name": "stdout",
     "output_type": "stream",
     "text": [
      "Reading 20200407_Noble_Fund_Akcji_Europejskich_KIID.pdf...\n"
     ]
    },
    {
     "name": "stderr",
     "output_type": "stream",
     "text": [
      "Xref table not zero-indexed. ID numbers for objects will be corrected.\n"
     ]
    },
    {
     "name": "stdout",
     "output_type": "stream",
     "text": [
      "Reading 20200407_Noble_Fund_Akcji_MiSS_KIID.pdf...\n"
     ]
    },
    {
     "name": "stderr",
     "output_type": "stream",
     "text": [
      "Xref table not zero-indexed. ID numbers for objects will be corrected.\n"
     ]
    },
    {
     "name": "stdout",
     "output_type": "stream",
     "text": [
      "Reading 20200407_Noble_Fund_Akcji_Polskich_KIID.pdf...\n"
     ]
    },
    {
     "name": "stderr",
     "output_type": "stream",
     "text": [
      "Xref table not zero-indexed. ID numbers for objects will be corrected.\n"
     ]
    },
    {
     "name": "stdout",
     "output_type": "stream",
     "text": [
      "Reading 20200407_Noble_Fund_Emerytalny_KIID.pdf...\n"
     ]
    },
    {
     "name": "stderr",
     "output_type": "stream",
     "text": [
      "Xref table not zero-indexed. ID numbers for objects will be corrected.\n"
     ]
    },
    {
     "name": "stdout",
     "output_type": "stream",
     "text": [
      "Reading 20200407_Noble_Fund_Obligacji_KIID.pdf...\n"
     ]
    },
    {
     "name": "stderr",
     "output_type": "stream",
     "text": [
      "Xref table not zero-indexed. ID numbers for objects will be corrected.\n"
     ]
    },
    {
     "name": "stdout",
     "output_type": "stream",
     "text": [
      "Reading 20200407_Noble_Fund_Stabilny_KIID.pdf...\n",
      "Reading 20200619_Noble_Fund_Africa_and_Frontier_KIID.pdf...\n",
      "Reading 20200619_Noble_Fund_Akcji_Europejskich_KIID.pdf...\n",
      "Reading 20200619_Noble_Fund_Akcji_MiSS_KIID.pdf...\n",
      "Reading 20200619_Noble_Fund_Akcji_Polskich_KIID.pdf...\n",
      "Reading 20200619_Noble_Fund_Emerytalny_KIID.pdf...\n",
      "Reading 20200619_Noble_Fund_Obligacji_KIID.pdf...\n",
      "Reading 20200619_Noble_Fund_Stabilny_KIID.pdf...\n",
      "Reading 20200619_Noble_Fund_Strategii_Dluznych_KIID.pdf...\n",
      "Reading 20200715_Noble_Fund_Africa_and_Frontier_KIID.pdf...\n",
      "Reading 20200715_Noble_Fund_Akcji_Polskich_KIID.pdf...\n"
     ]
    },
    {
     "name": "stderr",
     "output_type": "stream",
     "text": [
      "Xref table not zero-indexed. ID numbers for objects will be corrected.\n"
     ]
    },
    {
     "name": "stdout",
     "output_type": "stream",
     "text": [
      "Reading 20200719_Noble_Fund_Obligacji_KIID.pdf...\n",
      "Reading 20200723_Noble_Fund_Akcji_MiSS_KIID.pdf...\n",
      "Reading 20201009_Noble_Fund_Akcji_Amerykańskich_KIID.pdf...\n",
      "Reading Noble_Fund_Africa_and_Frontier_20161202.pdf...\n",
      "Reading Noble_Fund_Africa_and_Frontier_20170220.pdf...\n",
      "Reading Noble_Fund_Africa_and_Frontier_20170320.pdf...\n",
      "Reading Noble_Fund_Africa_and_Frontier_20180219.pdf...\n",
      "Reading Noble_Fund_Africa_and_Frontier_KIID.pdf...\n",
      "Reading Noble_Fund_Akcji_20161202.pdf...\n",
      "Reading Noble_Fund_Akcji_20170220.pdf...\n",
      "Reading Noble_Fund_Akcji_20180219.pdf...\n",
      "Reading Noble_Fund_Akcji_Amerykańskich_20210101.pdf...\n",
      "Reading Noble_Fund_Akcji_Europejskich_20210101.pdf...\n",
      "Reading Noble_Fund_Akcji_KIID.pdf...\n",
      "Reading Noble_Fund_Akcji_MiSS_20161202.pdf...\n",
      "Reading Noble_Fund_Akcji_MiSS_20170220.pdf...\n",
      "Reading Noble_Fund_Akcji_MiSS_20170320.pdf...\n",
      "Reading Noble_Fund_Akcji_MiSS_20180219.pdf...\n",
      "Reading Noble_Fund_Akcji_MiSS_KIID.pdf...\n",
      "Reading Noble_Fund_Akcji_MiŚS_20210101.pdf...\n",
      "Reading Noble_Fund_Akcji_Polskich_20210101.pdf...\n",
      "Reading Noble_Fund_Emerytalny_20210101.pdf...\n",
      "Reading Noble_Fund_Global_Return_20161202.pdf...\n",
      "Reading Noble_Fund_Global_Return_20170220.pdf...\n",
      "Reading Noble_Fund_Global_Return_20180219.pdf...\n",
      "Reading Noble_Fund_Global_Return_KIID.pdf...\n",
      "Reading Noble_Fund_Konserwatywny_KIID_20200619.pdf...\n",
      "Reading Noble_Fund_Mieszany_20161202.pdf...\n",
      "Reading Noble_Fund_Mieszany_20170220.pdf...\n",
      "Reading Noble_Fund_Mieszany_20180219.pdf...\n",
      "Reading Noble_Fund_Mieszany_KIID.pdf...\n",
      "Reading Noble_Fund_Obligacji_20161202.pdf...\n",
      "Reading Noble_Fund_Obligacji_20170220.pdf...\n",
      "Reading Noble_Fund_Obligacji_KIID.pdf...\n",
      "Reading Noble_Fund_Obligacji_KIID_20200715.pdf...\n",
      "Reading Noble_Fund_Pieniezny_20161202.pdf...\n",
      "Reading Noble_Fund_Pieniezny_20180104.pdf...\n",
      "Reading Noble_Fund_Pieniezny_20180219.pdf...\n",
      "Reading Noble_Fund_Pieniezny_KIID.pdf...\n",
      "Reading Noble_Fund_Stabilnego_Wzrostu_Plus_20161202.pdf...\n",
      "Reading Noble_Fund_Stabilnego_Wzrostu_Plus_20170220.pdf...\n",
      "Reading Noble_Fund_Stabilnego_Wzrostu_Plus_KIID.pdf...\n",
      "Reading Noble_Fund_Stabilny_20210101.pdf...\n",
      "Reading Noble_Fund_Strategii_Dluznych_20210101.pdf...\n",
      "Reading Noble_Fund_Strategii_Mieszanych_20210101.pdf...\n",
      "Reading Noble_Fund_Timingowy_20161202.pdf...\n",
      "Reading Noble_Fund_Timingowy_20170220.pdf...\n",
      "Reading Noble_Fund_Timingowy_20180219.pdf...\n",
      "Reading Noble_Fund_Timingowy_20181015.pdf...\n",
      "Reading Noble_Fund_Timingowy_KIID.pdf...\n",
      "Reading Noble_Fund_Akcji_Amerykanskich_20220101.pdf...\n",
      "Reading Noble_Fund_Akcji_Europejskich_20220101.pdf...\n",
      "Reading Noble_Fund_Akcji_MiSS_20220101.pdf...\n",
      "Reading Noble_Fund_Akcji_Polskich_20220101.pdf...\n",
      "Reading Noble_Fund_Emerytalny_20220101.pdf...\n",
      "Reading Noble_Fund_Stabilny_20220101.pdf...\n",
      "Reading Noble_Fund_Strategii_Dluznych_20220101.pdf...\n",
      "Reading Noble_Fund_Strategii_Mieszanych_20220101.pdf...\n",
      "Reading Noble_Fund_AkcjiMiSS_20220201.pdf...\n",
      "Reading Noble_Fund_Akcji_Amerykanskich_20220201.pdf...\n",
      "Reading Noble_Fund_Akcji_Europejskich_20220201.pdf...\n",
      "Reading Noble_Fund_Akcji_Polskich_20220201.pdf...\n",
      "Reading Noble_Fund_Emerytalny_20220201.pdf...\n",
      "Reading Noble_Fund_Konserwatywny_20220201.pdf...\n",
      "Reading Noble_Fund_Obligacji_20220201.pdf...\n",
      "Reading Noble_Fund_Stabilny_20220201.pdf...\n",
      "Reading Noble_Fund_Strategii Dluznych_20220201.pdf...\n",
      "Reading Noble_Fund_Strategii Mieszanych_20220201.pdf...\n",
      "Reading Noble_Fund_Akcji_Amerykanskich_20211201.pdf...\n",
      "Reading Noble_Fund_Akcji_Europejskich_20211201.pdf...\n",
      "Reading Noble_Fund_Akcji_MiSS_20211201.pdf...\n",
      "Reading Noble_Fund_Akcji_Polskich_20211201.pdf...\n",
      "Reading Noble_Fund_Emerytalny_20211201.pdf...\n",
      "Reading Noble_Fund_Konserwatywny_20211201.pdf...\n",
      "Reading Noble_Fund_Obligacji_20211201.pdf...\n",
      "Reading Noble_Fund_Stabilny_20211201.pdf...\n",
      "Reading Noble_Fund_Konserwatywny_20220803.pdf...\n",
      "Reading Noble_Fund_Obligacji_20220803.pdf...\n",
      "Reading Noble_Fund_Akcji_Amerykanskich_20221013.pdf...\n",
      "Reading Noble_Fund_Akcji_Europejskich_20221013.pdf...\n",
      "Reading Noble_Fund_Akcji_MiSS_20221013.pdf...\n",
      "Reading Noble_Fund_Akcji_Polskich_20221013.pdf...\n",
      "Reading Noble_Fund_Emerytalny_20221013.pdf...\n",
      "Reading Noble_Fund_Konserwatywny_20221013.pdf...\n",
      "Reading Noble_Fund_Obligacji_20221013.pdf...\n",
      "Reading Noble_Fund_Stabilny_20221013.pdf...\n",
      "Reading Noble_Fund_Strategii_Dluznych_20221013.pdf...\n",
      "Reading Noble_Fund_Strategii_Mieszanych_20221013.pdf...\n",
      "Reading Noble_Fund_Akcji_Amerykańskich_20220624.pdf...\n",
      "Reading Noble_Fund_Akcji_Europejskich_20220624.pdf...\n",
      "Reading Noble_Fund_Akcji_MiŚS_20220624.pdf...\n",
      "Reading Noble_Fund_Akcji_Polskich_20220624.pdf...\n",
      "Reading Noble_Fund_Emerytalny_20220624.pdf...\n",
      "Reading Noble_Fund_Stabilny_20220624.pdf...\n",
      "Reading Noble_Fund_Strategii_Dłużnych_20220624.pdf...\n",
      "Reading Noble_Fund_Strategii_Mieszanych_20220624.pdf...\n",
      "Reading KIID_ALIOR_Obligacji_kat.A.26.09.2022.pdf...\n",
      "Reading KIID_ALIOR_Obligacji_kat.B.26.09.2022.pdf...\n",
      "Reading KIID_ALIOR_Oszczednosciowy_kat.A.26.09.2022.pdf...\n",
      "Reading KIID_ALIOR_Oszczednosciowy_kat.B.26.09.2022.pdf...\n",
      "Reading KIID_ALIOR_Spokojny_dla_Ciebie_kat.A.26.09.2022.pdf...\n",
      "Reading KIID_ALIOR_Spokojny_dla_Ciebie_kat.B.26.09.2022.pdf...\n",
      "Reading KIID_ALIOR_Stabilny_na_Przyszlosc_kat.A.26.09.2022.pdf...\n",
      "Reading KIID_ALIOR_Stabilny_na_Przyszlosc_kat.B.26.09.2022.pdf...\n",
      "Reading KIID_ALIOR_Akcji_kat.A.26.09.2022.pdf...\n",
      "Reading KIID_ALIOR_Akcji_kat.B.26.09.2022.pdf...\n",
      "Reading KIID_ALIOR_Globalny_Nowych_Technologii_kat.B.26.09.2022.pdf...\n",
      "Reading KIID_ALIOR_Globalny_Nowych_Technologii_kat.A.26.09.2022.pdf...\n",
      "Reading KIID_ALIOR_Zrownowazony_kat.A.26.09.2022.pdf...\n",
      "Reading KIID_ALIOR_Zrownowazony_kat.B.26.09.2022.pdf...\n",
      "Reading KIID_ALIOR_Ostrozny_kat.A.26.09.2022.pdf...\n",
      "Reading KIID_ALIOR_Ostrozny_kat.B.26.09.2022.pdf...\n",
      "Reading KIID_MIL01_2022-02-21.pdf...\n",
      "Reading KIID_MIL27_2022-02-21.pdf...\n",
      "Reading KIID_MIL21_2022-02-21.pdf...\n",
      "Reading KIID_MIL33_2022-02-21.pdf...\n",
      "Reading KIID_MIL25_2022-02-21.pdf...\n",
      "Reading KIID_MIL04_2022-02-21.pdf...\n",
      "Reading KIID_MIL08_2022-02-21.pdf...\n",
      "Reading 0319de5c-5cf5-4dc7-97ff-e4e0f237a6d1.pdf...\n",
      "Reading 07d397d8-cbc6-4a85-a1d6-52419349b37e.pdf...\n",
      "Reading 0ee40a0a-8529-4719-aca3-4466ca9fa5af.pdf...\n",
      "Reading 1737aaf0-a149-4bf5-ac99-a685396485c3.pdf...\n",
      "Reading 1cdbedd6-bcf8-4c16-828e-14a607e44c4f.pdf...\n",
      "Reading 1e5a01cc-9a64-4511-9169-4d7739471ee8.pdf...\n",
      "Reading 1ff010dd-0cb0-47f5-bbda-3184dc0835f1.pdf...\n",
      "Reading 20e4ab45-e55f-44a8-9de8-1ff62e1b1344.pdf...\n",
      "Reading 22779e1c-61e3-4f05-bcd2-affd915434a1.pdf...\n",
      "Reading 26dea11b-92b2-45b8-9afa-3cb2429b93a8.pdf...\n",
      "Reading 2a6e949d-489e-4a74-a27e-6ad6616d4ba2.pdf...\n",
      "Reading 2a84cbfb-3c6b-4fc7-a9f3-6400c3cbedb5.pdf...\n",
      "Reading 2d6c805d-adc9-41c9-8e47-e65a394a3828.pdf...\n",
      "Reading 2eca9760-59b3-4212-9c8c-e67d603d3a08.pdf...\n",
      "Reading 347836fe-059d-4131-af44-15fc6f2e4b67.pdf...\n",
      "Reading 39941154-0441-4a15-b93c-dcbf6b5b66b0.pdf...\n",
      "Reading 3c96c062-39e8-4d8a-b494-9ea614cde5cf.pdf...\n",
      "Reading 3d754bfd-4a64-49b9-a285-7a672f03bb84.pdf...\n",
      "Reading 3e29148f-17eb-4c45-a445-ee0a984a7eb6.pdf...\n",
      "Reading 40a86c64-0709-4dd3-9bb1-e0fd31448740.pdf...\n",
      "Reading 40dca97b-7b67-4b16-895c-51b8ead19ac4.pdf...\n",
      "Reading 43f99855-f438-4099-adbe-ff75ca7351a1.pdf...\n",
      "Reading 4a139569-36ba-4d97-bce2-e7d40c9f87ad.pdf...\n",
      "Reading 4e2c5c6f-1ad5-4b5b-8e67-0a16ebce4161.pdf...\n",
      "Reading 4ecf6ad5-0322-4bb1-97ca-3dac8ac26591.pdf...\n",
      "Reading 50f3c1fa-b3be-4af7-9baa-79527f15549c.pdf...\n",
      "Reading 553892f8-3225-4590-a91a-60af309883f3.pdf...\n",
      "Reading 553f7897-a737-48cf-9030-d8c2002fde37.pdf...\n",
      "Reading 5b819398-58ab-4226-8266-a4721879cd91.pdf...\n",
      "Reading 609e978e-a69f-44a4-a188-8c8de19bc46e.pdf...\n",
      "Reading 60b09377-60f2-4f8c-a71b-d7651b95495b.pdf...\n",
      "Reading 63afcd17-6e41-417f-92f3-e98d0585f940.pdf...\n",
      "Reading 63d85099-457c-4c56-b4e6-11857a929c76.pdf...\n",
      "Reading 66988715-b2c9-4051-a7ed-ed056e69f481.pdf...\n",
      "Reading 69c4cde0-9c3d-4c26-9c93-7e669e855026.pdf...\n",
      "Reading 6d0d4dc5-ff68-4788-9f9c-b635498ae844.pdf...\n",
      "Reading 6ee37c98-99b2-4991-96b2-0e6672722ddf.pdf...\n",
      "Reading 721c4054-e850-479a-8720-879acaddb880.pdf...\n",
      "Reading 74e46569-260b-4db3-87d2-eacbf18ad1d3.pdf...\n",
      "Reading 76e7d67c-e9ba-40bd-95e1-f011add148fb.pdf...\n",
      "Reading 774de813-ee13-4a58-87a5-a5d3d2145412.pdf...\n",
      "Reading 776dbbbc-256b-4ce9-8a10-33db2408888b.pdf...\n",
      "Reading 7913ea4c-0456-42f2-885f-2609b1ea3aa4.pdf...\n",
      "Reading 7a05af2a-3b0b-4a54-9424-813c227075a2.pdf...\n",
      "Reading 7a4c890a-e461-40ed-86b8-1a13f6b840a1.pdf...\n"
     ]
    },
    {
     "name": "stdout",
     "output_type": "stream",
     "text": [
      "Reading 7b2906e8-7abe-43ca-a7fd-070c325b90b2.pdf...\n",
      "Reading 810b6758-9870-4a6e-88c2-7175cbf2a105.pdf...\n",
      "Reading 827252ef-5bb3-40a1-aaa6-8685322c329d.pdf...\n",
      "Reading 85c7e3bb-c358-4116-b2ca-819af774dd22.pdf...\n",
      "Reading 8895ae05-9f4d-4b15-953e-ed177e7300f7.pdf...\n",
      "Reading 8b3399b5-8c71-4503-b674-c60ea90f739e.pdf...\n",
      "Reading 8f9b0fdf-93e4-49ca-a4f5-14e5edb090d7.pdf...\n",
      "Reading 91a1a8c4-c9ad-4d0a-b956-b447624e35a3.pdf...\n",
      "Reading 96b58f6b-b79f-493d-a85d-002266272339.pdf...\n",
      "Reading 99b03394-1590-4bc7-b429-d42bac4013c7.pdf...\n",
      "Reading 9bddd463-1f92-4cc2-97ed-c5467de099e5.pdf...\n",
      "Reading 9e1db890-42ad-413d-9387-af7dd03e5237.pdf...\n",
      "Reading 9e678067-7de2-46d2-9b9a-50d29cadd6a0.pdf...\n",
      "Reading 9eb60d08-7792-43cf-8012-bd6a5e1402bb.pdf...\n",
      "Reading 9fc9d92e-2c0e-4b9c-955b-5b31256cbe33.pdf...\n",
      "Reading a1f1da04-5fa6-4776-942d-d3da43d8c7dc.pdf...\n",
      "Reading a48b0593-f8d8-4aed-9cfc-2fc748576b94.pdf...\n",
      "Reading a924004c-15a0-4d3b-8b56-e3f0e1a423e0.pdf...\n",
      "Reading aad7f769-5a16-4a24-bf79-bdebf67f5f95.pdf...\n",
      "Reading ad73fb82-1eda-430f-8565-3cf255a2760a.pdf...\n",
      "Reading af36fc7b-5631-42e1-aa33-82d3603fbe09.pdf...\n",
      "Reading af9edd3c-1a97-4cdb-a01b-20f26c6deb25.pdf...\n",
      "Reading b5964d14-7247-427e-b848-9b7a0c7e81ca.pdf...\n",
      "Reading b75fa838-6425-4e79-a3fa-41ab13ce151d.pdf...\n",
      "Reading bc40c2b8-d3b5-4877-bf34-c4cb3123ffcf.pdf...\n",
      "Reading be4dbbf2-4e25-4053-87ba-52f13e939a48.pdf...\n",
      "Reading be9c3922-d3ad-43b4-9717-4d0cd8e351b8.pdf...\n",
      "Reading c44009f2-8949-4d0f-8517-2c6f4a023fc3.pdf...\n",
      "Reading cc025979-e396-41ad-9dc2-9fefb16f589b.pdf...\n",
      "Reading cd700cfc-6ff0-41c0-b8be-60d7d51110f6.pdf...\n",
      "Reading cfbe9f6f-2dc0-4120-857a-d6cd244aff2d.pdf...\n",
      "Reading d0c815db-f807-44b6-86a4-62fdc0f17f01.pdf...\n",
      "Reading d17e090a-584c-42b9-a3b6-4a32c8771471.pdf...\n",
      "Reading d1ec9dba-6a7a-48eb-b360-f779d2b8f903.pdf...\n",
      "Reading d253d653-ed38-4d2c-a3bc-945045da0e91.pdf...\n",
      "Reading d3453c9a-9b0d-4cfc-80c5-1e8269fdc125.pdf...\n",
      "Reading d384b3bc-4e3e-4724-9d55-e68a1236bcb5.pdf...\n",
      "Reading d47f5074-df71-4160-a50a-5716b32f75d1.pdf...\n",
      "Reading d6476fdb-ff90-4f05-a5d8-32e5c0c63808.pdf...\n",
      "Reading d64c00be-d95e-4794-b3d3-89d934dce421.pdf...\n",
      "Reading ec2b7e1a-a63c-4484-95bc-6fc27fe26ca0.pdf...\n",
      "Reading f548aaed-c24c-4802-b764-6081d5e5b202.pdf...\n",
      "Reading f5ba43e0-0988-4065-826e-9244de0d4c50.pdf...\n",
      "Reading f5c142f3-881c-4e1f-a988-762eb77c2b6e.pdf...\n",
      "Reading f5e18c1c-fde7-4f9e-9b0a-1ec62ad01553.pdf...\n",
      "Reading f77428dc-1f50-4cc5-bbb3-434f48b891a6.pdf...\n",
      "Reading fa636645-a819-4a7f-8f33-18744d929d7d.pdf...\n",
      "Reading fc8a4942-a285-4372-8671-9283d5d7dc6f.pdf...\n",
      "Reading KIID_BNP_Paribas_OW_2022-02-21.pdf...\n",
      "Reading KIID_BNP_P_ASD_2022-04-26.pdf...\n",
      "Reading KIID_BNP_TFOK_2022-09-20.pdf...\n",
      "Reading KIID_BNP_Paribas_SI_2022-09-21.pdf...\n",
      "Reading KIID_BNP_Paribas_AI_2022-09-21.pdf...\n",
      "Reading KIID_BNP_Paribas_DI_2022-09-21.pdf...\n",
      "Reading KIID_BNP_Paribas_GDW_2022-09-21.pdf...\n",
      "Reading KIID_BNP_Paribas_GSW_2022-09-21.pdf...\n",
      "Reading KIID_BNP_Paribas_Ob_2022-09-21.pdf...\n",
      "Reading KIID_BNP_Paribas_KO_2022-09-21.pdf...\n",
      "Reading KIID_BNP_Parasol_KFD_2022-09-21.pdf...\n",
      "Reading KIID_BNP_Parasol_MiSS_2022-09-21.pdf...\n",
      "Reading KIID_BNP_Parasol_LK_2022-09-21.pdf...\n",
      "Reading KIID_BNP_Parasol_Ob_ZR_2022-09-21.pdf...\n",
      "Reading KIID_BNP_Parasol_EOZ_2022-09-21.pdf...\n",
      "Reading KIID_BNP_Parasol_AAT_2022-09-21.pdf...\n",
      "Reading KIID_BNP_Parasol_AW-USA_2022-09-21.pdf...\n",
      "Reading KIID_BNP_Parasol_AZL_2022-09-21.pdf...\n",
      "Reading KIID_BNP_Parasol_Aqua_2022-09-21.pdf...\n",
      "Reading KIID_BNPP_Ak_2022-09-21.pdf...\n",
      "Reading KIID_BNPP_PDK_2022-09-21.pdf...\n",
      "Reading KIID_BNPP_SW_2022-09-21.pdf...\n",
      "Reading KIID_VIG02_2022-05-27.pdf...\n",
      "Reading KIID_VIG02B_2022-05-27.pdf...\n",
      "Reading KIID_VIG03_2022-05-27.pdf...\n",
      "Reading KIID_VIG03B_2022-05-27.pdf...\n",
      "Reading KIID_VIG04_2022-05-27.pdf...\n",
      "Reading KIID_VIG04B_2022-05-27.pdf...\n",
      "Reading KIID_VIG05_2022-05-27.pdf...\n",
      "Reading KIID_VIG05B_2022-05-27.pdf...\n",
      "Reading KIID_VIG06_2022-05-27.pdf...\n",
      "Reading KIID_VIG06B_2022-05-27.pdf...\n",
      "Reading KIID_VIG01B_2022-06-29.pdf...\n",
      "Reading KIID_VIG01_2022-06-29.pdf...\n",
      "Reading KIID_VIG07_2022-07-01.pdf...\n",
      "Reading KIID_VIG07B_2022-07-01.pdf...\n",
      "Reading KIID_VIG08B_2022-09-19.pdf...\n",
      "Reading KIID_VIG08_2022-09-19.pdf...\n",
      "Reading KIID_VIG08B_2022-10-03.pdf...\n",
      "Reading KIID_VIG08_2022-10-03.pdf...\n"
     ]
    }
   ],
   "source": [
    "make_BagOfWords_S(df_meta)"
   ]
  },
  {
   "cell_type": "code",
   "execution_count": 34,
   "metadata": {
    "scrolled": true
   },
   "outputs": [
    {
     "name": "stdout",
     "output_type": "stream",
     "text": [
      "Reading 19022019_Noble_Fund_Obligacji_KIID.pdf...\n",
      "Reading 20190719_Open_Finance_Obligacji.pdf...\n",
      "Reading 20190801_Open_Finance_Konserwatywny.pdf...\n",
      "Reading 20200219_Open_Finance_Akcji.pdf...\n",
      "Reading 20200219_Open_Finance_Akcji_MIS.pdf...\n",
      "Reading 20200219_Open_Finance_Aktywnej_Alokacji.pdf...\n",
      "Reading 20200219_Open_Finance_Stabilnego_Wzrostu.pdf...\n",
      "Reading Open_Finance_Akcji_20190219.pdf...\n",
      "Reading Open_Finance_Akcji_20190719.pdf...\n",
      "Reading Open_Finance_Akcji_20200101.pdf...\n",
      "Reading Open_Finance_Akcji_MIS_20190219.pdf...\n",
      "Reading Open_Finance_Akcji_MIS_20190719.pdf...\n",
      "Reading Open_Finance_Akcji_MIS_20200101.pdf...\n",
      "Reading Open_Finance_Aktywnej_Alokacji_20190219.pdf...\n",
      "Reading Open_Finance_Aktywnej_Alokacji_20190719.pdf...\n",
      "Reading Open_Finance_Aktywnej_Alokacji_20200101.pdf...\n",
      "Reading Open_Finance_Konserwatywny_20190801.pdf...\n",
      "Reading Open_Finance_Obligacji_20190219.pdf...\n",
      "Reading Open_Finance_Obligacji_20190719.pdf...\n",
      "Reading Open_Finance_Oszczednosciowy_20190219.pdf...\n",
      "Reading Open_Finance_Oszczednosciowy_20190719.pdf...\n",
      "Reading Open_Finance_Stabilnego_Wzrostu_20190219.pdf...\n",
      "Reading Open_Finance_Stabilnego_Wzrostu_20190719.pdf...\n",
      "Reading Open_Finance_Stabilnego_Wzrostu_20200101.pdf...\n",
      "Reading 20200619_Open_Finance_Akcji_MISS_KIID.pdf...\n",
      "Reading Noble_Fund_Akcji_Amerykanskich_20210217.pdf...\n",
      "Reading Noble_Fund_Akcji_Europejskich_20210217.pdf...\n",
      "Reading Noble_Fund_Akcji_MiSS_20210217.pdf...\n",
      "Reading Noble_Fund_Emerytalny_20210217.pdf...\n",
      "Reading Noble_Fund_Konserwatywny_20210217.pdf...\n",
      "Reading Noble_Fund_Obligacji_20210217.pdf...\n",
      "Reading Noble_Fund_Stabilny_20210217.pdf...\n",
      "Reading Noble_Fund_Strategii_Dluznych_20210217.pdf...\n",
      "Reading Noble_Fund_Strategii_Mieszanych_20210217.pdf...\n",
      "Reading 01012019_Noble_Fund_Africa_and_Frontier_KIID.pdf...\n",
      "Reading 01012019_Noble_Fund_Akcji_KIID.pdf...\n",
      "Reading 01012019_Noble_Fund_Akcji_MiSS_KIID.pdf...\n",
      "Reading 01012019_Noble_Fund_Global_Return_KIID.pdf...\n",
      "Reading 01012019_Noble_Fund_Mieszany_KIID.pdf...\n",
      "Reading 01012019_Noble_Fund_Obligacji_KIID.pdf...\n",
      "Reading 01012019_Noble_Fund_Oszczednosciowy_KIID.pdf...\n",
      "Reading 01012019_Noble_Fund_Stabilnego_Wzrostu_Plus_KIID.pdf...\n",
      "Reading 01012019_Noble_Fund_Timingowy_KIID.pdf...\n",
      "Reading 2013_04_29_Noble_Fund_Africa_KIID.pdf...\n",
      "Reading 2013_04_29_Noble_Fund_Akcji_KIID.pdf...\n",
      "Reading 2013_04_29_Noble_Fund_Akcji_MiSS_KIID.pdf...\n",
      "Reading 2013_04_29_Noble_Fund_Global_Return_KIID.pdf...\n",
      "Reading 2013_04_29_Noble_Fund_Mieszany_KIID.pdf...\n",
      "Reading 2013_04_29_Noble_Fund_Skarbowy_KIID.pdf...\n",
      "Reading 2013_04_29_Noble_Fund_Stabilnego_Wzrostu_Plus_KIID.pdf...\n",
      "Reading 2013_04_29_Noble_Fund_Timingowy_KIID.pdf...\n",
      "Reading 2013_04_30_Noble_Fund_Africa_KIID.pdf...\n",
      "Reading 2013_07_30_Noble_Fund_Africa_and_Frontier_KIID.pdf...\n",
      "Reading 2013_07_31_Noble_Fund_Mieszany_KIID.pdf...\n",
      "Reading 2013_07_31_Noble_Fund_Skarbowy_KIID.pdf...\n",
      "Reading 2013_07_31_Noble_Fund_Stabilnego_Wzrostu_Plus_KIID.pdf...\n",
      "Reading 2014_02_20_Noble_Fund_Africa_and_Frontier_KIID.pdf...\n",
      "Reading 2014_02_20_Noble_Fund_Akcji_KIID.pdf...\n",
      "Reading 2014_02_20_Noble_Fund_Akcji_MiSS_KIID.pdf...\n",
      "Reading 2014_02_20_Noble_Fund_Global_Return_KIID.pdf...\n",
      "Reading 2014_02_20_Noble_Fund_Mieszany_KIID.pdf...\n",
      "Reading 2014_02_20_Noble_Fund_Skarbowy_KIID.pdf...\n",
      "Reading 2014_02_20_Noble_Fund_Stabilnego_Wzrostu_Plus_KIID.pdf...\n",
      "Reading 2014_02_20_Noble_Fund_Timingowy_KIID.pdf...\n",
      "Reading 2014_03_19_Noble_Fund_Global_Return_KIID.pdf...\n",
      "Reading 2014_04_22_Noble_Fund_Obligacji_KIID.pdf...\n",
      "Reading 2014_04_30_Noble_Fund_Obligacji_KIID.pdf...\n",
      "Reading 2014_04_30_Noble_Fund_Pieniezny_KIID.pdf...\n",
      "Reading 2014_05_30_Noble_Fund_Mieszany_KIID.pdf...\n",
      "Reading 2014_05_30_Noble_Fund_Obligacji_KIID.pdf...\n",
      "Reading 2014_05_30_Noble_Fund_Pieniezny_KIID.pdf...\n",
      "Reading 2014_05_30_Noble_Fund_Stabilnego_Wzrostu_Plus_KIID.pdf...\n",
      "Reading 2015_02_19_Noble_Fund_Africa_KIID.pdf...\n",
      "Reading 2015_02_19_Noble_Fund_Akcji_KIID.pdf...\n",
      "Reading 2015_02_19_Noble_Fund_Akcji_MiSS_KIID.pdf...\n",
      "Reading 2015_02_19_Noble_Fund_Global_Return_KIID.pdf...\n",
      "Reading 2015_02_19_Noble_Fund_Mieszany_KIID.pdf...\n",
      "Reading 2015_02_19_Noble_Fund_Obligacji_KIID.pdf...\n",
      "Reading 2015_02_19_Noble_Fund_Pieniezny_KIID.pdf...\n",
      "Reading 2015_02_19_Noble_Fund_Stabilnego_Wzrostu_Plus_KIID.pdf...\n",
      "Reading 2015_02_19_Noble_Fund_Timingowy_KIID.pdf...\n",
      "Reading 2015_03_30_Noble_Fund_Akcji_KIID.pdf...\n",
      "Reading 2016_01_04_Noble_Fund_Akcji_MiSS_KIID.pdf...\n",
      "Reading 2016_02_19_Noble_Fund_Mieszany_KIID.pdf...\n",
      "Reading 2016_02_19_Noble_Fund_Pieniezny_KIID.pdf...\n",
      "Reading 20190219_Noble_Fund_Africa_and_Frontier_KIID.pdf...\n"
     ]
    },
    {
     "name": "stderr",
     "output_type": "stream",
     "text": [
      "Xref table not zero-indexed. ID numbers for objects will be corrected.\n"
     ]
    },
    {
     "name": "stdout",
     "output_type": "stream",
     "text": [
      "Reading 20190219_Noble_Noble_Fund_Akcji_KIID.pdf...\n",
      "Reading 20190219_Noble_Noble_Fund_Akcji_MiSS_KIID.pdf...\n",
      "Reading 20190219_Noble_Noble_Fund_Global_Return_KIID.pdf...\n",
      "Reading 20190219_Noble_Noble_Fund_Mieszany_KIID.pdf...\n",
      "Reading 20190219_Noble_Noble_Fund_Oszczednosciowy_KIID.pdf...\n",
      "Reading 20190219_Noble_Noble_Fund_Stabilnego_Wzrostu_Plus_KIID.pdf...\n",
      "Reading 20190219_Noble_Noble_Fund_Timingowy_KIID.pdf...\n"
     ]
    },
    {
     "name": "stderr",
     "output_type": "stream",
     "text": [
      "Xref table not zero-indexed. ID numbers for objects will be corrected.\n"
     ]
    },
    {
     "name": "stdout",
     "output_type": "stream",
     "text": [
      "Reading 20190524_Noble_Fund_Obligacji_KIID.pdf...\n",
      "Reading 20190708_Noble_Fund_Mieszany_KIID.pdf...\n"
     ]
    },
    {
     "name": "stderr",
     "output_type": "stream",
     "text": [
      "Xref table not zero-indexed. ID numbers for objects will be corrected.\n"
     ]
    },
    {
     "name": "stdout",
     "output_type": "stream",
     "text": [
      "Reading 20190716_Noble_Fund_Africa_and_Frontier_KIID.pdf...\n"
     ]
    },
    {
     "name": "stderr",
     "output_type": "stream",
     "text": [
      "Xref table not zero-indexed. ID numbers for objects will be corrected.\n"
     ]
    },
    {
     "name": "stdout",
     "output_type": "stream",
     "text": [
      "Reading 20190716_Noble_Fund_Mieszany_KIID.pdf...\n"
     ]
    },
    {
     "name": "stderr",
     "output_type": "stream",
     "text": [
      "Xref table not zero-indexed. ID numbers for objects will be corrected.\n"
     ]
    },
    {
     "name": "stdout",
     "output_type": "stream",
     "text": [
      "Reading 20190716_Noble_Fund_Obligacji_KIID.pdf...\n"
     ]
    },
    {
     "name": "stderr",
     "output_type": "stream",
     "text": [
      "Xref table not zero-indexed. ID numbers for objects will be corrected.\n"
     ]
    },
    {
     "name": "stdout",
     "output_type": "stream",
     "text": [
      "Reading 20190716_Noble_Fund_Oszczednosciowy_KIID.pdf...\n"
     ]
    },
    {
     "name": "stderr",
     "output_type": "stream",
     "text": [
      "Xref table not zero-indexed. ID numbers for objects will be corrected.\n"
     ]
    },
    {
     "name": "stdout",
     "output_type": "stream",
     "text": [
      "Reading 20190716_Noble_Fund_Timingowy_KIID.pdf...\n"
     ]
    },
    {
     "name": "stderr",
     "output_type": "stream",
     "text": [
      "Xref table not zero-indexed. ID numbers for objects will be corrected.\n"
     ]
    },
    {
     "name": "stdout",
     "output_type": "stream",
     "text": [
      "Reading 20190716_Noble_Noble_Fund_Akcji.pdf...\n"
     ]
    },
    {
     "name": "stderr",
     "output_type": "stream",
     "text": [
      "Xref table not zero-indexed. ID numbers for objects will be corrected.\n"
     ]
    },
    {
     "name": "stdout",
     "output_type": "stream",
     "text": [
      "Reading 20190716_Noble_Noble_Fund_Akcji_MiSS.pdf...\n"
     ]
    },
    {
     "name": "stderr",
     "output_type": "stream",
     "text": [
      "Xref table not zero-indexed. ID numbers for objects will be corrected.\n"
     ]
    },
    {
     "name": "stdout",
     "output_type": "stream",
     "text": [
      "Reading 20190716_Noble_Noble_Fund_Global_Return_KIID.pdf...\n"
     ]
    },
    {
     "name": "stderr",
     "output_type": "stream",
     "text": [
      "Xref table not zero-indexed. ID numbers for objects will be corrected.\n"
     ]
    },
    {
     "name": "stdout",
     "output_type": "stream",
     "text": [
      "Reading 20190716_Noble_Noble_Fund_Stabilnego_Wzrostu_Plus_KIID.pdf...\n",
      "Reading 20190801_Noble_Fund_Konserwatywny_KIID.pdf...\n",
      "Reading 20200101_Noble_Fund_Africa_and_Frontier_KIID.pdf...\n",
      "Reading 20200101_Noble_Fund_Akcji_KIID.pdf...\n",
      "Reading 20200101_Noble_Fund_Akcji_MiSS_KIID.pdf...\n",
      "Reading 20200101_Noble_Fund_Global_Return_KIID.pdf...\n",
      "Reading 20200101_Noble_Fund_Mieszany_KIID.pdf...\n",
      "Reading 20200101_Noble_Fund_Stabilnego_Wzrostu_Plus_KIID.pdf...\n",
      "Reading 20200101_Noble_Fund_Timingowy_KIID.pdf...\n"
     ]
    },
    {
     "name": "stderr",
     "output_type": "stream",
     "text": [
      "Xref table not zero-indexed. ID numbers for objects will be corrected.\n"
     ]
    },
    {
     "name": "stdout",
     "output_type": "stream",
     "text": [
      "Reading 20200217_Noble_Fund_Strategii_Dluznych_KIID.pdf...\n",
      "Reading 20200219_Noble_Fund_Africa_and_Frontier_KIID.pdf...\n",
      "Reading 20200219_Noble_Fund_Akcji_KIID.pdf...\n",
      "Reading 20200219_Noble_Fund_Akcji_MiSS_KIID.pdf...\n",
      "Reading 20200219_Noble_Fund_Global_Return_KIID.pdf...\n",
      "Reading 20200219_Noble_Fund_Konserwatywny_KIID.pdf...\n",
      "Reading 20200219_Noble_Fund_Mieszany_KIID.pdf...\n",
      "Reading 20200219_Noble_Fund_Obligacji_KIID.pdf...\n",
      "Reading 20200219_Noble_Fund_Stabilnego_Wzrostu_Plus_KIID.pdf...\n",
      "Reading 20200219_Noble_Fund_Timingowy_KIID.pdf...\n"
     ]
    },
    {
     "name": "stderr",
     "output_type": "stream",
     "text": [
      "Xref table not zero-indexed. ID numbers for objects will be corrected.\n"
     ]
    },
    {
     "name": "stdout",
     "output_type": "stream",
     "text": [
      "Reading 20200407_Noble_Fund_Akcji_Amerykańskich_KIID.pdf...\n"
     ]
    },
    {
     "name": "stderr",
     "output_type": "stream",
     "text": [
      "Xref table not zero-indexed. ID numbers for objects will be corrected.\n"
     ]
    },
    {
     "name": "stdout",
     "output_type": "stream",
     "text": [
      "Reading 20200407_Noble_Fund_Akcji_Europejskich_KIID.pdf...\n"
     ]
    },
    {
     "name": "stderr",
     "output_type": "stream",
     "text": [
      "Xref table not zero-indexed. ID numbers for objects will be corrected.\n"
     ]
    },
    {
     "name": "stdout",
     "output_type": "stream",
     "text": [
      "Reading 20200407_Noble_Fund_Akcji_MiSS_KIID.pdf...\n"
     ]
    },
    {
     "name": "stderr",
     "output_type": "stream",
     "text": [
      "Xref table not zero-indexed. ID numbers for objects will be corrected.\n"
     ]
    },
    {
     "name": "stdout",
     "output_type": "stream",
     "text": [
      "Reading 20200407_Noble_Fund_Akcji_Polskich_KIID.pdf...\n"
     ]
    },
    {
     "name": "stderr",
     "output_type": "stream",
     "text": [
      "Xref table not zero-indexed. ID numbers for objects will be corrected.\n"
     ]
    },
    {
     "name": "stdout",
     "output_type": "stream",
     "text": [
      "Reading 20200407_Noble_Fund_Emerytalny_KIID.pdf...\n"
     ]
    },
    {
     "name": "stderr",
     "output_type": "stream",
     "text": [
      "Xref table not zero-indexed. ID numbers for objects will be corrected.\n"
     ]
    },
    {
     "name": "stdout",
     "output_type": "stream",
     "text": [
      "Reading 20200407_Noble_Fund_Obligacji_KIID.pdf...\n"
     ]
    },
    {
     "name": "stderr",
     "output_type": "stream",
     "text": [
      "Xref table not zero-indexed. ID numbers for objects will be corrected.\n"
     ]
    },
    {
     "name": "stdout",
     "output_type": "stream",
     "text": [
      "Reading 20200407_Noble_Fund_Stabilny_KIID.pdf...\n",
      "Reading 20200619_Noble_Fund_Africa_and_Frontier_KIID.pdf...\n",
      "Reading 20200619_Noble_Fund_Akcji_Europejskich_KIID.pdf...\n",
      "Reading 20200619_Noble_Fund_Akcji_MiSS_KIID.pdf...\n",
      "Reading 20200619_Noble_Fund_Akcji_Polskich_KIID.pdf...\n",
      "Reading 20200619_Noble_Fund_Emerytalny_KIID.pdf...\n",
      "Reading 20200619_Noble_Fund_Obligacji_KIID.pdf...\n",
      "Reading 20200619_Noble_Fund_Stabilny_KIID.pdf...\n",
      "Reading 20200619_Noble_Fund_Strategii_Dluznych_KIID.pdf...\n",
      "Reading 20200715_Noble_Fund_Africa_and_Frontier_KIID.pdf...\n",
      "Reading 20200715_Noble_Fund_Akcji_Polskich_KIID.pdf...\n"
     ]
    },
    {
     "name": "stderr",
     "output_type": "stream",
     "text": [
      "Xref table not zero-indexed. ID numbers for objects will be corrected.\n"
     ]
    },
    {
     "name": "stdout",
     "output_type": "stream",
     "text": [
      "Reading 20200719_Noble_Fund_Obligacji_KIID.pdf...\n",
      "Reading 20200723_Noble_Fund_Akcji_MiSS_KIID.pdf...\n",
      "Reading 20201009_Noble_Fund_Akcji_Amerykańskich_KIID.pdf...\n",
      "Reading Noble_Fund_Africa_and_Frontier_20161202.pdf...\n",
      "Reading Noble_Fund_Africa_and_Frontier_20170220.pdf...\n",
      "Reading Noble_Fund_Africa_and_Frontier_20170320.pdf...\n",
      "Reading Noble_Fund_Africa_and_Frontier_20180219.pdf...\n",
      "Reading Noble_Fund_Africa_and_Frontier_KIID.pdf...\n",
      "Reading Noble_Fund_Akcji_20161202.pdf...\n",
      "Reading Noble_Fund_Akcji_20170220.pdf...\n",
      "Reading Noble_Fund_Akcji_20180219.pdf...\n",
      "Reading Noble_Fund_Akcji_Amerykańskich_20210101.pdf...\n",
      "Reading Noble_Fund_Akcji_Europejskich_20210101.pdf...\n",
      "Reading Noble_Fund_Akcji_KIID.pdf...\n",
      "Reading Noble_Fund_Akcji_MiSS_20161202.pdf...\n",
      "Reading Noble_Fund_Akcji_MiSS_20170220.pdf...\n",
      "Reading Noble_Fund_Akcji_MiSS_20170320.pdf...\n",
      "Reading Noble_Fund_Akcji_MiSS_20180219.pdf...\n",
      "Reading Noble_Fund_Akcji_MiSS_KIID.pdf...\n",
      "Reading Noble_Fund_Akcji_MiŚS_20210101.pdf...\n",
      "Reading Noble_Fund_Akcji_Polskich_20210101.pdf...\n",
      "Reading Noble_Fund_Emerytalny_20210101.pdf...\n",
      "Reading Noble_Fund_Global_Return_20161202.pdf...\n",
      "Reading Noble_Fund_Global_Return_20170220.pdf...\n",
      "Reading Noble_Fund_Global_Return_20180219.pdf...\n",
      "Reading Noble_Fund_Global_Return_KIID.pdf...\n",
      "Reading Noble_Fund_Konserwatywny_KIID_20200619.pdf...\n",
      "Reading Noble_Fund_Mieszany_20161202.pdf...\n",
      "Reading Noble_Fund_Mieszany_20170220.pdf...\n",
      "Reading Noble_Fund_Mieszany_20180219.pdf...\n",
      "Reading Noble_Fund_Mieszany_KIID.pdf...\n",
      "Reading Noble_Fund_Obligacji_20161202.pdf...\n",
      "Reading Noble_Fund_Obligacji_20170220.pdf...\n",
      "Reading Noble_Fund_Obligacji_KIID.pdf...\n",
      "Reading Noble_Fund_Obligacji_KIID_20200715.pdf...\n",
      "Reading Noble_Fund_Pieniezny_20161202.pdf...\n",
      "Reading Noble_Fund_Pieniezny_20180104.pdf...\n",
      "Reading Noble_Fund_Pieniezny_20180219.pdf...\n",
      "Reading Noble_Fund_Pieniezny_KIID.pdf...\n",
      "Reading Noble_Fund_Stabilnego_Wzrostu_Plus_20161202.pdf...\n",
      "Reading Noble_Fund_Stabilnego_Wzrostu_Plus_20170220.pdf...\n",
      "Reading Noble_Fund_Stabilnego_Wzrostu_Plus_KIID.pdf...\n",
      "Reading Noble_Fund_Stabilny_20210101.pdf...\n",
      "Reading Noble_Fund_Strategii_Dluznych_20210101.pdf...\n",
      "Reading Noble_Fund_Strategii_Mieszanych_20210101.pdf...\n",
      "Reading Noble_Fund_Timingowy_20161202.pdf...\n",
      "Reading Noble_Fund_Timingowy_20170220.pdf...\n",
      "Reading Noble_Fund_Timingowy_20180219.pdf...\n",
      "Reading Noble_Fund_Timingowy_20181015.pdf...\n",
      "Reading Noble_Fund_Timingowy_KIID.pdf...\n",
      "Reading Noble_Fund_Akcji_Amerykanskich_20220101.pdf...\n",
      "Reading Noble_Fund_Akcji_Europejskich_20220101.pdf...\n",
      "Reading Noble_Fund_Akcji_MiSS_20220101.pdf...\n",
      "Reading Noble_Fund_Akcji_Polskich_20220101.pdf...\n",
      "Reading Noble_Fund_Emerytalny_20220101.pdf...\n",
      "Reading Noble_Fund_Stabilny_20220101.pdf...\n",
      "Reading Noble_Fund_Strategii_Dluznych_20220101.pdf...\n",
      "Reading Noble_Fund_Strategii_Mieszanych_20220101.pdf...\n",
      "Reading Noble_Fund_AkcjiMiSS_20220201.pdf...\n",
      "Reading Noble_Fund_Akcji_Amerykanskich_20220201.pdf...\n",
      "Reading Noble_Fund_Akcji_Europejskich_20220201.pdf...\n",
      "Reading Noble_Fund_Akcji_Polskich_20220201.pdf...\n",
      "Reading Noble_Fund_Emerytalny_20220201.pdf...\n",
      "Reading Noble_Fund_Konserwatywny_20220201.pdf...\n",
      "Reading Noble_Fund_Obligacji_20220201.pdf...\n",
      "Reading Noble_Fund_Stabilny_20220201.pdf...\n",
      "Reading Noble_Fund_Strategii Dluznych_20220201.pdf...\n",
      "Reading Noble_Fund_Strategii Mieszanych_20220201.pdf...\n",
      "Reading Noble_Fund_Akcji_Amerykanskich_20211201.pdf...\n",
      "Reading Noble_Fund_Akcji_Europejskich_20211201.pdf...\n",
      "Reading Noble_Fund_Akcji_MiSS_20211201.pdf...\n",
      "Reading Noble_Fund_Akcji_Polskich_20211201.pdf...\n",
      "Reading Noble_Fund_Emerytalny_20211201.pdf...\n",
      "Reading Noble_Fund_Konserwatywny_20211201.pdf...\n",
      "Reading Noble_Fund_Obligacji_20211201.pdf...\n",
      "Reading Noble_Fund_Stabilny_20211201.pdf...\n",
      "Reading Noble_Fund_Konserwatywny_20220803.pdf...\n",
      "Reading Noble_Fund_Obligacji_20220803.pdf...\n",
      "Reading Noble_Fund_Akcji_Amerykanskich_20221013.pdf...\n",
      "Reading Noble_Fund_Akcji_Europejskich_20221013.pdf...\n",
      "Reading Noble_Fund_Akcji_MiSS_20221013.pdf...\n",
      "Reading Noble_Fund_Akcji_Polskich_20221013.pdf...\n",
      "Reading Noble_Fund_Emerytalny_20221013.pdf...\n",
      "Reading Noble_Fund_Konserwatywny_20221013.pdf...\n",
      "Reading Noble_Fund_Obligacji_20221013.pdf...\n",
      "Reading Noble_Fund_Stabilny_20221013.pdf...\n",
      "Reading Noble_Fund_Strategii_Dluznych_20221013.pdf...\n",
      "Reading Noble_Fund_Strategii_Mieszanych_20221013.pdf...\n",
      "Reading Noble_Fund_Akcji_Amerykańskich_20220624.pdf...\n",
      "Reading Noble_Fund_Akcji_Europejskich_20220624.pdf...\n",
      "Reading Noble_Fund_Akcji_MiŚS_20220624.pdf...\n",
      "Reading Noble_Fund_Akcji_Polskich_20220624.pdf...\n",
      "Reading Noble_Fund_Emerytalny_20220624.pdf...\n",
      "Reading Noble_Fund_Stabilny_20220624.pdf...\n",
      "Reading Noble_Fund_Strategii_Dłużnych_20220624.pdf...\n",
      "Reading Noble_Fund_Strategii_Mieszanych_20220624.pdf...\n",
      "Reading KIID_ALIOR_Obligacji_kat.A.26.09.2022.pdf...\n",
      "Reading KIID_ALIOR_Obligacji_kat.B.26.09.2022.pdf...\n",
      "Reading KIID_ALIOR_Oszczednosciowy_kat.A.26.09.2022.pdf...\n",
      "Reading KIID_ALIOR_Oszczednosciowy_kat.B.26.09.2022.pdf...\n",
      "Reading KIID_ALIOR_Spokojny_dla_Ciebie_kat.A.26.09.2022.pdf...\n",
      "Reading KIID_ALIOR_Spokojny_dla_Ciebie_kat.B.26.09.2022.pdf...\n",
      "Reading KIID_ALIOR_Stabilny_na_Przyszlosc_kat.A.26.09.2022.pdf...\n",
      "Reading KIID_ALIOR_Stabilny_na_Przyszlosc_kat.B.26.09.2022.pdf...\n",
      "Reading KIID_ALIOR_Akcji_kat.A.26.09.2022.pdf...\n",
      "Reading KIID_ALIOR_Akcji_kat.B.26.09.2022.pdf...\n",
      "Reading KIID_ALIOR_Globalny_Nowych_Technologii_kat.B.26.09.2022.pdf...\n",
      "Reading KIID_ALIOR_Globalny_Nowych_Technologii_kat.A.26.09.2022.pdf...\n",
      "Reading KIID_ALIOR_Zrownowazony_kat.A.26.09.2022.pdf...\n",
      "Reading KIID_ALIOR_Zrownowazony_kat.B.26.09.2022.pdf...\n",
      "Reading KIID_ALIOR_Ostrozny_kat.A.26.09.2022.pdf...\n",
      "Reading KIID_ALIOR_Ostrozny_kat.B.26.09.2022.pdf...\n",
      "Reading KIID_MIL01_2022-02-21.pdf...\n",
      "Reading KIID_MIL27_2022-02-21.pdf...\n",
      "Reading KIID_MIL21_2022-02-21.pdf...\n",
      "Reading KIID_MIL33_2022-02-21.pdf...\n",
      "Reading KIID_MIL25_2022-02-21.pdf...\n",
      "Reading KIID_MIL04_2022-02-21.pdf...\n",
      "Reading KIID_MIL08_2022-02-21.pdf...\n",
      "Reading 0319de5c-5cf5-4dc7-97ff-e4e0f237a6d1.pdf...\n",
      "Reading 07d397d8-cbc6-4a85-a1d6-52419349b37e.pdf...\n",
      "Reading 0ee40a0a-8529-4719-aca3-4466ca9fa5af.pdf...\n",
      "Reading 1737aaf0-a149-4bf5-ac99-a685396485c3.pdf...\n",
      "Reading 1cdbedd6-bcf8-4c16-828e-14a607e44c4f.pdf...\n",
      "Reading 1e5a01cc-9a64-4511-9169-4d7739471ee8.pdf...\n",
      "Reading 1ff010dd-0cb0-47f5-bbda-3184dc0835f1.pdf...\n",
      "Reading 20e4ab45-e55f-44a8-9de8-1ff62e1b1344.pdf...\n",
      "Reading 22779e1c-61e3-4f05-bcd2-affd915434a1.pdf...\n",
      "Reading 26dea11b-92b2-45b8-9afa-3cb2429b93a8.pdf...\n",
      "Reading 2a6e949d-489e-4a74-a27e-6ad6616d4ba2.pdf...\n",
      "Reading 2a84cbfb-3c6b-4fc7-a9f3-6400c3cbedb5.pdf...\n",
      "Reading 2d6c805d-adc9-41c9-8e47-e65a394a3828.pdf...\n",
      "Reading 2eca9760-59b3-4212-9c8c-e67d603d3a08.pdf...\n",
      "Reading 347836fe-059d-4131-af44-15fc6f2e4b67.pdf...\n",
      "Reading 39941154-0441-4a15-b93c-dcbf6b5b66b0.pdf...\n",
      "Reading 3c96c062-39e8-4d8a-b494-9ea614cde5cf.pdf...\n",
      "Reading 3d754bfd-4a64-49b9-a285-7a672f03bb84.pdf...\n",
      "Reading 3e29148f-17eb-4c45-a445-ee0a984a7eb6.pdf...\n",
      "Reading 40a86c64-0709-4dd3-9bb1-e0fd31448740.pdf...\n",
      "Reading 40dca97b-7b67-4b16-895c-51b8ead19ac4.pdf...\n",
      "Reading 43f99855-f438-4099-adbe-ff75ca7351a1.pdf...\n",
      "Reading 4a139569-36ba-4d97-bce2-e7d40c9f87ad.pdf...\n",
      "Reading 4e2c5c6f-1ad5-4b5b-8e67-0a16ebce4161.pdf...\n",
      "Reading 4ecf6ad5-0322-4bb1-97ca-3dac8ac26591.pdf...\n",
      "Reading 50f3c1fa-b3be-4af7-9baa-79527f15549c.pdf...\n",
      "Reading 553892f8-3225-4590-a91a-60af309883f3.pdf...\n",
      "Reading 553f7897-a737-48cf-9030-d8c2002fde37.pdf...\n",
      "Reading 5b819398-58ab-4226-8266-a4721879cd91.pdf...\n",
      "Reading 609e978e-a69f-44a4-a188-8c8de19bc46e.pdf...\n",
      "Reading 60b09377-60f2-4f8c-a71b-d7651b95495b.pdf...\n",
      "Reading 63afcd17-6e41-417f-92f3-e98d0585f940.pdf...\n",
      "Reading 63d85099-457c-4c56-b4e6-11857a929c76.pdf...\n",
      "Reading 66988715-b2c9-4051-a7ed-ed056e69f481.pdf...\n",
      "Reading 69c4cde0-9c3d-4c26-9c93-7e669e855026.pdf...\n",
      "Reading 6d0d4dc5-ff68-4788-9f9c-b635498ae844.pdf...\n",
      "Reading 6ee37c98-99b2-4991-96b2-0e6672722ddf.pdf...\n",
      "Reading 721c4054-e850-479a-8720-879acaddb880.pdf...\n",
      "Reading 74e46569-260b-4db3-87d2-eacbf18ad1d3.pdf...\n",
      "Reading 76e7d67c-e9ba-40bd-95e1-f011add148fb.pdf...\n",
      "Reading 774de813-ee13-4a58-87a5-a5d3d2145412.pdf...\n",
      "Reading 776dbbbc-256b-4ce9-8a10-33db2408888b.pdf...\n",
      "Reading 7913ea4c-0456-42f2-885f-2609b1ea3aa4.pdf...\n",
      "Reading 7a05af2a-3b0b-4a54-9424-813c227075a2.pdf...\n",
      "Reading 7a4c890a-e461-40ed-86b8-1a13f6b840a1.pdf...\n"
     ]
    },
    {
     "name": "stdout",
     "output_type": "stream",
     "text": [
      "Reading 7b2906e8-7abe-43ca-a7fd-070c325b90b2.pdf...\n",
      "Reading 810b6758-9870-4a6e-88c2-7175cbf2a105.pdf...\n",
      "Reading 827252ef-5bb3-40a1-aaa6-8685322c329d.pdf...\n",
      "Reading 85c7e3bb-c358-4116-b2ca-819af774dd22.pdf...\n",
      "Reading 8895ae05-9f4d-4b15-953e-ed177e7300f7.pdf...\n",
      "Reading 8b3399b5-8c71-4503-b674-c60ea90f739e.pdf...\n",
      "Reading 8f9b0fdf-93e4-49ca-a4f5-14e5edb090d7.pdf...\n",
      "Reading 91a1a8c4-c9ad-4d0a-b956-b447624e35a3.pdf...\n",
      "Reading 96b58f6b-b79f-493d-a85d-002266272339.pdf...\n",
      "Reading 99b03394-1590-4bc7-b429-d42bac4013c7.pdf...\n",
      "Reading 9bddd463-1f92-4cc2-97ed-c5467de099e5.pdf...\n",
      "Reading 9e1db890-42ad-413d-9387-af7dd03e5237.pdf...\n",
      "Reading 9e678067-7de2-46d2-9b9a-50d29cadd6a0.pdf...\n",
      "Reading 9eb60d08-7792-43cf-8012-bd6a5e1402bb.pdf...\n",
      "Reading 9fc9d92e-2c0e-4b9c-955b-5b31256cbe33.pdf...\n",
      "Reading a1f1da04-5fa6-4776-942d-d3da43d8c7dc.pdf...\n",
      "Reading a48b0593-f8d8-4aed-9cfc-2fc748576b94.pdf...\n",
      "Reading a924004c-15a0-4d3b-8b56-e3f0e1a423e0.pdf...\n",
      "Reading aad7f769-5a16-4a24-bf79-bdebf67f5f95.pdf...\n",
      "Reading ad73fb82-1eda-430f-8565-3cf255a2760a.pdf...\n",
      "Reading af36fc7b-5631-42e1-aa33-82d3603fbe09.pdf...\n",
      "Reading af9edd3c-1a97-4cdb-a01b-20f26c6deb25.pdf...\n",
      "Reading b5964d14-7247-427e-b848-9b7a0c7e81ca.pdf...\n",
      "Reading b75fa838-6425-4e79-a3fa-41ab13ce151d.pdf...\n",
      "Reading bc40c2b8-d3b5-4877-bf34-c4cb3123ffcf.pdf...\n",
      "Reading be4dbbf2-4e25-4053-87ba-52f13e939a48.pdf...\n",
      "Reading be9c3922-d3ad-43b4-9717-4d0cd8e351b8.pdf...\n",
      "Reading c44009f2-8949-4d0f-8517-2c6f4a023fc3.pdf...\n",
      "Reading cc025979-e396-41ad-9dc2-9fefb16f589b.pdf...\n",
      "Reading cd700cfc-6ff0-41c0-b8be-60d7d51110f6.pdf...\n",
      "Reading cfbe9f6f-2dc0-4120-857a-d6cd244aff2d.pdf...\n",
      "Reading d0c815db-f807-44b6-86a4-62fdc0f17f01.pdf...\n",
      "Reading d17e090a-584c-42b9-a3b6-4a32c8771471.pdf...\n",
      "Reading d1ec9dba-6a7a-48eb-b360-f779d2b8f903.pdf...\n",
      "Reading d253d653-ed38-4d2c-a3bc-945045da0e91.pdf...\n",
      "Reading d3453c9a-9b0d-4cfc-80c5-1e8269fdc125.pdf...\n",
      "Reading d384b3bc-4e3e-4724-9d55-e68a1236bcb5.pdf...\n",
      "Reading d47f5074-df71-4160-a50a-5716b32f75d1.pdf...\n",
      "Reading d6476fdb-ff90-4f05-a5d8-32e5c0c63808.pdf...\n",
      "Reading d64c00be-d95e-4794-b3d3-89d934dce421.pdf...\n",
      "Reading ec2b7e1a-a63c-4484-95bc-6fc27fe26ca0.pdf...\n",
      "Reading f548aaed-c24c-4802-b764-6081d5e5b202.pdf...\n",
      "Reading f5ba43e0-0988-4065-826e-9244de0d4c50.pdf...\n",
      "Reading f5c142f3-881c-4e1f-a988-762eb77c2b6e.pdf...\n",
      "Reading f5e18c1c-fde7-4f9e-9b0a-1ec62ad01553.pdf...\n",
      "Reading f77428dc-1f50-4cc5-bbb3-434f48b891a6.pdf...\n",
      "Reading fa636645-a819-4a7f-8f33-18744d929d7d.pdf...\n",
      "Reading fc8a4942-a285-4372-8671-9283d5d7dc6f.pdf...\n",
      "Reading KIID_BNP_Paribas_OW_2022-02-21.pdf...\n",
      "Reading KIID_BNP_P_ASD_2022-04-26.pdf...\n",
      "Reading KIID_BNP_TFOK_2022-09-20.pdf...\n",
      "Reading KIID_BNP_Paribas_SI_2022-09-21.pdf...\n",
      "Reading KIID_BNP_Paribas_AI_2022-09-21.pdf...\n",
      "Reading KIID_BNP_Paribas_DI_2022-09-21.pdf...\n",
      "Reading KIID_BNP_Paribas_GDW_2022-09-21.pdf...\n",
      "Reading KIID_BNP_Paribas_GSW_2022-09-21.pdf...\n",
      "Reading KIID_BNP_Paribas_Ob_2022-09-21.pdf...\n",
      "Reading KIID_BNP_Paribas_KO_2022-09-21.pdf...\n",
      "Reading KIID_BNP_Parasol_KFD_2022-09-21.pdf...\n",
      "Reading KIID_BNP_Parasol_MiSS_2022-09-21.pdf...\n",
      "Reading KIID_BNP_Parasol_LK_2022-09-21.pdf...\n",
      "Reading KIID_BNP_Parasol_Ob_ZR_2022-09-21.pdf...\n",
      "Reading KIID_BNP_Parasol_EOZ_2022-09-21.pdf...\n",
      "Reading KIID_BNP_Parasol_AAT_2022-09-21.pdf...\n",
      "Reading KIID_BNP_Parasol_AW-USA_2022-09-21.pdf...\n",
      "Reading KIID_BNP_Parasol_AZL_2022-09-21.pdf...\n",
      "Reading KIID_BNP_Parasol_Aqua_2022-09-21.pdf...\n",
      "Reading KIID_BNPP_Ak_2022-09-21.pdf...\n",
      "Reading KIID_BNPP_PDK_2022-09-21.pdf...\n",
      "Reading KIID_BNPP_SW_2022-09-21.pdf...\n",
      "Reading KIID_VIG02_2022-05-27.pdf...\n",
      "Reading KIID_VIG02B_2022-05-27.pdf...\n",
      "Reading KIID_VIG03_2022-05-27.pdf...\n",
      "Reading KIID_VIG03B_2022-05-27.pdf...\n",
      "Reading KIID_VIG04_2022-05-27.pdf...\n",
      "Reading KIID_VIG04B_2022-05-27.pdf...\n",
      "Reading KIID_VIG05_2022-05-27.pdf...\n",
      "Reading KIID_VIG05B_2022-05-27.pdf...\n",
      "Reading KIID_VIG06_2022-05-27.pdf...\n",
      "Reading KIID_VIG06B_2022-05-27.pdf...\n",
      "Reading KIID_VIG01B_2022-06-29.pdf...\n",
      "Reading KIID_VIG01_2022-06-29.pdf...\n",
      "Reading KIID_VIG07_2022-07-01.pdf...\n",
      "Reading KIID_VIG07B_2022-07-01.pdf...\n",
      "Reading KIID_VIG08B_2022-09-19.pdf...\n",
      "Reading KIID_VIG08_2022-09-19.pdf...\n",
      "Reading KIID_VIG08B_2022-10-03.pdf...\n",
      "Reading KIID_VIG08_2022-10-03.pdf...\n"
     ]
    }
   ],
   "source": [
    "make_BagOfWords_N(df_meta)"
   ]
  }
 ],
 "metadata": {
  "kernelspec": {
   "display_name": "Python 3",
   "language": "python",
   "name": "python3"
  },
  "language_info": {
   "codemirror_mode": {
    "name": "ipython",
    "version": 3
   },
   "file_extension": ".py",
   "mimetype": "text/x-python",
   "name": "python",
   "nbconvert_exporter": "python",
   "pygments_lexer": "ipython3",
   "version": "3.8.5"
  }
 },
 "nbformat": 4,
 "nbformat_minor": 4
}
